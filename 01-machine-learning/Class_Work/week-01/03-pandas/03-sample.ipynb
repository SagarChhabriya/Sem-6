{
 "cells": [
  {
   "cell_type": "code",
   "execution_count": 9,
   "metadata": {},
   "outputs": [],
   "source": [
    "# pandas.DataFrame\n",
    "# class pandas.DataFrame(data=None, index=None, columns=None, dtype=None, copy=None)[source]\n",
    "# Data structure: Two-dimensional, size-mutable, potentially heterogeneous tabular data."
   ]
  },
  {
   "cell_type": "code",
   "execution_count": 2,
   "metadata": {},
   "outputs": [],
   "source": [
    "import pandas as pd"
   ]
  },
  {
   "cell_type": "code",
   "execution_count": 3,
   "metadata": {},
   "outputs": [
    {
     "data": {
      "text/html": [
       "<div>\n",
       "<style scoped>\n",
       "    .dataframe tbody tr th:only-of-type {\n",
       "        vertical-align: middle;\n",
       "    }\n",
       "\n",
       "    .dataframe tbody tr th {\n",
       "        vertical-align: top;\n",
       "    }\n",
       "\n",
       "    .dataframe thead th {\n",
       "        text-align: right;\n",
       "    }\n",
       "</style>\n",
       "<table border=\"1\" class=\"dataframe\">\n",
       "  <thead>\n",
       "    <tr style=\"text-align: right;\">\n",
       "      <th></th>\n",
       "      <th>a</th>\n",
       "      <th>b</th>\n",
       "    </tr>\n",
       "  </thead>\n",
       "  <tbody>\n",
       "    <tr>\n",
       "      <th>1</th>\n",
       "      <td>1</td>\n",
       "      <td>2</td>\n",
       "    </tr>\n",
       "    <tr>\n",
       "      <th>2</th>\n",
       "      <td>1</td>\n",
       "      <td>2</td>\n",
       "    </tr>\n",
       "  </tbody>\n",
       "</table>\n",
       "</div>"
      ],
      "text/plain": [
       "   a  b\n",
       "1  1  2\n",
       "2  1  2"
      ]
     },
     "execution_count": 3,
     "metadata": {},
     "output_type": "execute_result"
    }
   ],
   "source": [
    "\n",
    "# Practice Problems for Part 1\n",
    "\n",
    "# 1. Create a Pandas Series from a list of numbers from 1 to 10 and print the Series.\n",
    "\n",
    "import numpy as np \n",
    "import pandas as pd \n",
    "\n",
    "df = pd.DataFrame({'a':1,'b':2},index=[1,2])\n",
    "df"
   ]
  },
  {
   "cell_type": "code",
   "execution_count": null,
   "metadata": {},
   "outputs": [],
   "source": [
    "import pandas as pd\n",
    "\n",
    "# List data, specifying dtype and name\n",
    "data = [1, 2, 3, 4, 5]\n",
    "series1 = pd.Series(data, dtype='int64', name=\"Numbers1\")\n",
    "series2 = pd.Series(data, dtype='int64', name=\"Numbers2\")\n",
    "\n",
    "df = pd.DataFrame([series1,series2], index = range(len(series1))) # ValueError: Length of values (2) does not match length of index (5)\n"
   ]
  },
  {
   "cell_type": "code",
   "execution_count": 39,
   "metadata": {},
   "outputs": [
    {
     "data": {
      "text/plain": [
       "0     5\n",
       "1    10\n",
       "2    15\n",
       "3    20\n",
       "4    15\n",
       "Name: Marks, dtype: int64"
      ]
     },
     "execution_count": 39,
     "metadata": {},
     "output_type": "execute_result"
    }
   ],
   "source": [
    "marks = [5,10,15,20,15]\n",
    "pd.Series(data=marks, name=\"Marks\")"
   ]
  },
  {
   "cell_type": "code",
   "execution_count": 35,
   "metadata": {},
   "outputs": [
    {
     "data": {
      "text/plain": [
       "0    A\n",
       "1    B\n",
       "2    C\n",
       "Name: student_grades, dtype: object"
      ]
     },
     "execution_count": 35,
     "metadata": {},
     "output_type": "execute_result"
    }
   ],
   "source": [
    "grades = [\"A\",\"B\",\"C\"]\n",
    "pd.Series(data=grades, name=\"student_grades\")"
   ]
  },
  {
   "cell_type": "code",
   "execution_count": 43,
   "metadata": {},
   "outputs": [
    {
     "data": {
      "text/plain": [
       "array([[5, 10, 15, 20.0, 15.0],\n",
       "       ['A', 'B', 'C', nan, nan]], dtype=object)"
      ]
     },
     "execution_count": 43,
     "metadata": {},
     "output_type": "execute_result"
    }
   ],
   "source": [
    "marks = [5,10,15,20,15]\n",
    "grades = [\"A\",\"B\",\"C\"]\n",
    "series1 = pd.Series(data=marks, name=\"Marks\")\n",
    "series2 = pd.Series(data=grades, name=\"student_grades\")\n",
    "\n",
    "df = pd.DataFrame(data=[series1,series2])\n",
    "df.values"
   ]
  },
  {
   "cell_type": "code",
   "execution_count": 8,
   "metadata": {},
   "outputs": [
    {
     "name": "stdout",
     "output_type": "stream",
     "text": [
      "   0  1  2  3  4\n",
      "0  a  b  c  d  e\n",
      "1  a  b  c  d  e\n"
     ]
    }
   ],
   "source": [
    "# The index parameter is used to define the labels for the rows in the DataFrame.\n",
    "# The columns parameter is used to define the labels for the columns in the DataFrame.\n",
    "\n",
    "# When you pass a list of Series objects ([series1, series2]) to the DataFrame constructor, each Series becomes a row in the DataFrame by default.\n",
    "import pandas as pd\n",
    "\n",
    "# List data, specifying dtype and name\n",
    "data = [1, 2, 3, 4, 5]\n",
    "data1 = ['a','b','c','d','e']\n",
    "series1 = pd.Series(data1)#, name=\"Numbers1\")\n",
    "series2 = pd.Series(data1)#, name=\"Numbers2\")\n",
    "\n",
    "# Creating DataFrame with 2 rows and matching index\n",
    "df = pd.DataFrame([series1, series2])\n",
    "\n",
    "print(df)\n",
    "\n"
   ]
  },
  {
   "cell_type": "code",
   "execution_count": 79,
   "metadata": {},
   "outputs": [
    {
     "name": "stdout",
     "output_type": "stream",
     "text": [
      "    A   B\n",
      "0 NaN NaN\n",
      "1 NaN NaN\n"
     ]
    }
   ],
   "source": [
    "# If you want the data to appear vertically with custom column names, you can specify the columns parameter when creating the DataFrame:\n",
    "import pandas as pd\n",
    "\n",
    "# Data for two series\n",
    "data1 = [1, 2, 3, 4, 5]\n",
    "data2 = [6, 7, 8, 9, 10]\n",
    "\n",
    "# Create two Series\n",
    "series1 = pd.Series(data1)\n",
    "series2 = pd.Series(data2)\n",
    "\n",
    "# Create DataFrame with custom column names\n",
    "df = pd.DataFrame([series1, series2], columns=['A', 'B'])\n",
    "\n",
    "print(df)\n"
   ]
  },
  {
   "cell_type": "code",
   "execution_count": 80,
   "metadata": {},
   "outputs": [
    {
     "name": "stdout",
     "output_type": "stream",
     "text": [
      "   A   B\n",
      "0  1   6\n",
      "1  2   7\n",
      "2  3   8\n",
      "3  4   9\n",
      "4  5  10\n"
     ]
    }
   ],
   "source": [
    "import pandas as pd\n",
    "\n",
    "# Data for two series\n",
    "data1 = [1, 2, 3, 4, 5]\n",
    "data2 = [6, 7, 8, 9, 10]\n",
    "\n",
    "# Create DataFrame with custom column names\n",
    "df = pd.DataFrame({'A': data1, 'B': data2})\n",
    "\n",
    "print(df)\n",
    "\n",
    "# DataFrame\n",
    "#   |   |   |   |   |\n",
    "#------------------------\n",
    "#   |   series1\n",
    "#   |   series2\n",
    "#   |   series2\n",
    "#   |   series3"
   ]
  },
  {
   "cell_type": "code",
   "execution_count": null,
   "metadata": {},
   "outputs": [],
   "source": [
    "# pd.DataFrame([series1, series2], columns=['A', 'B', 'C', 'D', 'E']):\n",
    "\n",
    "# Here, you're passing a list of Series objects ([series1, series2]) to the pd.DataFrame constructor.\n",
    "\n",
    "# The columns parameter specifies the column names for the DataFrame.\n",
    "\n",
    "# However, the pd.DataFrame constructor interprets the list of Series as rows, not columns. \n",
    "# This means it tries to create a DataFrame where each Series is a row, and the columns are labeled as ['A', 'B', 'C', 'D', 'E'].\n",
    "\n",
    "\n",
    "# Mismatch in Dimensions:\n",
    "\n",
    "# Each Series (series1 and series2) has 5 elements, but the columns parameter specifies 5 column names.\n",
    "\n",
    "# Since the Series are being treated as rows, the constructor tries to align the Series indices with the column names. Since there's no direct alignment, it fills the DataFrame with NaN (Not a Number) values.\n",
    "\n"
   ]
  },
  {
   "cell_type": "code",
   "execution_count": 75,
   "metadata": {},
   "outputs": [
    {
     "name": "stdout",
     "output_type": "stream",
     "text": [
      "X    100\n",
      "Y    200\n",
      "Z    300\n",
      "Name: Values, dtype: int64\n"
     ]
    }
   ],
   "source": [
    "import pandas as pd\n",
    "\n",
    "# List of data\n",
    "data = [100, 200, 300]\n",
    "\n",
    "# Specifying index and name\n",
    "# index = ['X', 'Y', 'Z']\n",
    "series = pd.Series(data, index=['X', 'Y', 'Z'], name=\"Values\")\n",
    "\n",
    "# Print the Series\n",
    "print(series)\n"
   ]
  },
  {
   "cell_type": "code",
   "execution_count": 48,
   "metadata": {},
   "outputs": [
    {
     "name": "stdout",
     "output_type": "stream",
     "text": [
      "      A  B  C\n",
      "Row1  1  2  3\n",
      "Row2  4  5  6\n",
      "Row3  7  8  9\n"
     ]
    }
   ],
   "source": [
    "import pandas as pd\n",
    "\n",
    "# Create some data\n",
    "data = {'A': [1, 4, 7], 'B': [2, 5, 8], 'C': [3, 6, 9]}\n",
    "\n",
    "# Specify the index and columns\n",
    "index = ['Row1', 'Row2', 'Row3']\n",
    "columns = ['A', 'B', 'C']\n",
    "\n",
    "# Create DataFrame\n",
    "df = pd.DataFrame(data, index=index, columns=columns)\n",
    "\n",
    "print(df)\n"
   ]
  },
  {
   "cell_type": "code",
   "execution_count": 92,
   "metadata": {},
   "outputs": [
    {
     "data": {
      "text/html": [
       "<div>\n",
       "<style scoped>\n",
       "    .dataframe tbody tr th:only-of-type {\n",
       "        vertical-align: middle;\n",
       "    }\n",
       "\n",
       "    .dataframe tbody tr th {\n",
       "        vertical-align: top;\n",
       "    }\n",
       "\n",
       "    .dataframe thead th {\n",
       "        text-align: right;\n",
       "    }\n",
       "</style>\n",
       "<table border=\"1\" class=\"dataframe\">\n",
       "  <thead>\n",
       "    <tr style=\"text-align: right;\">\n",
       "      <th></th>\n",
       "      <th>A</th>\n",
       "      <th>B</th>\n",
       "      <th>C</th>\n",
       "    </tr>\n",
       "  </thead>\n",
       "  <tbody>\n",
       "    <tr>\n",
       "      <th>0</th>\n",
       "      <td>1</td>\n",
       "      <td>4</td>\n",
       "      <td>7</td>\n",
       "    </tr>\n",
       "    <tr>\n",
       "      <th>1</th>\n",
       "      <td>2</td>\n",
       "      <td>5</td>\n",
       "      <td>8</td>\n",
       "    </tr>\n",
       "    <tr>\n",
       "      <th>2</th>\n",
       "      <td>3</td>\n",
       "      <td>6</td>\n",
       "      <td>9</td>\n",
       "    </tr>\n",
       "  </tbody>\n",
       "</table>\n",
       "</div>"
      ],
      "text/plain": [
       "   A  B  C\n",
       "0  1  4  7\n",
       "1  2  5  8\n",
       "2  3  6  9"
      ]
     },
     "execution_count": 92,
     "metadata": {},
     "output_type": "execute_result"
    }
   ],
   "source": [
    "df = pd.DataFrame({'A':[1,2,3],'B':[4,5,6],\"C\":[7,8,9]})\n",
    "\n",
    "df1 = pd.DataFrame(df.values,columns=['A',\"B\",\"C\"])\n",
    "df1"
   ]
  },
  {
   "cell_type": "code",
   "execution_count": 2,
   "metadata": {},
   "outputs": [],
   "source": [
    "# 2. Create a Pandas DataFrame from a dictionary with keys 'Name', 'Age', and 'Gender', and add at least three records. Print the DataFrame.\n"
   ]
  },
  {
   "cell_type": "code",
   "execution_count": null,
   "metadata": {},
   "outputs": [],
   "source": [
    "# 3. Load a CSV file into a Pandas DataFrame and print the first 5 rows.\n",
    "# Assuming 'data.csv' is present in the same directory.\n",
    "\n"
   ]
  },
  {
   "cell_type": "code",
   "execution_count": null,
   "metadata": {},
   "outputs": [],
   "source": [
    "# 4. Identify and count missing values in a given DataFrame.\n"
   ]
  },
  {
   "cell_type": "code",
   "execution_count": null,
   "metadata": {},
   "outputs": [],
   "source": [
    "# 5. Drop columns from a DataFrame where more than 50% of the values are missing.\n"
   ]
  },
  {
   "cell_type": "code",
   "execution_count": null,
   "metadata": {},
   "outputs": [],
   "source": [
    "# 6. Add a new column to a DataFrame by performing arithmetic operations on existing columns.\n"
   ]
  },
  {
   "cell_type": "code",
   "execution_count": null,
   "metadata": {},
   "outputs": [],
   "source": []
  },
  {
   "cell_type": "code",
   "execution_count": null,
   "metadata": {},
   "outputs": [],
   "source": []
  }
 ],
 "metadata": {
  "kernelspec": {
   "display_name": "Python 3.12.0 64-bit",
   "language": "python",
   "name": "python3"
  },
  "language_info": {
   "codemirror_mode": {
    "name": "ipython",
    "version": 3
   },
   "file_extension": ".py",
   "mimetype": "text/x-python",
   "name": "python",
   "nbconvert_exporter": "python",
   "pygments_lexer": "ipython3",
   "version": "3.12.0"
  },
  "orig_nbformat": 4,
  "vscode": {
   "interpreter": {
    "hash": "53d8eca44c0f2e0b87fb88d9c05acfddfe83b50bdd73069bed107cca5f5caedf"
   }
  }
 },
 "nbformat": 4,
 "nbformat_minor": 2
}
