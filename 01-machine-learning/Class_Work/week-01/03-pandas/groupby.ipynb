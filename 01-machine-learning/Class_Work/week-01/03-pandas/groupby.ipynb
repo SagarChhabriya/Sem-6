{
 "cells": [
  {
   "cell_type": "code",
   "execution_count": 2,
   "metadata": {},
   "outputs": [
    {
     "data": {
      "text/html": [
       "<div>\n",
       "<style scoped>\n",
       "    .dataframe tbody tr th:only-of-type {\n",
       "        vertical-align: middle;\n",
       "    }\n",
       "\n",
       "    .dataframe tbody tr th {\n",
       "        vertical-align: top;\n",
       "    }\n",
       "\n",
       "    .dataframe thead th {\n",
       "        text-align: right;\n",
       "    }\n",
       "</style>\n",
       "<table border=\"1\" class=\"dataframe\">\n",
       "  <thead>\n",
       "    <tr style=\"text-align: right;\">\n",
       "      <th></th>\n",
       "      <th>Category</th>\n",
       "      <th>Region</th>\n",
       "      <th>Item</th>\n",
       "      <th>Amount</th>\n",
       "      <th>Value</th>\n",
       "    </tr>\n",
       "  </thead>\n",
       "  <tbody>\n",
       "    <tr>\n",
       "      <th>0</th>\n",
       "      <td>A</td>\n",
       "      <td>North</td>\n",
       "      <td>Item1</td>\n",
       "      <td>120</td>\n",
       "      <td>10</td>\n",
       "    </tr>\n",
       "    <tr>\n",
       "      <th>1</th>\n",
       "      <td>B</td>\n",
       "      <td>South</td>\n",
       "      <td>Item2</td>\n",
       "      <td>200</td>\n",
       "      <td>15</td>\n",
       "    </tr>\n",
       "    <tr>\n",
       "      <th>2</th>\n",
       "      <td>A</td>\n",
       "      <td>North</td>\n",
       "      <td>Item3</td>\n",
       "      <td>150</td>\n",
       "      <td>10</td>\n",
       "    </tr>\n",
       "    <tr>\n",
       "      <th>3</th>\n",
       "      <td>B</td>\n",
       "      <td>West</td>\n",
       "      <td>Item4</td>\n",
       "      <td>80</td>\n",
       "      <td>5</td>\n",
       "    </tr>\n",
       "    <tr>\n",
       "      <th>4</th>\n",
       "      <td>C</td>\n",
       "      <td>East</td>\n",
       "      <td>Item5</td>\n",
       "      <td>300</td>\n",
       "      <td>30</td>\n",
       "    </tr>\n",
       "    <tr>\n",
       "      <th>5</th>\n",
       "      <td>A</td>\n",
       "      <td>East</td>\n",
       "      <td>Item6</td>\n",
       "      <td>400</td>\n",
       "      <td>25</td>\n",
       "    </tr>\n",
       "    <tr>\n",
       "      <th>6</th>\n",
       "      <td>C</td>\n",
       "      <td>South</td>\n",
       "      <td>Item7</td>\n",
       "      <td>250</td>\n",
       "      <td>20</td>\n",
       "    </tr>\n",
       "    <tr>\n",
       "      <th>7</th>\n",
       "      <td>B</td>\n",
       "      <td>West</td>\n",
       "      <td>Item8</td>\n",
       "      <td>190</td>\n",
       "      <td>18</td>\n",
       "    </tr>\n",
       "    <tr>\n",
       "      <th>8</th>\n",
       "      <td>C</td>\n",
       "      <td>North</td>\n",
       "      <td>Item9</td>\n",
       "      <td>180</td>\n",
       "      <td>12</td>\n",
       "    </tr>\n",
       "    <tr>\n",
       "      <th>9</th>\n",
       "      <td>A</td>\n",
       "      <td>East</td>\n",
       "      <td>Item10</td>\n",
       "      <td>220</td>\n",
       "      <td>24</td>\n",
       "    </tr>\n",
       "  </tbody>\n",
       "</table>\n",
       "</div>"
      ],
      "text/plain": [
       "  Category Region    Item  Amount  Value\n",
       "0        A  North   Item1     120     10\n",
       "1        B  South   Item2     200     15\n",
       "2        A  North   Item3     150     10\n",
       "3        B   West   Item4      80      5\n",
       "4        C   East   Item5     300     30\n",
       "5        A   East   Item6     400     25\n",
       "6        C  South   Item7     250     20\n",
       "7        B   West   Item8     190     18\n",
       "8        C  North   Item9     180     12\n",
       "9        A   East  Item10     220     24"
      ]
     },
     "execution_count": 2,
     "metadata": {},
     "output_type": "execute_result"
    }
   ],
   "source": [
    "import pandas as pd\n",
    "\n",
    "# Sample data for the DataFrame\n",
    "data = {\n",
    "    'Category': ['A', 'B', 'A', 'B', 'C', 'A', 'C', 'B', 'C', 'A'],\n",
    "    'Region': ['North', 'South', 'North', 'West', 'East', 'East', 'South', 'West', 'North', 'East'],\n",
    "    'Item': ['Item1', 'Item2', 'Item3', 'Item4', 'Item5', 'Item6', 'Item7', 'Item8', 'Item9', 'Item10'],\n",
    "    'Amount': [120, 200, 150, 80, 300, 400, 250, 190, 180, 220],\n",
    "    'Value': [10, 15, 10, 5, 30, 25, 20, 18, 12, 24]\n",
    "}\n",
    "\n",
    "df = pd.DataFrame(data)\n",
    "\n",
    "# Display the DataFrame\n",
    "df\n"
   ]
  },
  {
   "cell_type": "code",
   "execution_count": 4,
   "metadata": {},
   "outputs": [
    {
     "data": {
      "text/plain": [
       "Category\n",
       "A    890\n",
       "B    470\n",
       "C    730\n",
       "Name: Amount, dtype: int64"
      ]
     },
     "execution_count": 4,
     "metadata": {},
     "output_type": "execute_result"
    }
   ],
   "source": [
    "# 1. **Basic Grouping**  \n",
    "#    - **Question**: How do you group the `df` DataFrame by the `Category` column and calculate the sum for each group?  \n",
    "#    - **Example**: Given the `df` DataFrame, calculate the total `Amount` for each `Category`.\n",
    "\n",
    "df.groupby('Category')[\"Amount\"].sum()"
   ]
  },
  {
   "cell_type": "code",
   "execution_count": 6,
   "metadata": {},
   "outputs": [
    {
     "data": {
      "text/plain": [
       "Region  Category\n",
       "East    A           310.0\n",
       "        C           300.0\n",
       "North   A           135.0\n",
       "        C           180.0\n",
       "South   B           200.0\n",
       "        C           250.0\n",
       "West    B           135.0\n",
       "Name: Amount, dtype: float64"
      ]
     },
     "execution_count": 6,
     "metadata": {},
     "output_type": "execute_result"
    }
   ],
   "source": [
    "# 2. **Multiple Columns Grouping**  \n",
    "#    - **Question**: How do you group the `df` DataFrame by both `Region` and `Category` columns and find the mean `Amount` for each group?  \n",
    "#    - **Example**: Calculate the mean `Amount` for each combination of `Region` and `Category`.\n",
    "\n",
    "df.groupby([\"Region\",\"Category\"])[\"Amount\"].mean()"
   ]
  },
  {
   "cell_type": "code",
   "execution_count": 7,
   "metadata": {},
   "outputs": [
    {
     "name": "stdout",
     "output_type": "stream",
     "text": [
      "Mean:  Category\n",
      "A    222.500000\n",
      "B    156.666667\n",
      "C    243.333333\n",
      "Name: Amount, dtype: float64\n",
      "Sum:  Category\n",
      "A    890\n",
      "B    470\n",
      "C    730\n",
      "Name: Amount, dtype: int64\n",
      "Count:  Category\n",
      "A    4\n",
      "B    3\n",
      "C    3\n",
      "Name: Amount, dtype: int64\n"
     ]
    }
   ],
   "source": [
    "# 3. **Aggregating with Different Functions**  \n",
    "#    - **Question**: How do you apply different aggregation functions (`sum`, `mean`, `count`) to different columns when grouping by `Category`?  \n",
    "#    - **Example**: After grouping by `Category`, calculate the sum of `Amount`, the mean of `Value`, and the count of `Item` in each group.\n",
    "\n",
    "print(\"Mean: \",df.groupby(\"Category\")[\"Amount\"].mean())\n",
    "print(\"Sum: \",df.groupby(\"Category\")[\"Amount\"].sum())\n",
    "print(\"Count: \",df.groupby(\"Category\")[\"Amount\"].count())"
   ]
  },
  {
   "cell_type": "code",
   "execution_count": 11,
   "metadata": {},
   "outputs": [
    {
     "data": {
      "text/html": [
       "<div>\n",
       "<style scoped>\n",
       "    .dataframe tbody tr th:only-of-type {\n",
       "        vertical-align: middle;\n",
       "    }\n",
       "\n",
       "    .dataframe tbody tr th {\n",
       "        vertical-align: top;\n",
       "    }\n",
       "\n",
       "    .dataframe thead th {\n",
       "        text-align: right;\n",
       "    }\n",
       "</style>\n",
       "<table border=\"1\" class=\"dataframe\">\n",
       "  <thead>\n",
       "    <tr style=\"text-align: right;\">\n",
       "      <th></th>\n",
       "      <th>sum</th>\n",
       "      <th>max</th>\n",
       "    </tr>\n",
       "    <tr>\n",
       "      <th>Category</th>\n",
       "      <th></th>\n",
       "      <th></th>\n",
       "    </tr>\n",
       "  </thead>\n",
       "  <tbody>\n",
       "    <tr>\n",
       "      <th>A</th>\n",
       "      <td>890</td>\n",
       "      <td>400</td>\n",
       "    </tr>\n",
       "    <tr>\n",
       "      <th>B</th>\n",
       "      <td>470</td>\n",
       "      <td>200</td>\n",
       "    </tr>\n",
       "    <tr>\n",
       "      <th>C</th>\n",
       "      <td>730</td>\n",
       "      <td>300</td>\n",
       "    </tr>\n",
       "  </tbody>\n",
       "</table>\n",
       "</div>"
      ],
      "text/plain": [
       "          sum  max\n",
       "Category          \n",
       "A         890  400\n",
       "B         470  200\n",
       "C         730  300"
      ]
     },
     "execution_count": 11,
     "metadata": {},
     "output_type": "execute_result"
    }
   ],
   "source": [
    "# 4. **Using `agg()` Method**  \n",
    "#    - **Question**: How do you use the `agg()` method to apply both `sum()` and `max()` to the `Amount` column after grouping by `Category`?  \n",
    "#    - **Example**: Apply `sum()` and `max()` to the `Amount` column after grouping by `Category`.\n",
    "\n",
    "df.groupby(\"Category\")[\"Amount\"].agg([\"sum\",\"max\"])\n"
   ]
  },
  {
   "cell_type": "code",
   "execution_count": 12,
   "metadata": {},
   "outputs": [
    {
     "data": {
      "text/plain": [
       "0   -0.864997\n",
       "1    0.342791\n",
       "2   -0.864997\n",
       "3   -1.126315\n",
       "4    1.034910\n",
       "5    0.924652\n",
       "6   -0.073922\n",
       "7    0.783523\n",
       "8   -0.960988\n",
       "9    0.805342\n",
       "Name: Value, dtype: float64"
      ]
     },
     "execution_count": 12,
     "metadata": {},
     "output_type": "execute_result"
    }
   ],
   "source": [
    "# 5. **Using `transform()` for Element-wise Transformations**  \n",
    "#    - **Question**: How can you use the `transform()` method to standardize the `Value` column within each group (grouped by `Category`)?  \n",
    "#    - **Example**: Standardize the `Value` column within each `Category` group by subtracting the mean and dividing by the standard deviation.\n",
    "\n",
    "\n",
    "df.groupby(\"Category\")[\"Value\"].transform(lambda x: (x - x.mean())/ x.std())"
   ]
  },
  {
   "cell_type": "code",
   "execution_count": 16,
   "metadata": {},
   "outputs": [
    {
     "data": {
      "text/plain": [
       "Region  Category\n",
       "East    A           310.0\n",
       "        C           300.0\n",
       "North   A           135.0\n",
       "        C           180.0\n",
       "South   B           200.0\n",
       "        C           250.0\n",
       "West    B           135.0\n",
       "Name: Amount, dtype: float64"
      ]
     },
     "execution_count": 16,
     "metadata": {},
     "output_type": "execute_result"
    }
   ],
   "source": [
    "# 6. **Grouping by Index Level**  \n",
    "#    - **Question**: How do you group by an index level in a DataFrame with a multi-level index (e.g., `['Region', 'Category']`)?  \n",
    "#    - **Example**: After setting a multi-level index with `Region` and `Category`, group by `Region` and calculate the mean `Amount` for each region.\n",
    "\n",
    "df.groupby([\"Region\",\"Category\"])[\"Amount\"].mean()"
   ]
  },
  {
   "cell_type": "code",
   "execution_count": 24,
   "metadata": {},
   "outputs": [
    {
     "data": {
      "text/plain": [
       "Category\n",
       "A    890\n",
       "B    470\n",
       "C    730\n",
       "Name: Amount, dtype: int64"
      ]
     },
     "execution_count": 24,
     "metadata": {},
     "output_type": "execute_result"
    }
   ],
   "source": [
    "# 7. **Grouping and Filtering**  \n",
    "#    - **Question**: How do you filter the groups in `df` based on a condition applied to the aggregation result, such as keeping only groups where the sum of `Amount` is greater than 400?  \n",
    "#    - **Example**: Filter out groups where the total `Amount` for a `Category` is less than or equal to 400.\n",
    "\n",
    "grouped = df.groupby(\"Category\")[\"Amount\"].sum()\n",
    "grouped[grouped > 400]\n"
   ]
  },
  {
   "cell_type": "code",
   "execution_count": 25,
   "metadata": {},
   "outputs": [
    {
     "data": {
      "text/plain": [
       "Category\n",
       "A    4\n",
       "B    3\n",
       "C    3\n",
       "Name: Item, dtype: int64"
      ]
     },
     "execution_count": 25,
     "metadata": {},
     "output_type": "execute_result"
    }
   ],
   "source": [
    "# 8. **Using `size()` to Count Groups**  \n",
    "#    - **Question**: How can you count the number of rows in each group after grouping by `Category`?  \n",
    "#    - **Example**: Use the `size()` function to count how many items exist in each `Category` group.\n",
    "\n",
    "df.groupby(\"Category\")[\"Item\"].size()"
   ]
  },
  {
   "cell_type": "code",
   "execution_count": 26,
   "metadata": {},
   "outputs": [
    {
     "name": "stderr",
     "output_type": "stream",
     "text": [
      "C:\\Users\\Mr Sagar Kumar\\AppData\\Local\\Temp\\ipykernel_19968\\3295566257.py:10: DeprecationWarning: DataFrameGroupBy.apply operated on the grouping columns. This behavior is deprecated, and in a future version of pandas the grouping columns will be excluded from the operation. Either pass `include_groups=False` to exclude the groupings or explicitly select the grouping columns after groupby to silence this warning.\n",
      "  df.groupby(\"Category\").apply(min_max_diff)\n"
     ]
    },
    {
     "data": {
      "text/plain": [
       "Category\n",
       "A    280\n",
       "B    120\n",
       "C    120\n",
       "dtype: int64"
      ]
     },
     "execution_count": 26,
     "metadata": {},
     "output_type": "execute_result"
    }
   ],
   "source": [
    "\n",
    "# 9. **Custom Grouping Function**  \n",
    "#    - **Question**: How do you apply a custom function to the grouped data to find the difference \n",
    "#                   between the maximum and minimum `Amount` for each group after grouping by `Category`?  \n",
    "#    - **Example**: Define a custom function that calculates the difference between the maximum and minimum `Amount` \n",
    "#                   in each group and apply it using `groupby()`.\n",
    "\n",
    "def min_max_diff(group):\n",
    "    return group[\"Amount\"].max() - group[\"Amount\"].min()\n",
    "\n",
    "df.groupby(\"Category\").apply(min_max_diff)\n"
   ]
  },
  {
   "cell_type": "code",
   "execution_count": 27,
   "metadata": {},
   "outputs": [
    {
     "data": {
      "text/plain": [
       "Category\n",
       "B    470\n",
       "C    730\n",
       "A    890\n",
       "Name: Amount, dtype: int64"
      ]
     },
     "execution_count": 27,
     "metadata": {},
     "output_type": "execute_result"
    }
   ],
   "source": [
    "# 10. **Sorting and Renaming Grouped Results**  \n",
    "#     - **Question**: After grouping by `Category`, how do you sort the results by the mean `Amount` in descending order and rename the columns to `Category` and `AverageAmount`?  \n",
    "#     - **Example**: Sort the grouped `Category` DataFrame by the mean of `Amount` and rename the columns.\n",
    "\n",
    "\n",
    "df.groupby(\"Category\")[\"Amount\"].sum().sort_values()"
   ]
  }
 ],
 "metadata": {
  "kernelspec": {
   "display_name": "Python 3.12.0 64-bit",
   "language": "python",
   "name": "python3"
  },
  "language_info": {
   "codemirror_mode": {
    "name": "ipython",
    "version": 3
   },
   "file_extension": ".py",
   "mimetype": "text/x-python",
   "name": "python",
   "nbconvert_exporter": "python",
   "pygments_lexer": "ipython3",
   "version": "3.12.0"
  },
  "orig_nbformat": 4,
  "vscode": {
   "interpreter": {
    "hash": "53d8eca44c0f2e0b87fb88d9c05acfddfe83b50bdd73069bed107cca5f5caedf"
   }
  }
 },
 "nbformat": 4,
 "nbformat_minor": 2
}
