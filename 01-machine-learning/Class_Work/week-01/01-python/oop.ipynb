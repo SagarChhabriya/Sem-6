{
 "cells": [
  {
   "cell_type": "code",
   "execution_count": 3,
   "metadata": {},
   "outputs": [
    {
     "name": "stdout",
     "output_type": "stream",
     "text": [
      "Hi sagar\n",
      "Your Marks are:  88\n",
      "Grade A\n"
     ]
    }
   ],
   "source": [
    "class Student:\n",
    "    def __init__(self, name, marks):\n",
    "        self.name = name\n",
    "        self.marks = marks\n",
    "    \n",
    "    def display(self):\n",
    "        print(\"Hi\", self.name)\n",
    "        print(\"Your Marks are: \",self.marks)\n",
    "\n",
    "    def grade(self):\n",
    "        if self.marks >= 60:\n",
    "            print(\"Grade A\")\n",
    "        elif self.marks >= 50:\n",
    "            print(\"Grade B\")\n",
    "        elif self.marks >= 35:\n",
    "            print(\"Grade C\")\n",
    "        else:\n",
    "            print(\"F\")    \n",
    "        \n",
    "\n",
    "n = int(input(\"Enter Number of Students \"))\n",
    "\n",
    "for i in range(n):\n",
    "    name = input(\"Enter student name: \")\n",
    "    marks = int(input(\"Enter student marks: \"))\n",
    "\n",
    "    student = Student(name, marks)\n",
    "    student.display()\n",
    "    student.grade()\n",
    "    \n"
   ]
  },
  {
   "cell_type": "code",
   "execution_count": 3,
   "metadata": {},
   "outputs": [
    {
     "name": "stdout",
     "output_type": "stream",
     "text": [
      "+Constructor Execution\n",
      "+Constructor Execution\n",
      "+Constructor Execution\n",
      "-Desctructor Execution\n",
      "-Desctructor Execution\n",
      "-Desctructor Execution\n",
      "End of application\n"
     ]
    }
   ],
   "source": [
    "import time\n",
    "class Test:\n",
    "    def __init__(self):\n",
    "        print(\"+Constructor Execution\")\n",
    "\n",
    "    def __del__(self):\n",
    "        print(\"-Desctructor Execution\")\n",
    "\n",
    "\n",
    "ls = [Test(),Test(),Test()]\n",
    "\n",
    "del ls\n",
    "time.sleep(5)\n",
    "print(\"End of application\")\n"
   ]
  },
  {
   "cell_type": "code",
   "execution_count": 1,
   "metadata": {},
   "outputs": [
    {
     "name": "stdout",
     "output_type": "stream",
     "text": [
      "5\n",
      "{}\n"
     ]
    }
   ],
   "source": [
    "import sys\n",
    "class Test:\n",
    "    pass\n",
    "\n",
    "t1 = Test()\n",
    "t2 = t1\n",
    "t3 = t1\n",
    "t4 = t1\n",
    "\n",
    "print(sys.getrefcount(t1))\n",
    "\n",
    "print(t1.__dict__)"
   ]
  },
  {
   "cell_type": "markdown",
   "metadata": {},
   "source": [
    "From this site: https://graphviz.org/download/\n",
    "\n",
    "I installed **graphviz-12.2.1 (64-bit) EXE installer** then this libaray worked."
   ]
  },
  {
   "cell_type": "code",
   "execution_count": 1,
   "metadata": {},
   "outputs": [
    {
     "ename": "ModuleNotFoundError",
     "evalue": "No module named 'graphviz'",
     "output_type": "error",
     "traceback": [
      "\u001b[1;31m---------------------------------------------------------------------------\u001b[0m",
      "\u001b[1;31mModuleNotFoundError\u001b[0m                       Traceback (most recent call last)",
      "Cell \u001b[1;32mIn[1], line 1\u001b[0m\n\u001b[1;32m----> 1\u001b[0m \u001b[38;5;28;01mfrom\u001b[39;00m \u001b[38;5;21;01mgraphviz\u001b[39;00m \u001b[38;5;28;01mimport\u001b[39;00m Digraph\n\u001b[0;32m      3\u001b[0m \u001b[38;5;66;03m# Create a new graph\u001b[39;00m\n\u001b[0;32m      4\u001b[0m dot \u001b[38;5;241m=\u001b[39m Digraph()\n",
      "\u001b[1;31mModuleNotFoundError\u001b[0m: No module named 'graphviz'"
     ]
    }
   ],
   "source": [
    "from graphviz import Digraph\n",
    "\n",
    "# Create a new graph\n",
    "dot = Digraph()\n",
    "\n",
    "# Add nodes (classes)\n",
    "dot.node('Animal', 'Animal')\n",
    "dot.node('Dog', 'Dog')\n",
    "dot.node('Cat', 'Cat')\n",
    "\n",
    "# Add edges (inheritance)\n",
    "dot.edge('Animal', 'Dog', label='inherits')\n",
    "dot.edge('Animal', 'Cat', label='inherits')\n",
    "\n",
    "# Render the diagram to a file (PNG, PDF, etc.)\n",
    "dot.render('class_diagram', format='png', view=True)\n"
   ]
  },
  {
   "cell_type": "code",
   "execution_count": 2,
   "metadata": {},
   "outputs": [
    {
     "data": {
      "text/plain": [
       "'class_diagram.png'"
      ]
     },
     "execution_count": 2,
     "metadata": {},
     "output_type": "execute_result"
    }
   ],
   "source": [
    "from graphviz import Digraph\n",
    "\n",
    "# Create a new directed graph for the class diagram\n",
    "dot = Digraph(format='png', engine='dot')\n",
    "\n",
    "# Define the classes (nodes)\n",
    "dot.node('Animal', 'Animal\\n+ name: str\\n+ speak(): str')\n",
    "dot.node('Dog', 'Dog\\n+ breed: str\\n+ speak(): str')\n",
    "dot.node('Cat', 'Cat\\n+ color: str\\n+ speak(): str')\n",
    "\n",
    "# Add relationships (edges)\n",
    "dot.edge('Animal', 'Dog', label='inherits')\n",
    "dot.edge('Animal', 'Cat', label='inherits')\n",
    "\n",
    "# You can also add relationships like associations or dependencies if needed:\n",
    "# dot.edge('Dog', 'Cat', label='can befriend')\n",
    "\n",
    "# Render the graph to a file (e.g., class_diagram.png)\n",
    "dot.render('class_diagram', view=True)\n"
   ]
  }
 ],
 "metadata": {
  "kernelspec": {
   "display_name": "Python 3.12.0 64-bit",
   "language": "python",
   "name": "python3"
  },
  "language_info": {
   "codemirror_mode": {
    "name": "ipython",
    "version": 3
   },
   "file_extension": ".py",
   "mimetype": "text/x-python",
   "name": "python",
   "nbconvert_exporter": "python",
   "pygments_lexer": "ipython3",
   "version": "3.12.0"
  },
  "vscode": {
   "interpreter": {
    "hash": "53d8eca44c0f2e0b87fb88d9c05acfddfe83b50bdd73069bed107cca5f5caedf"
   }
  }
 },
 "nbformat": 4,
 "nbformat_minor": 2
}
