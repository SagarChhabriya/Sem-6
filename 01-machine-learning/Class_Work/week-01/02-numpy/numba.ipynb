{
 "cells": [
  {
   "cell_type": "code",
   "execution_count": 7,
   "metadata": {},
   "outputs": [
    {
     "name": "stdout",
     "output_type": "stream",
     "text": [
      "Sum using loop: 50544281, Time taken: 0.078355 sec\n",
      "Sum using Numba: 50544281, Time taken: 0.056975 sec\n"
     ]
    }
   ],
   "source": [
    "import numpy as np\n",
    "import time\n",
    "from numba import jit\n",
    "\n",
    "# Create a NumPy array with random integers between 1 and 100\n",
    "array = np.random.randint(1, 101, size=1_000_000)\n",
    "\n",
    "# Regular Python loop function\n",
    "def sum_with_loop(arr):\n",
    "    total_sum = 0\n",
    "    for i in arr:\n",
    "        total_sum += i\n",
    "    return total_sum\n",
    "\n",
    "# Numba-optimized function\n",
    "@jit(nopython=True)  # or use @njit (same effect)\n",
    "def sum_with_numba(arr):\n",
    "    total_sum = 0\n",
    "    for i in arr:\n",
    "        total_sum += i\n",
    "    return total_sum\n",
    "\n",
    "# Measure time for regular loop\n",
    "start = time.time()\n",
    "sum_loop_result = sum_with_loop(array)\n",
    "loop_time = time.time() - start\n",
    "\n",
    "# Measure time for numba function\n",
    "start = time.time()\n",
    "sum_numba_result = sum_with_numba(array)\n",
    "numba_time = time.time() - start\n",
    "\n",
    "# Print results\n",
    "print(f\"Sum using loop: {sum_loop_result}, Time taken: {loop_time:.6f} sec\")\n",
    "print(f\"Sum using Numba: {sum_numba_result}, Time taken: {numba_time:.6f} sec\")\n"
   ]
  }
 ],
 "metadata": {
  "kernelspec": {
   "display_name": "Python 3.12.0 64-bit",
   "language": "python",
   "name": "python3"
  },
  "language_info": {
   "codemirror_mode": {
    "name": "ipython",
    "version": 3
   },
   "file_extension": ".py",
   "mimetype": "text/x-python",
   "name": "python",
   "nbconvert_exporter": "python",
   "pygments_lexer": "ipython3",
   "version": "3.12.0"
  },
  "vscode": {
   "interpreter": {
    "hash": "53d8eca44c0f2e0b87fb88d9c05acfddfe83b50bdd73069bed107cca5f5caedf"
   }
  }
 },
 "nbformat": 4,
 "nbformat_minor": 2
}
