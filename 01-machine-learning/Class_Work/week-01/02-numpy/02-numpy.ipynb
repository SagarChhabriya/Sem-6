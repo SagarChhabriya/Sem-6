{
 "cells": [
  {
   "cell_type": "code",
   "execution_count": 2,
   "metadata": {},
   "outputs": [
    {
     "name": "stdout",
     "output_type": "stream",
     "text": [
      "check...\n"
     ]
    }
   ],
   "source": [
    "print(\"check...\") "
   ]
  },
  {
   "cell_type": "code",
   "execution_count": null,
   "metadata": {},
   "outputs": [
    {
     "name": "stdout",
     "output_type": "stream",
     "text": [
      "[1 2 3 4 5 6]\n",
      "[1 2 3 4 5 6]\n",
      "Array Shape:  (6,)\n",
      "Array Size:  6\n",
      "Array type:  int32\n",
      "Array dim:  1\n"
     ]
    }
   ],
   "source": [
    "import numpy as np \n",
    "\n",
    "# Example: Creating a NumPy array from a list\n",
    "list_arr = np.array([1,2,3,4,5,6])\n",
    "print(list_arr)\n",
    "\n",
    "# Example: Creating a NumPy array from a tuple\n",
    "tuple_arr = np.array((1,2,3,4,5,6))\n",
    "print(tuple_arr)\n",
    "\n",
    "# Array attributes\n",
    "print(\"Array Shape: \",list_arr.shape)\n",
    "print(\"Array Size: \",list_arr.size)\n",
    "print(\"Array type: \", list_arr.dtype)\n",
    "print(\"Array dim: \", list_arr.ndim)\n",
    "\n",
    "\n"
   ]
  },
  {
   "cell_type": "code",
   "execution_count": 3,
   "metadata": {},
   "outputs": [
    {
     "name": "stdout",
     "output_type": "stream",
     "text": [
      "[3 4 5]\n",
      "[-1  0  1]\n",
      "[2 4 6]\n",
      "[0.5 1.  1.5]\n",
      "[1 4 9]\n",
      "[5 7 9]\n",
      "[-3 -3 -3]\n",
      "[ 4 10 18]\n",
      "[0.25 0.4  0.5 ]\n",
      "[  1  32 729]\n"
     ]
    }
   ],
   "source": [
    "# Basic array operations\n",
    "# Example: Arithmetic operations\n",
    "\n",
    "array1 = np.array([1, 2, 3])\n",
    "array2 = np.array([4, 5, 6])\n",
    "\n",
    "print(array1 + 2)\n",
    "print(array1 - 2)\n",
    "print(array1 * 2)\n",
    "print(array1 / 2)\n",
    "print(array1 ** 2)\n",
    "\n",
    "print(array1 + array2)\n",
    "print(array1 - array2)\n",
    "print(array1 * array2)\n",
    "print(array1 / array2)\n",
    "print(array1 ** array2)\n"
   ]
  },
  {
   "cell_type": "code",
   "execution_count": 4,
   "metadata": {},
   "outputs": [
    {
     "name": "stdout",
     "output_type": "stream",
     "text": [
      "Maximum of arr:  6\n",
      "Minimum of arr:  1\n",
      "Mean of arr:  3.5\n",
      "std of arr:  1.707825127659933\n"
     ]
    }
   ],
   "source": [
    "# Example: Statistical operations\n",
    "print(\"Maximum of arr: \",list_arr.max())\n",
    "print(\"Minimum of arr: \",list_arr.min())\n",
    "print(\"Mean of arr: \",list_arr.mean())\n",
    "print(\"std of arr: \",list_arr.std())\n",
    "\n"
   ]
  },
  {
   "cell_type": "markdown",
   "metadata": {},
   "source": [
    "### Practice Tasks\n",
    "\n"
   ]
  },
  {
   "cell_type": "code",
   "execution_count": 6,
   "metadata": {},
   "outputs": [
    {
     "name": "stdout",
     "output_type": "stream",
     "text": [
      "[15 35 55 75 95]\n",
      "[5 5 5 5 5]\n",
      "[  50  300  750 1400 2250]\n",
      "[2.         1.33333333 1.2        1.14285714 1.11111111]\n"
     ]
    }
   ],
   "source": [
    "# 1. **Create a NumPy array from a list of integers and perform basic arithmetic operations.**\n",
    "#    - Create a NumPy array from the list `[10, 20, 30, 40, 50]`.\n",
    "#    - Create another NumPy array from the list `[5, 15, 25, 35, 45]`.\n",
    "#    - Perform addition, subtraction, multiplication, and division operations between these two arrays.\n",
    "\n",
    "import numpy as np\n",
    "arr1 = np.array([10, 20, 30, 40, 50])\n",
    "arr2 = np.array([5, 15, 25, 35, 45])\n",
    "\n",
    "print(arr1 + arr2)\n",
    "print(arr1 - arr2)\n",
    "print(arr1 * arr2)\n",
    "print(arr1 / arr2)\n",
    "\n"
   ]
  },
  {
   "cell_type": "code",
   "execution_count": 9,
   "metadata": {},
   "outputs": [
    {
     "name": "stdout",
     "output_type": "stream",
     "text": [
      "Array shape:  (3, 3)\n",
      "Array size:  9\n",
      "Array type:  int32\n",
      "Array dimensions:  2\n"
     ]
    }
   ],
   "source": [
    "# 2. **Explore the attributes of a 2D NumPy array.**\n",
    "#    - Create a 2D NumPy array from the list of lists `[[1, 2, 3], [4, 5, 6], [7, 8, 9]]`.\n",
    "#    - Print the shape, size, data type, and number of dimensions of the array.\n",
    "#    - Print the mean, sum, standard deviation, maximum, and minimum values of the array.\n",
    "\n",
    "arr2d = np.array([[1, 2, 3], [4, 5, 6], [7, 8, 9]])\n",
    "print(\"Array shape: \", arr2d.shape)\n",
    "print(\"Array size: \", arr2d.size)\n",
    "print(\"Array type: \", arr2d.dtype)\n",
    "print(\"Array dimensions: \",arr2d.ndim)\n"
   ]
  },
  {
   "cell_type": "code",
   "execution_count": 10,
   "metadata": {},
   "outputs": [
    {
     "name": "stdout",
     "output_type": "stream",
     "text": [
      "[1, 2, 3, 4, 5, 6, 7, 8, 9]\n"
     ]
    }
   ],
   "source": [
    "arr2d = np.array([[1, 2, 3], [4, 5, 6], [7, 8, 9]])\n",
    "array_flattened = []\n",
    "\n",
    "for row in arr2d:\n",
    "    for item in row:\n",
    "        array_flattened.append(item)\n",
    "        \n",
    "print(array_flattened)"
   ]
  },
  {
   "cell_type": "code",
   "execution_count": 20,
   "metadata": {},
   "outputs": [
    {
     "name": "stdout",
     "output_type": "stream",
     "text": [
      "[1.1 2.2 3.3 4.4 5.5] , type:  float64\n",
      "['apple' 'banana' 'cherry' 'date' '😊'] , type:  <U6\n",
      "U stands for Unicode\n"
     ]
    }
   ],
   "source": [
    "# 3. **Create and manipulate arrays with different data types.**\n",
    "#    - Create a NumPy array of float numbers from the list `[1.1, 2.2, 3.3, 4.4, 5.5]`.\n",
    "#    - Create a NumPy array of string values from the list `[\"apple\", \"banana\", \"cherry\", \"date\"]`.\n",
    "#    - Check and print the data type of both arrays.\n",
    "\n",
    "arr_num = np.array([1.1, 2.2, 3.3, 4.4, 5.5])\n",
    "arr_fruit = np.array([\"apple\", \"banana\", \"cherry\", \"date\", \"😊\"])\n",
    "\n",
    "\n",
    "\n",
    "print(arr_num,\", type: \",arr_num.dtype)\n",
    "print(arr_fruit,\", type: \",arr_fruit.dtype)\n",
    "print(\"U stands for Unicode\")\n",
    "# print(arr_fruit + arr_num) # UFuncTypeError: ufunc 'add' did not contain a loop with signature matching types (dtype('<U6'), dtype('float64')) -> None\n",
    "\n"
   ]
  },
  {
   "cell_type": "code",
   "execution_count": 24,
   "metadata": {},
   "outputs": [
    {
     "name": "stdout",
     "output_type": "stream",
     "text": [
      "[ 0  2  4  6  8 10 12 14 16 18]\n"
     ]
    }
   ],
   "source": [
    "# 4. **Use NumPy functions to generate arrays and perform operations.**\n",
    "#    - Create a NumPy array using `np.arange` from 0 to 20 with a step of 2.\n",
    "#    - Create a NumPy array using `np.linspace` from 0 to 1 with 10 evenly spaced values.\n",
    "#    - Generate a 3x3 identity matrix using `np.eye` or `np.identity`.\n",
    "#    - Generate a 4x4 array with random values using `np.random.random`.\n",
    "\n",
    "\n",
    "#    - Create a NumPy array using `np.arange` from 0 to 20 with a step of 2.\n",
    "arr_ranged = np.arange(0,20,2)\n",
    "print(arr_ranged)\n",
    "\n"
   ]
  },
  {
   "cell_type": "code",
   "execution_count": 25,
   "metadata": {},
   "outputs": [
    {
     "name": "stdout",
     "output_type": "stream",
     "text": [
      "[0.         0.11111111 0.22222222 0.33333333 0.44444444 0.55555556\n",
      " 0.66666667 0.77777778 0.88888889 1.        ]\n"
     ]
    }
   ],
   "source": [
    "#    - Create a NumPy array using `np.linspace` from 0 to 1 with 10 evenly spaced values.\n",
    "arr_linspace = np.linspace(0,1,10)\n",
    "print(arr_linspace)"
   ]
  },
  {
   "cell_type": "code",
   "execution_count": 26,
   "metadata": {},
   "outputs": [
    {
     "name": "stdout",
     "output_type": "stream",
     "text": [
      "[[1. 0. 0.]\n",
      " [0. 1. 0.]\n",
      " [0. 0. 1.]]\n"
     ]
    }
   ],
   "source": [
    "#    - Generate a 3x3 identity matrix using `np.eye` or `np.identity`.\n",
    "arr_eye = np.eye(3)\n",
    "print(arr_eye)"
   ]
  },
  {
   "cell_type": "code",
   "execution_count": 28,
   "metadata": {},
   "outputs": [
    {
     "data": {
      "text/plain": [
       "array([[1., 0., 0.],\n",
       "       [0., 1., 0.],\n",
       "       [0., 0., 1.]])"
      ]
     },
     "execution_count": 28,
     "metadata": {},
     "output_type": "execute_result"
    }
   ],
   "source": [
    "arr_identity = np.identity(3)\n",
    "arr_identity"
   ]
  },
  {
   "cell_type": "code",
   "execution_count": 29,
   "metadata": {},
   "outputs": [
    {
     "data": {
      "text/plain": [
       "array([[0.18899709, 0.03841089, 0.05653812, 0.14501605],\n",
       "       [0.74628471, 0.02397311, 0.83870012, 0.94706008],\n",
       "       [0.3094161 , 0.10822483, 0.6601275 , 0.97066251],\n",
       "       [0.62541819, 0.52715075, 0.49268381, 0.97927979]])"
      ]
     },
     "execution_count": 29,
     "metadata": {},
     "output_type": "execute_result"
    }
   ],
   "source": [
    "#    - Generate a 4x4 array with random values using `np.random.random`.\n",
    "arr_4d = np.random.random((4,4))\n",
    "arr_4d"
   ]
  },
  {
   "cell_type": "code",
   "execution_count": 5,
   "metadata": {},
   "outputs": [
    {
     "data": {
      "text/plain": [
       "array([2, 2])"
      ]
     },
     "execution_count": 5,
     "metadata": {},
     "output_type": "execute_result"
    }
   ],
   "source": [
    "import numpy as np\n",
    "arr_4d = np.random.randint((4,4))\n",
    "arr_4d\n"
   ]
  },
  {
   "cell_type": "code",
   "execution_count": 14,
   "metadata": {},
   "outputs": [
    {
     "name": "stdout",
     "output_type": "stream",
     "text": [
      "Array1: [1 2 3 4 5] \n",
      " Array2:  [ 6  7  8  9 10]\n",
      "Combined Array --> Array Addition:  [ 7  9 11 13 15]\n",
      "Concatenation:  [ 1  2  3  4  5  6  7  8  9 10]\n",
      "Comparision:  [ True  True  True  True  True]\n"
     ]
    }
   ],
   "source": [
    "\n",
    "# 5. **Combine and compare arrays.**\n",
    "import numpy as np \n",
    "\n",
    "#    - Create two 1D NumPy arrays: one with values from 1 to 5 and another with values from 6 to 10.\n",
    "arr1 = np.arange(1,6)\n",
    "arr2 = np.arange(6,11)\n",
    "\n",
    "print(\"Array1:\",arr1,\"\\n\",\"Array2: \",arr2)\n",
    "\n",
    "#    - Concatenate these arrays into a single array.\n",
    "combined_arr = arr1 + arr2\n",
    "print(\"Combined Array --> Array Addition: \",combined_arr)\n",
    "\n",
    "# Concatenation\n",
    "concatenated = np.concatenate((arr1, arr2))\n",
    "print(\"Concatenation: \",concatenated)\n",
    "\n",
    "#    - Compare the elements of the two arrays to check which elements are greater in the second array compared to the first.\n",
    "print(\"Comparision: \",arr2 > arr1)"
   ]
  },
  {
   "cell_type": "code",
   "execution_count": 2,
   "metadata": {},
   "outputs": [
    {
     "name": "stdout",
     "output_type": "stream",
     "text": [
      "[[1. 0. 0. 0.]\n",
      " [0. 1. 0. 0.]\n",
      " [0. 0. 1. 0.]\n",
      " [0. 0. 0. 1.]]\n",
      "[[1 0 0 0]\n",
      " [0 2 0 0]\n",
      " [0 0 3 0]\n",
      " [0 0 0 4]]\n"
     ]
    }
   ],
   "source": [
    "# Creating identity and diagonal matrix\n",
    "\n",
    "import numpy as np\n",
    "\n",
    "eye_arr = np.eye(4)\n",
    "print(eye_arr)\n",
    "\n",
    "diag_arr = np.diag([1,2,3,4])\n",
    "print(diag_arr)"
   ]
  },
  {
   "cell_type": "markdown",
   "metadata": {},
   "source": [
    "\n",
    "### Practice Tasks\n",
    "\n",
    "Here are a few practice tasks based on Part 3 of the NumPy outline:\n",
    "\n",
    "1. **Element-wise operations:**\n",
    "   - Create two arrays: `[2, 4, 6, 8]` and `[1, 3, 5, 7]`.\n",
    "   - Perform element-wise addition, subtraction, multiplication, and division on these arrays.\n",
    "\n",
    "2. **Broadcasting:**\n",
    "   - Create a 1D array with values `[5, 10, 15]` and a 2D array `[[1], [2], [3]]`.\n",
    "   - Use broadcasting to add these arrays together.\n",
    "\n",
    "3. **Linear Algebra:**\n",
    "   - Create two 2D arrays: `[[1, 2], [3, 4]]` and `[[2, 0], [1, 3]]`.\n",
    "   - Compute their dot product.\n",
    "   - Compute the eigenvalues and eigenvectors of the first array.\n",
    "\n",
    "4. **Statistical Operations:**\n",
    "   - Create a 1D array with values from 1 to 20.\n",
    "   - Calculate the mean, median, and standard deviation of the array.\n",
    "   - Create another array with values `[20, 19, 18, ..., 1]` and compute the correlation and covariance between the two arrays.\n",
    "\n",
    "5. **Fancy Indexing:**\n",
    "   - Create a 1D array with values `[10, 20, 30, 40, 50]`.\n",
    "   - Use an array of indices `[0, 2, 4]` to access elements from the array.\n",
    "\n",
    "6. **Sorting and Searching:**\n",
    "   - Create an unsorted array `[9, 7, 5, 3, 1]`.\n",
    "   - Sort the array.\n",
    "   - Find the indices where the values are greater than 4.\n",
    "\n",
    "7. **Structured Arrays:**\n",
    "   - Create a structured array with fields 'Name', 'Age', and 'Score'.\n",
    "   - Add data for three individuals.\n",
    "   - Access and print the 'Name' field for each individual.\n",
    "\n",
    "8. **Array I/O:**\n",
    "   - Create a 1D array with values from 1 to 10.\n",
    "   - Save the array to a text file.\n",
    "   - Load the array from the text file and print it.\n"
   ]
  },
  {
   "cell_type": "code",
   "execution_count": 2,
   "metadata": {},
   "outputs": [
    {
     "name": "stdout",
     "output_type": "stream",
     "text": [
      "Addition:  [ 3  7 11 15]\n",
      "Subtraction:  [1 1 1 1]\n",
      "Multiplication:  [ 2 12 30 56]\n",
      "Division:  [2.         1.33333333 1.2        1.14285714]\n"
     ]
    }
   ],
   "source": [
    "# 1. **Element-wise operations:**\n",
    "#    - Create two arrays: `[2, 4, 6, 8]` and `[1, 3, 5, 7]`.\n",
    "#    - Perform element-wise addition, subtraction, multiplication, and division on these arrays.\n",
    "\n",
    "import numpy as np \n",
    "arr1 = np.arange(2,9,2)\n",
    "arr2 = np.arange(1,8,2)\n",
    "\n",
    "print(\"Addition: \", arr1 + arr2)\n",
    "print(\"Subtraction: \", arr1 - arr2)\n",
    "print(\"Multiplication: \", arr1 * arr2)\n",
    "print(\"Division: \",arr1 / arr2)"
   ]
  },
  {
   "cell_type": "code",
   "execution_count": null,
   "metadata": {},
   "outputs": [],
   "source": [
    "# 2. **Broadcasting:**\n",
    "#    - Create a 1D array with values `[5, 10, 15]` and a 2D array `[[1], [2], [3]]`.\n",
    "#    - Use broadcasting to add these arrays together.\n",
    "\n"
   ]
  },
  {
   "cell_type": "code",
   "execution_count": 3,
   "metadata": {},
   "outputs": [
    {
     "name": "stdout",
     "output_type": "stream",
     "text": [
      "Dot Product: \n",
      " [[ 4  6]\n",
      " [10 12]]\n",
      "Eigen Values: \n",
      " [-0.37228132  5.37228132]\n",
      "Eigen Values: \n",
      " [[-0.82456484 -0.41597356]\n",
      " [ 0.56576746 -0.90937671]]\n"
     ]
    }
   ],
   "source": [
    "# 3. **Linear Algebra:**\n",
    "#    - Create two 2D arrays: `[[1, 2], [3, 4]]` and `[[2, 0], [1, 3]]`.\n",
    "#    - Compute their dot product.\n",
    "#    - Compute the eigenvalues and eigenvectors of the first array.\n",
    "\n",
    "a2d = np.array([[1,2],[3,4]])\n",
    "b2d = np.array([[2,0],[1,3]])\n",
    "\n",
    "print(\"Dot Product: \\n\",np.dot(a2d,b2d))\n",
    "\n",
    "eigen_val, eigen_vec = np.linalg.eig(a2d)\n",
    "print(\"Eigen Values: \\n\",eigen_val)\n",
    "print(\"Eigen Values: \\n\",(eigen_vec))\n"
   ]
  },
  {
   "cell_type": "code",
   "execution_count": 27,
   "metadata": {},
   "outputs": [
    {
     "name": "stdout",
     "output_type": "stream",
     "text": [
      "a1d:  [ 1  2  3  4  5  6  7  8  9 10 11 12 13 14 15 16 17 18 19 20]\n",
      "a1d size:  20\n",
      "a1d type:  <class 'numpy.ndarray'>\n",
      "Mean:  10.5\n",
      "Median:  10.5\n",
      "Std:  5.766281297335398\n",
      "b1d:  [20 19 18 17 16 15 14 13 12 11 10  9  8  7  6  5  4  3  2  1]\n",
      "b1d size:  20\n",
      "b1d type:  <class 'numpy.ndarray'>\n",
      "Covariacne:  [[ 35. -35.]\n",
      " [-35.  35.]]\n",
      "Correlation:  [[ 1. -1.]\n",
      " [-1.  1.]]\n"
     ]
    }
   ],
   "source": [
    "# 4. **Statistical Operations:**\n",
    "#    - Create a 1D array with values from 1 to 20.\n",
    "#    - Calculate the mean, median, and standard deviation of the array.\n",
    "#    - Create another array with values `[20, 19, 18, ..., 1]` and compute the correlation and covariance between the two arrays.\n",
    "\n",
    "a1d = np.arange(1,21)\n",
    "\n",
    "print(\"a1d: \",a1d)\n",
    "print(\"a1d size: \",a1d.size)\n",
    "print(\"a1d type: \",type(a1d))\n",
    "print(\"Mean: \",a1d.mean())\n",
    "print(\"Median: \",np.median(a1d))\n",
    "print(\"Std: \",np.std(a1d))\n",
    "\n",
    "\n",
    "b1d = np.arange(20,0,-1)\n",
    "print(\"b1d: \",b1d)\n",
    "print(\"b1d size: \",b1d.size)\n",
    "print(\"b1d type: \",type(b1d))\n",
    "print(\"Covariacne: \", np.cov(a1d,b1d))\n",
    "print(\"Correlation: \", np.corrcoef(a1d,b1d))\n"
   ]
  },
  {
   "cell_type": "code",
   "execution_count": 30,
   "metadata": {},
   "outputs": [
    {
     "name": "stdout",
     "output_type": "stream",
     "text": [
      "Array:  [10 20 30 40 50]\n",
      "Array indexed:  [10 30 50]\n"
     ]
    }
   ],
   "source": [
    "# 5. **Fancy Indexing:**\n",
    "#    - Create a 1D array with values `[10, 20, 30, 40, 50]`.\n",
    "#    - Use an array of indices `[0, 2, 4]` to access elements from the array.\n",
    "\n",
    "arr_fancy = np.arange(10,51,10)\n",
    "indices = [0,2,4]\n",
    "print(\"Array: \",arr_fancy)\n",
    "print(\"Array indexed: \",arr_fancy[indices])"
   ]
  },
  {
   "cell_type": "code",
   "execution_count": 35,
   "metadata": {},
   "outputs": [
    {
     "name": "stdout",
     "output_type": "stream",
     "text": [
      "Array:  [9 7 5 3 1]\n",
      "Sorted array sorted():  [np.int64(1), np.int64(3), np.int64(5), np.int64(7), np.int64(9)]\n",
      "Sorted array np.sort():  [1 3 5 7 9]\n"
     ]
    }
   ],
   "source": [
    "# 6. **Sorting and Searching:**\n",
    "#    - Create an unsorted array `[9, 7, 5, 3, 1]`.\n",
    "#    - Sort the array.\n",
    "#    - Find the indices where the values are greater than 4.\n",
    "\n",
    "arr_unsorted = np.arange(9,0,-2)\n",
    "print(\"Array: \",arr_unsorted)\n",
    "print(\"Sorted array sorted(): \",sorted(arr_unsorted))\n",
    "print(\"Sorted array np.sort(): \",np.sort(arr_unsorted))"
   ]
  },
  {
   "cell_type": "code",
   "execution_count": 45,
   "metadata": {},
   "outputs": [
    {
     "name": "stdout",
     "output_type": "stream",
     "text": [
      "Array1:  [['Sagar' '20' '92']\n",
      " ['John' '21' '93']\n",
      " ['Alice' '22' '94']]\n",
      "Array type:  <U21\n",
      "\n",
      "Array2:  [('Sagar', 20, 92) ('John', 21, 93) ('Alice', 22, 94)]\n",
      "Array type:  [('Name', '<U10'), ('Age', '<i4'), ('Score', '<i4')]\n"
     ]
    }
   ],
   "source": [
    "# 7. **Structured Arrays:**\n",
    "#    - Create a structured array with fields 'Name', 'Age', and 'Score'.\n",
    "#    - Add data for three individuals.\n",
    "#    - Access and print the 'Name' field for each individual.\n",
    "\n",
    "\"\"\"\n",
    "Structured arrays allow you to define arrays with named fields.\n",
    "\"\"\"\n",
    "# Example: Structured array\n",
    "# structured_array = np.array( [(1, 'Alice', 25), (2, 'Bob', 30)], dtype=[('ID', 'i4'), ('Name', 'U10'), ('Age', 'i4')])\n",
    "# print(\"Structured array:\\n\", structured_array)\n",
    "# print(\"Names:\", structured_array['Name'])\n",
    "\n",
    "array1_structured = np.array([(\"Sagar\",20,92),(\"John\",21,93),(\"Alice\",22,94)])\n",
    "print(\"Array1: \",array1_structured)\n",
    "print(\"Array type: \",array1_structured.dtype)\n",
    "print()\n",
    "\n",
    "array2_structured = np.array([(\"Sagar\",20,92),(\"John\",21,93),(\"Alice\",22,94)], dtype=[('Name','U10'),('Age','i4'),('Score','i4')])\n",
    "print(\"Array2: \",array2_structured)\n",
    "print(\"Array type: \",array2_structured.dtype)\n",
    "\n"
   ]
  },
  {
   "cell_type": "code",
   "execution_count": 53,
   "metadata": {},
   "outputs": [
    {
     "name": "stdout",
     "output_type": "stream",
     "text": [
      "[ 1  2  3  4  5  6  7  8  9 10]\n",
      "[ 1  2  3  4  5  6  7  8  9 10]\n"
     ]
    }
   ],
   "source": [
    "\n",
    "# 8. **Array I/O:**\n",
    "#    - Create a 1D array with values from 1 to 10.\n",
    "#    - Save the array to a text file.\n",
    "#    - Load the array from the text file and print it.\n",
    "\n",
    "arr_save = np.arange(1,11)\n",
    "print(arr_save)\n",
    "np.save(\"numpy_data\",arr_save)\n",
    " \n",
    "arr_load = np.load(\"numpy_data.npy\")\n",
    "print(arr_load)"
   ]
  },
  {
   "cell_type": "markdown",
   "metadata": {
    "id": "gwIkwAjUST_3"
   },
   "source": [
    "\n",
    "### Practice Questions\n",
    "\n",
    "#### 1. Fancy Indexing\n",
    "1. **Given the array `np.array([5, 10, 15, 20, 25])`, use fancy indexing to extract elements at indices `[0, 2, 4]`.**\n",
    "2. **Modify the array `np.array([100, 200, 300, 400, 500])` by setting the elements at indices `[1, 3]` to `[150, 350]`.**\n",
    "\n",
    "#### 2. Structured and Record Arrays\n",
    "3. **Create a structured array with fields `'ID'` (integer), `'Name'` (string), and `'Score'` (float). Populate it with three records and print the array.**\n",
    "4. **Convert the structured array created in the previous question into a record array and access the `'Name'` field using dot notation.**\n",
    "\n",
    "#### 3. Performance Optimization\n",
    "5. **Create a NumPy array of size `1,000,000` filled with random integers between `1` and `100`. Compute the sum of the array using both a regular loop and `numba`-optimized function. Compare the performance.**\n",
    "6. **Use NumPy’s `np.dot` function to compute the dot product of two arrays of size `1,000,000`. Explain how this operation is optimized for performance.**\n",
    "\n",
    "#### 4. Integration with Other Libraries\n",
    "7. **Create a Pandas DataFrame with two columns: `'A'` (integers) and `'B'` (floats). Initialize it with some values and convert the DataFrame to a NumPy array.**\n",
    "8. **Generate a NumPy array of size `1,000` with normally distributed random numbers. Use SciPy to fit a normal distribution to the data and print the mean and standard deviation.**\n",
    "9. **Create a simple plot using Matplotlib with a NumPy array representing `x` values from `0` to `10` and `y` values as the sine of `x`. Include labels and a grid.**\n",
    "\n",
    "#### 5. Handling Missing Data\n",
    "10. **Create a NumPy array with some `NaN` values. Use NumPy functions to compute the mean of the array, ignoring `NaN` values.**\n",
    "11. **Generate a masked array with some invalid data points (e.g., `-999`) and compute the mean of the valid entries.**\n",
    "\n",
    "#### 6. Input/Output Operations\n",
    "12. **Save a NumPy array to a text file and then load it back. Ensure that the saved and loaded arrays match.**\n",
    "13. **Create a NumPy array and save it in binary format. Load the array from the binary file and verify its content.**\n",
    "\n"
   ]
  },
  {
   "cell_type": "code",
   "execution_count": 51,
   "metadata": {},
   "outputs": [
    {
     "name": "stdout",
     "output_type": "stream",
     "text": [
      "Array:  [ 5 10 15 20 25]\n",
      "Array Indexed:  [ 5 15 25]\n",
      "Array:  [100 200 300 400 500]\n",
      "Arrayed Indexed:  [200 400]\n",
      "Array:  [100 150 300 350 500]\n",
      "Arrayed Indexed:  [150 350]\n"
     ]
    }
   ],
   "source": [
    "#### 1. Fancy Indexing\n",
    "# 1. **Given the array `np.array([5, 10, 15, 20, 25])`, use fancy indexing to extract elements at indices `[0, 2, 4]`.**\n",
    "# 2. **Modify the array `np.array([100, 200, 300, 400, 500])` by setting the elements at indices `[1, 3]` to `[150, 350]`.**\n",
    "\n",
    "arr3 = np.arange(5,26,5)\n",
    "print(\"Array: \",arr3)\n",
    "print(\"Array Indexed: \",arr3[[0,2,4]])\n",
    "\n",
    "arr3 = np.arange(100,501,100)\n",
    "print(\"Array: \",arr3)\n",
    "print(\"Arrayed Indexed: \",arr3[[1,3]])\n",
    "arr3[[1,3]] = [150,350]\n",
    "print(\"Array: \",arr3)\n",
    "print(\"Arrayed Indexed: \",arr3[[1,3]])\n"
   ]
  },
  {
   "cell_type": "code",
   "execution_count": 65,
   "metadata": {},
   "outputs": [
    {
     "name": "stdout",
     "output_type": "stream",
     "text": [
      "[(1, 'Alice', 85.5) (2, 'Bob', 92.3) (3, 'Charlie', 78.9)]\n",
      "Record array:\n",
      " [(1, 'Alice', 85.5) (2, 'Bob', 92.3) (3, 'Charlie', 78.9)]\n",
      "Names: ['Alice' 'Bob' 'Charlie']\n",
      "[1 2 3]\n",
      "['Alice' 'Bob' 'Charlie']\n",
      "[85.5 92.3 78.9]\n"
     ]
    }
   ],
   "source": [
    "\n",
    "#### 2. Structured and Record Arrays\n",
    "# 3. **Create a structured array with fields `'ID'` (integer), `'Name'` (string), and `'Score'` (float). \n",
    "# Populate it with three records and print the array.**\n",
    "import numpy as np\n",
    "\n",
    "# Define the structured array with the specified fields\n",
    "dtype = [('ID', 'i4'), ('Name', 'U10'), ('Score', 'f4')]\n",
    "\n",
    "# Create and populate the array with 3 records\n",
    "structured_array = np.array([(1, 'Alice', 85.5), (2, 'Bob', 92.3), (3, 'Charlie', 78.9)], dtype=dtype)\n",
    "\n",
    "# Print the array\n",
    "print(structured_array)\n",
    "\n",
    "\n",
    "# # 4. Convert the structured array created in the previous question into a record array and access the `'Name'` field using dot notation.\n",
    "record_array = np._core.records.fromarrays(\n",
    "    [structured_array['ID'], structured_array['Name'], structured_array['Score']],\n",
    "    names='ID,Name,Age'\n",
    ")\n",
    "print(\"Record array:\\n\", record_array)\n",
    "print(\"Names:\", record_array.Name)\n",
    "\n",
    "\n",
    "record_array = np.rec.array(structured_array)\n",
    "print(record_array.ID)\n",
    "print(record_array.Name)\n",
    "print(record_array.Score)\n",
    "\n"
   ]
  },
  {
   "cell_type": "code",
   "execution_count": 89,
   "metadata": {},
   "outputs": [
    {
     "name": "stdout",
     "output_type": "stream",
     "text": [
      "Shape: (1, 101, 1000000) Size: 101000000 dim: 3 type: float64\n",
      "Shape: (1000000,) Size: 1000000 dim: 1 type: int32\n"
     ]
    }
   ],
   "source": [
    "# Random Experimentation\n",
    "\n",
    "arr_rand = np.random.rand(1,101,1000000)\n",
    "print(\"Shape:\",arr_rand.shape,\"Size:\", arr_rand.size,\"dim:\", arr_rand.ndim,\"type:\",arr_rand.dtype)\n",
    "\n",
    "arr_rand_int = np.random.randint(1,101,size=1000000)\n",
    "print(\"Shape:\",arr_rand_int.shape,\"Size:\", arr_rand_int.size,\"dim:\", arr_rand_int.ndim,\"type:\",arr_rand_int.dtype)"
   ]
  },
  {
   "cell_type": "code",
   "execution_count": null,
   "metadata": {},
   "outputs": [],
   "source": [
    "#### 3. Performance Optimization\n",
    "# 5. **Create a NumPy array of size `1,000,000` filled with random integers between `1` and `100`. Compute the sum of the array using both a regular loop and `numba`-optimized function. Compare the performance.**\n",
    "\n",
    "# ImportError: Numba needs NumPy 2.1 or less. Got NumPy 2.2.\n",
    "# Try creating virtual environment and numpu < 2.2\n"
   ]
  },
  {
   "cell_type": "code",
   "execution_count": null,
   "metadata": {},
   "outputs": [],
   "source": [
    "# 6. **Use NumPy’s `np.dot` function to compute the dot product of two arrays of size `1,000,000`. Explain how this operation is optimized for performance.**\n"
   ]
  },
  {
   "cell_type": "code",
   "execution_count": null,
   "metadata": {},
   "outputs": [],
   "source": [
    "\n",
    "#### 4. Integration with Other Libraries\n",
    "# 7. **Create a Pandas DataFrame with two columns: `'A'` (integers) and `'B'` (floats). Initialize it with some values and convert the DataFrame to a NumPy array.**\n",
    "# 8. **Generate a NumPy array of size `1,000` with normally distributed random numbers. Use SciPy to fit a normal distribution to the data and print the mean and standard deviation.**\n",
    "# 9. **Create a simple plot using Matplotlib with a NumPy array representing `x` values from `0` to `10` and `y` values as the sine of `x`. Include labels and a grid.**\n",
    "\n"
   ]
  },
  {
   "cell_type": "code",
   "execution_count": null,
   "metadata": {},
   "outputs": [],
   "source": [
    "#### 5. Handling Missing Data\n",
    "# 10. **Create a NumPy array with some `NaN` values. Use NumPy functions to compute the mean of the array, ignoring `NaN` values.**\n",
    "# 11. **Generate a masked array with some invalid data points (e.g., `-999`) and compute the mean of the valid entries.**\n",
    "\n"
   ]
  },
  {
   "cell_type": "code",
   "execution_count": null,
   "metadata": {},
   "outputs": [],
   "source": [
    "#### 6. Input/Output Operations\n",
    "# 12. **Save a NumPy array to a text file and then load it back. Ensure that the saved and loaded arrays match.**\n",
    "# 13. **Create a NumPy array and save it in binary format. Load the array from the binary file and verify its content.**\n"
   ]
  }
 ],
 "metadata": {
  "kernelspec": {
   "display_name": "Python 3.12.0 64-bit",
   "language": "python",
   "name": "python3"
  },
  "language_info": {
   "codemirror_mode": {
    "name": "ipython",
    "version": 3
   },
   "file_extension": ".py",
   "mimetype": "text/x-python",
   "name": "python",
   "nbconvert_exporter": "python",
   "pygments_lexer": "ipython3",
   "version": "3.12.0"
  },
  "orig_nbformat": 4,
  "vscode": {
   "interpreter": {
    "hash": "53d8eca44c0f2e0b87fb88d9c05acfddfe83b50bdd73069bed107cca5f5caedf"
   }
  }
 },
 "nbformat": 4,
 "nbformat_minor": 2
}
