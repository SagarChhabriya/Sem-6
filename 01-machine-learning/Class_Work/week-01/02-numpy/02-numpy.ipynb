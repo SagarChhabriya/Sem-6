{
 "cells": [
  {
   "cell_type": "code",
   "execution_count": 2,
   "metadata": {},
   "outputs": [
    {
     "name": "stdout",
     "output_type": "stream",
     "text": [
      "check...\n"
     ]
    }
   ],
   "source": [
    "print(\"check...\") "
   ]
  },
  {
   "cell_type": "code",
   "execution_count": null,
   "metadata": {},
   "outputs": [
    {
     "name": "stdout",
     "output_type": "stream",
     "text": [
      "[1 2 3 4 5 6]\n",
      "[1 2 3 4 5 6]\n",
      "Array Shape:  (6,)\n",
      "Array Size:  6\n",
      "Array type:  int32\n",
      "Array dim:  1\n"
     ]
    }
   ],
   "source": [
    "import numpy as np \n",
    "\n",
    "# Example: Creating a NumPy array from a list\n",
    "list_arr = np.array([1,2,3,4,5,6])\n",
    "print(list_arr)\n",
    "\n",
    "# Example: Creating a NumPy array from a tuple\n",
    "tuple_arr = np.array((1,2,3,4,5,6))\n",
    "print(tuple_arr)\n",
    "\n",
    "# Array attributes\n",
    "print(\"Array Shape: \",list_arr.shape)\n",
    "print(\"Array Size: \",list_arr.size)\n",
    "print(\"Array type: \", list_arr.dtype)\n",
    "print(\"Array dim: \", list_arr.ndim)\n",
    "\n",
    "\n"
   ]
  },
  {
   "cell_type": "code",
   "execution_count": 3,
   "metadata": {},
   "outputs": [
    {
     "name": "stdout",
     "output_type": "stream",
     "text": [
      "[3 4 5]\n",
      "[-1  0  1]\n",
      "[2 4 6]\n",
      "[0.5 1.  1.5]\n",
      "[1 4 9]\n",
      "[5 7 9]\n",
      "[-3 -3 -3]\n",
      "[ 4 10 18]\n",
      "[0.25 0.4  0.5 ]\n",
      "[  1  32 729]\n"
     ]
    }
   ],
   "source": [
    "# Basic array operations\n",
    "# Example: Arithmetic operations\n",
    "\n",
    "array1 = np.array([1, 2, 3])\n",
    "array2 = np.array([4, 5, 6])\n",
    "\n",
    "print(array1 + 2)\n",
    "print(array1 - 2)\n",
    "print(array1 * 2)\n",
    "print(array1 / 2)\n",
    "print(array1 ** 2)\n",
    "\n",
    "print(array1 + array2)\n",
    "print(array1 - array2)\n",
    "print(array1 * array2)\n",
    "print(array1 / array2)\n",
    "print(array1 ** array2)\n"
   ]
  },
  {
   "cell_type": "code",
   "execution_count": 4,
   "metadata": {},
   "outputs": [
    {
     "name": "stdout",
     "output_type": "stream",
     "text": [
      "Maximum of arr:  6\n",
      "Minimum of arr:  1\n",
      "Mean of arr:  3.5\n",
      "std of arr:  1.707825127659933\n"
     ]
    }
   ],
   "source": [
    "# Example: Statistical operations\n",
    "print(\"Maximum of arr: \",list_arr.max())\n",
    "print(\"Minimum of arr: \",list_arr.min())\n",
    "print(\"Mean of arr: \",list_arr.mean())\n",
    "print(\"std of arr: \",list_arr.std())\n",
    "\n"
   ]
  },
  {
   "cell_type": "markdown",
   "metadata": {},
   "source": [
    "### Practice Tasks\n",
    "\n"
   ]
  },
  {
   "cell_type": "code",
   "execution_count": 6,
   "metadata": {},
   "outputs": [
    {
     "name": "stdout",
     "output_type": "stream",
     "text": [
      "[15 35 55 75 95]\n",
      "[5 5 5 5 5]\n",
      "[  50  300  750 1400 2250]\n",
      "[2.         1.33333333 1.2        1.14285714 1.11111111]\n"
     ]
    }
   ],
   "source": [
    "# 1. **Create a NumPy array from a list of integers and perform basic arithmetic operations.**\n",
    "#    - Create a NumPy array from the list `[10, 20, 30, 40, 50]`.\n",
    "#    - Create another NumPy array from the list `[5, 15, 25, 35, 45]`.\n",
    "#    - Perform addition, subtraction, multiplication, and division operations between these two arrays.\n",
    "\n",
    "import numpy as np\n",
    "arr1 = np.array([10, 20, 30, 40, 50])\n",
    "arr2 = np.array([5, 15, 25, 35, 45])\n",
    "\n",
    "print(arr1 + arr2)\n",
    "print(arr1 - arr2)\n",
    "print(arr1 * arr2)\n",
    "print(arr1 / arr2)\n",
    "\n"
   ]
  },
  {
   "cell_type": "code",
   "execution_count": 9,
   "metadata": {},
   "outputs": [
    {
     "name": "stdout",
     "output_type": "stream",
     "text": [
      "Array shape:  (3, 3)\n",
      "Array size:  9\n",
      "Array type:  int32\n",
      "Array dimensions:  2\n"
     ]
    }
   ],
   "source": [
    "# 2. **Explore the attributes of a 2D NumPy array.**\n",
    "#    - Create a 2D NumPy array from the list of lists `[[1, 2, 3], [4, 5, 6], [7, 8, 9]]`.\n",
    "#    - Print the shape, size, data type, and number of dimensions of the array.\n",
    "#    - Print the mean, sum, standard deviation, maximum, and minimum values of the array.\n",
    "\n",
    "arr2d = np.array([[1, 2, 3], [4, 5, 6], [7, 8, 9]])\n",
    "print(\"Array shape: \", arr2d.shape)\n",
    "print(\"Array size: \", arr2d.size)\n",
    "print(\"Array type: \", arr2d.dtype)\n",
    "print(\"Array dimensions: \",arr2d.ndim)\n"
   ]
  },
  {
   "cell_type": "code",
   "execution_count": 10,
   "metadata": {},
   "outputs": [
    {
     "name": "stdout",
     "output_type": "stream",
     "text": [
      "[1, 2, 3, 4, 5, 6, 7, 8, 9]\n"
     ]
    }
   ],
   "source": [
    "arr2d = np.array([[1, 2, 3], [4, 5, 6], [7, 8, 9]])\n",
    "array_flattened = []\n",
    "\n",
    "for row in arr2d:\n",
    "    for item in row:\n",
    "        array_flattened.append(item)\n",
    "        \n",
    "print(array_flattened)"
   ]
  },
  {
   "cell_type": "code",
   "execution_count": 20,
   "metadata": {},
   "outputs": [
    {
     "name": "stdout",
     "output_type": "stream",
     "text": [
      "[1.1 2.2 3.3 4.4 5.5] , type:  float64\n",
      "['apple' 'banana' 'cherry' 'date' '😊'] , type:  <U6\n",
      "U stands for Unicode\n"
     ]
    }
   ],
   "source": [
    "# 3. **Create and manipulate arrays with different data types.**\n",
    "#    - Create a NumPy array of float numbers from the list `[1.1, 2.2, 3.3, 4.4, 5.5]`.\n",
    "#    - Create a NumPy array of string values from the list `[\"apple\", \"banana\", \"cherry\", \"date\"]`.\n",
    "#    - Check and print the data type of both arrays.\n",
    "\n",
    "arr_num = np.array([1.1, 2.2, 3.3, 4.4, 5.5])\n",
    "arr_fruit = np.array([\"apple\", \"banana\", \"cherry\", \"date\", \"😊\"])\n",
    "\n",
    "\n",
    "\n",
    "print(arr_num,\", type: \",arr_num.dtype)\n",
    "print(arr_fruit,\", type: \",arr_fruit.dtype)\n",
    "print(\"U stands for Unicode\")\n",
    "# print(arr_fruit + arr_num) # UFuncTypeError: ufunc 'add' did not contain a loop with signature matching types (dtype('<U6'), dtype('float64')) -> None\n",
    "\n"
   ]
  },
  {
   "cell_type": "code",
   "execution_count": 24,
   "metadata": {},
   "outputs": [
    {
     "name": "stdout",
     "output_type": "stream",
     "text": [
      "[ 0  2  4  6  8 10 12 14 16 18]\n"
     ]
    }
   ],
   "source": [
    "# 4. **Use NumPy functions to generate arrays and perform operations.**\n",
    "#    - Create a NumPy array using `np.arange` from 0 to 20 with a step of 2.\n",
    "#    - Create a NumPy array using `np.linspace` from 0 to 1 with 10 evenly spaced values.\n",
    "#    - Generate a 3x3 identity matrix using `np.eye` or `np.identity`.\n",
    "#    - Generate a 4x4 array with random values using `np.random.random`.\n",
    "\n",
    "\n",
    "#    - Create a NumPy array using `np.arange` from 0 to 20 with a step of 2.\n",
    "arr_ranged = np.arange(0,20,2)\n",
    "print(arr_ranged)\n",
    "\n"
   ]
  },
  {
   "cell_type": "code",
   "execution_count": 25,
   "metadata": {},
   "outputs": [
    {
     "name": "stdout",
     "output_type": "stream",
     "text": [
      "[0.         0.11111111 0.22222222 0.33333333 0.44444444 0.55555556\n",
      " 0.66666667 0.77777778 0.88888889 1.        ]\n"
     ]
    }
   ],
   "source": [
    "#    - Create a NumPy array using `np.linspace` from 0 to 1 with 10 evenly spaced values.\n",
    "arr_linspace = np.linspace(0,1,10)\n",
    "print(arr_linspace)"
   ]
  },
  {
   "cell_type": "code",
   "execution_count": 26,
   "metadata": {},
   "outputs": [
    {
     "name": "stdout",
     "output_type": "stream",
     "text": [
      "[[1. 0. 0.]\n",
      " [0. 1. 0.]\n",
      " [0. 0. 1.]]\n"
     ]
    }
   ],
   "source": [
    "#    - Generate a 3x3 identity matrix using `np.eye` or `np.identity`.\n",
    "arr_eye = np.eye(3)\n",
    "print(arr_eye)"
   ]
  },
  {
   "cell_type": "code",
   "execution_count": 28,
   "metadata": {},
   "outputs": [
    {
     "data": {
      "text/plain": [
       "array([[1., 0., 0.],\n",
       "       [0., 1., 0.],\n",
       "       [0., 0., 1.]])"
      ]
     },
     "execution_count": 28,
     "metadata": {},
     "output_type": "execute_result"
    }
   ],
   "source": [
    "arr_identity = np.identity(3)\n",
    "arr_identity"
   ]
  },
  {
   "cell_type": "code",
   "execution_count": 29,
   "metadata": {},
   "outputs": [
    {
     "data": {
      "text/plain": [
       "array([[0.18899709, 0.03841089, 0.05653812, 0.14501605],\n",
       "       [0.74628471, 0.02397311, 0.83870012, 0.94706008],\n",
       "       [0.3094161 , 0.10822483, 0.6601275 , 0.97066251],\n",
       "       [0.62541819, 0.52715075, 0.49268381, 0.97927979]])"
      ]
     },
     "execution_count": 29,
     "metadata": {},
     "output_type": "execute_result"
    }
   ],
   "source": [
    "#    - Generate a 4x4 array with random values using `np.random.random`.\n",
    "arr_4d = np.random.random((4,4))\n",
    "arr_4d"
   ]
  },
  {
   "cell_type": "code",
   "execution_count": 5,
   "metadata": {},
   "outputs": [
    {
     "data": {
      "text/plain": [
       "array([2, 2])"
      ]
     },
     "execution_count": 5,
     "metadata": {},
     "output_type": "execute_result"
    }
   ],
   "source": [
    "import numpy as np\n",
    "arr_4d = np.random.randint((4,4))\n",
    "arr_4d\n"
   ]
  },
  {
   "cell_type": "code",
   "execution_count": 14,
   "metadata": {},
   "outputs": [
    {
     "name": "stdout",
     "output_type": "stream",
     "text": [
      "Array1: [1 2 3 4 5] \n",
      " Array2:  [ 6  7  8  9 10]\n",
      "Combined Array --> Array Addition:  [ 7  9 11 13 15]\n",
      "Concatenation:  [ 1  2  3  4  5  6  7  8  9 10]\n",
      "Comparision:  [ True  True  True  True  True]\n"
     ]
    }
   ],
   "source": [
    "\n",
    "# 5. **Combine and compare arrays.**\n",
    "import numpy as np \n",
    "\n",
    "#    - Create two 1D NumPy arrays: one with values from 1 to 5 and another with values from 6 to 10.\n",
    "arr1 = np.arange(1,6)\n",
    "arr2 = np.arange(6,11)\n",
    "\n",
    "print(\"Array1:\",arr1,\"\\n\",\"Array2: \",arr2)\n",
    "\n",
    "#    - Concatenate these arrays into a single array.\n",
    "combined_arr = arr1 + arr2\n",
    "print(\"Combined Array --> Array Addition: \",combined_arr)\n",
    "\n",
    "# Concatenation\n",
    "concatenated = np.concatenate((arr1, arr2))\n",
    "print(\"Concatenation: \",concatenated)\n",
    "\n",
    "#    - Compare the elements of the two arrays to check which elements are greater in the second array compared to the first.\n",
    "print(\"Comparision: \",arr2 > arr1)"
   ]
  },
  {
   "cell_type": "code",
   "execution_count": 2,
   "metadata": {},
   "outputs": [
    {
     "name": "stdout",
     "output_type": "stream",
     "text": [
      "[[1. 0. 0. 0.]\n",
      " [0. 1. 0. 0.]\n",
      " [0. 0. 1. 0.]\n",
      " [0. 0. 0. 1.]]\n",
      "[[1 0 0 0]\n",
      " [0 2 0 0]\n",
      " [0 0 3 0]\n",
      " [0 0 0 4]]\n"
     ]
    }
   ],
   "source": [
    "# Creating identity and diagonal matrix\n",
    "\n",
    "import numpy as np\n",
    "\n",
    "eye_arr = np.eye(4)\n",
    "print(eye_arr)\n",
    "\n",
    "diag_arr = np.diag([1,2,3,4])\n",
    "print(diag_arr)"
   ]
  },
  {
   "cell_type": "markdown",
   "metadata": {},
   "source": [
    "\n",
    "### Practice Tasks\n",
    "\n",
    "Here are a few practice tasks based on Part 3 of the NumPy outline:\n",
    "\n",
    "1. **Element-wise operations:**\n",
    "   - Create two arrays: `[2, 4, 6, 8]` and `[1, 3, 5, 7]`.\n",
    "   - Perform element-wise addition, subtraction, multiplication, and division on these arrays.\n",
    "\n",
    "2. **Broadcasting:**\n",
    "   - Create a 1D array with values `[5, 10, 15]` and a 2D array `[[1], [2], [3]]`.\n",
    "   - Use broadcasting to add these arrays together.\n",
    "\n",
    "3. **Linear Algebra:**\n",
    "   - Create two 2D arrays: `[[1, 2], [3, 4]]` and `[[2, 0], [1, 3]]`.\n",
    "   - Compute their dot product.\n",
    "   - Compute the eigenvalues and eigenvectors of the first array.\n",
    "\n",
    "4. **Statistical Operations:**\n",
    "   - Create a 1D array with values from 1 to 20.\n",
    "   - Calculate the mean, median, and standard deviation of the array.\n",
    "   - Create another array with values `[20, 19, 18, ..., 1]` and compute the correlation and covariance between the two arrays.\n",
    "\n",
    "5. **Fancy Indexing:**\n",
    "   - Create a 1D array with values `[10, 20, 30, 40, 50]`.\n",
    "   - Use an array of indices `[0, 2, 4]` to access elements from the array.\n",
    "\n",
    "6. **Sorting and Searching:**\n",
    "   - Create an unsorted array `[9, 7, 5, 3, 1]`.\n",
    "   - Sort the array.\n",
    "   - Find the indices where the values are greater than 4.\n",
    "\n",
    "7. **Structured Arrays:**\n",
    "   - Create a structured array with fields 'Name', 'Age', and 'Score'.\n",
    "   - Add data for three individuals.\n",
    "   - Access and print the 'Name' field for each individual.\n",
    "\n",
    "8. **Array I/O:**\n",
    "   - Create a 1D array with values from 1 to 10.\n",
    "   - Save the array to a text file.\n",
    "   - Load the array from the text file and print it.\n"
   ]
  },
  {
   "cell_type": "code",
   "execution_count": 2,
   "metadata": {},
   "outputs": [
    {
     "name": "stdout",
     "output_type": "stream",
     "text": [
      "Addition:  [ 3  7 11 15]\n",
      "Subtraction:  [1 1 1 1]\n",
      "Multiplication:  [ 2 12 30 56]\n",
      "Division:  [2.         1.33333333 1.2        1.14285714]\n"
     ]
    }
   ],
   "source": [
    "# 1. **Element-wise operations:**\n",
    "#    - Create two arrays: `[2, 4, 6, 8]` and `[1, 3, 5, 7]`.\n",
    "#    - Perform element-wise addition, subtraction, multiplication, and division on these arrays.\n",
    "\n",
    "import numpy as np \n",
    "arr1 = np.arange(2,9,2)\n",
    "arr2 = np.arange(1,8,2)\n",
    "\n",
    "print(\"Addition: \", arr1 + arr2)\n",
    "print(\"Subtraction: \", arr1 - arr2)\n",
    "print(\"Multiplication: \", arr1 * arr2)\n",
    "print(\"Division: \",arr1 / arr2)"
   ]
  },
  {
   "cell_type": "code",
   "execution_count": null,
   "metadata": {},
   "outputs": [],
   "source": [
    "# 2. **Broadcasting:**\n",
    "#    - Create a 1D array with values `[5, 10, 15]` and a 2D array `[[1], [2], [3]]`.\n",
    "#    - Use broadcasting to add these arrays together.\n",
    "\n"
   ]
  },
  {
   "cell_type": "code",
   "execution_count": 3,
   "metadata": {},
   "outputs": [
    {
     "name": "stdout",
     "output_type": "stream",
     "text": [
      "Dot Product: \n",
      " [[ 4  6]\n",
      " [10 12]]\n",
      "Eigen Values: \n",
      " [-0.37228132  5.37228132]\n",
      "Eigen Values: \n",
      " [[-0.82456484 -0.41597356]\n",
      " [ 0.56576746 -0.90937671]]\n"
     ]
    }
   ],
   "source": [
    "# 3. **Linear Algebra:**\n",
    "#    - Create two 2D arrays: `[[1, 2], [3, 4]]` and `[[2, 0], [1, 3]]`.\n",
    "#    - Compute their dot product.\n",
    "#    - Compute the eigenvalues and eigenvectors of the first array.\n",
    "\n",
    "a2d = np.array([[1,2],[3,4]])\n",
    "b2d = np.array([[2,0],[1,3]])\n",
    "\n",
    "print(\"Dot Product: \\n\",np.dot(a2d,b2d))\n",
    "\n",
    "eigen_val, eigen_vec = np.linalg.eig(a2d)\n",
    "print(\"Eigen Values: \\n\",eigen_val)\n",
    "print(\"Eigen Values: \\n\",(eigen_vec))\n"
   ]
  },
  {
   "cell_type": "code",
   "execution_count": 27,
   "metadata": {},
   "outputs": [
    {
     "name": "stdout",
     "output_type": "stream",
     "text": [
      "a1d:  [ 1  2  3  4  5  6  7  8  9 10 11 12 13 14 15 16 17 18 19 20]\n",
      "a1d size:  20\n",
      "a1d type:  <class 'numpy.ndarray'>\n",
      "Mean:  10.5\n",
      "Median:  10.5\n",
      "Std:  5.766281297335398\n",
      "b1d:  [20 19 18 17 16 15 14 13 12 11 10  9  8  7  6  5  4  3  2  1]\n",
      "b1d size:  20\n",
      "b1d type:  <class 'numpy.ndarray'>\n",
      "Covariacne:  [[ 35. -35.]\n",
      " [-35.  35.]]\n",
      "Correlation:  [[ 1. -1.]\n",
      " [-1.  1.]]\n"
     ]
    }
   ],
   "source": [
    "# 4. **Statistical Operations:**\n",
    "#    - Create a 1D array with values from 1 to 20.\n",
    "#    - Calculate the mean, median, and standard deviation of the array.\n",
    "#    - Create another array with values `[20, 19, 18, ..., 1]` and compute the correlation and covariance between the two arrays.\n",
    "\n",
    "a1d = np.arange(1,21)\n",
    "\n",
    "print(\"a1d: \",a1d)\n",
    "print(\"a1d size: \",a1d.size)\n",
    "print(\"a1d type: \",type(a1d))\n",
    "print(\"Mean: \",a1d.mean())\n",
    "print(\"Median: \",np.median(a1d))\n",
    "print(\"Std: \",np.std(a1d))\n",
    "\n",
    "\n",
    "b1d = np.arange(20,0,-1)\n",
    "print(\"b1d: \",b1d)\n",
    "print(\"b1d size: \",b1d.size)\n",
    "print(\"b1d type: \",type(b1d))\n",
    "print(\"Covariacne: \", np.cov(a1d,b1d))\n",
    "print(\"Correlation: \", np.corrcoef(a1d,b1d))\n"
   ]
  },
  {
   "cell_type": "code",
   "execution_count": 30,
   "metadata": {},
   "outputs": [
    {
     "name": "stdout",
     "output_type": "stream",
     "text": [
      "Array:  [10 20 30 40 50]\n",
      "Array indexed:  [10 30 50]\n"
     ]
    }
   ],
   "source": [
    "# 5. **Fancy Indexing:**\n",
    "#    - Create a 1D array with values `[10, 20, 30, 40, 50]`.\n",
    "#    - Use an array of indices `[0, 2, 4]` to access elements from the array.\n",
    "\n",
    "arr_fancy = np.arange(10,51,10)\n",
    "indices = [0,2,4]\n",
    "print(\"Array: \",arr_fancy)\n",
    "print(\"Array indexed: \",arr_fancy[indices])"
   ]
  },
  {
   "cell_type": "code",
   "execution_count": 3,
   "metadata": {},
   "outputs": [
    {
     "name": "stdout",
     "output_type": "stream",
     "text": [
      "Array:  [9 7 5 3 1]\n",
      "Sorted array sorted():  [np.int64(1), np.int64(3), np.int64(5), np.int64(7), np.int64(9)]\n",
      "Sorted array np.sort():  [1 3 5 7 9] dtype:  int64\n"
     ]
    }
   ],
   "source": [
    "# 6. **Sorting and Searching:**\n",
    "#    - Create an unsorted array `[9, 7, 5, 3, 1]`.\n",
    "#    - Sort the array.\n",
    "#    - Find the indices where the values are greater than 4.\n",
    "\n",
    "import numpy as np\n",
    "\n",
    "arr_unsorted = np.arange(9,0,-2)\n",
    "print(\"Array: \",arr_unsorted)\n",
    "print(\"Sorted array sorted(): \",sorted(arr_unsorted))\n",
    "arr_sorted = np.sort(arr_unsorted)\n",
    "print(\"Sorted array np.sort(): \",arr_sorted, \"dtype: \",arr_sorted.dtype)"
   ]
  },
  {
   "cell_type": "code",
   "execution_count": null,
   "metadata": {},
   "outputs": [
    {
     "name": "stdout",
     "output_type": "stream",
     "text": [
      "Array1:  [['Sagar' '20' '92']\n",
      " ['John' '21' '93']\n",
      " ['Alice' '22' '94']]\n",
      "Array type:  <U21\n",
      "\n",
      "Array2:  [('Sagar', 20, 92) ('John', 21, 93) ('Alice', 22, 94)]\n",
      "Array type:  [('Name', '<U10'), ('Age', '<i4'), ('Score', '<i4')]\n"
     ]
    }
   ],
   "source": [
    "# 7. **Structured Arrays:**\n",
    "#    - Create a structured array with fields 'Name', 'Age', and 'Score'.\n",
    "#    - Add data for three individuals.\n",
    "#    - Access and print the 'Name' field for each individual.\n",
    " \n",
    "\"\"\"\n",
    "Structured arrays allow you to define arrays with named fields.\n",
    "\"\"\"\n",
    "# Example: Structured array\n",
    "# structured_array = np.array( [(1, 'Alice', 25), (2, 'Bob', 30)], dtype=[('ID', 'i4'), ('Name', 'U10'), ('Age', 'i4')])\n",
    "# print(\"Structured array:\\n\", structured_array)\n",
    "# print(\"Names:\", structured_array['Name'])\n",
    "\n",
    "array1_structured = np.array([(\"Sagar\",20,92),(\"John\",21,93),(\"Alice\",22,94)])\n",
    "print(\"Array1: \",array1_structured)\n",
    "print(\"Array type: \",array1_structured.dtype)\n",
    "print()\n",
    "\n",
    "array2_structured = np.array([(\"Sagar\",20,92),(\"John\",21,93),(\"Alice\",22,94)], dtype=[('Name','U10'),('Age','i4'),('Score','i4')])\n",
    "print(\"Array2: \",array2_structured)\n",
    "print(\"Array type: \",array2_structured.dtype)\n",
    "\n"
   ]
  },
  {
   "cell_type": "code",
   "execution_count": 4,
   "metadata": {},
   "outputs": [
    {
     "name": "stdout",
     "output_type": "stream",
     "text": [
      "[ 1  2  3  4  5  6  7  8  9 10]\n",
      "[ 1.  2.  3.  4.  5.  6.  7.  8.  9. 10.]\n"
     ]
    }
   ],
   "source": [
    "\n",
    "# 8. **Array I/O:**\n",
    "#    - Create a 1D array with values from 1 to 10.\n",
    "#    - Save the array to a text file.\n",
    "#    - Load the array from the text file and print it.\n",
    "\n",
    "arr_save = np.arange(1,11)\n",
    "print(arr_save)\n",
    "np.savetxt(\"numpy_data.txt\",arr_save)\n",
    "\n",
    "arr_load = np.loadtxt(\"numpy_data.txt\")\n",
    "print(arr_load)"
   ]
  },
  {
   "cell_type": "markdown",
   "metadata": {
    "id": "gwIkwAjUST_3"
   },
   "source": [
    "\n",
    "### Practice Questions\n",
    "\n",
    "#### 1. Fancy Indexing\n",
    "1. **Given the array `np.array([5, 10, 15, 20, 25])`, use fancy indexing to extract elements at indices `[0, 2, 4]`.**\n",
    "2. **Modify the array `np.array([100, 200, 300, 400, 500])` by setting the elements at indices `[1, 3]` to `[150, 350]`.**\n",
    "\n",
    "#### 2. Structured and Record Arrays\n",
    "3. **Create a structured array with fields `'ID'` (integer), `'Name'` (string), and `'Score'` (float). Populate it with three records and print the array.**\n",
    "4. **Convert the structured array created in the previous question into a record array and access the `'Name'` field using dot notation.**\n",
    "\n",
    "#### 3. Performance Optimization\n",
    "5. **Create a NumPy array of size `1,000,000` filled with random integers between `1` and `100`. Compute the sum of the array using both a regular loop and `numba`-optimized function. Compare the performance.**\n",
    "6. **Use NumPy’s `np.dot` function to compute the dot product of two arrays of size `1,000,000`. Explain how this operation is optimized for performance.**\n",
    "\n",
    "#### 4. Integration with Other Libraries\n",
    "7. **Create a Pandas DataFrame with two columns: `'A'` (integers) and `'B'` (floats). Initialize it with some values and convert the DataFrame to a NumPy array.**\n",
    "8. **Generate a NumPy array of size `1,000` with normally distributed random numbers. Use SciPy to fit a normal distribution to the data and print the mean and standard deviation.**\n",
    "9. **Create a simple plot using Matplotlib with a NumPy array representing `x` values from `0` to `10` and `y` values as the sine of `x`. Include labels and a grid.**\n",
    "\n",
    "#### 5. Handling Missing Data\n",
    "10. **Create a NumPy array with some `NaN` values. Use NumPy functions to compute the mean of the array, ignoring `NaN` values.**\n",
    "11. **Generate a masked array with some invalid data points (e.g., `-999`) and compute the mean of the valid entries.**\n",
    "\n",
    "#### 6. Input/Output Operations\n",
    "12. **Save a NumPy array to a text file and then load it back. Ensure that the saved and loaded arrays match.**\n",
    "13. **Create a NumPy array and save it in binary format. Load the array from the binary file and verify its content.**\n",
    "\n"
   ]
  },
  {
   "cell_type": "code",
   "execution_count": 51,
   "metadata": {},
   "outputs": [
    {
     "name": "stdout",
     "output_type": "stream",
     "text": [
      "Array:  [ 5 10 15 20 25]\n",
      "Array Indexed:  [ 5 15 25]\n",
      "Array:  [100 200 300 400 500]\n",
      "Arrayed Indexed:  [200 400]\n",
      "Array:  [100 150 300 350 500]\n",
      "Arrayed Indexed:  [150 350]\n"
     ]
    }
   ],
   "source": [
    "#### 1. Fancy Indexing\n",
    "# 1. **Given the array `np.array([5, 10, 15, 20, 25])`, use fancy indexing to extract elements at indices `[0, 2, 4]`.**\n",
    "# 2. **Modify the array `np.array([100, 200, 300, 400, 500])` by setting the elements at indices `[1, 3]` to `[150, 350]`.**\n",
    "\n",
    "arr3 = np.arange(5,26,5)\n",
    "print(\"Array: \",arr3)\n",
    "print(\"Array Indexed: \",arr3[[0,2,4]])\n",
    "\n",
    "arr3 = np.arange(100,501,100)\n",
    "print(\"Array: \",arr3)\n",
    "print(\"Arrayed Indexed: \",arr3[[1,3]])\n",
    "arr3[[1,3]] = [150,350]\n",
    "print(\"Array: \",arr3)\n",
    "print(\"Arrayed Indexed: \",arr3[[1,3]])\n"
   ]
  },
  {
   "cell_type": "code",
   "execution_count": 65,
   "metadata": {},
   "outputs": [
    {
     "name": "stdout",
     "output_type": "stream",
     "text": [
      "[(1, 'Alice', 85.5) (2, 'Bob', 92.3) (3, 'Charlie', 78.9)]\n",
      "Record array:\n",
      " [(1, 'Alice', 85.5) (2, 'Bob', 92.3) (3, 'Charlie', 78.9)]\n",
      "Names: ['Alice' 'Bob' 'Charlie']\n",
      "[1 2 3]\n",
      "['Alice' 'Bob' 'Charlie']\n",
      "[85.5 92.3 78.9]\n"
     ]
    }
   ],
   "source": [
    "\n",
    "#### 2. Structured and Record Arrays\n",
    "# 3. **Create a structured array with fields `'ID'` (integer), `'Name'` (string), and `'Score'` (float). \n",
    "# Populate it with three records and print the array.**\n",
    "import numpy as np\n",
    "\n",
    "# Define the structured array with the specified fields\n",
    "dtype = [('ID', 'i4'), ('Name', 'U10'), ('Score', 'f4')]\n",
    "\n",
    "# Create and populate the array with 3 records\n",
    "structured_array = np.array([(1, 'Alice', 85.5), (2, 'Bob', 92.3), (3, 'Charlie', 78.9)], dtype=dtype)\n",
    "\n",
    "# Print the array\n",
    "print(structured_array)\n",
    "\n",
    "\n",
    "# # 4. Convert the structured array created in the previous question into a record array and access the `'Name'` field using dot notation.\n",
    "record_array = np._core.records.fromarrays(\n",
    "    [structured_array['ID'], structured_array['Name'], structured_array['Score']],\n",
    "    names='ID,Name,Age'\n",
    ")\n",
    "print(\"Record array:\\n\", record_array)\n",
    "print(\"Names:\", record_array.Name)\n",
    "\n",
    "\n",
    "record_array = np.rec.array(structured_array)\n",
    "print(record_array.ID)\n",
    "print(record_array.Name)\n",
    "print(record_array.Score)\n",
    "\n"
   ]
  },
  {
   "cell_type": "code",
   "execution_count": 89,
   "metadata": {},
   "outputs": [
    {
     "name": "stdout",
     "output_type": "stream",
     "text": [
      "Shape: (1, 101, 1000000) Size: 101000000 dim: 3 type: float64\n",
      "Shape: (1000000,) Size: 1000000 dim: 1 type: int32\n"
     ]
    }
   ],
   "source": [
    "# Random Experimentation\n",
    "\n",
    "arr_rand = np.random.rand(1,101,1000000)\n",
    "print(\"Shape:\",arr_rand.shape,\"Size:\", arr_rand.size,\"dim:\", arr_rand.ndim,\"type:\",arr_rand.dtype)\n",
    "\n",
    "arr_rand_int = np.random.randint(1,101,size=1000000)\n",
    "print(\"Shape:\",arr_rand_int.shape,\"Size:\", arr_rand_int.size,\"dim:\", arr_rand_int.ndim,\"type:\",arr_rand_int.dtype)"
   ]
  },
  {
   "cell_type": "code",
   "execution_count": null,
   "metadata": {},
   "outputs": [],
   "source": [
    "#### 3. Performance Optimization\n",
    "# 5. **Create a NumPy array of size `1,000,000` filled with random integers between `1` and `100`. Compute the sum of the array using both a regular loop and `numba`-optimized function. Compare the performance.**\n",
    "\n",
    "# ImportError: Numba needs NumPy 2.1 or less. Got NumPy 2.2.\n",
    "# Try creating virtual environment and numpu < 2.2\n"
   ]
  },
  {
   "cell_type": "code",
   "execution_count": 1,
   "metadata": {},
   "outputs": [
    {
     "name": "stdout",
     "output_type": "stream",
     "text": [
      "Dot product: 249635.66338\n",
      "Time taken: 0.000642 sec\n"
     ]
    }
   ],
   "source": [
    "# 6. **Use NumPy’s `np.dot` function to compute the dot product of two arrays of size `1,000,000`. Explain how this operation is optimized for performance.**\n",
    "\n",
    "\n",
    "import numpy as np\n",
    "import time\n",
    "\n",
    "# Create two large random arrays of size 1,000,000\n",
    "array1 = np.random.rand(1_000_000)\n",
    "array2 = np.random.rand(1_000_000)\n",
    "\n",
    "# Compute the dot product using np.dot()\n",
    "start = time.time()\n",
    "dot_product = np.dot(array1, array2)\n",
    "dot_time = time.time() - start\n",
    "\n",
    "print(f\"Dot product: {dot_product:.5f}\")\n",
    "print(f\"Time taken: {dot_time:.6f} sec\")\n"
   ]
  },
  {
   "cell_type": "code",
   "execution_count": null,
   "metadata": {},
   "outputs": [
    {
     "name": "stdout",
     "output_type": "stream",
     "text": [
      "[[0. 0.]\n",
      " [1. 1.]\n",
      " [2. 2.]\n",
      " [3. 3.]\n",
      " [4. 4.]]\n",
      "<class 'numpy.ndarray'>\n",
      "[[0. 0.]\n",
      " [1. 1.]\n",
      " [2. 2.]\n",
      " [3. 3.]\n",
      " [4. 4.]]\n"
     ]
    }
   ],
   "source": [
    "\n",
    "#### 4. Integration with Other Libraries\n",
    "# 7. **Create a Pandas DataFrame with two columns: `'A'` (integers) and `'B'` (floats). Initialize it with some values and convert the DataFrame to a NumPy array.**\n",
    "import pandas as pd\n",
    "\n",
    "df = pd.DataFrame({\"A\": np.arange(5), \"B\":np.arange(5.0)})\n",
    "df_arr = df.values \n",
    "print(df_arr)\n",
    "print(type(df_arr))\n",
    "\n",
    "\n",
    "df_arr_method = df.to_numpy()\n",
    "print(df_arr_method)\n",
    "\n",
    "# 9. **Create a simple plot using Matplotlib with a NumPy array representing `x` values from `0` to `10` and `y` values as the sine of `x`. Include labels and a grid.**\n",
    "\n"
   ]
  },
  {
   "cell_type": "code",
   "execution_count": 3,
   "metadata": {},
   "outputs": [
    {
     "name": "stdout",
     "output_type": "stream",
     "text": [
      "[ 6.29085209e-01  1.33460358e+00  3.82421364e-01 -4.53565359e-01\n",
      " -1.19315759e+00  5.58186668e-01  1.18099813e+00 -4.98540068e-01\n",
      " -3.18736117e-01  1.34879290e+00  7.98330650e-01  4.78268437e-03\n",
      " -8.97171402e-01  2.47105421e+00 -3.00160920e-01  5.17996959e-01\n",
      " -6.96289576e-01 -4.52776577e-01 -1.21185576e+00 -2.23917197e+00\n",
      "  7.05324702e-01  1.85888176e+00  6.93917942e-01 -6.38471964e-01\n",
      " -5.44480788e-01 -1.12425899e+00 -2.78444781e-02  1.83503231e+00\n",
      "  1.03462110e+00 -2.18543832e+00  3.22044266e-01 -2.89221063e-01\n",
      "  2.90839875e-01  5.75848040e-01  8.50826741e-01  1.54144292e+00\n",
      "  3.38343640e-01 -2.36413220e-01  1.62145425e+00 -2.59931915e-01\n",
      " -2.27409056e-01 -3.90884238e-01  7.10961184e-01 -1.79556999e+00\n",
      "  9.78374593e-01 -4.55904335e-01 -1.09894714e+00 -5.14144787e-01\n",
      "  5.35660985e-01 -4.10795826e-01 -2.09963318e-01  5.29012925e-02\n",
      " -6.22392009e-02 -2.11074276e-01  8.10470585e-01 -2.45783082e-01\n",
      "  1.26766141e-01  1.31569491e+00  1.31934895e+00  7.51730730e-03\n",
      " -2.45345143e-01  6.73797180e-01  2.08430537e-01  3.03251607e-01\n",
      "  2.67562298e-01  2.32198152e+00  8.43658170e-01  6.98741881e-01\n",
      " -8.54640604e-01 -1.08952512e+00  2.50179031e-01 -1.31929872e+00\n",
      "  4.35820759e-01  8.04155592e-01  7.83070676e-01 -3.71253855e-02\n",
      " -1.73462833e-01  1.01534070e+00 -1.68381512e+00 -1.36126322e-02\n",
      " -1.31944386e-01 -7.00485070e-01 -1.54299072e-01 -4.06531030e-01\n",
      " -1.79756036e+00 -7.97973157e-01 -1.28364680e+00  1.39791093e+00\n",
      "  1.15880552e+00 -2.28827270e+00  8.64605578e-01 -1.36463002e+00\n",
      "  7.27871192e-01  4.35220537e-01 -2.11044948e+00  2.08385167e+00\n",
      " -1.73856891e-01 -4.39991032e-01 -1.60171030e-01  1.03478554e+00\n",
      " -4.07500522e-01  6.53409403e-01  8.37022120e-02 -1.45833765e+00\n",
      " -5.82893673e-01  8.76136500e-02 -5.29552585e-01  2.31846839e+00\n",
      "  1.53273269e+00  3.75305859e-01  7.87337962e-01  1.54369752e+00\n",
      "  2.02438717e-01  9.05786731e-01 -2.69007062e-01 -2.30976322e-01\n",
      " -2.55480067e-01 -1.95452231e+00 -5.46859881e-01 -1.54273074e+00\n",
      "  5.18540825e-01 -1.40206490e+00 -6.99832052e-01 -1.48608283e+00\n",
      "  9.38888618e-01  6.02246762e-02 -1.67530608e+00 -1.15746686e+00\n",
      "  3.85081708e-01  6.01330344e-01  7.77186111e-01  5.69214286e-01\n",
      " -1.20470206e+00  5.65265424e-01 -5.67756194e-01  2.93437394e-01\n",
      " -1.68947986e+00 -9.15447812e-01  7.92800045e-01 -1.40827539e+00\n",
      " -1.36214541e+00 -8.61897030e-01 -8.47880619e-01  2.73503942e-01\n",
      " -1.67510158e-02 -1.31731089e+00  4.43159361e-01  2.14679453e+00\n",
      " -2.12504078e+00  4.62693001e-01  8.43721871e-02  6.17145445e-02\n",
      " -2.01000305e-01 -9.74486435e-01 -7.46629512e-01  4.22853571e-01\n",
      " -1.40390953e+00 -2.97008496e+00  6.29943718e-01  9.06480919e-02\n",
      "  1.96605137e+00  1.28889693e+00 -7.10666554e-01  3.82543274e-01\n",
      "  1.67307701e+00 -1.31905075e-01 -2.23764947e-02 -5.46822847e-01\n",
      "  5.22318200e-01 -1.22239974e+00  7.50295398e-01  6.42233146e-01\n",
      "  4.15165106e-01  7.97677834e-01 -6.22660942e-01 -4.25410437e-01\n",
      "  1.49097353e+00 -1.00902322e+00 -2.34288557e+00  1.57795853e+00\n",
      "  5.64597764e-01 -1.63939622e-01  7.23249801e-01  4.67455542e-01\n",
      " -6.78142330e-01 -1.00209198e+00  2.00457887e-01  3.68069394e-01\n",
      " -4.04969030e-01 -3.35963093e+00 -1.67118012e+00  1.66746006e+00\n",
      " -1.91438704e+00  4.89286901e-01 -1.11342386e+00 -1.37438961e+00\n",
      "  1.81105539e-01 -1.07384718e+00 -1.74469394e-01  9.05748900e-02\n",
      "  2.86544085e-01  1.00041788e+00 -4.75160490e-01  7.36257368e-01\n",
      " -7.21386259e-01  2.55595004e-01 -1.11595261e+00  3.99899286e-01\n",
      " -3.97597210e-01  6.79644867e-01  6.88124677e-01 -9.20261759e-01\n",
      " -4.74228872e-01  2.24148487e-01 -6.37564823e-01  6.28349880e-01\n",
      "  1.38994497e+00 -4.47575289e-01  1.74518489e+00 -5.47615670e-01\n",
      "  1.12173592e+00 -3.27131525e-01 -7.14063580e-01 -9.79158815e-01\n",
      " -4.73950091e-01 -6.72064667e-01 -8.88585448e-01  1.59014235e+00\n",
      "  6.36517488e-01 -7.94386237e-01  1.56550875e+00 -1.43489535e+00\n",
      " -4.96926352e-01  3.15364332e-01  1.42615048e+00  1.62046705e-01\n",
      "  9.66648783e-02  2.76013424e-01 -6.06283618e-01 -5.99656065e-01\n",
      "  5.93183706e-01 -9.03391736e-01  3.99840187e-01  6.39267312e-01\n",
      " -1.09185829e+00 -1.49974726e+00  3.06625568e-01  6.94713357e-01\n",
      " -1.14047751e+00  6.29034206e-01 -1.64104167e+00  4.90661120e-01\n",
      "  6.52693980e-01  2.29222486e-01 -4.74682213e-02 -6.15111534e-01\n",
      "  5.96096314e-01  1.26748164e+00 -6.06989685e-02  1.28167717e+00\n",
      " -1.77226501e-01  4.61153720e-01 -4.85856824e-01  7.27737091e-01\n",
      "  1.22028376e+00  9.62412487e-01 -8.35354439e-01 -4.38072605e-02\n",
      " -1.05926422e+00  3.34464721e-02 -8.21865098e-01  1.44457944e-02\n",
      "  3.82660055e-01 -3.42033835e-01  1.46578768e-01  9.54514571e-01\n",
      " -8.70135240e-01  1.32823612e+00 -1.04190420e+00  2.42147447e-01\n",
      "  1.55276700e+00 -1.63185395e+00 -1.08778250e+00 -1.08036250e+00\n",
      " -1.15140776e+00 -5.89910642e-01 -8.66145706e-01  8.11002125e-01\n",
      " -1.46615635e+00 -8.34165748e-01 -1.73298834e-01 -1.04243965e+00\n",
      "  3.52701080e-01 -6.58696643e-01  7.14437791e-01  1.69279651e-01\n",
      " -6.50216118e-01  2.73184748e-01 -1.78708992e-01 -1.56294239e+00\n",
      "  3.18747239e-01 -5.02718438e-01 -3.46623696e-01 -1.44393993e-01\n",
      "  1.46515571e+00  2.33665810e+00  8.63011194e-01  2.02020667e+00\n",
      " -1.00806102e+00 -1.87519147e+00  2.11507042e-01 -7.76797997e-02\n",
      "  1.57474491e+00  4.19446932e-01 -3.59605305e-01  1.48333326e+00\n",
      "  5.36395402e-01  3.08247459e-01  6.86564379e-01  8.11455926e-02\n",
      "  1.22574184e-02 -5.28447857e-01  4.46868978e-01 -3.02677642e-01\n",
      " -1.38273524e-01 -3.94770906e-01  2.49506650e-01 -7.20653340e-01\n",
      " -1.68992442e-01  1.74837219e+00 -8.65443714e-01 -4.93254596e-02\n",
      " -7.83826135e-01 -4.54760876e-02  8.25785846e-01 -4.97324571e-01\n",
      "  1.41849659e+00 -1.68552698e+00  7.01949346e-01  6.94302169e-01\n",
      "  4.13677456e-02 -1.82495083e-01 -1.76259838e+00  1.64011775e+00\n",
      " -1.09096836e+00  1.21345087e+00 -1.11622534e+00  1.10134020e+00\n",
      "  1.82628637e-01  7.10788246e-02  7.32474278e-01 -1.12168761e+00\n",
      "  2.18650664e+00 -4.89712897e-01  4.39337556e-01 -5.15187002e-01\n",
      "  1.91935735e+00  2.14615980e+00 -2.75639638e-02 -2.49024601e-01\n",
      " -6.11956607e-01  1.47565268e+00  7.63622519e-01 -8.69870224e-01\n",
      "  2.39454918e+00  1.36332280e+00  9.15403708e-01  1.25225648e+00\n",
      "  5.73898098e-01  2.28476643e-02 -5.43288031e-01  5.32414763e-01\n",
      " -2.07368024e-01  1.43668130e+00 -8.32938906e-01  4.53491500e-01\n",
      " -2.73717352e-01 -5.23383985e-02  2.27317859e-01 -1.22426612e-01\n",
      "  1.60238898e+00 -3.18245734e-02  8.33118070e-01 -1.27613743e+00\n",
      "  6.30889751e-01  3.59981244e-01 -9.81294451e-01 -1.41425939e+00\n",
      " -9.08203212e-01  5.29786007e-02  5.86445387e-01  2.93167134e-01\n",
      "  6.22066045e-01  1.94184804e-01  7.02579141e-01  1.93628260e+00\n",
      "  2.86121775e-01  6.77996491e-02 -3.41422034e+00  2.92194680e-01\n",
      "  9.82691383e-02  2.98638611e-01 -2.06592352e+00  1.13968463e+00\n",
      " -2.43071690e-02  2.02898850e+00 -1.33360904e+00 -1.34364426e+00\n",
      "  5.82001399e-01  1.33118036e+00 -3.66967860e-01 -8.07765370e-01\n",
      "  4.81019251e-01  1.08764874e+00 -4.67530281e-01  2.21283618e+00\n",
      " -2.25903271e+00 -1.38564088e+00 -1.46589681e+00 -9.75535182e-01\n",
      "  1.09394904e+00  2.17135695e+00  1.29286258e+00  7.89218304e-01\n",
      "  2.19548933e-01 -5.19722730e-01  5.86774692e-01  1.73793833e-01\n",
      " -4.16799110e-01  1.79669662e+00 -1.73308095e-01 -6.31883583e-01\n",
      " -7.92028509e-01  6.75783172e-01  8.91770084e-02 -2.11859706e-01\n",
      " -6.15572489e-01  3.81952052e-01  1.48354900e+00  9.92715177e-01\n",
      "  3.58476376e-01 -6.21459058e-01 -1.80560584e+00  1.31196884e+00\n",
      "  4.91969406e-01 -7.47428012e-01 -8.90801553e-01  9.40320219e-01\n",
      " -2.03603261e-01  2.08827238e-01 -3.70998915e-01 -5.54299609e-01\n",
      "  1.59159533e+00  1.51463025e+00 -4.19843897e-01 -1.12522757e+00\n",
      " -1.17547822e+00 -4.91007834e-01 -7.55997174e-01 -9.39289043e-02\n",
      "  3.40607145e-01  1.24505573e+00 -4.57778637e-01  6.30038159e-01\n",
      " -9.00279727e-01 -7.30254728e-01 -1.46136287e+00 -1.10420186e+00\n",
      " -9.56591754e-01  5.10031154e-01 -6.67664432e-01 -4.24802545e-01\n",
      " -1.47157344e+00  4.00269475e-01  9.27917414e-01 -2.07930579e-02\n",
      "  2.10737950e-01 -9.56052975e-01  7.62700650e-01 -2.24825963e-01\n",
      " -4.34548950e-01 -6.36638986e-01  1.81449662e-01  1.43953666e+00\n",
      " -6.28548170e-01 -3.81876498e-01  6.44007175e-01 -5.11721866e-01\n",
      " -6.37271908e-01 -2.00323500e+00 -1.00849763e+00 -1.47400438e-01\n",
      " -4.17734751e-01  7.52666794e-02 -9.51424619e-01 -8.85925315e-01\n",
      " -2.89734941e-01 -2.42282993e-01 -8.07327350e-02  1.82031895e-02\n",
      "  4.75257455e-01  1.10705435e+00  1.43261696e+00 -2.17985123e+00\n",
      "  2.51397916e-01 -8.46788117e-02 -2.31041384e-01 -1.56316195e+00\n",
      " -1.26802015e+00 -2.95859086e-01 -1.68309455e+00 -9.94797940e-01\n",
      " -5.73778602e-01 -3.05361899e-01  1.04921113e+00 -1.04970356e+00\n",
      " -7.16766893e-02 -2.95656772e-01  6.22343069e-01  4.70367554e-01\n",
      " -1.26033838e+00  5.60105801e-01  8.74534410e-02 -6.46648454e-01\n",
      " -1.50548377e+00 -9.53961575e-01 -2.83868635e-01 -5.24738789e-01\n",
      "  1.70541612e-02 -1.42203269e-01  5.47267009e-01 -1.01999542e+00\n",
      " -1.17911825e-01 -3.37106660e-01 -6.61200551e-01  3.62368568e-01\n",
      "  1.04775738e+00 -4.55173859e-03  8.18977749e-01 -9.12847754e-01\n",
      " -1.25233663e+00  1.11593539e+00 -3.30835550e-01 -1.30896597e+00\n",
      "  6.79129410e-01  6.56789606e-01 -1.02923870e+00  7.62370541e-01\n",
      " -4.84034967e-01  1.23634656e-01  2.15870677e-01  1.06015904e+00\n",
      " -6.67260707e-01  4.17751893e-01  6.05994839e-01  2.11599881e+00\n",
      "  4.40087621e-01 -4.72508051e-01 -8.44424356e-01 -2.65022963e-01\n",
      " -1.20427014e-01 -1.00977309e+00  4.15413887e-02  2.46684336e-01\n",
      "  4.68970111e-01  8.03506230e-01  1.18662966e+00 -3.74786758e-01\n",
      "  1.27946489e+00  8.57415568e-01  1.85987171e+00  1.10813170e-02\n",
      " -9.37108382e-02 -1.52727387e+00  3.96079184e-01  2.71194632e-01\n",
      "  6.19855220e-01 -1.71269573e+00 -3.13407000e-01 -1.36232862e+00\n",
      "  3.85944406e-01  9.37008723e-01 -8.40808356e-01 -2.34031500e-01\n",
      " -1.04647558e+00  1.28747931e+00  1.10852069e-01  1.13766784e+00\n",
      " -2.04263046e+00  3.39217408e-01 -1.14859891e+00 -5.91421440e-01\n",
      "  6.62631016e-01  9.50555399e-01  1.39274674e+00  1.77356578e+00\n",
      " -1.73057712e+00  1.32190201e+00  1.72855473e+00  9.10698880e-01\n",
      " -1.36630738e+00 -2.17093566e+00  8.66044442e-01 -1.18181817e-01\n",
      "  1.49166871e+00 -1.29430399e+00  7.78654084e-01  1.00786633e+00\n",
      "  6.02490552e-02 -7.38115375e-01  3.87428419e-02 -3.61898286e-01\n",
      " -5.83527163e-01  1.86460744e-01 -6.49560377e-01 -1.77341439e+00\n",
      "  1.04043143e+00 -5.89414603e-01 -4.49805798e-01  7.84474760e-01\n",
      "  1.03563094e+00  1.02886754e+00 -8.77472572e-01 -8.04057186e-01\n",
      "  2.57906810e+00  6.86046004e-01 -5.67913360e-01 -1.13681315e-01\n",
      "  1.58290538e+00  4.26748464e-01 -1.00901784e+00  2.87687717e-01\n",
      "  1.31728277e+00 -2.94552778e-01 -1.30546373e+00  1.87549093e-02\n",
      "  8.37185005e-01  1.31743762e+00 -4.89163761e-01 -7.43744676e-01\n",
      " -1.93443726e-01  7.59382444e-02  6.21505672e-01  7.78565571e-01\n",
      "  4.50829588e-01  6.11872906e-01 -9.36942830e-01 -1.18914725e+00\n",
      " -5.14919255e-01 -7.03653018e-01  1.41235675e-01  9.34251626e-01\n",
      "  1.54071475e+00  3.16911212e-02  5.60541996e-01 -5.84616361e-02\n",
      "  7.00263811e-01 -1.23930503e+00 -1.76083158e+00  1.99049294e+00\n",
      "  1.29910190e-01  2.68089274e-01  5.85542368e-01 -9.64253424e-03\n",
      " -1.98532751e-01  2.98791636e+00 -6.31634282e-01 -7.21849532e-01\n",
      "  6.67214706e-01  4.14389827e-01  6.39717736e-01  2.33272253e+00\n",
      "  2.24933758e-01  1.18001465e+00  5.85657931e-01 -7.23653355e-01\n",
      "  2.91015084e+00  1.23834830e-01  8.37143165e-01  1.35776227e+00\n",
      "  1.60315604e-01 -1.26522152e+00 -2.06110973e-02  3.14319907e-01\n",
      "  4.33216822e-01  7.51803675e-01  1.44079227e+00  8.49089705e-01\n",
      " -2.89153296e-01  8.78555967e-01  5.73133173e-01  1.21481098e+00\n",
      " -7.28895579e-01  9.16968277e-01  1.77570713e+00  3.26395768e-01\n",
      "  1.59557359e-01  8.83222534e-01 -8.29705725e-01 -9.42199044e-02\n",
      " -8.27456582e-01  4.60309903e-01 -6.96160734e-01 -6.37254389e-01\n",
      " -5.29600206e-01  1.78546702e-01 -8.93584229e-01 -1.02526585e+00\n",
      " -1.20200842e-01 -2.14410395e+00 -1.37396927e+00 -6.48343105e-02\n",
      "  6.08526064e-01 -2.63956032e-01  1.55637212e+00  1.56071670e+00\n",
      " -3.94471989e-01 -2.31801850e-01  7.06462047e-01 -1.17561142e-01\n",
      " -6.59601316e-02 -1.50320460e+00 -4.33886860e-01 -1.25559307e+00\n",
      "  3.94854058e-01  8.94625347e-02 -1.54616999e+00  1.21983415e-01\n",
      "  1.51552585e-01  8.00566397e-02  1.33423244e+00  8.25025989e-01\n",
      "  1.61957109e+00  2.84426319e-01  1.65180792e-01 -4.48594232e-01\n",
      " -9.38159715e-01 -6.23706140e-01 -1.65251984e-01  9.75368067e-01\n",
      " -5.37018474e-01  6.48240393e-01 -3.09516357e-02 -1.76833989e-02\n",
      "  4.13102965e-01  1.47867678e+00 -5.61884817e-01  7.45774832e-01\n",
      "  6.32283508e-01  5.04089229e-01  2.43779110e-01 -2.62013240e-02\n",
      "  4.38341053e-01 -2.08725463e+00  5.78866812e-01 -9.07677474e-01\n",
      "  3.76858985e-01  9.39226204e-01 -8.60554268e-02 -7.66633399e-01\n",
      "  2.74686427e+00 -1.57278240e+00  2.40321831e+00  9.70068008e-01\n",
      " -1.26473139e+00 -1.42092508e+00 -1.10992303e+00 -8.19165570e-01\n",
      "  1.28937947e+00  1.20998985e+00 -2.58269530e-01 -4.24772554e-01\n",
      "  6.90648251e-01  1.77823815e+00 -1.09717593e+00 -6.92242440e-01\n",
      " -1.05793868e+00  6.99190568e-01  8.88579269e-02  5.56906404e-01\n",
      " -1.16427806e+00  2.87371127e-01  1.88758658e-01  4.39427728e-01\n",
      "  6.41845810e-01 -7.94296583e-01 -9.14349250e-01  1.22740035e+00\n",
      "  1.03595173e+00  1.44790490e+00  3.20940721e+00  2.09464723e-02\n",
      "  2.03127207e-02 -1.66352595e+00 -6.76470675e-01  1.12514514e+00\n",
      " -2.77689223e-01  5.61125908e-01 -1.54752414e-01  3.30965341e-01\n",
      " -3.47252338e-02 -7.63557556e-01 -4.75486054e-01  6.61332192e-01\n",
      "  1.45930439e+00  2.15172428e-01  4.18374682e-01 -4.86524742e-01\n",
      "  3.90607228e-01  6.75159159e-01 -8.38804074e-01  3.79356463e-01\n",
      "  4.94463061e-01 -1.10027010e+00 -7.86446409e-01  8.90664293e-02\n",
      " -1.89794385e-01 -6.29022460e-01 -8.02399959e-02 -4.15874047e-01\n",
      " -6.30647449e-01  3.94162345e-01  7.74571138e-02 -6.73690857e-01\n",
      "  3.00767555e-01 -8.22117343e-01  8.15899527e-02 -4.17940092e-01\n",
      "  1.09488216e+00  5.34733308e-01  8.24793862e-01 -6.18493004e-01\n",
      " -2.31283321e+00 -1.56194420e+00 -3.77194847e-01 -9.12533956e-02\n",
      " -3.53993482e-01  4.51317859e-01 -3.57727008e-01  2.14502637e+00\n",
      "  7.07694970e-01 -1.53979372e+00  2.86251706e-01  6.52589783e-01\n",
      "  9.42323776e-01  5.47463833e-01 -1.70096938e+00 -5.76361249e-01\n",
      " -4.60040336e-01 -5.67940334e-01  1.18106805e+00  7.62939477e-02\n",
      "  1.43992515e+00 -9.51021550e-01 -1.38869571e+00  1.63265213e+00\n",
      "  4.23966710e-01 -7.15568912e-01 -3.12283846e-01  1.04856109e+00\n",
      "  3.46825169e+00  3.44640352e-01  2.45829129e-01  4.87909419e-01\n",
      " -1.86624634e-01  1.61182705e-01 -1.37519905e+00 -2.21810564e-01\n",
      " -4.36803493e-01  1.42780152e+00 -1.38287554e+00 -9.36930936e-01\n",
      " -1.33258118e+00  3.47019478e-01 -1.95793208e-01 -1.44308141e-01\n",
      " -3.77005608e-01  7.68781949e-01  1.53247931e+00  2.30111439e-01\n",
      "  5.59037427e-01  7.79528124e-01  1.43743755e+00 -3.03865030e-01\n",
      " -2.41482664e-01 -5.10712752e-01 -1.37114304e+00  2.02199733e+00\n",
      "  7.10427885e-01  5.44148362e-01 -4.07692742e-01  5.96199118e-01\n",
      "  7.68457041e-01 -1.64218510e+00  1.90306318e+00  3.52074205e-01\n",
      "  9.35910694e-01 -1.05001832e+00 -1.50932017e+00 -2.18946676e+00\n",
      "  1.58051368e+00  4.34693387e-01  3.17254280e-01 -1.65598207e+00\n",
      " -2.80163141e-01 -1.02080090e+00 -6.22762278e-01  1.45780336e+00\n",
      " -8.67598117e-01  1.37860502e+00  4.07572345e-01  1.30173100e+00\n",
      " -3.24512998e-01 -1.76196284e+00  2.14099211e-01  1.85831880e+00\n",
      "  1.24216107e-02  2.00093754e+00 -5.86925607e-01  9.37526890e-01\n",
      "  1.92746577e-01 -7.56331569e-01 -1.59537846e-03 -9.48236326e-02\n",
      "  3.49144531e-01 -7.60609715e-01 -1.64902897e+00  2.82280784e-01\n",
      "  1.74884867e+00 -1.39216460e+00  5.05608762e-02  2.96203840e-01\n",
      "  1.26147535e+00  9.79694458e-01 -2.68580378e+00  1.06453729e+00\n",
      "  1.14753379e+00 -2.08740817e-01 -1.14365212e+00  4.34336711e-01\n",
      " -7.51686191e-01  3.42961576e-01  2.84191831e-01  1.75536286e+00\n",
      "  1.76586756e+00 -2.78419534e+00 -1.03906692e+00 -8.75705207e-01\n",
      " -3.08326016e-02 -5.64216519e-02 -4.06594642e-01  3.05260775e-01\n",
      "  5.56912985e-01 -9.21687287e-01  1.42605591e+00  2.01264109e+00\n",
      "  6.64653806e-01  7.96423404e-01  7.74441684e-01  1.50445837e+00\n",
      " -3.47287881e-01 -8.33565005e-01  6.57677379e-01 -1.95624369e-01\n",
      " -7.15204745e-01 -3.93985373e-01 -1.68899294e+00  8.52426614e-01\n",
      " -1.54267439e+00 -8.48770526e-01  2.74468507e-01 -1.03809964e+00\n",
      "  1.11701771e-01 -1.64676942e+00  6.89493494e-01 -3.08848805e-01\n",
      "  2.70493138e-02  4.14452096e-01 -1.35342330e-01 -5.62892177e-01\n",
      "  6.17053742e-01 -4.12029937e-01 -4.93934671e-01  1.17161080e+00\n",
      "  8.42522896e-01  3.16877448e-01  1.86434837e-01 -7.30256780e-01\n",
      " -3.85291385e-01 -1.74293810e+00 -3.35643459e-01 -1.36928150e+00\n",
      " -1.00408278e+00 -1.15907298e+00 -3.87301161e-02 -8.54513168e-01\n",
      " -1.18060997e-01 -7.30922036e-01 -2.53722540e-01  3.70139670e-01]\n"
     ]
    },
    {
     "data": {
      "text/plain": [
       "(np.float64(0.01817228846407039), np.float64(0.9918638028364659))"
      ]
     },
     "execution_count": 3,
     "metadata": {},
     "output_type": "execute_result"
    }
   ],
   "source": [
    "# 8. **Generate a NumPy array of size `1,000` with normally distributed random numbers. Use SciPy to fit a normal distribution to the data and print the mean and standard deviation.**\n",
    "\n",
    "import numpy as np\n",
    "from scipy import stats\n",
    "\n",
    "arr_normal = np.random.normal(size=1000)\n",
    "print(arr_normal)\n",
    "\n",
    "\n",
    "mean, std = stats.norm.fit(arr_normal)\n",
    "mean, std\n"
   ]
  },
  {
   "cell_type": "code",
   "execution_count": 11,
   "metadata": {},
   "outputs": [
    {
     "name": "stdout",
     "output_type": "stream",
     "text": [
      "3.0\n",
      "[1 2 3 -- 4 -- 5]\n",
      "3.0\n"
     ]
    }
   ],
   "source": [
    "#### 5. Handling Missing Data\n",
    "# 10. **Create a NumPy array with some `NaN` values. Use NumPy functions to compute the mean of the array, ignoring `NaN` values.**\n",
    "nan_arr = np.array([1,2,np.nan, 4, 5])\n",
    "print(np.nanmean(nan_arr))\n",
    "\n",
    "\n",
    "# 11. **Generate a masked array with some invalid data points (e.g., `-999`) and compute the mean of the valid entries.**\n",
    "data = np.array([1,2,3, -999, 4, -999,5])\n",
    "masked = np.ma.masked_values(data,-999)\n",
    "print(masked)\n",
    "print(masked.mean())"
   ]
  },
  {
   "cell_type": "code",
   "execution_count": 9,
   "metadata": {},
   "outputs": [
    {
     "name": "stdout",
     "output_type": "stream",
     "text": [
      "Masked array: [1 2 -- 4 5]\n",
      "Mean of masked array: 3.0\n"
     ]
    }
   ],
   "source": [
    "\n",
    "# Example: Masked arrays\n",
    "data = np.array([1, 2, -999, 4, 5])\n",
    "masked_array = np.ma.masked_values(data, -999)\n",
    "print(\"Masked array:\", masked_array)\n",
    "print(\"Mean of masked array:\", masked_array.mean())"
   ]
  },
  {
   "cell_type": "code",
   "execution_count": null,
   "metadata": {},
   "outputs": [
    {
     "name": "stdout",
     "output_type": "stream",
     "text": [
      "[1. 2. 3. 4. 5. 6. 7. 8. 9.]\n"
     ]
    }
   ],
   "source": [
    "#### 6. Input/Output Operations\n",
    "# 12. **Save a NumPy array to a text file and then load it back. Ensure that the saved and loaded arrays match.**\n",
    "\n",
    "np.savetxt(\"arr.txt\",np.arange(1,10),delimiter=\",\")\n",
    "print(np.loadtxt(\"arr.txt\",delimiter=\",\"))\n",
    "\n",
    "\n"
   ]
  },
  {
   "cell_type": "code",
   "execution_count": null,
   "metadata": {},
   "outputs": [
    {
     "name": "stdout",
     "output_type": "stream",
     "text": [
      "[1 2 3 4 5 6 7 8 9]\n"
     ]
    }
   ],
   "source": [
    "# 13. **Create a NumPy array and save it in binary format. Load the array from the binary file and verify its content.**\n",
    "import numpy as np\n",
    "\n",
    "bin_arr = np.arange(1,10)\n",
    "np.save(\"bin_arr.npy\",bin_arr) \n",
    "print(np.load(\"bin_arr.npy\"))"
   ]
  }
 ],
 "metadata": {
  "kernelspec": {
   "display_name": "Python 3",
   "language": "python",
   "name": "python3"
  },
  "language_info": {
   "codemirror_mode": {
    "name": "ipython",
    "version": 3
   },
   "file_extension": ".py",
   "mimetype": "text/x-python",
   "name": "python",
   "nbconvert_exporter": "python",
   "pygments_lexer": "ipython3",
   "version": "3.12.1"
  },
  "orig_nbformat": 4
 },
 "nbformat": 4,
 "nbformat_minor": 2
}
