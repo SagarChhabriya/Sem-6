{
 "cells": [
  {
   "cell_type": "markdown",
   "metadata": {},
   "source": [
    "## **1️⃣ Bagging Classifier Example (Classification)**\n",
    "We will use the **Iris dataset** and apply **Bagging** with Decision Trees.\n",
    "\n",
    "### **Steps:**\n",
    "- Load the dataset.\n",
    "- Split into training and testing sets.\n",
    "- Train a **BaggingClassifier** with Decision Trees.\n",
    "- Evaluate accuracy.\n"
   ]
  },
  {
   "cell_type": "code",
   "execution_count": null,
   "metadata": {},
   "outputs": [],
   "source": [
    "\n",
    "from sklearn.datasets import load_iris\n",
    "from sklearn.model_selection import train_test_split\n",
    "from sklearn.ensemble import BaggingClassifier\n",
    "from sklearn.tree import DecisionTreeClassifier\n",
    "from sklearn.metrics import accuracy_score\n",
    "\n",
    "# Load dataset\n",
    "iris = load_iris()\n",
    "X, y = iris.data, iris.target\n",
    "\n",
    "# Split data\n",
    "X_train, X_test, y_train, y_test = train_test_split(X, y, test_size=0.2, random_state=42)\n",
    "\n",
    "# Create Bagging Classifier with Decision Tree\n",
    "bagging_clf = BaggingClassifier(\n",
    "    base_estimator=DecisionTreeClassifier(), \n",
    "    n_estimators=10,  # Number of models\n",
    "    random_state=42\n",
    ")\n",
    "\n",
    "# Train and evaluate\n",
    "bagging_clf.fit(X_train, y_train)\n",
    "y_pred = bagging_clf.predict(X_test)\n",
    "\n",
    "# Print Accuracy\n",
    "print(\"Bagging Classifier Accuracy:\", accuracy_score(y_test, y_pred))\n"
   ]
  },
  {
   "cell_type": "markdown",
   "metadata": {},
   "source": [
    "\n",
    "### **Explanation:**\n",
    "- Uses **Decision Trees** as base models.\n",
    "- Bagging trains **10 trees** on random subsets of data.\n",
    "- Predictions are combined using majority voting.\n",
    "- Helps reduce overfitting compared to a single decision tree.\n",
    "\n",
    "---\n",
    "\n",
    "## **2️⃣ Bagging Regressor Example (Regression)**\n",
    "We will use the **Diabetes dataset** and apply **Bagging** with Decision Tree Regressors.\n",
    "\n",
    "### **Steps:**\n",
    "- Load the dataset.\n",
    "- Split into training and testing sets.\n",
    "- Train a **BaggingRegressor** with Decision Tree Regressors.\n",
    "- Evaluate performance using R² Score.\n",
    "\n",
    "### **Code:**\n",
    "```python\n"
   ]
  },
  {
   "cell_type": "code",
   "execution_count": null,
   "metadata": {},
   "outputs": [],
   "source": [
    "from sklearn.datasets import load_diabetes\n",
    "from sklearn.model_selection import train_test_split\n",
    "from sklearn.ensemble import BaggingRegressor\n",
    "from sklearn.tree import DecisionTreeRegressor\n",
    "from sklearn.metrics import r2_score\n",
    "\n",
    "# Load dataset\n",
    "diabetes = load_diabetes()\n",
    "X, y = diabetes.data, diabetes.target\n",
    "\n",
    "# Split data\n",
    "X_train, X_test, y_train, y_test = train_test_split(X, y, test_size=0.2, random_state=42)\n",
    "\n",
    "# Create Bagging Regressor with Decision Tree\n",
    "bagging_reg = BaggingRegressor(\n",
    "    base_estimator=DecisionTreeRegressor(), \n",
    "    n_estimators=10,  # Number of models\n",
    "    random_state=42\n",
    ")\n",
    "\n",
    "# Train and evaluate\n",
    "bagging_reg.fit(X_train, y_train)\n",
    "y_pred = bagging_reg.predict(X_test)\n",
    "\n",
    "# Print R² Score\n",
    "print(\"Bagging Regressor R² Score:\", r2_score(y_test, y_pred))\n",
    "\n"
   ]
  },
  {
   "cell_type": "markdown",
   "metadata": {},
   "source": [
    "### **Explanation:**\n",
    "- Uses **Decision Tree Regressors** as base models.\n",
    "- Each model is trained on a different subset of data.\n",
    "- Predictions are averaged for better stability.\n",
    "- Helps **reduce variance** compared to a single decision tree.\n",
    "\n",
    "\n",
    "### **Summary**\n",
    "| Type        | Dataset Used | Base Model | Bagging Model | Metric Used |\n",
    "|------------|-------------|------------|--------------|-------------|\n",
    "| Classification | Iris | Decision Tree | BaggingClassifier | Accuracy |\n",
    "| Regression | Diabetes | Decision Tree Regressor | BaggingRegressor | R² Score |\n",
    "\n",
    "Bagging helps improve model stability and performance! 🚀 Let me know if you need more explanations."
   ]
  }
 ],
 "metadata": {
  "kernelspec": {
   "display_name": "Python 3.12.0 64-bit",
   "language": "python",
   "name": "python3"
  },
  "language_info": {
   "name": "python",
   "version": "3.12.0"
  },
  "orig_nbformat": 4,
  "vscode": {
   "interpreter": {
    "hash": "53d8eca44c0f2e0b87fb88d9c05acfddfe83b50bdd73069bed107cca5f5caedf"
   }
  }
 },
 "nbformat": 4,
 "nbformat_minor": 2
}
