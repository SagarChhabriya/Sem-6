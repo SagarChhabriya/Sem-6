{
 "cells": [
  {
   "cell_type": "markdown",
   "metadata": {},
   "source": [
    "## **1️⃣ Voting Classifier Example (Classification)**\n",
    "We will use the **Iris dataset** to classify flower species using different models combined in a Voting Classifier.\n",
    "\n",
    "### **Steps:**\n",
    "- Load the dataset.\n",
    "- Split data into training and testing sets.\n",
    "- Train multiple classifiers (Logistic Regression, KNN, and Decision Tree).\n",
    "- Combine them using **VotingClassifier**.\n",
    "- Evaluate accuracy.\n",
    "\n"
   ]
  },
  {
   "cell_type": "code",
   "execution_count": 1,
   "metadata": {},
   "outputs": [
    {
     "name": "stdout",
     "output_type": "stream",
     "text": [
      "Voting Classifier Accuracy: 1.0\n"
     ]
    }
   ],
   "source": [
    "from sklearn.datasets import load_iris\n",
    "from sklearn.model_selection import train_test_split\n",
    "from sklearn.ensemble import VotingClassifier\n",
    "from sklearn.linear_model import LogisticRegression\n",
    "from sklearn.neighbors import KNeighborsClassifier\n",
    "from sklearn.tree import DecisionTreeClassifier\n",
    "from sklearn.metrics import accuracy_score\n",
    "\n",
    "# Load dataset\n",
    "iris = load_iris()\n",
    "X, y = iris.data, iris.target\n",
    "\n",
    "# Split data\n",
    "X_train, X_test, y_train, y_test = train_test_split(X, y, test_size=0.2, random_state=42)\n",
    "\n",
    "# Define base models\n",
    "model1 = LogisticRegression(max_iter=200)\n",
    "model2 = KNeighborsClassifier(n_neighbors=5)\n",
    "model3 = DecisionTreeClassifier()\n",
    "\n",
    "# Create Voting Classifier (Hard Voting)\n",
    "voting_clf = VotingClassifier(estimators=[\n",
    "    ('lr', model1), \n",
    "    ('knn', model2), \n",
    "    ('dt', model3)\n",
    "], voting='hard')\n",
    "\n",
    "# Train and evaluate\n",
    "voting_clf.fit(X_train, y_train)\n",
    "y_pred = voting_clf.predict(X_test)\n",
    "\n",
    "# Print Accuracy\n",
    "print(\"Voting Classifier Accuracy:\", accuracy_score(y_test, y_pred))\n",
    "\n",
    "### **Explanation:**\n",
    "# - Uses **three different classifiers**.\n",
    "# - Hard voting: Chooses the most common prediction among models.\n",
    "# - Evaluates accuracy on test data.\n"
   ]
  },
  {
   "cell_type": "markdown",
   "metadata": {},
   "source": [
    "\n",
    "## **2️⃣ Voting Regressor Example (Regression)**\n",
    "We will use the **Diabetes dataset** to predict disease progression using different models combined in a Voting Regressor.\n",
    "\n",
    "### **Steps:**\n",
    "- Load the dataset.\n",
    "- Split data into training and testing sets.\n",
    "- Train multiple regressors (Linear Regression, KNN Regressor, Decision Tree Regressor).\n",
    "- Combine them using **VotingRegressor**.\n",
    "- Evaluate performance using R² Score.\n"
   ]
  },
  {
   "cell_type": "code",
   "execution_count": 2,
   "metadata": {},
   "outputs": [
    {
     "name": "stdout",
     "output_type": "stream",
     "text": [
      "Voting Regressor R² Score: 0.47606853438662566\n"
     ]
    }
   ],
   "source": [
    "from sklearn.datasets import load_diabetes\n",
    "from sklearn.model_selection import train_test_split\n",
    "from sklearn.ensemble import VotingRegressor\n",
    "from sklearn.linear_model import LinearRegression\n",
    "from sklearn.neighbors import KNeighborsRegressor\n",
    "from sklearn.tree import DecisionTreeRegressor\n",
    "from sklearn.metrics import r2_score\n",
    "\n",
    "# Load dataset\n",
    "diabetes = load_diabetes()\n",
    "X, y = diabetes.data, diabetes.target\n",
    "\n",
    "# Split data\n",
    "X_train, X_test, y_train, y_test = train_test_split(X, y, test_size=0.2, random_state=42)\n",
    "\n",
    "# Define base models\n",
    "model1 = LinearRegression()\n",
    "model2 = KNeighborsRegressor(n_neighbors=5)\n",
    "model3 = DecisionTreeRegressor()\n",
    "\n",
    "# Create Voting Regressor\n",
    "voting_reg = VotingRegressor(estimators=[\n",
    "    ('lr', model1), \n",
    "    ('knn', model2), \n",
    "    ('dt', model3)\n",
    "])\n",
    "\n",
    "# Train and evaluate\n",
    "voting_reg.fit(X_train, y_train)\n",
    "y_pred = voting_reg.predict(X_test)\n",
    "\n",
    "# Print R² Score\n",
    "print(\"Voting Regressor R² Score:\", r2_score(y_test, y_pred))\n",
    "\n",
    "\n",
    "### **Explanation:**\n",
    "# - Uses **three different regression models**.\n",
    "# - Voting Regressor averages predictions from all models.\n",
    "# - R² Score measures model performance"
   ]
  },
  {
   "cell_type": "markdown",
   "metadata": {},
   "source": [
    "### **Summary**\n",
    "| Type        | Dataset Used | Models Combined | Metric Used |\n",
    "|------------|-------------|----------------|-------------|\n",
    "| Classification | Iris | Logistic Regression, KNN, Decision Tree | Accuracy |\n",
    "| Regression | Diabetes | Linear Regression, KNN Regressor, Decision Tree Regressor | R² Score |\n"
   ]
  }
 ],
 "metadata": {
  "kernelspec": {
   "display_name": "Python 3.12.0 64-bit",
   "language": "python",
   "name": "python3"
  },
  "language_info": {
   "codemirror_mode": {
    "name": "ipython",
    "version": 3
   },
   "file_extension": ".py",
   "mimetype": "text/x-python",
   "name": "python",
   "nbconvert_exporter": "python",
   "pygments_lexer": "ipython3",
   "version": "3.12.0"
  },
  "orig_nbformat": 4,
  "vscode": {
   "interpreter": {
    "hash": "53d8eca44c0f2e0b87fb88d9c05acfddfe83b50bdd73069bed107cca5f5caedf"
   }
  }
 },
 "nbformat": 4,
 "nbformat_minor": 2
}
