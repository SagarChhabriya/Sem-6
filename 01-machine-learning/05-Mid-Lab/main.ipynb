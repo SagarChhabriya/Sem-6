{
 "cells": [
  {
   "cell_type": "code",
   "execution_count": 5,
   "metadata": {},
   "outputs": [],
   "source": [
    "import numpy as np\n",
    "import pandas as pd\n",
    "import seaborn as sns\n",
    "import matplotlib.pyplot as plt \n",
    "from sklearn.linear_model import LinearRegression\n",
    "from sklearn.linear_model import LogisticRegression\n",
    "from sklearn.model_selection import train_test_split\n",
    "from sklearn.metrics import accuracy_score, r2_score"
   ]
  },
  {
   "cell_type": "code",
   "execution_count": 16,
   "metadata": {},
   "outputs": [
    {
     "name": "stdout",
     "output_type": "stream",
     "text": [
      "3\n"
     ]
    }
   ],
   "source": [
    "# 2 nums input\n",
    "# 1 op\n",
    "\n",
    "def add(a,b):\n",
    "    return a + b\n",
    "def sub(a,b):\n",
    "    return a - b \n",
    "def mul(a,b):\n",
    "    return a * b\n",
    "def div(a,b):\n",
    "    if b>0:\n",
    "        return a/b\n",
    "    else:\n",
    "        print(\"cannot be divided by zero\")\n",
    "        \n",
    "        \n",
    "        \n",
    "\n",
    "num1 = int(input(\"Enter first number: \"))\n",
    "num2 = int(input(\"Enter second number: \"))\n",
    "op = input(\"Enter the symbol of operator: +, -, *, /\")\n",
    "\n",
    "match op:\n",
    "    case '+': \n",
    "        print(add(num1,num2))\n",
    "    case '+':\n",
    "        print(sub(num1,num2))\n",
    "    case '*':\n",
    "        print(mul(num1,num2))\n",
    "    case '/':\n",
    "        print(div(num1,num2))\n",
    "    case '_':\n",
    "        print(\"Invalid input\")    \n",
    "            \n",
    "        \n",
    "    \n",
    "    "
   ]
  },
  {
   "cell_type": "code",
   "execution_count": null,
   "metadata": {},
   "outputs": [],
   "source": []
  }
 ],
 "metadata": {
  "kernelspec": {
   "display_name": "Python 3.12.0 ('venv': venv)",
   "language": "python",
   "name": "python3"
  },
  "language_info": {
   "codemirror_mode": {
    "name": "ipython",
    "version": 3
   },
   "file_extension": ".py",
   "mimetype": "text/x-python",
   "name": "python",
   "nbconvert_exporter": "python",
   "pygments_lexer": "ipython3",
   "version": "3.12.0"
  },
  "orig_nbformat": 4,
  "vscode": {
   "interpreter": {
    "hash": "426b5bf5d2d9e803d3f5a13ae44db418261c2c57cc9d82086af34ac3175eec71"
   }
  }
 },
 "nbformat": 4,
 "nbformat_minor": 2
}
