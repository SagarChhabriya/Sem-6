{
 "cells": [
  {
   "cell_type": "markdown",
   "metadata": {},
   "source": [
    "## Binary Classification Task 1: Anagrams (focused/divided)"
   ]
  },
  {
   "cell_type": "markdown",
   "metadata": {},
   "source": [
    "### Step 1: Import Libraries and Load Data"
   ]
  },
  {
   "cell_type": "code",
   "execution_count": 37,
   "metadata": {},
   "outputs": [],
   "source": [
    "import numpy as np \n",
    "import pandas as pd\n",
    "import matplotlib.pyplot as plt \n",
    "import seaborn as sns \n",
    "from sklearn.model_selection import train_test_split\n",
    "\n"
   ]
  },
  {
   "cell_type": "code",
   "execution_count": 38,
   "metadata": {},
   "outputs": [
    {
     "data": {
      "text/html": [
       "<div>\n",
       "<style scoped>\n",
       "    .dataframe tbody tr th:only-of-type {\n",
       "        vertical-align: middle;\n",
       "    }\n",
       "\n",
       "    .dataframe tbody tr th {\n",
       "        vertical-align: top;\n",
       "    }\n",
       "\n",
       "    .dataframe thead th {\n",
       "        text-align: right;\n",
       "    }\n",
       "</style>\n",
       "<table border=\"1\" class=\"dataframe\">\n",
       "  <thead>\n",
       "    <tr style=\"text-align: right;\">\n",
       "      <th></th>\n",
       "      <th>attnr</th>\n",
       "      <th>num1</th>\n",
       "      <th>num2</th>\n",
       "      <th>num3</th>\n",
       "    </tr>\n",
       "  </thead>\n",
       "  <tbody>\n",
       "    <tr>\n",
       "      <th>0</th>\n",
       "      <td>divided</td>\n",
       "      <td>2</td>\n",
       "      <td>4.0</td>\n",
       "      <td>7</td>\n",
       "    </tr>\n",
       "    <tr>\n",
       "      <th>1</th>\n",
       "      <td>divided</td>\n",
       "      <td>3</td>\n",
       "      <td>4.0</td>\n",
       "      <td>5</td>\n",
       "    </tr>\n",
       "    <tr>\n",
       "      <th>2</th>\n",
       "      <td>divided</td>\n",
       "      <td>3</td>\n",
       "      <td>5.0</td>\n",
       "      <td>6</td>\n",
       "    </tr>\n",
       "    <tr>\n",
       "      <th>3</th>\n",
       "      <td>divided</td>\n",
       "      <td>5</td>\n",
       "      <td>7.0</td>\n",
       "      <td>5</td>\n",
       "    </tr>\n",
       "    <tr>\n",
       "      <th>4</th>\n",
       "      <td>divided</td>\n",
       "      <td>4</td>\n",
       "      <td>5.0</td>\n",
       "      <td>8</td>\n",
       "    </tr>\n",
       "    <tr>\n",
       "      <th>5</th>\n",
       "      <td>divided</td>\n",
       "      <td>5</td>\n",
       "      <td>5.0</td>\n",
       "      <td>6</td>\n",
       "    </tr>\n",
       "    <tr>\n",
       "      <th>6</th>\n",
       "      <td>divided</td>\n",
       "      <td>5</td>\n",
       "      <td>4.5</td>\n",
       "      <td>6</td>\n",
       "    </tr>\n",
       "    <tr>\n",
       "      <th>7</th>\n",
       "      <td>divided</td>\n",
       "      <td>5</td>\n",
       "      <td>7.0</td>\n",
       "      <td>8</td>\n",
       "    </tr>\n",
       "    <tr>\n",
       "      <th>8</th>\n",
       "      <td>divided</td>\n",
       "      <td>2</td>\n",
       "      <td>3.0</td>\n",
       "      <td>7</td>\n",
       "    </tr>\n",
       "    <tr>\n",
       "      <th>9</th>\n",
       "      <td>divided</td>\n",
       "      <td>6</td>\n",
       "      <td>5.0</td>\n",
       "      <td>6</td>\n",
       "    </tr>\n",
       "    <tr>\n",
       "      <th>10</th>\n",
       "      <td>focused</td>\n",
       "      <td>6</td>\n",
       "      <td>5.0</td>\n",
       "      <td>6</td>\n",
       "    </tr>\n",
       "    <tr>\n",
       "      <th>11</th>\n",
       "      <td>focused</td>\n",
       "      <td>8</td>\n",
       "      <td>9.0</td>\n",
       "      <td>8</td>\n",
       "    </tr>\n",
       "    <tr>\n",
       "      <th>12</th>\n",
       "      <td>focused</td>\n",
       "      <td>6</td>\n",
       "      <td>5.0</td>\n",
       "      <td>9</td>\n",
       "    </tr>\n",
       "    <tr>\n",
       "      <th>13</th>\n",
       "      <td>focused</td>\n",
       "      <td>8</td>\n",
       "      <td>8.0</td>\n",
       "      <td>7</td>\n",
       "    </tr>\n",
       "    <tr>\n",
       "      <th>14</th>\n",
       "      <td>focused</td>\n",
       "      <td>8</td>\n",
       "      <td>8.0</td>\n",
       "      <td>7</td>\n",
       "    </tr>\n",
       "    <tr>\n",
       "      <th>15</th>\n",
       "      <td>focused</td>\n",
       "      <td>6</td>\n",
       "      <td>8.0</td>\n",
       "      <td>7</td>\n",
       "    </tr>\n",
       "    <tr>\n",
       "      <th>16</th>\n",
       "      <td>focused</td>\n",
       "      <td>7</td>\n",
       "      <td>7.0</td>\n",
       "      <td>6</td>\n",
       "    </tr>\n",
       "    <tr>\n",
       "      <th>17</th>\n",
       "      <td>focused</td>\n",
       "      <td>7</td>\n",
       "      <td>8.0</td>\n",
       "      <td>6</td>\n",
       "    </tr>\n",
       "    <tr>\n",
       "      <th>18</th>\n",
       "      <td>focused</td>\n",
       "      <td>5</td>\n",
       "      <td>6.0</td>\n",
       "      <td>6</td>\n",
       "    </tr>\n",
       "    <tr>\n",
       "      <th>19</th>\n",
       "      <td>focused</td>\n",
       "      <td>6</td>\n",
       "      <td>6.0</td>\n",
       "      <td>5</td>\n",
       "    </tr>\n",
       "  </tbody>\n",
       "</table>\n",
       "</div>"
      ],
      "text/plain": [
       "      attnr  num1  num2  num3\n",
       "0   divided     2   4.0     7\n",
       "1   divided     3   4.0     5\n",
       "2   divided     3   5.0     6\n",
       "3   divided     5   7.0     5\n",
       "4   divided     4   5.0     8\n",
       "5   divided     5   5.0     6\n",
       "6   divided     5   4.5     6\n",
       "7   divided     5   7.0     8\n",
       "8   divided     2   3.0     7\n",
       "9   divided     6   5.0     6\n",
       "10  focused     6   5.0     6\n",
       "11  focused     8   9.0     8\n",
       "12  focused     6   5.0     9\n",
       "13  focused     8   8.0     7\n",
       "14  focused     8   8.0     7\n",
       "15  focused     6   8.0     7\n",
       "16  focused     7   7.0     6\n",
       "17  focused     7   8.0     6\n",
       "18  focused     5   6.0     6\n",
       "19  focused     6   6.0     5"
      ]
     },
     "execution_count": 38,
     "metadata": {},
     "output_type": "execute_result"
    }
   ],
   "source": [
    "df = pd.read_csv(r\"A:\\Code\\PY\\DSc\\datasets\\04-binary-classification\\anagrams.csv\")\n",
    "df.drop(columns=[\"subidr\"], inplace=True)\n",
    "df"
   ]
  },
  {
   "cell_type": "markdown",
   "metadata": {},
   "source": [
    "### Step 2: EDA + Preprocessing + train test split"
   ]
  },
  {
   "cell_type": "code",
   "execution_count": 39,
   "metadata": {},
   "outputs": [
    {
     "data": {
      "text/plain": [
       "(20, 4)"
      ]
     },
     "execution_count": 39,
     "metadata": {},
     "output_type": "execute_result"
    }
   ],
   "source": [
    "df.shape"
   ]
  },
  {
   "cell_type": "code",
   "execution_count": 40,
   "metadata": {},
   "outputs": [
    {
     "name": "stdout",
     "output_type": "stream",
     "text": [
      "<class 'pandas.core.frame.DataFrame'>\n",
      "RangeIndex: 20 entries, 0 to 19\n",
      "Data columns (total 4 columns):\n",
      " #   Column  Non-Null Count  Dtype  \n",
      "---  ------  --------------  -----  \n",
      " 0   attnr   20 non-null     object \n",
      " 1   num1    20 non-null     int64  \n",
      " 2   num2    20 non-null     float64\n",
      " 3   num3    20 non-null     int64  \n",
      "dtypes: float64(1), int64(2), object(1)\n",
      "memory usage: 772.0+ bytes\n"
     ]
    }
   ],
   "source": [
    "df.info()"
   ]
  },
  {
   "cell_type": "code",
   "execution_count": 41,
   "metadata": {},
   "outputs": [
    {
     "data": {
      "text/html": [
       "<div>\n",
       "<style scoped>\n",
       "    .dataframe tbody tr th:only-of-type {\n",
       "        vertical-align: middle;\n",
       "    }\n",
       "\n",
       "    .dataframe tbody tr th {\n",
       "        vertical-align: top;\n",
       "    }\n",
       "\n",
       "    .dataframe thead th {\n",
       "        text-align: right;\n",
       "    }\n",
       "</style>\n",
       "<table border=\"1\" class=\"dataframe\">\n",
       "  <thead>\n",
       "    <tr style=\"text-align: right;\">\n",
       "      <th></th>\n",
       "      <th>num1</th>\n",
       "      <th>num2</th>\n",
       "      <th>num3</th>\n",
       "    </tr>\n",
       "  </thead>\n",
       "  <tbody>\n",
       "    <tr>\n",
       "      <th>count</th>\n",
       "      <td>20.000000</td>\n",
       "      <td>20.00000</td>\n",
       "      <td>20.000000</td>\n",
       "    </tr>\n",
       "    <tr>\n",
       "      <th>mean</th>\n",
       "      <td>5.350000</td>\n",
       "      <td>5.97500</td>\n",
       "      <td>6.550000</td>\n",
       "    </tr>\n",
       "    <tr>\n",
       "      <th>std</th>\n",
       "      <td>1.843195</td>\n",
       "      <td>1.67391</td>\n",
       "      <td>1.099043</td>\n",
       "    </tr>\n",
       "    <tr>\n",
       "      <th>min</th>\n",
       "      <td>2.000000</td>\n",
       "      <td>3.00000</td>\n",
       "      <td>5.000000</td>\n",
       "    </tr>\n",
       "    <tr>\n",
       "      <th>25%</th>\n",
       "      <td>4.750000</td>\n",
       "      <td>5.00000</td>\n",
       "      <td>6.000000</td>\n",
       "    </tr>\n",
       "    <tr>\n",
       "      <th>50%</th>\n",
       "      <td>5.500000</td>\n",
       "      <td>5.50000</td>\n",
       "      <td>6.000000</td>\n",
       "    </tr>\n",
       "    <tr>\n",
       "      <th>75%</th>\n",
       "      <td>6.250000</td>\n",
       "      <td>7.25000</td>\n",
       "      <td>7.000000</td>\n",
       "    </tr>\n",
       "    <tr>\n",
       "      <th>max</th>\n",
       "      <td>8.000000</td>\n",
       "      <td>9.00000</td>\n",
       "      <td>9.000000</td>\n",
       "    </tr>\n",
       "  </tbody>\n",
       "</table>\n",
       "</div>"
      ],
      "text/plain": [
       "            num1      num2       num3\n",
       "count  20.000000  20.00000  20.000000\n",
       "mean    5.350000   5.97500   6.550000\n",
       "std     1.843195   1.67391   1.099043\n",
       "min     2.000000   3.00000   5.000000\n",
       "25%     4.750000   5.00000   6.000000\n",
       "50%     5.500000   5.50000   6.000000\n",
       "75%     6.250000   7.25000   7.000000\n",
       "max     8.000000   9.00000   9.000000"
      ]
     },
     "execution_count": 41,
     "metadata": {},
     "output_type": "execute_result"
    }
   ],
   "source": [
    "df.describe()"
   ]
  },
  {
   "cell_type": "code",
   "execution_count": 42,
   "metadata": {},
   "outputs": [
    {
     "data": {
      "text/plain": [
       "<Axes: title={'center': 'num3'}, ylabel='Density'>"
      ]
     },
     "execution_count": 42,
     "metadata": {},
     "output_type": "execute_result"
    },
    {
     "data": {
      "image/png": "[encoded data removed]",
      "text/plain": [
       "<Figure size 1400x300 with 4 Axes>"
      ]
     },
     "metadata": {},
     "output_type": "display_data"
    }
   ],
   "source": [
    "fig, (ax1, ax2, ax3, ax4) = plt.subplots(1,4, figsize=(14,3))\n",
    "\n",
    "\n",
    "\n",
    "df[\"num1\"].plot(kind='kde', ax=ax1, label=\"num1\")\n",
    "df[\"num2\"].plot(kind=\"kde\", ax=ax1, label=\"num2\")\n",
    "df[\"num3\"].plot(kind='kde', ax=ax1, label=\"num3\")\n",
    "\n",
    "ax1.legend()  \n",
    "\n",
    "\n",
    "df[\"num1\"].plot(kind='kde', ax=ax2, title=\"num1\")\n",
    "df[\"num2\"].plot(kind=\"kde\", ax=ax3, title=\"num2\")\n",
    "df[\"num3\"].plot(kind='kde', ax=ax4, title=\"num3\")\n"
   ]
  },
  {
   "cell_type": "markdown",
   "metadata": {},
   "source": [
    "### Label Encoding"
   ]
  },
  {
   "cell_type": "code",
   "execution_count": 43,
   "metadata": {},
   "outputs": [
    {
     "data": {
      "text/plain": [
       "array([0, 0, 0, 0, 0, 0, 0, 0, 0, 0, 1, 1, 1, 1, 1, 1, 1, 1, 1, 1])"
      ]
     },
     "execution_count": 43,
     "metadata": {},
     "output_type": "execute_result"
    }
   ],
   "source": [
    "from sklearn.preprocessing import LabelEncoder\n",
    "\n",
    "label_column = df[\"attnr\"]\n",
    "\n",
    "le = LabelEncoder()\n",
    "label_enc_col = le.fit_transform(label_column)\n",
    "label_enc_col"
   ]
  },
  {
   "cell_type": "code",
   "execution_count": 44,
   "metadata": {},
   "outputs": [
    {
     "data": {
      "text/plain": [
       "array(['divided', 'focused'], dtype=object)"
      ]
     },
     "execution_count": 44,
     "metadata": {},
     "output_type": "execute_result"
    }
   ],
   "source": [
    "le.classes_\n",
    "#  divided: 0, focused:1"
   ]
  },
  {
   "cell_type": "markdown",
   "metadata": {},
   "source": [
    "### train test split"
   ]
  },
  {
   "cell_type": "code",
   "execution_count": 45,
   "metadata": {},
   "outputs": [],
   "source": [
    "X = df[[\"num1\", \"num2\", \"num3\"]]\n",
    "y = label_enc_col\n",
    "\n",
    "X_train, X_test, y_train, y_test = train_test_split(X, y, test_size=0.2, random_state=42)"
   ]
  },
  {
   "cell_type": "markdown",
   "metadata": {},
   "source": [
    "### Step 3: Training the Model"
   ]
  },
  {
   "cell_type": "markdown",
   "metadata": {},
   "source": [
    "### Step 4: Predict and Evaluate"
   ]
  },
  {
   "cell_type": "code",
   "execution_count": 60,
   "metadata": {},
   "outputs": [
    {
     "name": "stdout",
     "output_type": "stream",
     "text": [
      "Logistic Regression Accuracy:  1.0\n",
      "DeceisionTreeClassifier Accuracy:  1.0\n",
      "KNeighborsClassifier Accuracy:  1.0\n",
      "RandomForestClassifier Accuracy:  1.0\n",
      "Support Vectors Machine Accuracy:  1.0\n"
     ]
    }
   ],
   "source": [
    "from sklearn.linear_model import LogisticRegression\n",
    "from sklearn.tree import DecisionTreeClassifier\n",
    "from sklearn.neighbors import KNeighborsClassifier\n",
    "from sklearn.ensemble import RandomForestClassifier\n",
    "from sklearn.svm import SVC\n",
    "from sklearn.metrics import accuracy_score\n",
    "\n",
    "lr = LogisticRegression()\n",
    "lr.fit(X_train, y_train)\n",
    "y_pred_lr = lr.predict(X_test)\n",
    "print(\"Logistic Regression Accuracy: \", accuracy_score(y_test, y_pred=y_pred_lr))\n",
    "\n",
    "\n",
    "dt = DecisionTreeClassifier()\n",
    "dt.fit(X_train, y_train)\n",
    "y_pred_dt = dt.predict(X_test)\n",
    "print(\"DeceisionTreeClassifier Accuracy: \", accuracy_score(y_test, y_pred=y_pred_dt))\n",
    "\n",
    "\n",
    "\n",
    "knn = KNeighborsClassifier()\n",
    "knn.fit(X_train, y_train)\n",
    "y_pred_knn = knn.predict(X_test)\n",
    "print(\"KNeighborsClassifier Accuracy: \", accuracy_score(y_test, y_pred=y_pred_knn))\n",
    "\n",
    "\n",
    "rfc = RandomForestClassifier()\n",
    "rfc.fit(X_train, y_train)\n",
    "y_pred_rfc = rfc.predict(X_test)\n",
    "print(\"RandomForestClassifier Accuracy: \", accuracy_score(y_test, y_pred=y_pred_rfc))\n",
    "\n",
    "\n",
    "svm = SVC()\n",
    "svm.fit(X_train, y_train)\n",
    "y_pred_svm = svm.predict(X_test)\n",
    "print(\"Support Vectors Machine Accuracy: \", accuracy_score(y_test, y_pred=y_pred_svm))"
   ]
  },
  {
   "cell_type": "markdown",
   "metadata": {},
   "source": [
    "### Cross Validation"
   ]
  },
  {
   "cell_type": "code",
   "execution_count": 59,
   "metadata": {},
   "outputs": [
    {
     "name": "stdout",
     "output_type": "stream",
     "text": [
      "Cross Validation Score of LogisticRegression:  0.7499999999999999\n",
      "Cross Validation Score of DecisionTreeClassifier:  0.5499999999999999\n",
      "Cross Validation Score of KNeighborsClassifier:  0.6833333333333333\n",
      "Cross Validation Score of RandomForestClassifier:  0.6166666666666666\n",
      "Cross Validation Score of Support Vector Machines:  0.6166666666666666\n"
     ]
    }
   ],
   "source": [
    "from sklearn.model_selection import cross_val_score\n",
    "\n",
    "cv_score_lr = cross_val_score(LogisticRegression(), X_train, y_train, scoring=\"accuracy\", cv=5)\n",
    "print(\"Cross Validation Score of LogisticRegression: \", np.mean(cv_score_lr))\n",
    "\n",
    "cv_score_dt = cross_val_score(DecisionTreeClassifier(), X_train, y_train, cv=5)\n",
    "print(\"Cross Validation Score of DecisionTreeClassifier: \", np.mean(cv_score_dt))\n",
    "\n",
    "\n",
    "cv_score_knn = cross_val_score(KNeighborsClassifier(), X_train, y_train, cv=5)\n",
    "print(\"Cross Validation Score of KNeighborsClassifier: \", np.mean(cv_score_knn))\n",
    "\n",
    "\n",
    "cv_score_rfc = cross_val_score(RandomForestClassifier(), X_train, y_train, cv=5)\n",
    "print(\"Cross Validation Score of RandomForestClassifier: \", np.mean(cv_score_rfc))\n",
    "\n",
    "cv_score_svm = cross_val_score(SVC(), X_train, y_train, cv=5)\n",
    "print(\"Cross Validation Score of Support Vector Machines: \", np.mean(cv_score_svm))\n"
   ]
  },
  {
   "cell_type": "code",
   "execution_count": 72,
   "metadata": {},
   "outputs": [
    {
     "name": "stdout",
     "output_type": "stream",
     "text": [
      "------------------------------------------------------\n",
      "Classification Report for Logistic Regression:\n",
      "------------------------------------------------------\n",
      "              precision    recall  f1-score   support\n",
      "\n",
      "           0       1.00      1.00      1.00         2\n",
      "           1       1.00      1.00      1.00         2\n",
      "\n",
      "    accuracy                           1.00         4\n",
      "   macro avg       1.00      1.00      1.00         4\n",
      "weighted avg       1.00      1.00      1.00         4\n",
      "\n",
      "------------------------------------------------------\n",
      "Confusion Matrix for Logistic Regression:\n",
      "------------------------------------------------------\n",
      "[[2 0]\n",
      " [0 2]]\n"
     ]
    }
   ],
   "source": [
    "from sklearn.metrics import classification_report, confusion_matrix\n",
    "\n",
    "print(\"------------------------------------------------------\")\n",
    "print(\"Classification Report for Logistic Regression:\")\n",
    "print(\"------------------------------------------------------\")\n",
    "print(classification_report(y_test, y_pred_lr))\n",
    "\n",
    "print(\"------------------------------------------------------\")\n",
    "\n",
    "print(\"Confusion Matrix for Logistic Regression:\")\n",
    "print(\"------------------------------------------------------\")\n",
    "print(confusion_matrix(y_test, y_pred_lr))\n"
   ]
  },
  {
   "cell_type": "code",
   "execution_count": 62,
   "metadata": {},
   "outputs": [
    {
     "data": {
      "image/png": "[encoded data removed]",
      "text/plain": [
       "<Figure size 1200x1000 with 5 Axes>"
      ]
     },
     "metadata": {},
     "output_type": "display_data"
    }
   ],
   "source": [
    "import numpy as np\n",
    "import matplotlib.pyplot as plt\n",
    "from sklearn.preprocessing import StandardScaler\n",
    "\n",
    "# We will use just num1 and num2 for visualization\n",
    "X_vis = df[[\"num1\", \"num2\"]].values\n",
    "y_vis = label_enc_col\n",
    "\n",
    "# Split the data into train and test sets for visualization\n",
    "X_train_vis, X_test_vis, y_train_vis, y_test_vis = train_test_split(X_vis, y_vis, test_size=0.2, random_state=42)\n",
    "\n",
    "# Standardize the features\n",
    "scaler = StandardScaler()\n",
    "X_train_vis_scaled = scaler.fit_transform(X_train_vis)\n",
    "X_test_vis_scaled = scaler.transform(X_test_vis)\n",
    "\n",
    "# Create a mesh grid for plotting decision boundaries\n",
    "x_min, x_max = X_train_vis_scaled[:, 0].min() - 1, X_train_vis_scaled[:, 0].max() + 1\n",
    "y_min, y_max = X_train_vis_scaled[:, 1].min() - 1, X_train_vis_scaled[:, 1].max() + 1\n",
    "xx, yy = np.meshgrid(np.arange(x_min, x_max, 0.02),\n",
    "                     np.arange(y_min, y_max, 0.02))\n",
    "\n",
    "# Plot decision boundaries for each model\n",
    "models = [lr, dt, knn, rfc, svm]\n",
    "model_names = [\"Logistic Regression\", \"Decision Tree\", \"KNN\", \"Random Forest\", \"SVM\"]\n",
    "\n",
    "plt.figure(figsize=(12, 10))\n",
    "\n",
    "for i, model in enumerate(models):\n",
    "    model.fit(X_train_vis_scaled, y_train_vis)\n",
    "    plt.subplot(2, 3, i + 1)\n",
    "    \n",
    "    # Plot the decision boundary by predicting class for each point in the grid\n",
    "    Z = model.predict(np.c_[xx.ravel(), yy.ravel()])\n",
    "    Z = Z.reshape(xx.shape)\n",
    "    \n",
    "    # Plotting\n",
    "    plt.contourf(xx, yy, Z, alpha=0.8)\n",
    "    plt.scatter(X_train_vis_scaled[:, 0], X_train_vis_scaled[:, 1], c=y_train_vis, edgecolors='k', marker='o')\n",
    "    plt.title(model_names[i])\n",
    "    plt.xlabel('num1')\n",
    "    plt.ylabel('num2')\n",
    "\n",
    "plt.tight_layout()\n",
    "plt.show()\n"
   ]
  },
  {
   "cell_type": "code",
   "execution_count": 63,
   "metadata": {},
   "outputs": [
    {
     "name": "stdout",
     "output_type": "stream",
     "text": [
      "Predicted class for Logistic Regression:  [6.21668224]\n",
      "Predicted class using model:  [1]\n"
     ]
    }
   ],
   "source": [
    "# Get the coefficients and intercept for Logistic Regression\n",
    "b0_lr = lr.intercept_  # Intercept (bias)\n",
    "m1_lr, m2_lr = lr.coef_[0]  # Coefficients for num1 and num2\n",
    "\n",
    "# Example input values (e.g., num1 = 3.5, num2 = 4.0)\n",
    "num1_input = 3.5\n",
    "num2_input = 4.0\n",
    "\n",
    "# Calculate the linear decision function (similar to the equation)\n",
    "y_pred_lr_manual = b0_lr + m1_lr * num1_input + m2_lr * num2_input\n",
    "\n",
    "print(\"Predicted class for Logistic Regression: \", y_pred_lr_manual)\n",
    "\n",
    "# Predict using the trained model for comparison\n",
    "y_pred_lr_model = lr.predict([[num1_input, num2_input]])\n",
    "print(\"Predicted class using model: \", y_pred_lr_model)\n"
   ]
  },
  {
   "cell_type": "code",
   "execution_count": 64,
   "metadata": {},
   "outputs": [
    {
     "name": "stdout",
     "output_type": "stream",
     "text": [
      "Predicted class for Decision Tree:  [1]\n"
     ]
    }
   ],
   "source": [
    "y_pred_dt_manual = dt.predict([[num1_input, num2_input]])\n",
    "print(\"Predicted class for Decision Tree: \", y_pred_dt_manual)\n"
   ]
  },
  {
   "cell_type": "code",
   "execution_count": 65,
   "metadata": {},
   "outputs": [
    {
     "name": "stdout",
     "output_type": "stream",
     "text": [
      "Predicted class for Random Forest:  [1]\n"
     ]
    }
   ],
   "source": [
    "y_pred_rfc_manual = rfc.predict([[num1_input, num2_input]])\n",
    "print(\"Predicted class for Random Forest: \", y_pred_rfc_manual)\n"
   ]
  },
  {
   "cell_type": "code",
   "execution_count": 66,
   "metadata": {},
   "outputs": [
    {
     "name": "stdout",
     "output_type": "stream",
     "text": [
      "Predicted class for KNN:  [1]\n"
     ]
    }
   ],
   "source": [
    "y_pred_knn_manual = knn.predict([[num1_input, num2_input]])\n",
    "print(\"Predicted class for KNN: \", y_pred_knn_manual)\n"
   ]
  },
  {
   "cell_type": "code",
   "execution_count": 67,
   "metadata": {},
   "outputs": [
    {
     "name": "stdout",
     "output_type": "stream",
     "text": [
      "Predicted class for SVM:  [0]\n"
     ]
    }
   ],
   "source": [
    "y_pred_svm_manual = svm.predict([[num1_input, num2_input]])\n",
    "print(\"Predicted class for SVM: \", y_pred_svm_manual)\n"
   ]
  }
 ],
 "metadata": {
  "kernelspec": {
   "display_name": "Python 3",
   "language": "python",
   "name": "python3"
  },
  "language_info": {
   "codemirror_mode": {
    "name": "ipython",
    "version": 3
   },
   "file_extension": ".py",
   "mimetype": "text/x-python",
   "name": "python",
   "nbconvert_exporter": "python",
   "pygments_lexer": "ipython3",
   "version": "3.12.9"
  }
 },
 "nbformat": 4,
 "nbformat_minor": 2
}
