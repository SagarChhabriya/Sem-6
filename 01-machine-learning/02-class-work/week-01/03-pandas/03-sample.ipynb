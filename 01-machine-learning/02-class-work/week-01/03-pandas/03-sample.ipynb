{
 "cells": [
  {
   "cell_type": "code",
   "execution_count": 2,
   "metadata": {},
   "outputs": [],
   "source": [
    "import pandas as pd"
   ]
  },
  {
   "cell_type": "code",
   "execution_count": 83,
   "metadata": {},
   "outputs": [],
   "source": [
    "# Data structure: Two-dimensional, size-mutable, potentially heterogeneous tabular data.\n",
    "\n",
    "# class pandas.Series(data=None, index=None, dtype=None, name=None, copy=None, fastpath=<no_default>)\n",
    "# class pandas.DataFrame(data=None, index=None, columns=None, dtype=None, copy=None)\n",
    "# pivot table: reshaping the data into a table format\n",
    "\n",
    "# pivot(): Does not handle duplicate values in the index/column combination.\n",
    "# pivot_table(): Handles duplicates by providing an option to aggregate (using aggfunc) when duplicates are present.\n",
    "# Use apply() when you need more flexibility in applying custom functions that could return aggregated data, reshape data, or reduce the data in any way.\n",
    "\n",
    "# Use transform() when you want an element-wise transformation that does not change the shape of your data, such as standardizing, scaling, \n",
    "# or filling missing values.\n",
    "\n",
    "# `merge()` is used to combine two DataFrames based on the values of common columns or indices. It works similarly to SQL joins \n",
    "# (e.g., inner, outer, left, right).\n",
    "\n",
    "# `join()` is similar to `merge()` but is used when you want to join based on indices (rather than column values). \n",
    "# You can also use it to join on a specific column.\n",
    "\n",
    "# `concat()` is used to concatenate DataFrames along rows or columns (axis 0 or axis 1). \n",
    "# This is useful when you want to stack DataFrames vertically or horizontally.\n",
    "\n",
    "# 1. **Forward Fill (`ffill`)**: Fills missing values with the last valid observation.                      df.fillna(method='ffill')\n",
    "# 2. **Backward Fill (`bfill`)**: Fills missing values with the next valid observation.                     df.fillna(method='bfill')\n",
    "# 3. **Fill with a constant value** (e.g., 0): Replaces all missing values with a specified constant.       df.fillna(0)\n",
    "# 4. **Fill with the mean of the column**: Replaces missing values with the mean of the respective column.  df.fillna(df.mean())\n"
   ]
  },
  {
   "cell_type": "markdown",
   "metadata": {},
   "source": [
    "```py\n",
    "pd.read_csv(\n",
    "    filepath_or_buffer,  # Path to the file or buffer\n",
    "    sep=',',  # Delimiter between columns\n",
    "    header='infer',  # Row(s) to use as column names\n",
    "    names=None,  # List of column names to use\n",
    "    index_col=None,  # Column(s) to set as the index\n",
    "    usecols=None,  # Columns to read from the file\n",
    "    dtype=None,  # Data type for each column\n",
    "    engine='c',  # Parser engine to use ('c' or 'python')\n",
    "    skiprows=None,  # Number of rows or indices to skip\n",
    "    na_values=None,  # Additional strings to recognize as NA\n",
    "    nrows=None,  # Number of rows to read\n",
    "    encoding=None,  # File encoding\n",
    "    parse_dates=False,  # Columns to parse as dates\n",
    "    skip_blank_lines=True,  # Whether to skip blank lines\n",
    "    converters=None,  # Functions to convert column values\n",
    "    quoting=0  # Quote handling (default is minimal)\n",
    ")\n",
    "```"
   ]
  },
  {
   "cell_type": "markdown",
   "metadata": {},
   "source": [
    "### 1. **Merge**\n",
    "`merge()` is used to combine two DataFrames based on the values of common columns or indices. It works similarly to SQL joins (e.g., inner, outer, left, right).\n",
    "\n",
    "Example:\n",
    "```python\n",
    "import pandas as pd\n",
    "\n",
    "df1 = pd.DataFrame({'ID': [1, 2, 3], 'Name': ['A', 'B', 'C']})\n",
    "df2 = pd.DataFrame({'ID': [1, 2, 4], 'Age': [21, 22, 23]})\n",
    "\n",
    "result = pd.merge(df1, df2, on='ID', how='inner')  # 'inner', 'outer', 'left', or 'right'\n",
    "print(result)\n",
    "```\n",
    "\n",
    "- **on**: The column name to join on.\n",
    "- **how**: Type of join (`'left'`, `'right'`, `'outer'`, `'inner'`).\n"
   ]
  },
  {
   "cell_type": "code",
   "execution_count": 3,
   "metadata": {},
   "outputs": [
    {
     "name": "stdout",
     "output_type": "stream",
     "text": [
      "   ID Name  Age\n",
      "0   1    A   21\n",
      "1   2    B   22\n"
     ]
    }
   ],
   "source": [
    "import pandas as pd\n",
    "\n",
    "df1 = pd.DataFrame({'ID': [1, 2, 3], 'Name': ['A', 'B', 'C']})\n",
    "df2 = pd.DataFrame({'ID': [1, 2, 4], 'Age': [21, 22, 23]})\n",
    "\n",
    "result = pd.merge(df1, df2, on='ID', how='inner')  # 'inner', 'outer', 'left', or 'right'\n",
    "print(result)"
   ]
  },
  {
   "cell_type": "markdown",
   "metadata": {},
   "source": [
    "### 2. **Join**\n",
    "`join()` is similar to `merge()` but is used when you want to join based on indices (rather than column values). You can also use it to join on a specific column.\n",
    "\n",
    "Example:\n",
    "```python\n",
    "df1 = pd.DataFrame({'ID': [1, 2, 3], 'Name': ['A', 'B', 'C']})\n",
    "df2 = pd.DataFrame({'Age': [21, 22, 23]}, index=[1, 2, 3])\n",
    "\n",
    "result = df1.join(df2)\n",
    "print(result)\n",
    "```\n",
    "\n",
    "- **left**: Left DataFrame.\n",
    "- **right**: Right DataFrame.\n",
    "- By default, it performs a left join on the index.\n",
    "\n"
   ]
  },
  {
   "cell_type": "code",
   "execution_count": 4,
   "metadata": {},
   "outputs": [
    {
     "name": "stdout",
     "output_type": "stream",
     "text": [
      "   ID Name   Age\n",
      "0   1    A   NaN\n",
      "1   2    B  21.0\n",
      "2   3    C  22.0\n"
     ]
    }
   ],
   "source": [
    "# By default it perform left join\n",
    "import pandas as pd\n",
    "df1 = pd.DataFrame({'ID': [1, 2, 3], 'Name': ['A', 'B', 'C']})\n",
    "df2 = pd.DataFrame({'Age': [21, 22, 23]}, index=[1, 2, 3])\n",
    "\n",
    "result = df1.join(df2)\n",
    "print(result)\n"
   ]
  },
  {
   "cell_type": "markdown",
   "metadata": {},
   "source": [
    "\n",
    "### 3. **Concat**\n",
    "`concat()` is used to concatenate DataFrames along rows or columns (axis 0 or axis 1). This is useful when you want to stack DataFrames vertically or horizontally.\n",
    "\n",
    "Example (vertical concatenation):\n",
    "```python\n",
    "df1 = pd.DataFrame({'Name': ['A', 'B'], 'Age': [21, 22]})\n",
    "df2 = pd.DataFrame({'Name': ['C', 'D'], 'Age': [23, 24]})\n",
    "\n",
    "result = pd.concat([df1, df2], axis=0, ignore_index=True)\n",
    "print(result)\n",
    "```\n",
    "\n",
    "Example (horizontal concatenation):\n",
    "```python\n",
    "df1 = pd.DataFrame({'ID': [1, 2], 'Name': ['A', 'B']})\n",
    "df2 = pd.DataFrame({'Age': [21, 22]})\n",
    "\n",
    "result = pd.concat([df1, df2], axis=1)\n",
    "print(result)\n",
    "```\n",
    "\n",
    "- **axis=0**: Concatenates along rows (vertical stacking).\n",
    "- **axis=1**: Concatenates along columns (side-by-side).\n",
    "- **ignore_index=True**: Resets the index after concatenation.\n",
    "\n",
    "### Summary:\n",
    "- **`merge()`**: SQL-style join based on columns or index.\n",
    "- **`join()`**: Join based on index (with optional column-based joining).\n",
    "- **`concat()`**: Stack DataFrames vertically or horizontally."
   ]
  },
  {
   "cell_type": "code",
   "execution_count": 12,
   "metadata": {},
   "outputs": [
    {
     "name": "stdout",
     "output_type": "stream",
     "text": [
      "  Name  Age\n",
      "0    A   21\n",
      "1    B   22\n",
      "\n",
      "  Name  Age\n",
      "0    C   23\n",
      "1    D   24\n",
      "\n",
      "  Name  Age\n",
      "0    A   21\n",
      "1    B   22\n",
      "2    C   23\n",
      "3    D   24\n"
     ]
    }
   ],
   "source": [
    "df1 = pd.DataFrame({'Name': ['A', 'B'], 'Age': [21, 22]})\n",
    "df2 = pd.DataFrame({'Name': ['C', 'D'], 'Age': [23, 24]})\n",
    "\n",
    "result = pd.concat([df1, df2], axis=0, ignore_index=True)\n",
    "print(df1)\n",
    "print()\n",
    "print(df2)\n",
    "print()\n",
    "print(result)"
   ]
  },
  {
   "cell_type": "code",
   "execution_count": 11,
   "metadata": {},
   "outputs": [
    {
     "name": "stdout",
     "output_type": "stream",
     "text": [
      "  Name  Age\n",
      "0    A   21\n",
      "1    B   22\n",
      "\n",
      "  Name  Age\n",
      "0    C   23\n",
      "1    D   24\n",
      "\n",
      "   0   1  2   3\n",
      "0  A  21  C  23\n",
      "1  B  22  D  24\n"
     ]
    }
   ],
   "source": [
    "df1 = pd.DataFrame({'Name': ['A', 'B'], 'Age': [21, 22]})\n",
    "df2 = pd.DataFrame({'Name': ['C', 'D'], 'Age': [23, 24]})\n",
    "\n",
    "result = pd.concat([df1, df2], axis=1, ignore_index=True)\n",
    "print(df1)\n",
    "print()\n",
    "print(df2)\n",
    "print()\n",
    "print(result)"
   ]
  },
  {
   "cell_type": "code",
   "execution_count": 3,
   "metadata": {},
   "outputs": [
    {
     "data": {
      "text/html": [
       "<div>\n",
       "<style scoped>\n",
       "    .dataframe tbody tr th:only-of-type {\n",
       "        vertical-align: middle;\n",
       "    }\n",
       "\n",
       "    .dataframe tbody tr th {\n",
       "        vertical-align: top;\n",
       "    }\n",
       "\n",
       "    .dataframe thead th {\n",
       "        text-align: right;\n",
       "    }\n",
       "</style>\n",
       "<table border=\"1\" class=\"dataframe\">\n",
       "  <thead>\n",
       "    <tr style=\"text-align: right;\">\n",
       "      <th></th>\n",
       "      <th>a</th>\n",
       "      <th>b</th>\n",
       "    </tr>\n",
       "  </thead>\n",
       "  <tbody>\n",
       "    <tr>\n",
       "      <th>1</th>\n",
       "      <td>1</td>\n",
       "      <td>2</td>\n",
       "    </tr>\n",
       "    <tr>\n",
       "      <th>2</th>\n",
       "      <td>1</td>\n",
       "      <td>2</td>\n",
       "    </tr>\n",
       "  </tbody>\n",
       "</table>\n",
       "</div>"
      ],
      "text/plain": [
       "   a  b\n",
       "1  1  2\n",
       "2  1  2"
      ]
     },
     "execution_count": 3,
     "metadata": {},
     "output_type": "execute_result"
    }
   ],
   "source": [
    "\n",
    "# Practice Problems for Part 1\n",
    "\n",
    "# 1. Create a Pandas Series from a list of numbers from 1 to 10 and print the Series.\n",
    "\n",
    "import numpy as np \n",
    "import pandas as pd \n",
    "\n",
    "df = pd.DataFrame({'a':1,'b':2},index=[1,2])\n",
    "df"
   ]
  },
  {
   "cell_type": "code",
   "execution_count": null,
   "metadata": {},
   "outputs": [],
   "source": [
    "import pandas as pd\n",
    "\n",
    "# List data, specifying dtype and name\n",
    "data = [1, 2, 3, 4, 5]\n",
    "series1 = pd.Series(data, dtype='int64', name=\"Numbers1\")\n",
    "series2 = pd.Series(data, dtype='int64', name=\"Numbers2\")\n",
    "\n",
    "df = pd.DataFrame([series1,series2], index = range(len(series1))) # ValueError: Length of values (2) does not match length of index (5)\n"
   ]
  },
  {
   "cell_type": "code",
   "execution_count": 39,
   "metadata": {},
   "outputs": [
    {
     "data": {
      "text/plain": [
       "0     5\n",
       "1    10\n",
       "2    15\n",
       "3    20\n",
       "4    15\n",
       "Name: Marks, dtype: int64"
      ]
     },
     "execution_count": 39,
     "metadata": {},
     "output_type": "execute_result"
    }
   ],
   "source": [
    "marks = [5,10,15,20,15]\n",
    "pd.Series(data=marks, name=\"Marks\")"
   ]
  },
  {
   "cell_type": "code",
   "execution_count": 35,
   "metadata": {},
   "outputs": [
    {
     "data": {
      "text/plain": [
       "0    A\n",
       "1    B\n",
       "2    C\n",
       "Name: student_grades, dtype: object"
      ]
     },
     "execution_count": 35,
     "metadata": {},
     "output_type": "execute_result"
    }
   ],
   "source": [
    "grades = [\"A\",\"B\",\"C\"]\n",
    "pd.Series(data=grades, name=\"student_grades\")"
   ]
  },
  {
   "cell_type": "code",
   "execution_count": 43,
   "metadata": {},
   "outputs": [
    {
     "data": {
      "text/plain": [
       "array([[5, 10, 15, 20.0, 15.0],\n",
       "       ['A', 'B', 'C', nan, nan]], dtype=object)"
      ]
     },
     "execution_count": 43,
     "metadata": {},
     "output_type": "execute_result"
    }
   ],
   "source": [
    "marks = [5,10,15,20,15]\n",
    "grades = [\"A\",\"B\",\"C\"]\n",
    "series1 = pd.Series(data=marks, name=\"Marks\")\n",
    "series2 = pd.Series(data=grades, name=\"student_grades\")\n",
    "\n",
    "df = pd.DataFrame(data=[series1,series2])\n",
    "df.values"
   ]
  },
  {
   "cell_type": "code",
   "execution_count": 8,
   "metadata": {},
   "outputs": [
    {
     "name": "stdout",
     "output_type": "stream",
     "text": [
      "   0  1  2  3  4\n",
      "0  a  b  c  d  e\n",
      "1  a  b  c  d  e\n"
     ]
    }
   ],
   "source": [
    "# The index parameter is used to define the labels for the rows in the DataFrame.\n",
    "# The columns parameter is used to define the labels for the columns in the DataFrame.\n",
    "\n",
    "# When you pass a list of Series objects ([series1, series2]) to the DataFrame constructor, each Series becomes a row in the DataFrame by default.\n",
    "import pandas as pd\n",
    "\n",
    "# List data, specifying dtype and name\n",
    "data = [1, 2, 3, 4, 5]\n",
    "data1 = ['a','b','c','d','e']\n",
    "series1 = pd.Series(data1)#, name=\"Numbers1\")\n",
    "series2 = pd.Series(data1)#, name=\"Numbers2\")\n",
    "\n",
    "# Creating DataFrame with 2 rows and matching index\n",
    "df = pd.DataFrame([series1, series2])\n",
    "\n",
    "print(df)\n",
    "\n"
   ]
  },
  {
   "cell_type": "code",
   "execution_count": 79,
   "metadata": {},
   "outputs": [
    {
     "name": "stdout",
     "output_type": "stream",
     "text": [
      "    A   B\n",
      "0 NaN NaN\n",
      "1 NaN NaN\n"
     ]
    }
   ],
   "source": [
    "# If you want the data to appear vertically with custom column names, you can specify the columns parameter when creating the DataFrame:\n",
    "import pandas as pd\n",
    "\n",
    "# Data for two series\n",
    "data1 = [1, 2, 3, 4, 5]\n",
    "data2 = [6, 7, 8, 9, 10]\n",
    "\n",
    "# Create two Series\n",
    "series1 = pd.Series(data1)\n",
    "series2 = pd.Series(data2)\n",
    "\n",
    "# Create DataFrame with custom column names\n",
    "df = pd.DataFrame([series1, series2], columns=['A', 'B'])\n",
    "\n",
    "print(df)\n"
   ]
  },
  {
   "cell_type": "code",
   "execution_count": 80,
   "metadata": {},
   "outputs": [
    {
     "name": "stdout",
     "output_type": "stream",
     "text": [
      "   A   B\n",
      "0  1   6\n",
      "1  2   7\n",
      "2  3   8\n",
      "3  4   9\n",
      "4  5  10\n"
     ]
    }
   ],
   "source": [
    "import pandas as pd\n",
    "\n",
    "# Data for two series\n",
    "data1 = [1, 2, 3, 4, 5]\n",
    "data2 = [6, 7, 8, 9, 10]\n",
    "\n",
    "# Create DataFrame with custom column names\n",
    "df = pd.DataFrame({'A': data1, 'B': data2})\n",
    "\n",
    "print(df)\n",
    "\n",
    "# DataFrame\n",
    "#   |   |   |   |   |\n",
    "#------------------------\n",
    "#   |   series1\n",
    "#   |   series2\n",
    "#   |   series2\n",
    "#   |   series3"
   ]
  },
  {
   "cell_type": "code",
   "execution_count": null,
   "metadata": {},
   "outputs": [],
   "source": [
    "# pd.DataFrame([series1, series2], columns=['A', 'B', 'C', 'D', 'E']):\n",
    "\n",
    "# Here, you're passing a list of Series objects ([series1, series2]) to the pd.DataFrame constructor.\n",
    "\n",
    "# The columns parameter specifies the column names for the DataFrame.\n",
    "\n",
    "# However, the pd.DataFrame constructor interprets the list of Series as rows, not columns. \n",
    "# This means it tries to create a DataFrame where each Series is a row, and the columns are labeled as ['A', 'B', 'C', 'D', 'E'].\n",
    "\n",
    "\n",
    "# Mismatch in Dimensions:\n",
    "\n",
    "# Each Series (series1 and series2) has 5 elements, but the columns parameter specifies 5 column names.\n",
    "\n",
    "# Since the Series are being treated as rows, the constructor tries to align the Series indices with the column names. Since there's no direct alignment, it fills the DataFrame with NaN (Not a Number) values.\n",
    "\n"
   ]
  },
  {
   "cell_type": "code",
   "execution_count": 75,
   "metadata": {},
   "outputs": [
    {
     "name": "stdout",
     "output_type": "stream",
     "text": [
      "X    100\n",
      "Y    200\n",
      "Z    300\n",
      "Name: Values, dtype: int64\n"
     ]
    }
   ],
   "source": [
    "import pandas as pd\n",
    "\n",
    "# List of data\n",
    "data = [100, 200, 300]\n",
    "\n",
    "# Specifying index and name\n",
    "# index = ['X', 'Y', 'Z']\n",
    "series = pd.Series(data, index=['X', 'Y', 'Z'], name=\"Values\")\n",
    "\n",
    "# Print the Series\n",
    "print(series)\n"
   ]
  },
  {
   "cell_type": "code",
   "execution_count": 48,
   "metadata": {},
   "outputs": [
    {
     "name": "stdout",
     "output_type": "stream",
     "text": [
      "      A  B  C\n",
      "Row1  1  2  3\n",
      "Row2  4  5  6\n",
      "Row3  7  8  9\n"
     ]
    }
   ],
   "source": [
    "import pandas as pd\n",
    "\n",
    "# Create some data\n",
    "data = {'A': [1, 4, 7], 'B': [2, 5, 8], 'C': [3, 6, 9]}\n",
    "\n",
    "# Specify the index and columns\n",
    "index = ['Row1', 'Row2', 'Row3']\n",
    "columns = ['A', 'B', 'C']\n",
    "\n",
    "# Create DataFrame\n",
    "df = pd.DataFrame(data, index=index, columns=columns)\n",
    "\n",
    "print(df)\n"
   ]
  },
  {
   "cell_type": "code",
   "execution_count": 92,
   "metadata": {},
   "outputs": [
    {
     "data": {
      "text/html": [
       "<div>\n",
       "<style scoped>\n",
       "    .dataframe tbody tr th:only-of-type {\n",
       "        vertical-align: middle;\n",
       "    }\n",
       "\n",
       "    .dataframe tbody tr th {\n",
       "        vertical-align: top;\n",
       "    }\n",
       "\n",
       "    .dataframe thead th {\n",
       "        text-align: right;\n",
       "    }\n",
       "</style>\n",
       "<table border=\"1\" class=\"dataframe\">\n",
       "  <thead>\n",
       "    <tr style=\"text-align: right;\">\n",
       "      <th></th>\n",
       "      <th>A</th>\n",
       "      <th>B</th>\n",
       "      <th>C</th>\n",
       "    </tr>\n",
       "  </thead>\n",
       "  <tbody>\n",
       "    <tr>\n",
       "      <th>0</th>\n",
       "      <td>1</td>\n",
       "      <td>4</td>\n",
       "      <td>7</td>\n",
       "    </tr>\n",
       "    <tr>\n",
       "      <th>1</th>\n",
       "      <td>2</td>\n",
       "      <td>5</td>\n",
       "      <td>8</td>\n",
       "    </tr>\n",
       "    <tr>\n",
       "      <th>2</th>\n",
       "      <td>3</td>\n",
       "      <td>6</td>\n",
       "      <td>9</td>\n",
       "    </tr>\n",
       "  </tbody>\n",
       "</table>\n",
       "</div>"
      ],
      "text/plain": [
       "   A  B  C\n",
       "0  1  4  7\n",
       "1  2  5  8\n",
       "2  3  6  9"
      ]
     },
     "execution_count": 92,
     "metadata": {},
     "output_type": "execute_result"
    }
   ],
   "source": [
    "df = pd.DataFrame({'A':[1,2,3],'B':[4,5,6],\"C\":[7,8,9]})\n",
    "\n",
    "df1 = pd.DataFrame(df.values,columns=['A',\"B\",\"C\"])\n",
    "df1"
   ]
  },
  {
   "cell_type": "code",
   "execution_count": 13,
   "metadata": {},
   "outputs": [
    {
     "data": {
      "text/html": [
       "<div>\n",
       "<style scoped>\n",
       "    .dataframe tbody tr th:only-of-type {\n",
       "        vertical-align: middle;\n",
       "    }\n",
       "\n",
       "    .dataframe tbody tr th {\n",
       "        vertical-align: top;\n",
       "    }\n",
       "\n",
       "    .dataframe thead th {\n",
       "        text-align: right;\n",
       "    }\n",
       "</style>\n",
       "<table border=\"1\" class=\"dataframe\">\n",
       "  <thead>\n",
       "    <tr style=\"text-align: right;\">\n",
       "      <th></th>\n",
       "      <th>Name</th>\n",
       "      <th>Age</th>\n",
       "      <th>Gender</th>\n",
       "    </tr>\n",
       "  </thead>\n",
       "  <tbody>\n",
       "    <tr>\n",
       "      <th>0</th>\n",
       "      <td>Alice</td>\n",
       "      <td>10</td>\n",
       "      <td>Male</td>\n",
       "    </tr>\n",
       "    <tr>\n",
       "      <th>1</th>\n",
       "      <td>John</td>\n",
       "      <td>11</td>\n",
       "      <td>Male</td>\n",
       "    </tr>\n",
       "    <tr>\n",
       "      <th>2</th>\n",
       "      <td>Sagar</td>\n",
       "      <td>12</td>\n",
       "      <td>Male</td>\n",
       "    </tr>\n",
       "  </tbody>\n",
       "</table>\n",
       "</div>"
      ],
      "text/plain": [
       "    Name  Age Gender\n",
       "0  Alice   10   Male\n",
       "1   John   11   Male\n",
       "2  Sagar   12   Male"
      ]
     },
     "execution_count": 13,
     "metadata": {},
     "output_type": "execute_result"
    }
   ],
   "source": [
    "# 2. Create a Pandas DataFrame from a dictionary with keys 'Name', 'Age', and 'Gender', and add at least three records. Print the DataFrame.\n",
    "\n",
    "import pandas as pd\n",
    "\n",
    "d = {\n",
    "        \"Name\":[\"Alice\",\"John\",\"Sagar\"],\n",
    "        \"Age\":[10,11,12],\n",
    "        \"Gender\":[\"Male\",\"Male\",\"Male\"]\n",
    "    }\n",
    "\n",
    "pd.DataFrame(d)\n"
   ]
  },
  {
   "cell_type": "code",
   "execution_count": null,
   "metadata": {},
   "outputs": [],
   "source": [
    "# 3. Load a CSV file into a Pandas DataFrame and print the first 5 rows.\n",
    "# Assuming 'data.csv' is present in the same directory.\n",
    "\n",
    "# df = pd.read_csv(\"data.csv\")\n",
    "# df.head(5)\n"
   ]
  },
  {
   "cell_type": "code",
   "execution_count": 44,
   "metadata": {},
   "outputs": [
    {
     "data": {
      "text/plain": [
       "Name    2\n",
       "Age     2\n",
       "dtype: int64"
      ]
     },
     "execution_count": 44,
     "metadata": {},
     "output_type": "execute_result"
    }
   ],
   "source": [
    "# 4. Identify and count missing values in a given DataFrame.\n",
    "import numpy as np\n",
    "df = pd.DataFrame(\n",
    "    {\n",
    "        \"Name\": [\"A\",np.nan,\"C\",\"D\",np.nan,\"F\"],\n",
    "        \"Age\":[np.nan, 2, 3, np.nan, 5,6],\n",
    "\n",
    "    }\n",
    ")\n",
    "\n",
    "df.isna().sum()\n"
   ]
  },
  {
   "cell_type": "code",
   "execution_count": 45,
   "metadata": {},
   "outputs": [
    {
     "data": {
      "text/plain": [
       "6"
      ]
     },
     "execution_count": 45,
     "metadata": {},
     "output_type": "execute_result"
    }
   ],
   "source": [
    "len(df)"
   ]
  },
  {
   "cell_type": "code",
   "execution_count": 46,
   "metadata": {},
   "outputs": [],
   "source": [
    "# 5. Drop columns from a DataFrame where more than 50% of the values are missing.\n",
    "\n",
    "df.dropna(axis=1, thresh=len(df) * 0.5 , inplace=True)"
   ]
  },
  {
   "cell_type": "code",
   "execution_count": 47,
   "metadata": {},
   "outputs": [
    {
     "data": {
      "text/html": [
       "<div>\n",
       "<style scoped>\n",
       "    .dataframe tbody tr th:only-of-type {\n",
       "        vertical-align: middle;\n",
       "    }\n",
       "\n",
       "    .dataframe tbody tr th {\n",
       "        vertical-align: top;\n",
       "    }\n",
       "\n",
       "    .dataframe thead th {\n",
       "        text-align: right;\n",
       "    }\n",
       "</style>\n",
       "<table border=\"1\" class=\"dataframe\">\n",
       "  <thead>\n",
       "    <tr style=\"text-align: right;\">\n",
       "      <th></th>\n",
       "      <th>Name</th>\n",
       "      <th>Age</th>\n",
       "    </tr>\n",
       "  </thead>\n",
       "  <tbody>\n",
       "    <tr>\n",
       "      <th>0</th>\n",
       "      <td>A</td>\n",
       "      <td>NaN</td>\n",
       "    </tr>\n",
       "    <tr>\n",
       "      <th>1</th>\n",
       "      <td>NaN</td>\n",
       "      <td>2.0</td>\n",
       "    </tr>\n",
       "    <tr>\n",
       "      <th>2</th>\n",
       "      <td>C</td>\n",
       "      <td>3.0</td>\n",
       "    </tr>\n",
       "    <tr>\n",
       "      <th>3</th>\n",
       "      <td>D</td>\n",
       "      <td>NaN</td>\n",
       "    </tr>\n",
       "    <tr>\n",
       "      <th>4</th>\n",
       "      <td>NaN</td>\n",
       "      <td>5.0</td>\n",
       "    </tr>\n",
       "    <tr>\n",
       "      <th>5</th>\n",
       "      <td>F</td>\n",
       "      <td>6.0</td>\n",
       "    </tr>\n",
       "  </tbody>\n",
       "</table>\n",
       "</div>"
      ],
      "text/plain": [
       "  Name  Age\n",
       "0    A  NaN\n",
       "1  NaN  2.0\n",
       "2    C  3.0\n",
       "3    D  NaN\n",
       "4  NaN  5.0\n",
       "5    F  6.0"
      ]
     },
     "execution_count": 47,
     "metadata": {},
     "output_type": "execute_result"
    }
   ],
   "source": [
    "df"
   ]
  },
  {
   "cell_type": "code",
   "execution_count": 49,
   "metadata": {},
   "outputs": [
    {
     "data": {
      "text/plain": [
       "0     NaN\n",
       "1     6.0\n",
       "2     7.0\n",
       "3     NaN\n",
       "4     9.0\n",
       "5    10.0\n",
       "Name: New_Age, dtype: float64"
      ]
     },
     "execution_count": 49,
     "metadata": {},
     "output_type": "execute_result"
    }
   ],
   "source": [
    "# 6. Add a new column to a DataFrame by performing arithmetic operations on existing columns.\n",
    "\n",
    "df[\"New_Age\"] = df[\"Age\"] + 2\n",
    "df[\"New_Age\"]"
   ]
  },
  {
   "cell_type": "code",
   "execution_count": 59,
   "metadata": {},
   "outputs": [],
   "source": [
    "# Part 2\n",
    "\n",
    "import pandas as pd\n",
    "\n",
    "# create data.csv\n",
    "data = {'Company': ['Google', 'Google', 'Microsoft', 'Microsoft', 'Facebook', 'Facebook'],\n",
    "        'Person': ['Sam', 'Charlie', 'Amy', 'Vanessa', 'Carl', 'Sarah'],\n",
    "        'Sales': [200, 120, 340, 124, 243, 350]\n",
    "        }\n",
    "\n",
    "df = pd.DataFrame(data)\n",
    "df.to_csv(\"data.csv\")"
   ]
  },
  {
   "cell_type": "code",
   "execution_count": 63,
   "metadata": {},
   "outputs": [
    {
     "data": {
      "text/html": [
       "<div>\n",
       "<style scoped>\n",
       "    .dataframe tbody tr th:only-of-type {\n",
       "        vertical-align: middle;\n",
       "    }\n",
       "\n",
       "    .dataframe tbody tr th {\n",
       "        vertical-align: top;\n",
       "    }\n",
       "\n",
       "    .dataframe thead th {\n",
       "        text-align: right;\n",
       "    }\n",
       "</style>\n",
       "<table border=\"1\" class=\"dataframe\">\n",
       "  <thead>\n",
       "    <tr style=\"text-align: right;\">\n",
       "      <th></th>\n",
       "      <th>Company</th>\n",
       "      <th>Person</th>\n",
       "      <th>Sales</th>\n",
       "    </tr>\n",
       "  </thead>\n",
       "  <tbody>\n",
       "    <tr>\n",
       "      <th>0</th>\n",
       "      <td>Google</td>\n",
       "      <td>Sam</td>\n",
       "      <td>200</td>\n",
       "    </tr>\n",
       "    <tr>\n",
       "      <th>1</th>\n",
       "      <td>Google</td>\n",
       "      <td>Charlie</td>\n",
       "      <td>120</td>\n",
       "    </tr>\n",
       "    <tr>\n",
       "      <th>2</th>\n",
       "      <td>Microsoft</td>\n",
       "      <td>Amy</td>\n",
       "      <td>340</td>\n",
       "    </tr>\n",
       "    <tr>\n",
       "      <th>3</th>\n",
       "      <td>Microsoft</td>\n",
       "      <td>Vanessa</td>\n",
       "      <td>124</td>\n",
       "    </tr>\n",
       "    <tr>\n",
       "      <th>4</th>\n",
       "      <td>Facebook</td>\n",
       "      <td>Carl</td>\n",
       "      <td>243</td>\n",
       "    </tr>\n",
       "    <tr>\n",
       "      <th>5</th>\n",
       "      <td>Facebook</td>\n",
       "      <td>Sarah</td>\n",
       "      <td>350</td>\n",
       "    </tr>\n",
       "  </tbody>\n",
       "</table>\n",
       "</div>"
      ],
      "text/plain": [
       "     Company   Person  Sales\n",
       "0     Google      Sam    200\n",
       "1     Google  Charlie    120\n",
       "2  Microsoft      Amy    340\n",
       "3  Microsoft  Vanessa    124\n",
       "4   Facebook     Carl    243\n",
       "5   Facebook    Sarah    350"
      ]
     },
     "execution_count": 63,
     "metadata": {},
     "output_type": "execute_result"
    }
   ],
   "source": [
    "# 1. Load a CSV file into a DataFrame and print the first 10 rows\n",
    "csv = pd.read_csv(\"data.csv\",index_col=[\"Unnamed: 0\"])\n",
    "csv"
   ]
  },
  {
   "cell_type": "code",
   "execution_count": 65,
   "metadata": {},
   "outputs": [
    {
     "name": "stdout",
     "output_type": "stream",
     "text": [
      "<class 'pandas.core.frame.DataFrame'>\n",
      "Index: 6 entries, 0 to 5\n",
      "Data columns (total 3 columns):\n",
      " #   Column   Non-Null Count  Dtype \n",
      "---  ------   --------------  ----- \n",
      " 0   Company  6 non-null      object\n",
      " 1   Person   6 non-null      object\n",
      " 2   Sales    6 non-null      int64 \n",
      "dtypes: int64(1), object(2)\n",
      "memory usage: 192.0+ bytes\n"
     ]
    }
   ],
   "source": [
    "# 2. Inspect the DataFrame to find out how many missing values are present in each column.\n",
    "csv.info()"
   ]
  },
  {
   "cell_type": "code",
   "execution_count": 66,
   "metadata": {},
   "outputs": [],
   "source": [
    "# 3. Fill the missing values in the DataFrame with the mean of their respective columns.\n",
    "\n",
    "# df.fillna(df.mean())\n"
   ]
  },
  {
   "cell_type": "code",
   "execution_count": 67,
   "metadata": {},
   "outputs": [
    {
     "data": {
      "text/html": [
       "<div>\n",
       "<style scoped>\n",
       "    .dataframe tbody tr th:only-of-type {\n",
       "        vertical-align: middle;\n",
       "    }\n",
       "\n",
       "    .dataframe tbody tr th {\n",
       "        vertical-align: top;\n",
       "    }\n",
       "\n",
       "    .dataframe thead th {\n",
       "        text-align: right;\n",
       "    }\n",
       "</style>\n",
       "<table border=\"1\" class=\"dataframe\">\n",
       "  <thead>\n",
       "    <tr style=\"text-align: right;\">\n",
       "      <th></th>\n",
       "      <th>key</th>\n",
       "      <th>value1</th>\n",
       "      <th>value2</th>\n",
       "    </tr>\n",
       "  </thead>\n",
       "  <tbody>\n",
       "    <tr>\n",
       "      <th>0</th>\n",
       "      <td>A</td>\n",
       "      <td>1</td>\n",
       "      <td>5</td>\n",
       "    </tr>\n",
       "    <tr>\n",
       "      <th>1</th>\n",
       "      <td>B</td>\n",
       "      <td>2</td>\n",
       "      <td>6</td>\n",
       "    </tr>\n",
       "    <tr>\n",
       "      <th>2</th>\n",
       "      <td>C</td>\n",
       "      <td>3</td>\n",
       "      <td>7</td>\n",
       "    </tr>\n",
       "    <tr>\n",
       "      <th>3</th>\n",
       "      <td>D</td>\n",
       "      <td>4</td>\n",
       "      <td>8</td>\n",
       "    </tr>\n",
       "  </tbody>\n",
       "</table>\n",
       "</div>"
      ],
      "text/plain": [
       "  key  value1  value2\n",
       "0   A       1       5\n",
       "1   B       2       6\n",
       "2   C       3       7\n",
       "3   D       4       8"
      ]
     },
     "execution_count": 67,
     "metadata": {},
     "output_type": "execute_result"
    }
   ],
   "source": [
    "# 4. Merge two DataFrames on a common key and print the result.\n",
    "\n",
    "df1 = pd.DataFrame({'key': ['A', 'B', 'C', 'D'],\n",
    "                    'value1': [1, 2, 3, 4]})\n",
    "df2 = pd.DataFrame({'key': ['A', 'B', 'C', 'D'],\n",
    "                    'value2': [5, 6, 7, 8]})\n",
    "\n",
    "pd.merge(df1,df2,on=\"key\",how=\"inner\")"
   ]
  },
  {
   "cell_type": "code",
   "execution_count": 71,
   "metadata": {},
   "outputs": [
    {
     "data": {
      "text/html": [
       "<div>\n",
       "<style scoped>\n",
       "    .dataframe tbody tr th:only-of-type {\n",
       "        vertical-align: middle;\n",
       "    }\n",
       "\n",
       "    .dataframe tbody tr th {\n",
       "        vertical-align: top;\n",
       "    }\n",
       "\n",
       "    .dataframe thead th {\n",
       "        text-align: right;\n",
       "    }\n",
       "</style>\n",
       "<table border=\"1\" class=\"dataframe\">\n",
       "  <thead>\n",
       "    <tr style=\"text-align: right;\">\n",
       "      <th></th>\n",
       "      <th>key</th>\n",
       "      <th>value1</th>\n",
       "      <th>value2</th>\n",
       "    </tr>\n",
       "  </thead>\n",
       "  <tbody>\n",
       "    <tr>\n",
       "      <th>0</th>\n",
       "      <td>A</td>\n",
       "      <td>1.0</td>\n",
       "      <td>NaN</td>\n",
       "    </tr>\n",
       "    <tr>\n",
       "      <th>1</th>\n",
       "      <td>B</td>\n",
       "      <td>2.0</td>\n",
       "      <td>NaN</td>\n",
       "    </tr>\n",
       "    <tr>\n",
       "      <th>2</th>\n",
       "      <td>C</td>\n",
       "      <td>3.0</td>\n",
       "      <td>NaN</td>\n",
       "    </tr>\n",
       "    <tr>\n",
       "      <th>3</th>\n",
       "      <td>D</td>\n",
       "      <td>4.0</td>\n",
       "      <td>NaN</td>\n",
       "    </tr>\n",
       "    <tr>\n",
       "      <th>0</th>\n",
       "      <td>A</td>\n",
       "      <td>NaN</td>\n",
       "      <td>5.0</td>\n",
       "    </tr>\n",
       "    <tr>\n",
       "      <th>1</th>\n",
       "      <td>B</td>\n",
       "      <td>NaN</td>\n",
       "      <td>6.0</td>\n",
       "    </tr>\n",
       "    <tr>\n",
       "      <th>2</th>\n",
       "      <td>C</td>\n",
       "      <td>NaN</td>\n",
       "      <td>7.0</td>\n",
       "    </tr>\n",
       "    <tr>\n",
       "      <th>3</th>\n",
       "      <td>D</td>\n",
       "      <td>NaN</td>\n",
       "      <td>8.0</td>\n",
       "    </tr>\n",
       "  </tbody>\n",
       "</table>\n",
       "</div>"
      ],
      "text/plain": [
       "  key  value1  value2\n",
       "0   A     1.0     NaN\n",
       "1   B     2.0     NaN\n",
       "2   C     3.0     NaN\n",
       "3   D     4.0     NaN\n",
       "0   A     NaN     5.0\n",
       "1   B     NaN     6.0\n",
       "2   C     NaN     7.0\n",
       "3   D     NaN     8.0"
      ]
     },
     "execution_count": 71,
     "metadata": {},
     "output_type": "execute_result"
    }
   ],
   "source": [
    "# 5. Concatenate two DataFrames along the columns and print the result.\n",
    "\n",
    "pd.concat([df1,df2],axis=0)"
   ]
  },
  {
   "cell_type": "code",
   "execution_count": 79,
   "metadata": {},
   "outputs": [
    {
     "data": {
      "text/plain": [
       "dept\n",
       "ai     5000\n",
       "bba    5500\n",
       "cs     4600\n",
       "Name: salary, dtype: int64"
      ]
     },
     "execution_count": 79,
     "metadata": {},
     "output_type": "execute_result"
    }
   ],
   "source": [
    "# part 3\n",
    "\n",
    "# 1. Create a DataFrame and group the data by a specific column. Apply aggregate functions like sum and mean to the groups.\n",
    "\n",
    "data = pd.DataFrame({\n",
    "    \"empid\":[1,2,3,4,5,6],\n",
    "    \"ename\":[\"A\",\"B\",\"C\",\"D\",\"E\",\"F\"],\n",
    "    \"salary\":[3000,1500,2500,2700,2300,3100],\n",
    "    \"dept\":[\"bba\",\"cs\",\"bba\",\"ai\",\"ai\",\"cs\"],\n",
    "    \n",
    "})\n",
    "\n",
    "data.groupby(\"dept\")[\"salary\"].sum()"
   ]
  },
  {
   "cell_type": "code",
   "execution_count": 81,
   "metadata": {},
   "outputs": [
    {
     "data": {
      "text/html": [
       "<div>\n",
       "<style scoped>\n",
       "    .dataframe tbody tr th:only-of-type {\n",
       "        vertical-align: middle;\n",
       "    }\n",
       "\n",
       "    .dataframe tbody tr th {\n",
       "        vertical-align: top;\n",
       "    }\n",
       "\n",
       "    .dataframe thead th {\n",
       "        text-align: right;\n",
       "    }\n",
       "</style>\n",
       "<table border=\"1\" class=\"dataframe\">\n",
       "  <thead>\n",
       "    <tr style=\"text-align: right;\">\n",
       "      <th>dept</th>\n",
       "      <th>ai</th>\n",
       "      <th>bba</th>\n",
       "      <th>cs</th>\n",
       "    </tr>\n",
       "    <tr>\n",
       "      <th>empid</th>\n",
       "      <th></th>\n",
       "      <th></th>\n",
       "      <th></th>\n",
       "    </tr>\n",
       "  </thead>\n",
       "  <tbody>\n",
       "    <tr>\n",
       "      <th>1</th>\n",
       "      <td>0.0</td>\n",
       "      <td>3000.0</td>\n",
       "      <td>0.0</td>\n",
       "    </tr>\n",
       "    <tr>\n",
       "      <th>2</th>\n",
       "      <td>0.0</td>\n",
       "      <td>0.0</td>\n",
       "      <td>1500.0</td>\n",
       "    </tr>\n",
       "    <tr>\n",
       "      <th>3</th>\n",
       "      <td>0.0</td>\n",
       "      <td>2500.0</td>\n",
       "      <td>0.0</td>\n",
       "    </tr>\n",
       "    <tr>\n",
       "      <th>4</th>\n",
       "      <td>2700.0</td>\n",
       "      <td>0.0</td>\n",
       "      <td>0.0</td>\n",
       "    </tr>\n",
       "    <tr>\n",
       "      <th>5</th>\n",
       "      <td>2300.0</td>\n",
       "      <td>0.0</td>\n",
       "      <td>0.0</td>\n",
       "    </tr>\n",
       "    <tr>\n",
       "      <th>6</th>\n",
       "      <td>0.0</td>\n",
       "      <td>0.0</td>\n",
       "      <td>3100.0</td>\n",
       "    </tr>\n",
       "  </tbody>\n",
       "</table>\n",
       "</div>"
      ],
      "text/plain": [
       "dept       ai     bba      cs\n",
       "empid                        \n",
       "1         0.0  3000.0     0.0\n",
       "2         0.0     0.0  1500.0\n",
       "3         0.0  2500.0     0.0\n",
       "4      2700.0     0.0     0.0\n",
       "5      2300.0     0.0     0.0\n",
       "6         0.0     0.0  3100.0"
      ]
     },
     "execution_count": 81,
     "metadata": {},
     "output_type": "execute_result"
    }
   ],
   "source": [
    "# 2. Create a pivot table from a DataFrame with multiple aggregation functions.\n",
    "\n",
    "data.pivot_table(index=\"empid\",columns=\"dept\",values=\"salary\",aggfunc=\"sum\").fillna(0)"
   ]
  },
  {
   "cell_type": "code",
   "execution_count": 84,
   "metadata": {},
   "outputs": [
    {
     "data": {
      "text/plain": [
       "DatetimeIndex(['2025-01-01', '2025-01-02', '2025-01-03', '2025-01-04',\n",
       "               '2025-01-05', '2025-01-06', '2025-01-07', '2025-01-08',\n",
       "               '2025-01-09', '2025-01-10',\n",
       "               ...\n",
       "               '2025-05-04', '2025-05-05', '2025-05-06', '2025-05-07',\n",
       "               '2025-05-08', '2025-05-09', '2025-05-10', '2025-05-11',\n",
       "               '2025-05-12', '2025-05-13'],\n",
       "              dtype='datetime64[ns]', length=133, freq='D')"
      ]
     },
     "execution_count": 84,
     "metadata": {},
     "output_type": "execute_result"
    }
   ],
   "source": [
    "# 4. Create a time series DataFrame and resample the data. Fill missing values in the time series.\n",
    "\n",
    "time_series = pd.date_range(start=\"2025-01-01\",end=\"2025-05-13\")\n",
    "time_series"
   ]
  },
  {
   "cell_type": "code",
   "execution_count": null,
   "metadata": {},
   "outputs": [],
   "source": []
  }
 ],
 "metadata": {
  "kernelspec": {
   "display_name": "Python 3.12.0 64-bit",
   "language": "python",
   "name": "python3"
  },
  "language_info": {
   "codemirror_mode": {
    "name": "ipython",
    "version": 3
   },
   "file_extension": ".py",
   "mimetype": "text/x-python",
   "name": "python",
   "nbconvert_exporter": "python",
   "pygments_lexer": "ipython3",
   "version": "3.12.0"
  },
  "orig_nbformat": 4,
  "vscode": {
   "interpreter": {
    "hash": "53d8eca44c0f2e0b87fb88d9c05acfddfe83b50bdd73069bed107cca5f5caedf"
   }
  }
 },
 "nbformat": 4,
 "nbformat_minor": 2
}
