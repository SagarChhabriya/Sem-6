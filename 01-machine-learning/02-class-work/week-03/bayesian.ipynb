{
 "cells": [
  {
   "cell_type": "code",
   "execution_count": 7,
   "metadata": {},
   "outputs": [],
   "source": [
    "from pgmpy.models import BayesianNetwork\n",
    "from pgmpy.models import DiscreteBayesianNetwork\n",
    "from pgmpy.factors.discrete import TabularCPD\n",
    "from pgmpy.inference import VariableElimination"
   ]
  },
  {
   "cell_type": "code",
   "execution_count": 14,
   "metadata": {},
   "outputs": [
    {
     "name": "stdout",
     "output_type": "stream",
     "text": [
      "+------------+----------------+\n",
      "| Disease    |   phi(Disease) |\n",
      "+============+================+\n",
      "| Disease(0) |         0.9391 |\n",
      "+------------+----------------+\n",
      "| Disease(1) |         0.0609 |\n",
      "+------------+----------------+\n"
     ]
    }
   ],
   "source": [
    "# Step 1:Define the structure of the Bayesian Network\n",
    "# model = BayesianNetwork([('Disease','Fever'), ('Disease','Cough')])\n",
    "model = DiscreteBayesianNetwork([('Disease','Fever'), ('Disease','Cough')])\n",
    "\n",
    "# Step 2: Define the Conditional Probability Tables (CPTs)\n",
    "cpd_disease = TabularCPD(variable='Disease',variable_card=2, values=[[0.9],[0.1]])\n",
    "\n",
    "cpd_fever = TabularCPD(variable='Fever', variable_card=2,\n",
    "                       values=[[0.2,0.8],[0.8,0.2]], evidence=['Disease'], evidence_card=[2])\n",
    "\n",
    "cpd_cough = TabularCPD(variable='Cough', variable_card=2, \n",
    "                       values=[[0.7,0.3],[0.3,0.7]], evidence=['Disease'], evidence_card=[2])\n",
    "\n",
    "# Step 3: \n",
    "model.add_cpds(cpd_disease, cpd_fever, cpd_cough)\n",
    "\n",
    "# Step 4: Check if the model is valid\n",
    "assert model.check_model()\n",
    "\n",
    "# Step 5: Perform inference usign Variable Elimination\n",
    "inference = VariableElimination(model)\n",
    "\n",
    "# Example Query: \n",
    "# Step 6:  what isthe probability of having the disease given that the person has both fever and cough\n",
    "query = inference.query(variables=['Disease'], evidence={'Fever':1, 'Cough':1})\n",
    "\n",
    "print(query)"
   ]
  },
  {
   "cell_type": "code",
   "execution_count": 25,
   "metadata": {},
   "outputs": [
    {
     "name": "stdout",
     "output_type": "stream",
     "text": [
      "+--------------+------------------+\n",
      "| Pass Exam    |   phi(Pass Exam) |\n",
      "+==============+==================+\n",
      "| Pass Exam(0) |           0.9391 |\n",
      "+--------------+------------------+\n",
      "| Pass Exam(1) |           0.0609 |\n",
      "+--------------+------------------+\n"
     ]
    },
    {
     "data": {
      "text/plain": [
       "<DiscreteFactor representing phi(Pass Exam:2) at 0x1a784b39cd0>"
      ]
     },
     "execution_count": 25,
     "metadata": {},
     "output_type": "execute_result"
    }
   ],
   "source": [
    "# The Probability of the student studying is 0.7\n",
    "\n",
    "# Step 1:Define the structure of the Bayesian Network\n",
    "model = DiscreteBayesianNetwork([('Pass Exam','Studied'), ('Pass Exam','Sleep')])\n",
    "\n",
    "# Step 2: Define the Conditional Probability Tables (CPTs)\n",
    "cpd_disease = TabularCPD(variable='Pass Exam',variable_card=2, values=[[0.9],[0.1]])\n",
    "\n",
    "cpd_fever = TabularCPD(variable='Studied', variable_card=2,\n",
    "                       values=[[0.2,0.8],[0.8,0.2]], evidence=['Pass Exam'], evidence_card=[2])\n",
    "\n",
    "cpd_cough = TabularCPD(variable='Sleep', variable_card=2, \n",
    "                       values=[[0.7,0.3],[0.3,0.7]], evidence=['Pass Exam'], evidence_card=[2])\n",
    "\n",
    "# Step 3: \n",
    "model.add_cpds(cpd_disease, cpd_fever, cpd_cough)\n",
    "\n",
    "# Step 4: Check if the model is valid\n",
    "assert model.check_model()\n",
    "\n",
    "# Step 5: Perform inference usign Variable Elimination\n",
    "inference = VariableElimination(model)\n",
    "\n",
    "# Example Query: \n",
    "# Step 6:  what isthe probability of having the disease given that the person has both fever and cough\n",
    "query = inference.query(variables=['Pass Exam'], evidence={'Studied':1, 'Sleep':1})\n",
    "\n",
    "print(query)\n",
    "inference.query(variables=['Pass Exam'], evidence={'Studied':1, 'Sleep':1})"
   ]
  },
  {
   "cell_type": "code",
   "execution_count": 26,
   "metadata": {},
   "outputs": [
    {
     "name": "stdout",
     "output_type": "stream",
     "text": [
      "+--------------+------------------+\n",
      "| Pass Exam    |   phi(Pass Exam) |\n",
      "+==============+==================+\n",
      "| Pass Exam(0) |           0.9000 |\n",
      "+--------------+------------------+\n",
      "| Pass Exam(1) |           0.1000 |\n",
      "+--------------+------------------+\n"
     ]
    },
    {
     "data": {
      "text/plain": [
       "<DiscreteFactor representing phi(Pass Exam:2) at 0x1a784b3a050>"
      ]
     },
     "execution_count": 26,
     "metadata": {},
     "output_type": "execute_result"
    }
   ],
   "source": [
    "# The probability of the student getting enough sleep if they studied is 0.8\n",
    "\n",
    "# Step 1:Define the structure of the Bayesian Network\n",
    "model = DiscreteBayesianNetwork([('Pass Exam','Studied'), ('Pass Exam','Sleep')])\n",
    "\n",
    "# Step 2: Define the Conditional Probability Tables (CPTs)\n",
    "pass_exam = TabularCPD(variable='Pass Exam',variable_card=2, values=[[0.9],[0.1]])\n",
    "\n",
    "studied = TabularCPD(variable='Studied', variable_card=2,\n",
    "                       values=[[0.2,0.8],[0.8,0.2]], evidence=['Pass Exam'], evidence_card=[2])\n",
    "\n",
    "sleep = TabularCPD(variable='Sleep', variable_card=2, \n",
    "                       values=[[0.8,0.2],[0.2,0.8]], evidence=['Pass Exam'], evidence_card=[2])\n",
    "\n",
    "# Step 3: \n",
    "model.add_cpds(pass_exam, studied, sleep)\n",
    "\n",
    "# Step 4: Check if the model is valid\n",
    "assert model.check_model()\n",
    "\n",
    "# Step 5: Perform inference usign Variable Elimination\n",
    "inference = VariableElimination(model)\n",
    "\n",
    "# Example Query: \n",
    "# Step 6:  what isthe probability of having the disease given that the person has both fever and cough\n",
    "query = inference.query(variables=['Pass Exam'], evidence={'Studied':1, 'Sleep':1})\n",
    "\n",
    "print(query)\n",
    "inference.query(variables=['Pass Exam'], evidence={'Studied':1, 'Sleep':1})"
   ]
  },
  {
   "cell_type": "markdown",
   "metadata": {},
   "source": [
    "3. The probability of the student getting enough sleep if they did not study is 0.3.\n",
    "4. The probability of the student passing the exam if they studied and got enough sleep is 0.9.\n",
    "5. The probability of the student getting the exam if they studied but did not get enough sleep is 0.6.\n",
    "6. The probability of the student passing the exam if they did not study but got enough sleep is 0.5.\n",
    "7. The probability of the student passing the exam if they did not study and did not get enough sleep is 0.2."
   ]
  }
 ],
 "metadata": {
  "kernelspec": {
   "display_name": "Python 3.13.2 64-bit",
   "language": "python",
   "name": "python3"
  },
  "language_info": {
   "codemirror_mode": {
    "name": "ipython",
    "version": 3
   },
   "file_extension": ".py",
   "mimetype": "text/x-python",
   "name": "python",
   "nbconvert_exporter": "python",
   "pygments_lexer": "ipython3",
   "version": "3.13.2"
  },
  "orig_nbformat": 4,
  "vscode": {
   "interpreter": {
    "hash": "cfcb51ba6a5898a96229f8cdebac4678b232c747c5fc819b474621f23ba7f45c"
   }
  }
 },
 "nbformat": 4,
 "nbformat_minor": 2
}
