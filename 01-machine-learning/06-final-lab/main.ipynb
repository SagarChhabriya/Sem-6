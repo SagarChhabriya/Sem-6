{
 "cells": [
  {
   "cell_type": "markdown",
   "id": "ed5fcf96",
   "metadata": {},
   "source": [
    "## Sagar Chhabriya AI Final Lab"
   ]
  },
  {
   "cell_type": "markdown",
   "id": "f98d2b8e",
   "metadata": {},
   "source": [
    "### 1. Import Libraries"
   ]
  },
  {
   "cell_type": "code",
   "execution_count": 28,
   "id": "5cfd5b30",
   "metadata": {},
   "outputs": [],
   "source": [
    "from sklearn.linear_model import LogisticRegression\n",
    "from sklearn.datasets import make_classification\n",
    "from sklearn.metrics import accuracy_score\n",
    "from sklearn.model_selection import train_test_split\n",
    "import pandas as pd \n"
   ]
  },
  {
   "cell_type": "markdown",
   "id": "713a5cd1",
   "metadata": {},
   "source": [
    "### 2. Create Dataset"
   ]
  },
  {
   "cell_type": "code",
   "execution_count": 29,
   "id": "7f2c01b7",
   "metadata": {},
   "outputs": [],
   "source": [
    "X, y = make_classification(n_samples=200, n_features=4, n_classes=2, random_state=42)"
   ]
  },
  {
   "cell_type": "code",
   "execution_count": 30,
   "id": "18c5e1e5",
   "metadata": {},
   "outputs": [],
   "source": [
    "columns = [\"performance\", \"assignment\", \"attendance\", \"study_hours\"]\n",
    "df = pd.DataFrame(X, columns=columns)"
   ]
  },
  {
   "cell_type": "code",
   "execution_count": 31,
   "id": "e52645aa",
   "metadata": {},
   "outputs": [
    {
     "data": {
      "text/html": [
       "<div>\n",
       "<style scoped>\n",
       "    .dataframe tbody tr th:only-of-type {\n",
       "        vertical-align: middle;\n",
       "    }\n",
       "\n",
       "    .dataframe tbody tr th {\n",
       "        vertical-align: top;\n",
       "    }\n",
       "\n",
       "    .dataframe thead th {\n",
       "        text-align: right;\n",
       "    }\n",
       "</style>\n",
       "<table border=\"1\" class=\"dataframe\">\n",
       "  <thead>\n",
       "    <tr style=\"text-align: right;\">\n",
       "      <th></th>\n",
       "      <th>performance</th>\n",
       "      <th>assignment</th>\n",
       "      <th>attendance</th>\n",
       "      <th>study_hours</th>\n",
       "    </tr>\n",
       "  </thead>\n",
       "  <tbody>\n",
       "    <tr>\n",
       "      <th>0</th>\n",
       "      <td>1.689767</td>\n",
       "      <td>-1.408241</td>\n",
       "      <td>-0.962936</td>\n",
       "      <td>1.163491</td>\n",
       "    </tr>\n",
       "    <tr>\n",
       "      <th>1</th>\n",
       "      <td>0.855820</td>\n",
       "      <td>-0.430646</td>\n",
       "      <td>-0.390659</td>\n",
       "      <td>0.435911</td>\n",
       "    </tr>\n",
       "    <tr>\n",
       "      <th>2</th>\n",
       "      <td>-1.175042</td>\n",
       "      <td>-1.447633</td>\n",
       "      <td>-0.163790</td>\n",
       "      <td>0.508040</td>\n",
       "    </tr>\n",
       "    <tr>\n",
       "      <th>3</th>\n",
       "      <td>1.394775</td>\n",
       "      <td>2.019333</td>\n",
       "      <td>0.297780</td>\n",
       "      <td>-0.766396</td>\n",
       "    </tr>\n",
       "    <tr>\n",
       "      <th>4</th>\n",
       "      <td>-0.073240</td>\n",
       "      <td>0.336417</td>\n",
       "      <td>0.136302</td>\n",
       "      <td>-0.199882</td>\n",
       "    </tr>\n",
       "    <tr>\n",
       "      <th>...</th>\n",
       "      <td>...</td>\n",
       "      <td>...</td>\n",
       "      <td>...</td>\n",
       "      <td>...</td>\n",
       "    </tr>\n",
       "    <tr>\n",
       "      <th>195</th>\n",
       "      <td>0.952434</td>\n",
       "      <td>0.739700</td>\n",
       "      <td>-0.016168</td>\n",
       "      <td>-0.176427</td>\n",
       "    </tr>\n",
       "    <tr>\n",
       "      <th>196</th>\n",
       "      <td>0.025602</td>\n",
       "      <td>0.457280</td>\n",
       "      <td>0.149768</td>\n",
       "      <td>-0.242124</td>\n",
       "    </tr>\n",
       "    <tr>\n",
       "      <th>197</th>\n",
       "      <td>-0.801478</td>\n",
       "      <td>1.636364</td>\n",
       "      <td>0.789288</td>\n",
       "      <td>-1.077433</td>\n",
       "    </tr>\n",
       "    <tr>\n",
       "      <th>198</th>\n",
       "      <td>0.883600</td>\n",
       "      <td>-0.699600</td>\n",
       "      <td>-0.490898</td>\n",
       "      <td>0.588439</td>\n",
       "    </tr>\n",
       "    <tr>\n",
       "      <th>199</th>\n",
       "      <td>1.144930</td>\n",
       "      <td>2.669951</td>\n",
       "      <td>0.592077</td>\n",
       "      <td>-1.178524</td>\n",
       "    </tr>\n",
       "  </tbody>\n",
       "</table>\n",
       "<p>200 rows × 4 columns</p>\n",
       "</div>"
      ],
      "text/plain": [
       "     performance  assignment  attendance  study_hours\n",
       "0       1.689767   -1.408241   -0.962936     1.163491\n",
       "1       0.855820   -0.430646   -0.390659     0.435911\n",
       "2      -1.175042   -1.447633   -0.163790     0.508040\n",
       "3       1.394775    2.019333    0.297780    -0.766396\n",
       "4      -0.073240    0.336417    0.136302    -0.199882\n",
       "..           ...         ...         ...          ...\n",
       "195     0.952434    0.739700   -0.016168    -0.176427\n",
       "196     0.025602    0.457280    0.149768    -0.242124\n",
       "197    -0.801478    1.636364    0.789288    -1.077433\n",
       "198     0.883600   -0.699600   -0.490898     0.588439\n",
       "199     1.144930    2.669951    0.592077    -1.178524\n",
       "\n",
       "[200 rows x 4 columns]"
      ]
     },
     "execution_count": 31,
     "metadata": {},
     "output_type": "execute_result"
    }
   ],
   "source": [
    "df"
   ]
  },
  {
   "cell_type": "code",
   "execution_count": 32,
   "id": "264ac0e5",
   "metadata": {},
   "outputs": [
    {
     "data": {
      "text/plain": [
       "0      1\n",
       "1      1\n",
       "2      0\n",
       "3      1\n",
       "4      1\n",
       "      ..\n",
       "195    1\n",
       "196    1\n",
       "197    0\n",
       "198    1\n",
       "199    1\n",
       "Name: result, Length: 200, dtype: int64"
      ]
     },
     "execution_count": 32,
     "metadata": {},
     "output_type": "execute_result"
    }
   ],
   "source": [
    "df[\"result\"] = y\n",
    "df[\"result\"]"
   ]
  },
  {
   "cell_type": "code",
   "execution_count": 33,
   "id": "353831a0",
   "metadata": {},
   "outputs": [],
   "source": [
    "X = df.iloc[:,:-1]\n",
    "y = df[\"result\"]"
   ]
  },
  {
   "cell_type": "markdown",
   "id": "914e0049",
   "metadata": {},
   "source": [
    "### 3. Train Test Split"
   ]
  },
  {
   "cell_type": "code",
   "execution_count": 34,
   "id": "256712bc",
   "metadata": {},
   "outputs": [],
   "source": [
    "X_train, X_test, y_train, y_test = train_test_split(X, y, test_size=0.2, random_state=42 )"
   ]
  },
  {
   "cell_type": "markdown",
   "id": "630cd771",
   "metadata": {},
   "source": [
    "### 4. Train and Predict the Model"
   ]
  },
  {
   "cell_type": "code",
   "execution_count": 35,
   "id": "1a42e72e",
   "metadata": {},
   "outputs": [],
   "source": [
    "lr = LogisticRegression()\n",
    "\n",
    "lr.fit(X_train, y_train)\n",
    "\n",
    "y_pred = lr.predict(X_test)"
   ]
  },
  {
   "cell_type": "markdown",
   "id": "cb71e74f",
   "metadata": {},
   "source": [
    "### 5. Evaluate the Model"
   ]
  },
  {
   "cell_type": "code",
   "execution_count": 36,
   "id": "b894971d",
   "metadata": {},
   "outputs": [
    {
     "data": {
      "text/plain": [
       "0.9"
      ]
     },
     "execution_count": 36,
     "metadata": {},
     "output_type": "execute_result"
    }
   ],
   "source": [
    "accuracy_score(y_pred=y_pred, y_true=y_test)"
   ]
  }
 ],
 "metadata": {
  "kernelspec": {
   "display_name": "Python (venv)",
   "language": "python",
   "name": "venv"
  },
  "language_info": {
   "codemirror_mode": {
    "name": "ipython",
    "version": 3
   },
   "file_extension": ".py",
   "mimetype": "text/x-python",
   "name": "python",
   "nbconvert_exporter": "python",
   "pygments_lexer": "ipython3",
   "version": "3.12.0"
  }
 },
 "nbformat": 4,
 "nbformat_minor": 5
}
