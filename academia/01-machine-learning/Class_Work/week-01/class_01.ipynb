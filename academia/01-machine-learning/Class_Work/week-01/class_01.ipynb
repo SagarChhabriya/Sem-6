{
 "cells": [
  {
   "cell_type": "markdown",
   "metadata": {},
   "source": [
    "Datasets can be categorized in several ways based on their structure, usage, and the types of data they contain. Here's a breakdown of some common categorizations:\n",
    "\n",
    "### 1. **Based on Structure:**\n",
    "   - **Structured Data:**\n",
    "     - Data organized in rows and columns, such as spreadsheets or databases (e.g., CSV files, SQL tables).\n",
    "     - Examples: Sales records, employee information, financial transactions.\n",
    "   \n",
    "   - **Unstructured Data:**\n",
    "     - Data that doesn't have a pre-defined model or organization.\n",
    "     - Examples: Text (documents, social media posts), images, audio, and video.\n",
    "\n",
    "   - **Semi-Structured Data:**\n",
    "     - Data that doesn't strictly follow a tabular format but has some level of organization (e.g., XML, JSON).\n",
    "     - Examples: Log files, web data (HTML), NoSQL databases.\n",
    "\n",
    "### 2. **Based on Content Type:**\n",
    "   - **Numerical Data:**\n",
    "     - Data consisting of numbers or quantities.\n",
    "     - Examples: Stock prices, temperature readings, sales amounts.\n",
    "   \n",
    "   - **Categorical Data:**\n",
    "     - Data that represents categories or groups, often in text form.\n",
    "     - Examples: Gender (Male, Female), color (Red, Blue), or country names.\n",
    "   \n",
    "   - **Text Data:**\n",
    "     - Data in the form of written or spoken language.\n",
    "     - Examples: Tweets, reviews, articles, books, customer feedback.\n",
    "   \n",
    "   - **Time-Series Data:**\n",
    "     - Data that is collected or indexed in time order.\n",
    "     - Examples: Stock market data, sensor readings over time, weather data.\n",
    "\n",
    "   - **Image Data:**\n",
    "     - Data that consists of visual representations.\n",
    "     - Examples: Satellite images, medical imaging (X-rays), product images in e-commerce.\n",
    "\n",
    "   - **Audio Data:**\n",
    "     - Data in the form of sound.\n",
    "     - Examples: Speech recordings, music tracks, sound effects.\n",
    "\n",
    "   - **Video Data:**\n",
    "     - Data consisting of moving visuals and often accompanied by sound.\n",
    "     - Examples: Video clips, movie datasets, surveillance footage.\n",
    "\n",
    "### 3. **Based on Usage:**\n",
    "   - **Training Data:**\n",
    "     - Data used to train machine learning models.\n",
    "     - Example: Image datasets with labeled categories (like the MNIST dataset for digit recognition).\n",
    "   \n",
    "   - **Test Data:**\n",
    "     - Data used to evaluate the performance of machine learning models.\n",
    "     - Example: A dataset that tests how well a model classifies unseen images.\n",
    "   \n",
    "   - **Validation Data:**\n",
    "     - Data used to tune the parameters of a machine learning model.\n",
    "     - Example: A validation dataset to adjust hyperparameters during model training.\n",
    "\n",
    "### 4. **Based on Domain:**\n",
    "   - **Healthcare Data:**\n",
    "     - Data related to medical records, patient history, medical imaging, etc.\n",
    "     - Example: Patient medical history datasets, clinical trial data.\n",
    "   \n",
    "   - **Finance Data:**\n",
    "     - Data related to financial transactions, stock prices, market indices, etc.\n",
    "     - Example: Daily stock market prices, transaction records, credit score data.\n",
    "\n",
    "   - **E-commerce Data:**\n",
    "     - Data collected from online retail transactions, product reviews, customer preferences.\n",
    "     - Example: User behavior data, product listings, transaction history.\n",
    "\n",
    "   - **Social Media Data:**\n",
    "     - Data collected from social media platforms, including posts, likes, comments, etc.\n",
    "     - Example: Twitter sentiment analysis dataset, Facebook post interactions.\n",
    "\n",
    "   - **Geospatial Data:**\n",
    "     - Data representing geographic locations, distances, or features.\n",
    "     - Example: GPS coordinates, map data, satellite imagery.\n",
    "\n",
    "   - **Retail/Inventory Data:**\n",
    "     - Data related to products, sales, and stock.\n",
    "     - Example: Inventory management data, retail sales reports.\n",
    "\n",
    "### 5. **Based on Size:**\n",
    "   - **Small Datasets:**\n",
    "     - Datasets with a manageable number of samples.\n",
    "     - Example: Simple datasets with a few hundred rows like basic survey data.\n",
    "   \n",
    "   - **Big Data:**\n",
    "     - Datasets too large or complex for traditional data processing tools to handle.\n",
    "     - Example: Data collected from sensors in IoT devices, social media activity logs.\n",
    "\n",
    "### 6. **Based on Data Source:**\n",
    "   - **Open Datasets:**\n",
    "     - Datasets made publicly available for research and development.\n",
    "     - Example: Kaggle datasets, government data repositories, open-source datasets.\n",
    "   \n",
    "   - **Proprietary Datasets:**\n",
    "     - Datasets owned by organizations and typically not publicly available.\n",
    "     - Example: Customer purchase history, private company data.\n",
    "\n",
    "These categories often overlap, and a single dataset might fit into multiple categories based on its attributes. Would you like to dive deeper into any specific category or need help with a specific dataset?"
   ]
  },
  {
   "cell_type": "code",
   "execution_count": null,
   "metadata": {},
   "outputs": [],
   "source": [
    "x: int = 5\n",
    "x"
   ]
  },
  {
   "cell_type": "code",
   "execution_count": 6,
   "metadata": {},
   "outputs": [
    {
     "name": "stdout",
     "output_type": "stream",
     "text": [
      "1\n"
     ]
    }
   ],
   "source": [
    "for i in range(1,2):\n",
    "    i = 1\n",
    "    print(i)"
   ]
  },
  {
   "cell_type": "code",
   "execution_count": 8,
   "metadata": {},
   "outputs": [
    {
     "name": "stdout",
     "output_type": "stream",
     "text": [
      "Divisible by both 3 or 5\n"
     ]
    }
   ],
   "source": [
    "# Practice Problem\n",
    "\n",
    "# 1. Write a program that checks if a number entered by the user is divisible by 3 or 5 or both\n",
    "number =int(input(\"Enter a number: \"))\n",
    "if number % 3==0:\n",
    "    print(\"Divisible by 3\")\n",
    "elif number % 5 ==0:\n",
    "    print(\"Divisible by 5\")\n",
    "elif number%3==0  and number%5==0:\n",
    "    print(\"Divisible by both 3 or 5\")\n",
    "else:\n",
    "    print(\"Divisible by both 3 or 5\") \n",
    "     "
   ]
  },
  {
   "cell_type": "code",
   "execution_count": null,
   "metadata": {},
   "outputs": [],
   "source": [
    "# 2.Create a loop to print all even numbers between 1 and 20\n",
    "\n",
    "for i in range(2,21,2):\n",
    "    print(i, end=\", \")"
   ]
  },
  {
   "cell_type": "code",
   "execution_count": null,
   "metadata": {},
   "outputs": [],
   "source": [
    "for i in range(1,21):\n",
    "    if i%2==0:\n",
    "        print(i, end=\", \")"
   ]
  },
  {
   "cell_type": "code",
   "execution_count": null,
   "metadata": {},
   "outputs": [],
   "source": [
    "# 3. Modify the infinite loop example to count the number of times the user enters a number\n",
    "for i in range(1, 2):\n",
    "    print(i)    \n",
    "    continue\n",
    "    "
   ]
  },
  {
   "cell_type": "code",
   "execution_count": 9,
   "metadata": {},
   "outputs": [
    {
     "name": "stdout",
     "output_type": "stream",
     "text": [
      "Hello, welcom to the world of functions\n"
     ]
    }
   ],
   "source": [
    "# Simple Functions\n",
    "def greet():\n",
    "    print(\"Hello, welcom to the world of functions\")\n",
    "    \n",
    "greet()"
   ]
  },
  {
   "cell_type": "code",
   "execution_count": null,
   "metadata": {},
   "outputs": [],
   "source": [
    "def greet_with_message(name, message=\"Good Morning!\"):\n",
    "    print(f\"Hello, {name}! {message}\")\n",
    "    \n",
    "greet_with_message(\"Sagar\")"
   ]
  },
  {
   "cell_type": "code",
   "execution_count": null,
   "metadata": {},
   "outputs": [],
   "source": [
    "fruits = (\"apple\", \"banana\", \"orange\")\n",
    "\n",
    "fruits[0]"
   ]
  },
  {
   "cell_type": "code",
   "execution_count": null,
   "metadata": {},
   "outputs": [],
   "source": [
    "# Assignment 1: Building a Simple Calculator in Python\n",
    "\n",
    "# Stage 1: Using Variables\n",
    "# You are tasked with building a basic calculator that can perform simple arithmetic operations:\n",
    "# addition, subtraction, multiplication, and division. In the first version of the calculator, use seperate \n",
    "# variables for stroing the numbers and the results.\n",
    "\n",
    "\n",
    "# 1. Ask the user to input two numbers\n",
    "# x, y = int(input(\"Enter two numbers: \").split(\" \"))\n",
    "x = int(input(\"Enter first number: \"))\n",
    "y = int(input(\"Enter second number: \"))\n",
    "\n",
    "# 2. Ask the user to select an operation(add, subtract, multiply, divide)\n",
    "z = input(\"Select the operator for operation, +, -, /, *: \")\n",
    "\n",
    "# 3. Perform the calculation based on the operation selected\n",
    "match z:\n",
    "# 4. Display the result\n",
    "    case \"+\":\n",
    "        print(x +y)\n",
    "        \n",
    "    case \"-\":\n",
    "        print(x -y)\n",
    "    case \"*\":\n",
    "        print(x*y)\n",
    "    case \"/\":\n",
    "        print(x/y)\n",
    "    # search for default case\n",
    "    case \"_\":\n",
    "        print(f\"Operator {z} is not supported\")    \n",
    "        \n",
    "    \n",
    "\n",
    "\n"
   ]
  },
  {
   "cell_type": "code",
   "execution_count": null,
   "metadata": {},
   "outputs": [],
   "source": [
    "# Stage 2: Using a list\n",
    "# Ask the user to \n",
    "ls = input('Enter 5 numbers').split(\" \")\n",
    "for item in range(len(ls)):\n",
    "    ls[item] = int(ls[item])\n",
    "\n",
    "ls\n",
    "     "
   ]
  },
  {
   "cell_type": "code",
   "execution_count": null,
   "metadata": {},
   "outputs": [],
   "source": [
    "# Stage 3: Using a Tuple\n",
    "# Now implement the calculator using a tuple to store a pair of numbers. This will demonstrate the immutability of tuples.\n",
    "\n",
    "# 1. Ask the user to input exactly two numbers\n",
    "x,y = input(\"Enter two numbers: \").split(\" \")\n",
    "\n",
    "# 2. Store these numbers in a tuple\n",
    "# Why can't we assign values to tuple while running the code?\n",
    "z = tuple(x,y)\n",
    "\n",
    "# 3. Ask the user to select an operation (add, subtract, multiple, divide)\n",
    "\n",
    "operator = input(\"Select the operator for operation, +, -, /, *: \")\n",
    "# 4. Perform the calculation on the tuple's values\n",
    "match operator:\n",
    "# 5. Display the result\n",
    "\n",
    "    case \"+\":\n",
    "        print(x +y)\n",
    "        \n",
    "    case \"-\":\n",
    "        print(x -y)\n",
    "    case \"*\":\n",
    "        print(x*y)\n",
    "    case \"/\":\n",
    "        print(x/y)\n",
    "    # search for default case\n",
    "    case \"_\":\n",
    "        print(f\"Operator {z} is not supported\") \n",
    "\n"
   ]
  },
  {
   "cell_type": "code",
   "execution_count": null,
   "metadata": {},
   "outputs": [],
   "source": [
    "# Practice Problems\n",
    "\"\"\"\n",
    "1. Create a list of the first 10 even numbers. \n",
    "Use list comprehension to create a new list that contains the squares of these even numbers.\n",
    "\n",
    "2. Given a list of strings, use list comprehension to create a new list that contains only \n",
    "the strings that start with a vowel.\n",
    "\n",
    "3. Write a function that takes a list of numbers and returns a new list with only \n",
    "the prime numbers from the original list.\n",
    "\n",
    "4. Given a list of tuples where each tuple contains a name and age, sort the list by age in descending order.\n",
    "\"\"\""
   ]
  },
  {
   "cell_type": "code",
   "execution_count": null,
   "metadata": {},
   "outputs": [],
   "source": [
    "# Stage 3: Using a Tuple\n",
    "# Now implement the calculator using a tuple to store a pair of numbers. This will demonstrate the immutability of tuples.\n",
    "\n",
    "# 1. Ask the user to input exactly two numbers\n",
    "ls = input(\"Enter two numbers: \").split(\" \")\n",
    "\n",
    "for item in range(len(ls)):\n",
    "    ls[item]=int(ls[item])\n",
    "    \n",
    "# 2. Store these numbers in a tuple\n",
    "z = tuple(ls)\n",
    "\n",
    "# 3. Ask the user to select an operation (add, subtract, multiple, divide)\n",
    "\n",
    "operator = input(\"Select the operator for operation, +, -, /, *: \")\n",
    "# 4. Perform the calculation on the tuple's values\n",
    "match operator:\n",
    "# 5. Display the result\n",
    "\n",
    "    case \"+\":\n",
    "        print(z[0] + z[1] )\n",
    "    case \"-\":\n",
    "        print(z[0] - z[1])\n",
    "    case \"*\":\n",
    "        print(z[0] * z[1])\n",
    "    case \"/\":\n",
    "        print(z[0] / z[1])\n",
    "    # search for default case\n",
    "    case \"_\":\n",
    "        print(f\"Operator {z} is not supported\") \n",
    "\n"
   ]
  },
  {
   "cell_type": "code",
   "execution_count": null,
   "metadata": {},
   "outputs": [
    {
     "data": {
      "text/plain": [
       "[2, 4, 6, 8, 10, 12, 14, 16, 18, 20]"
      ]
     },
     "execution_count": 6,
     "metadata": {},
     "output_type": "execute_result"
    }
   ],
   "source": [
    "# 1. Create a list of the first 10 even numbers. \n",
    "# Use list comprehension to create a new list that contains the squares of these even numbers.\n",
    "\n",
    "even = [x for x in range(2,21,2)]\n",
    "even"
   ]
  },
  {
   "cell_type": "code",
   "execution_count": null,
   "metadata": {},
   "outputs": [
    {
     "data": {
      "text/plain": [
       "[4, 16, 36, 64, 100, 144, 196, 256, 324, 400]"
      ]
     },
     "execution_count": 7,
     "metadata": {},
     "output_type": "execute_result"
    }
   ],
   "source": [
    "# 2. Given a list of strings, use list comprehension to create a new list that contains only \n",
    "# the strings that start with a vowel.\n",
    "\n",
    "squares = [x**2 for x in even]\n",
    "squares"
   ]
  },
  {
   "cell_type": "code",
   "execution_count": null,
   "metadata": {},
   "outputs": [],
   "source": [
    "# 4. Using a dictionary\n",
    "# Modify the calculator to include a history of operations. Use a dictionary to store the operation\n",
    "# as key and the result as value.\n",
    "\n",
    "# 1. Ask the user to input two numbers.\n",
    "\n",
    "# 1. Ask the user to input exactly two numbers\n",
    "a = int(input(\"Enter first number: \"))\n",
    "b = int(input(\"Enter Second number: \"))\n",
    "operator = input(\"Select the operator for operation, +, -, /, *: \")\n",
    "    \n",
    "d ={}\n",
    "\n",
    "# 2. Ask the user to select an operation (add, subtract, multiply, divide)\n",
    "match operator:\n",
    "# 3. Perform the calculation and store the result in a dictionary, with the operation as the key\n",
    "    case \"+\":\n",
    "        d[\"+\"] = a + b\n",
    "    case \"-\":\n",
    "        d[\"-\"] = a - b\n",
    "    case \"*\":\n",
    "        d[\"*\"] = a * b\n",
    "    case \"/\":\n",
    "        d[\"/\"] = a / b\n",
    "    # search for default case\n",
    "    case \"_\":\n",
    "        print(f\"Operator {z} is not supported\") \n",
    "\n",
    "\n",
    "# 4. Display the result and the operation history\n",
    "d\n",
    "\n"
   ]
  },
  {
   "cell_type": "code",
   "execution_count": null,
   "metadata": {},
   "outputs": [
    {
     "data": {
      "text/plain": [
       "['apple', 'orange', 'umbrella', 'avocado']"
      ]
     },
     "execution_count": 8,
     "metadata": {},
     "output_type": "execute_result"
    }
   ],
   "source": [
    "\n",
    "# 3. Write a function that takes a list of numbers and returns a new list with only \n",
    "# the prime numbers from the original list.\n",
    "\n",
    "strings = [\"apple\", \"banana\", \"orange\", \"umbrella\", \"grape\", \"avocado\"]\n",
    "\n",
    "vowels = \"AEIOUaeiou\"\n",
    "start_vowel_list = [x for x in strings if x[0] in vowels]\n",
    "start_vowel_list"
   ]
  },
  {
   "cell_type": "code",
   "execution_count": 22,
   "metadata": {},
   "outputs": [
    {
     "name": "stdout",
     "output_type": "stream",
     "text": [
      "[('Bob', 25), ('Alice', 30), ('Charlie', 35)]\n"
     ]
    }
   ],
   "source": [
    "# 4. Given a list of tuples where each tuple contains a name and age, sort the list by age in descending order.\n",
    "people = [(\"Alice\", 30), (\"Bob\", 25), (\"Charlie\", 35)]\n",
    "\n",
    "# Sort by age in descending order\n",
    "# people.sort(key=lambda x: x[1], reverse=False)\n",
    "people.sort(key=lambda x: x[1])\n",
    "\n",
    "print(people)"
   ]
  },
  {
   "cell_type": "code",
   "execution_count": null,
   "metadata": {},
   "outputs": [],
   "source": [
    "# 4. Using a dictionary\n",
    "# Modify the calculator to include a history of operations. Use a dictionary to store the operation\n",
    "# as key and the result as value.\n",
    "\n",
    "\n",
    "# 1. Ask the user to input exactly two numbers\n",
    "a = int(input(\"Enter first number: \"))\n",
    "b = int(input(\"Enter Second number: \"))\n",
    "operator = input(\"Select the operator for operation, +, -, /, *: \")\n",
    "    \n",
    "d ={ 1:a, 2:b }\n",
    "history = {}\n",
    "\n",
    "# 2. Ask the user to select an operation (add, subtract, multiply, divide)\n",
    "match operator:\n",
    "# 3. Perform the calculation and store the result in a dictionary, with the operation as the key\n",
    "    case \"+\":\n",
    "        history[\"+\"] = d[1] + d[2]\n",
    "    case \"-\":\n",
    "        history[\"-\"] = d[1] - d[2]\n",
    "    case \"*\":\n",
    "        history[\"*\"] = d[1] * d[2]\n",
    "    case \"/\":\n",
    "        history[\"/\"] = d[1] / d[2]\n",
    "    # search for default case\n",
    "    case \"_\":\n",
    "        print(f\"Operator {z} is not supported\") \n",
    "\n",
    "\n",
    "# 4. Display the result and the operation history\n",
    "print(\"Dictionary Items: \",d)\n",
    "print(\"History: \",history)\n",
    "\n"
   ]
  },
  {
   "cell_type": "code",
   "execution_count": 5,
   "metadata": {},
   "outputs": [
    {
     "name": "stdout",
     "output_type": "stream",
     "text": [
      "running.\n"
     ]
    }
   ],
   "source": [
    "print(\"running.\")"
   ]
  },
  {
   "cell_type": "code",
   "execution_count": null,
   "metadata": {},
   "outputs": [],
   "source": [
    "# Example: Creating a numpy array\n",
    "import numpy as np\n",
    "array_data1 = np.array([1,2,3,4,5])\n",
    "array_data2 = np.array((1,2,3,4,5))\n",
    "data = np.array([[1,2,3],[4,5,6]])\n",
    "\n",
    "print(array_data1)\n",
    "print(array_data2)\n",
    "print(data.shape)\n",
    "print(data.size)\n",
    "print(data.dtype)\n",
    "print(data.ndim)"
   ]
  },
  {
   "cell_type": "code",
   "execution_count": 13,
   "metadata": {},
   "outputs": [
    {
     "name": "stdout",
     "output_type": "stream",
     "text": [
      "1\n"
     ]
    }
   ],
   "source": [
    "for i in range(1, 2):\n",
    "    print(i)\n",
    "    i -= 1  # Reset the loop variable"
   ]
  },
  {
   "cell_type": "markdown",
   "metadata": {},
   "source": [
    "- To make the loop infinite **without changing the first row** (`for i in range(1, 2):`), you need to ensure that the loop variable `i` is always reset to a value within the range `[1, 2)` (i.e., `1`). However, simply decrementing `i` inside the loop (`i -= 1`) won't work because the `for` loop in Python automatically reassigns `i` to the next value in the `range` at the start of each iteration. This means your modification of `i` inside the loop is overwritten.\n",
    "\n",
    "- To make the loop infinite without changing the first row, you can use a trick to **modify the `range` object itself** or **force the loop to reset**. Here's how you can do it:\n",
    "\n",
    "---\n",
    "\n",
    "### Solution: Modify the `range` object dynamically\n",
    "You can use a mutable object (like a list) to simulate the range and modify it inside the loop to reset the sequence.\n",
    "\n",
    "```python\n",
    "r = [1]  # Simulate range(1, 2) as a list\n",
    "for i in r:\n",
    "    print(i)\n",
    "    r.append(1)  # Add another 1 to the list, making it infinite\n",
    "```\n",
    "\n",
    "#### Explanation:\n",
    "- The `for` loop iterates over the list `r`, which initially contains `[1]`.\n",
    "- Inside the loop, `r.append(1)` adds another `1` to the list, making it `[1, 1]`.\n",
    "- On the next iteration, the loop picks the next `1` from the list, and the process repeats indefinitely.\n",
    "\n",
    "This creates an infinite loop without changing the first row.\n"
   ]
  },
  {
   "cell_type": "code",
   "execution_count": 18,
   "metadata": {},
   "outputs": [
    {
     "name": "stdout",
     "output_type": "stream",
     "text": [
      "(2, 3) <class 'tuple'>\n"
     ]
    }
   ],
   "source": [
    "x = int(input(\"Enter first number: \"))\n",
    "y = int(input(\"Enter second number: \"))\n",
    "\n",
    "tuple_data = (x,y)\n",
    "print(tuple_data, type(tuple_data))"
   ]
  },
  {
   "cell_type": "code",
   "execution_count": 25,
   "metadata": {},
   "outputs": [
    {
     "name": "stdout",
     "output_type": "stream",
     "text": [
      "New Dictionary:  {'Alice': 28, 'Bob': 33, 'John': 38}\n",
      "New record added:  {'Alice': 28, 'Bob': 33, 'John': 38, 'Ana': 27}\n",
      "Modify the Bob's age:  {'Alice': 28, 'Bob': 32, 'John': 38, 'Ana': 27}\n",
      "{'Bob': 32, 'John': 38, 'Ana': 27}\n"
     ]
    }
   ],
   "source": [
    "# 1. Create a dictionary with the names of three people and their ages. Add a new person to the dictionary,\n",
    "#    update the age of one person, and then remove another person from the dictionary.\n",
    "\n",
    "d = {\"Alice\":28, \"Bob\":33, \"John\":38}\n",
    "print(\"New Dictionary: \",d)\n",
    "\n",
    "d[\"Ana\"] = 27\n",
    "print(\"New record added: \",d)\n",
    "\n",
    "d[\"Bob\"] = 32\n",
    "print(\"Modify the Bob's age: \",d)\n",
    "\n",
    "del d[\"Alice\"]\n",
    "print(d)"
   ]
  },
  {
   "cell_type": "code",
   "execution_count": 32,
   "metadata": {},
   "outputs": [
    {
     "name": "stdout",
     "output_type": "stream",
     "text": [
      "Sets\n",
      "{1, 2, 3, 4, 5}\n",
      "{3, 4, 5, 6, 7}\n",
      "Set Union using union funciton and | operator\n",
      "{1, 2, 3, 4, 5, 6, 7}\n",
      "{1, 2, 3, 4, 5, 6, 7}\n",
      "Set intersection using intersection method and & operator\n",
      "{3, 4, 5}\n",
      "{3, 4, 5}\n",
      "Set difference using difference method and - operator\n",
      "{1, 2}\n",
      "{1, 2}\n",
      "Set symmetric diff method and ^ operator\n",
      "{1, 2, 6, 7}\n",
      "{1, 2, 6, 7}\n"
     ]
    }
   ],
   "source": [
    "# 2. Create two sets of your favorite fruits and a friend's favorite fruits.\n",
    "#    Find the union, intersection, difference, and symmetric difference of these sets.\n",
    "\n",
    "set1 = {1,2,3,4,5}\n",
    "set2 = {3,4,5,6,7}\n",
    "\n",
    "print(\"Sets\")\n",
    "print(set1)\n",
    "print(set2)\n",
    "\n",
    "print(\"Set Union using union funciton and | operator\")\n",
    "print(set1.union(set2))\n",
    "print(set1 | set2)\n",
    "\n",
    "print(\"Set intersection using intersection method and & operator\")\n",
    "print(set1.intersection(set2))\n",
    "print(set1 & set2)\n",
    "\n",
    "print(\"Set difference using difference method and - operator\")\n",
    "print(set1.difference(set2))\n",
    "print(set1 - set2)\n",
    "\n",
    "print(\"Set symmetric diff method and ^ operator\")\n",
    "print(set1.symmetric_difference(set2))\n",
    "print(set1 ^ set2)"
   ]
  },
  {
   "cell_type": "code",
   "execution_count": 60,
   "metadata": {},
   "outputs": [
    {
     "name": "stdout",
     "output_type": "stream",
     "text": [
      "['Alice', 'Bob', 'David']\n"
     ]
    }
   ],
   "source": [
    "# 3. Write a function that takes a dictionary of student names and their grades,\n",
    "#    and returns a list of students who scored above a certain threshold.\n",
    "\n",
    "def passed(d):\n",
    "    return [x[0] for x in d.items() if x[1] > 80]        \n",
    "\n",
    "student_grades = {\"Alice\": 85, \"Bob\": 92, \"Charlie\": 78, \"David\": 90}\n",
    "print(passed(student_grades))"
   ]
  },
  {
   "cell_type": "code",
   "execution_count": null,
   "metadata": {},
   "outputs": [
    {
     "data": {
      "text/plain": [
       "{2, 4, 6, 8, 10}"
      ]
     },
     "execution_count": 63,
     "metadata": {},
     "output_type": "execute_result"
    }
   ],
   "source": [
    "# 4. Given a set of integers, write a function that returns a new set with only the even numbers.\n",
    "\n",
    "set1 = {1,2,3,4,5,6,7,8,9,10}\n",
    "\n",
    "even_set = { x for x in set1 if x%2==0 }\n",
    "# Set comprehension\n",
    "even_set\n"
   ]
  },
  {
   "cell_type": "code",
   "execution_count": 7,
   "metadata": {},
   "outputs": [
    {
     "name": "stdout",
     "output_type": "stream",
     "text": [
      "Buddy, a Canis Familiaris, is 3 years old.\n"
     ]
    }
   ],
   "source": [
    "class Dog:\n",
    "    species = \"Canis Familiaris\"\n",
    "    \n",
    "    def __init__(self, name, age) -> None:\n",
    "        self.name = name\n",
    "        self.age = age\n",
    "        \n",
    "    def __str__(self) -> str:\n",
    "        # Return a human-readable string describing the dog\n",
    "        return f\"{self.name}, a {self.species}, is {self.age} years old.\"\n",
    "        \n",
    "    def description(self):\n",
    "        return f\"{self.name} is {self.age} years old.\"\n",
    "    \n",
    "    def speak(self, sound):\n",
    "        return f\"{self.name} says {sound}\"\n",
    "\n",
    "# Create a dog object\n",
    "dog1 = Dog(\"Buddy\", 3)\n",
    "\n",
    "# Print the dog object\n",
    "print(dog1)  # This will call the __str__ method\n"
   ]
  },
  {
   "cell_type": "code",
   "execution_count": 8,
   "metadata": {},
   "outputs": [],
   "source": [
    "class MyClass:\n",
    "    \n",
    "    # Instance variable: specific to an object\n",
    "    # static variable: declared in class outside the method, shared among all objects, single copy, access through class name or object ref\n",
    "    class_variable = \"class var\"\n",
    "    \n",
    "    def __init__(self, instance_variable) -> None:\n",
    "        self.instance_variable = instance_variable\n",
    "        \n",
    "    \n",
    "    # Instance Method\n",
    "    def instance_method(self):\n",
    "        return f\"This is an instance method. Insance Variable {self.instance_variable}\"\n",
    "    \n",
    "    \n",
    "    \n",
    "    "
   ]
  },
  {
   "cell_type": "markdown",
   "metadata": {},
   "source": [
    "In Python, methods can be categorized into three types: **instance methods**, **class methods**, and **static methods**. Each serves a different purpose, and the main difference between them lies in how they are accessed and the kind of data they can interact with.\n",
    "\n",
    "\n",
    "\n",
    "### 1. **Instance Method**\n",
    "- **Definition**: The most common type of method. It operates on an instance of the class (an object).\n",
    "- **Self Parameter**: Instance methods always take `self` as the first parameter, which refers to the specific instance of the object that is calling the method.\n",
    "- **Usage**: Instance methods can access and modify the instance's attributes.\n",
    "  \n",
    "#### Example:\n",
    "```python\n",
    "class Dog:\n",
    "    def __init__(self, name, age):\n",
    "        self.name = name\n",
    "        self.age = age\n",
    "\n",
    "    def description(self):\n",
    "        return f\"{self.name} is {self.age} years old.\"\n",
    "        \n",
    "dog = Dog(\"Buddy\", 3)\n",
    "print(dog.description())  # Instance method accessed via an object\n",
    "```\n",
    "\n",
    "**Key Points:**\n",
    "- `self` refers to the specific instance calling the method.\n",
    "- Instance methods operate on individual instances and can access both instance-level and class-level attributes.\n",
    "\n",
    "---\n",
    "\n",
    "### 2. **Class Method**\n",
    "- **Definition**: A method that is bound to the class rather than an instance of the class.\n",
    "- **Class Parameter**: A class method takes `cls` as the first parameter, which refers to the class itself, not an instance.\n",
    "- **Usage**: Class methods can modify class-level attributes, but they cannot access instance-level attributes directly.\n",
    "  \n",
    "#### Example:\n",
    "```python\n",
    "class Dog:\n",
    "    species = \"Canis Familiaris\"  # Class attribute\n",
    "    \n",
    "    @classmethod\n",
    "    def species_info(cls):\n",
    "        return f\"All dogs belong to the species {cls.species}.\"\n",
    "\n",
    "print(Dog.species_info())  # Class method called on the class\n",
    "```\n",
    "\n",
    "**Key Points:**\n",
    "- `cls` refers to the class, not an instance.\n",
    "- Class methods can access and modify class-level attributes (variables shared by all instances).\n",
    "- Can be called on both the class and the instance.\n",
    "\n",
    "---\n",
    "\n",
    "### 3. **Static Method**\n",
    "- **Definition**: A method that doesn't operate on an instance or the class itself. It's just a regular function inside a class that doesn't need to access any instance-specific or class-specific data.\n",
    "- **No `self` or `cls` Parameters**: Static methods don’t take `self` or `cls` as parameters because they don't need access to instance-specific or class-specific data.\n",
    "- **Usage**: Static methods are typically utility functions that are related to the class but don’t need to interact with any instance or class-level attributes.\n",
    "\n",
    "#### Example:\n",
    "```python\n",
    "class Dog:\n",
    "    @staticmethod\n",
    "    def bark():\n",
    "        return \"Woof!\"\n",
    "\n",
    "print(Dog.bark())  # Static method called on the class\n",
    "```\n",
    "\n",
    "**Key Points:**\n",
    "- A static method doesn't need access to the instance (`self`) or the class (`cls`).\n",
    "- Static methods can be called on both the class and the instance, but they do not rely on any class or instance data.\n",
    "\n",
    "---\n",
    "\n",
    "### Comparison\n",
    "\n",
    "| Method Type       | Accessed via             | First Parameter       | Can Access      | Use Case                                                         |\n",
    "|-------------------|--------------------------|-----------------------|-----------------|------------------------------------------------------------------|\n",
    "| **Instance Method**| Instance (object)        | `self` (instance)     | Instance and Class Attributes | Methods that need to operate on individual objects and their state |\n",
    "| **Class Method**   | Class or Instance        | `cls` (class)         | Only Class Attributes | Methods that operate on the class itself (shared behavior) |\n",
    "| **Static Method**  | Class or Instance        | None                  | Neither Instance nor Class Attributes | Utility functions related to the class but don’t depend on object state or class state |\n",
    "\n",
    "### Summary of Usage:\n",
    "- **Instance Method**: Use when you need to work with instance data (attributes that belong to individual objects).\n",
    "- **Class Method**: Use when you need to work with class data (shared by all instances) or modify the class itself.\n",
    "- **Static Method**: Use for utility functions that don’t need access to instance or class data.\n",
    "\n"
   ]
  },
  {
   "cell_type": "markdown",
   "metadata": {},
   "source": [
    "\n",
    "### **Types of Variables in Python**\n",
    "\n",
    "In Python, variables are classified into different types based on their scope and the context in which they are defined. These types include **instance variables**, **class variables**, **global variables**, **local variables**, **enclosing (nonlocal) variables**, and **built-in variables**. Below is an overview of each type of variable, their usage, and key characteristics.\n",
    "\n",
    "---\n",
    "\n",
    "### 1. **Instance Variables**\n",
    "- **Definition**: Instance variables are variables that are specific to an instance (an object) of a class. They are defined inside the `__init__` method or any other method that operates on an instance.\n",
    "- **Scope**: The scope of an instance variable is limited to the instance (object) of the class.\n",
    "- **Accessed via**: `self.<variable>`\n",
    "- **Usage**: Instance variables store data that is unique to each object created from a class.\n",
    "\n",
    "#### Example:\n",
    "```python\n",
    "class Dog:\n",
    "    def __init__(self, name, age):\n",
    "        self.name = name   # Instance variable\n",
    "        self.age = age     # Instance variable\n",
    "\n",
    "dog1 = Dog(\"Buddy\", 3)\n",
    "dog2 = Dog(\"Lucy\", 5)\n",
    "\n",
    "print(dog1.name)  # Outputs: Buddy\n",
    "print(dog2.name)  # Outputs: Lucy\n",
    "```\n",
    "\n",
    "**Key Points**:\n",
    "- Instance variables are specific to each object and are accessed via `self`.\n",
    "- They can be modified individually for each object.\n",
    "\n",
    "---\n",
    "\n",
    "### 2. **Class Variables**\n",
    "- **Definition**: Class variables are variables that are shared among all instances of a class. They are defined inside the class but outside any methods.\n",
    "- **Scope**: The scope of a class variable is at the class level and is shared by all instances of the class.\n",
    "- **Accessed via**: `ClassName.<variable>` or `self.<variable>`\n",
    "- **Usage**: Class variables store data that is common to all instances of the class.\n",
    "\n",
    "#### Example:\n",
    "```python\n",
    "class Dog:\n",
    "    species = \"Canis Familiaris\"  # Class variable (shared by all instances)\n",
    "    \n",
    "    def __init__(self, name, age):\n",
    "        self.name = name   # Instance variable\n",
    "        self.age = age     # Instance variable\n",
    "\n",
    "dog1 = Dog(\"Buddy\", 3)\n",
    "dog2 = Dog(\"Lucy\", 5)\n",
    "\n",
    "print(dog1.species)  # Outputs: Canis Familiaris\n",
    "print(dog2.species)  # Outputs: Canis Familiaris\n",
    "```\n",
    "\n",
    "**Key Points**:\n",
    "- Class variables are shared across all instances of the class.\n",
    "- They can be accessed or modified using either the class name or the instance.\n",
    "\n",
    "---\n",
    "\n",
    "### 3. **Global Variables**\n",
    "- **Definition**: Global variables are variables defined outside of any function or class and are accessible throughout the entire program.\n",
    "- **Scope**: The scope of a global variable is the entire program.\n",
    "- **Accessed via**: `<variable>`\n",
    "- **Usage**: Global variables can be accessed from anywhere in the program, but to modify them inside a function, you must use the `global` keyword.\n",
    "\n",
    "#### Example:\n",
    "```python\n",
    "global_var = \"I am a global variable\"  # Global variable\n",
    "\n",
    "def modify_global():\n",
    "    global global_var  # Declare that we are using the global variable\n",
    "    global_var += \" updated!\"\n",
    "    print(global_var)\n",
    "\n",
    "modify_global()  # Outputs: I am a global variable updated!\n",
    "print(global_var)  # Outputs: I am a global variable updated!\n",
    "```\n",
    "\n",
    "**Key Points**:\n",
    "- Global variables are accessible anywhere in the program.\n",
    "- The `global` keyword is required to modify a global variable inside a function.\n",
    "\n",
    "---\n",
    "\n",
    "### 4. **Local Variables**\n",
    "- **Definition**: Local variables are variables defined inside a function or method. They are only accessible within that function or method.\n",
    "- **Scope**: The scope of a local variable is limited to the function or method in which it is defined.\n",
    "- **Accessed via**: Inside the function or method.\n",
    "- **Usage**: Local variables store temporary data for use only within a specific function.\n",
    "\n",
    "#### Example:\n",
    "```python\n",
    "def greet(name):\n",
    "    message = f\"Hello, {name}!\"  # Local variable\n",
    "    print(message)\n",
    "\n",
    "greet(\"Alice\")  # Outputs: Hello, Alice!\n",
    "# print(message)  # This will raise an error because 'message' is a local variable.\n",
    "```\n",
    "\n",
    "**Key Points**:\n",
    "- Local variables are accessible only within the function or method they are defined in.\n",
    "- Once the function ends, local variables are destroyed.\n",
    "\n",
    "---\n",
    "\n",
    "### 5. **Enclosing (Nonlocal) Variables**\n",
    "- **Definition**: Enclosing variables (also known as nonlocal variables) are variables in the scope of an enclosing (outer) function. These variables are neither global nor local but are in a containing function.\n",
    "- **Scope**: The scope of enclosing variables is within the outer function but accessible to nested (inner) functions.\n",
    "- **Accessed via**: `nonlocal <variable>`\n",
    "- **Usage**: Enclosing variables allow nested functions to modify variables in the outer function using the `nonlocal` keyword.\n",
    "\n",
    "#### Example:\n",
    "```python\n",
    "def outer():\n",
    "    count = 0  # Enclosing variable\n",
    "    \n",
    "    def inner():\n",
    "        nonlocal count  # Accessing and modifying the enclosing variable\n",
    "        count += 1\n",
    "        print(count)\n",
    "    \n",
    "    inner()  # Outputs: 1\n",
    "    inner()  # Outputs: 2\n",
    "\n",
    "outer()\n",
    "```\n",
    "\n",
    "**Key Points**:\n",
    "- Enclosing variables are accessible within nested functions.\n",
    "- The `nonlocal` keyword is used to modify variables in the outer (enclosing) function.\n",
    "\n",
    "---\n",
    "\n",
    "### 6. **Built-in Variables**\n",
    "- **Definition**: Built-in variables are predefined variables and functions that Python provides by default. These are part of Python’s built-in namespace and are available globally in every Python program.\n",
    "- **Scope**: The scope of built-in variables is the entire program (globally accessible).\n",
    "- **Accessed via**: Directly, without needing to import them.\n",
    "- **Usage**: Built-in variables include functions, exceptions, and data types, like `len()`, `abs()`, `min()`, etc.\n",
    "\n",
    "#### Example:\n",
    "```python\n",
    "print(len)  # Outputs: <built-in function len>\n",
    "print(abs(-5))  # Outputs: 5 (abs is a built-in function)\n",
    "```\n",
    "\n",
    "**Key Points**:\n",
    "- Built-in variables and functions are available globally in Python.\n",
    "- You don’t need to define or import them—they are part of Python’s standard library.\n",
    "\n",
    "---\n",
    "\n",
    "### **Summary of All Variable Types**:\n",
    "\n",
    "| **Variable Type**        | **Scope**                              | **Accessed via**           | **Usage**                                          |\n",
    "|--------------------------|----------------------------------------|----------------------------|----------------------------------------------------|\n",
    "| **Instance Variables**    | Instance (object)                      | `self.<variable>`           | Store data unique to each object.                  |\n",
    "| **Class Variables**       | Class (shared across all instances)    | `ClassName.<variable>` or `self.<variable>` | Store data shared by all instances of the class. |\n",
    "| **Global Variables**      | Global (across entire program)         | `<variable>`                | Store data accessible globally across functions and classes. |\n",
    "| **Local Variables**       | Local (function/method)                | Inside the function         | Store temporary data for use only within a function or method. |\n",
    "| **Enclosing (Nonlocal) Variables** | Enclosing function (nested scope) | `nonlocal <variable>`       | Access and modify variables in enclosing functions from nested functions. |\n",
    "| **Built-in Variables**    | Global (default built-in namespace)    | Directly available          | Predefined variables and functions like `len()`, `abs()`, etc. |\n",
    "\n",
    "### **Conclusion**:\n",
    "- **Instance variables** are specific to each object and are accessed using `self`.\n",
    "- **Class variables** are shared across all instances and are accessed via `ClassName` or `self`.\n",
    "- **Global variables** are accessible across the entire program and can be modified using the `global` keyword inside functions.\n",
    "- **Local variables** are temporary variables within functions, accessible only within those functions.\n",
    "- **Enclosing (nonlocal)** variables allow nested functions to access and modify variables in their enclosing (outer) scope.\n",
    "- **Built-in variables** are available globally and are part of Python's standard library, such as `len()`, `abs()`, etc.\n",
    "\n"
   ]
  },
  {
   "cell_type": "code",
   "execution_count": 11,
   "metadata": {},
   "outputs": [
    {
     "data": {
      "text/plain": [
       "'Toyota Grande,  2022 model'"
      ]
     },
     "execution_count": 11,
     "metadata": {},
     "output_type": "execute_result"
    }
   ],
   "source": [
    "# 1. Define a class named `Car` with instance attributes `make`, `model`, and `year`.\n",
    "#    Add an instance method to display the car's information. Create two instances of the class and display their information.\n",
    "\n",
    "class Car: \n",
    "    \n",
    "    def __init__(self, make, model, year) -> None:\n",
    "        self.make = make\n",
    "        self.model = model\n",
    "        self.year = year\n",
    "        \n",
    "    def info(self):\n",
    "        return f\"{self.make} {self.model},  {self.year} model\"\n",
    "    \n",
    "    \n",
    "car1 = Car(\"Toyota\",\"Grande\",2022)\n",
    "car1.info()    "
   ]
  },
  {
   "cell_type": "code",
   "execution_count": 16,
   "metadata": {},
   "outputs": [
    {
     "data": {
      "text/plain": [
       "'John, Maha Sagar Corporation Ltd.'"
      ]
     },
     "execution_count": 16,
     "metadata": {},
     "output_type": "execute_result"
    }
   ],
   "source": [
    "# 2. Define a class named `Employee` with class attribute `company_name`.\n",
    "#    Add instance attributes `name` and `salary`, and a class method to display the company name.\n",
    "#    Create an instance of the class and display the employee's name, salary, and company name.\n",
    "\n",
    "\n",
    "class Employee:\n",
    "    company_name = \"Maha Sagar\"\n",
    "    \n",
    "    def __init__(self, name, salary) -> None:\n",
    "        self.name = name\n",
    "        self.salary = salary\n",
    "        \n",
    "    @classmethod\n",
    "    def company(cls):\n",
    "        return f\"{cls.company_name} Corporation Ltd.\"\n",
    "    \n",
    "    def info(self):\n",
    "        return f\"{self.name}, {Employee.company()}\"\n",
    "    \n",
    "    def __str__(self) -> str:\n",
    "        return f\"{self.name}\"\n",
    "    \n",
    "    \n",
    "emp1 = Employee(\"John\",22)\n",
    "emp1.info()"
   ]
  },
  {
   "cell_type": "code",
   "execution_count": 17,
   "metadata": {},
   "outputs": [
    {
     "name": "stdout",
     "output_type": "stream",
     "text": [
      "7\n",
      "-1\n",
      "12\n",
      "0.8\n"
     ]
    }
   ],
   "source": [
    "# 3. Define a class named `Calculator` with static methods to add, subtract, multiply, and divide two numbers.\n",
    "#    Demonstrate the use of these static methods.\n",
    "\n",
    "\n",
    "class Calculator:\n",
    "    \n",
    "    @staticmethod\n",
    "    def add(a,b):\n",
    "        return a + b\n",
    "    \n",
    "    @staticmethod\n",
    "    def subtract(a,b):\n",
    "        return a - b\n",
    "    \n",
    "    @staticmethod\n",
    "    def multiply(a,b):\n",
    "        return a * b\n",
    "    \n",
    "    @staticmethod\n",
    "    def divide(a,b):\n",
    "        if b == 0:\n",
    "            return \"Can't divide by zero\"\n",
    "        return a / b \n",
    "    \n",
    "    \n",
    "calc = Calculator\n",
    "print(calc.add(3,4))\n",
    "print(calc.subtract(3,4))\n",
    "print(calc.multiply(3,4))\n",
    "print(calc.divide(4,5))\n",
    "    \n",
    "    "
   ]
  },
  {
   "cell_type": "code",
   "execution_count": 22,
   "metadata": {},
   "outputs": [
    {
     "name": "stdout",
     "output_type": "stream",
     "text": [
      "Grade: C, with 70.0% marks.\n",
      "Grade: B, with 80.0% marks.\n"
     ]
    }
   ],
   "source": [
    "\n",
    "# 4. Write a class named `Student` with instance attributes `name` and `grades` (a list).\n",
    "#    Add a method to calculate the average grade of the student. Create an instance and calculate the average grade.\n",
    "\n",
    "\n",
    "### 4. Write a class named `Student` with the following requirements:\n",
    "# - **Instance attributes**:\n",
    "#   - `name` (a string representing the student's name)\n",
    "#   - `grades` (a list representing the student's grades)\n",
    "\n",
    "# - **Methods**:\n",
    "#   - A method to calculate the average grade of the student.\n",
    "\n",
    "# **Task**:\n",
    "# 1. Create an instance of the `Student` class with a name and a list of grades.\n",
    "# 2. Use the method to calculate and print the average grade of the student.\n",
    "\n",
    "\n",
    "\n",
    "class Student:\n",
    "    \n",
    "    def __init__(self, name, grades) -> None:\n",
    "        self.name = name\n",
    "        self.grades = grades\n",
    "        \n",
    "    def average_grade(self):\n",
    "        score = sum(self.grades)/len(self.grades)\n",
    "        # let's consider there are only three subjects\n",
    "        \n",
    "        if score >= 60 and score < 80:\n",
    "            return f\"Grade: C, with {score}% marks.\"\n",
    "        elif score >= 80 and score < 90:\n",
    "            return f\"Grade: B, with {score}% marks.\"\n",
    "        elif score >= 90 and score <= 100:\n",
    "            return f\"Grade: A, with {score}% marks\"\n",
    "        else:\n",
    "            return f\"Mehnat kar beta!\"\n",
    "        \n",
    "        \n",
    "    \n",
    "stduent1 = Student(\"john\",[70,70,70])\n",
    "print(stduent1.average_grade())\n",
    "\n",
    "student2 = Student(\"Alice\",[70,80,90])\n",
    "print(student2.average_grade())\n",
    "\n",
    "        "
   ]
  },
  {
   "cell_type": "code",
   "execution_count": 23,
   "metadata": {},
   "outputs": [
    {
     "name": "stdout",
     "output_type": "stream",
     "text": [
      "Totyota\n"
     ]
    }
   ],
   "source": [
    "# 1. Define a base class named `Vehicle` with an instance attribute `make`.\n",
    "#    Define a derived class `Car` that overrides a method to return the type of vehicle.\n",
    "#    Create instances and demonstrate the overridden method.\n",
    "\n",
    "\n",
    "\n",
    "class Vehicle:\n",
    "    \n",
    "    def __init__(self, make) -> None:\n",
    "        self.make = make\n",
    "        \n",
    "    def type(self):\n",
    "        pass\n",
    "    \n",
    "    \n",
    "class Car(Vehicle):\n",
    "    def type(self):\n",
    "        return f\"{self.make}\"\n",
    "    \n",
    "    \n",
    "    \n",
    "car1 = Car(\"Totyota\")\n",
    "print(car1.type())\n",
    "    "
   ]
  },
  {
   "cell_type": "code",
   "execution_count": 25,
   "metadata": {},
   "outputs": [
    {
     "name": "stdout",
     "output_type": "stream",
     "text": [
      "16\n"
     ]
    },
    {
     "data": {
      "text/plain": [
       "28.274333882308138"
      ]
     },
     "execution_count": 25,
     "metadata": {},
     "output_type": "execute_result"
    }
   ],
   "source": [
    "# 2. Define a base class named `Shape` with a method to calculate the area.\n",
    "#    Define two derived classes, `Square` and `Circle`, that override the method to calculate the area for a square and a circle respectively.\n",
    "#    Create instances and calculate the area for each shape.\n",
    "\n",
    "import math\n",
    "\n",
    "class Shape():\n",
    "    \n",
    "    def calculate_area(self):\n",
    "        pass\n",
    "    \n",
    "\n",
    "class Square(Shape):\n",
    "    \n",
    "    def __init__(self, side) -> None:\n",
    "        self.side = side\n",
    "        \n",
    "        \n",
    "    def calculate_area(self):\n",
    "        return self.side * self.side \n",
    "\n",
    "class Circle(Shape):\n",
    "    def __init__(self, radius) -> None:\n",
    "        self.radius = radius\n",
    "        \n",
    "    def calculate_area(self):\n",
    "        return math.pi * self.radius ** 2\n",
    "    \n",
    "    \n",
    "sq1 = Square(4)\n",
    "print(sq1.calculate_area())\n",
    "\n",
    "\n",
    "c1 = Circle(3)\n",
    "c1.calculate_area()"
   ]
  },
  {
   "cell_type": "code",
   "execution_count": 5,
   "metadata": {},
   "outputs": [
    {
     "name": "stdout",
     "output_type": "stream",
     "text": [
      "Buddy says Woof Woof!\n",
      "Shabnam says meow!\n",
      "Dash says oh biruuu!\n"
     ]
    }
   ],
   "source": [
    "# 3. Write a function that takes a list of objects of different classes (e.g., Dog, Cat, Bird) and calls a method `speak` on each object.\n",
    "#    Demonstrate polymorphism with this function.\n",
    "\n",
    "class Animal:\n",
    "    def __init__(self, name, age) -> None:\n",
    "        self.name = name\n",
    "        self.age = age\n",
    "    \n",
    "    def speak(self):\n",
    "        pass\n",
    "    \n",
    "class Dog(Animal):\n",
    "    def speak(self):\n",
    "        return f\"{self.name} says Woof Woof!\"\n",
    "    \n",
    "class Cat(Animal):\n",
    "    def speak(self):\n",
    "        return f\"{self.name} says meow!\"\n",
    "    \n",
    "class Bird():\n",
    "    def __init__(self,name, age) -> None:\n",
    "            self.name = name\n",
    "            self.age = age\n",
    "    def speak(self):\n",
    "        pass\n",
    "    \n",
    "class Parrot(Bird):\n",
    "    def speak(self):\n",
    "        return f\"{self.name} says oh biruuu!\"\n",
    "    \n",
    " \n",
    "\n",
    "\n",
    "def animal_speak(animals):\n",
    "    for animal in animals:\n",
    "        print(animal.speak())\n",
    "\n",
    "dog1 = Dog(\"Buddy\",12)\n",
    "cat1 = Cat(\"Shabnam\",7)\n",
    "parrot1 = Parrot(\"Dash\",2)\n",
    "\n",
    "animals = [dog1, cat1, parrot1]\n",
    "\n",
    "animal_speak(animals)\n",
    "\n",
    "\n"
   ]
  },
  {
   "cell_type": "code",
   "execution_count": 9,
   "metadata": {},
   "outputs": [
    {
     "name": "stdout",
     "output_type": "stream",
     "text": [
      "600000\n",
      "610000\n"
     ]
    }
   ],
   "source": [
    "# 4. Define a base class named `Employee` with instance attributes `name` and `salary`, and a method to calculate the annual salary.\n",
    "#    Define a derived class `Manager` that overrides the method to include a bonus in the annual salary calculation.\n",
    "#    Create instances and demonstrate the overridden method.\n",
    "\n",
    "\n",
    "class Employee:\n",
    "    def __init__(self, name, salary) -> None:\n",
    "        self.name = name\n",
    "        self.salary = salary\n",
    "    \n",
    "    def calc_salary(self):\n",
    "        return self.salary * 12\n",
    "    \n",
    "    \n",
    "class Manager(Employee):\n",
    "    def __init__(self, name, salary, bonus):\n",
    "        super().__init__(name, salary)\n",
    "        self.bonus = bonus\n",
    "    \n",
    "    \n",
    "    def calc_salary(self):\n",
    "        return (self.salary * 12) + self.bonus\n",
    "    \n",
    "    \n",
    "    \n",
    "employee = Employee(\"MF\",50000)\n",
    "print(employee.calc_salary())    \n",
    "\n",
    "manager = Manager(\"John\",50000, 10000)\n",
    "print(manager.calc_salary())\n",
    "    "
   ]
  },
  {
   "cell_type": "code",
   "execution_count": 15,
   "metadata": {},
   "outputs": [
    {
     "name": "stdout",
     "output_type": "stream",
     "text": [
      "John is  20  years old!\n",
      "John is  24  years old!\n"
     ]
    }
   ],
   "source": [
    "# 1. Define a class named `Person` with private attributes `name` and `age`.\n",
    "#    Provide public methods to get and set these attributes. Create an instance and demonstrate encapsulation.\n",
    "\n",
    "class Person:\n",
    "    def __init__(self,name, age):\n",
    "        self.__name = name\n",
    "        self.__age = age\n",
    "        \n",
    "    def get_name(self):\n",
    "        return self.__name\n",
    "    \n",
    "    def set_name(self, new_name):\n",
    "        self.__name = new_name\n",
    "        \n",
    "    def get_age(self):\n",
    "        return self.__age\n",
    "    \n",
    "    def set_age(self, new_age):\n",
    "        self.__age = new_age\n",
    "        \n",
    "\n",
    "\n",
    "person1 = Person(\"John\",20)\n",
    "# person1.name # Error\n",
    "print(person1.get_name(), \"is \",person1.get_age(), \" years old!\")\n",
    "person1.set_age(24)\n",
    "\n",
    "print(person1.get_name(), \"is \",person1.get_age(), \" years old!\")"
   ]
  },
  {
   "cell_type": "code",
   "execution_count": 18,
   "metadata": {},
   "outputs": [
    {
     "name": "stdout",
     "output_type": "stream",
     "text": [
      "12\n",
      "78.53981633974483\n"
     ]
    }
   ],
   "source": [
    "# 2. Define an abstract base class `Shape` with an abstract method `area`.\n",
    "#    Create two derived classes `Rectangle` and `Circle` that implement the `area` method.\n",
    "#    Create instances and calculate the area for each shape.\n",
    "\n",
    "\n",
    "from abc import ABC, abstractmethod\n",
    "import math\n",
    "\n",
    "class Shape(ABC):\n",
    "    @abstractmethod\n",
    "    def area(self):\n",
    "        pass\n",
    "\n",
    "class Rectangle(Shape):\n",
    "    def __init__(self, len, width):\n",
    "        self.len = len\n",
    "        self.width = width\n",
    "    \n",
    "    def area(self):\n",
    "        return self.len * self.width\n",
    "\n",
    "class Circle(Shape):\n",
    "    def __init__(self, radius):\n",
    "        self.radius = radius\n",
    "    \n",
    "    \n",
    "    def area(self):\n",
    "        return math.pi * self.radius **2\n",
    "    \n",
    "    \n",
    "rect1 = Rectangle(3,4)\n",
    "print(rect1.area())\n",
    "\n",
    "circle = Circle(5)\n",
    "print(circle.area())"
   ]
  },
  {
   "cell_type": "code",
   "execution_count": 25,
   "metadata": {},
   "outputs": [
    {
     "name": "stdout",
     "output_type": "stream",
     "text": [
      "< 3, 4 >\n",
      "< 2, 4 >\n",
      "v1 + v2:  < 5, 8 >\n"
     ]
    }
   ],
   "source": [
    "\n",
    "# 3. Define a class named `Vector` with attributes `x` and `y`\n",
    "#    Implement magic methods for vector addition, subtraction, and string representation.\n",
    "#    Create instances and demonstrate these operations.\n",
    "\n",
    "\n",
    "class Vector:\n",
    "    def __init__(self, x, y):\n",
    "        self.x = x \n",
    "        self.y = y \n",
    "        \n",
    "    def __str__(self):\n",
    "        return f\"< {self.x}, {self.y} >\"\n",
    "    \n",
    "    def __add__(self, other):\n",
    "        return Vector(self.x + other.x, self.y + other.y)\n",
    "    \n",
    "    \n",
    "    \n",
    "    \n",
    "    \n",
    "v1 = Vector(3,4)\n",
    "v2 = Vector(2,4)\n",
    "print(v1)\n",
    "print(v2)\n",
    "     \n",
    "print(\"v1 + v2: \", v1 + v2)"
   ]
  },
  {
   "cell_type": "code",
   "execution_count": 34,
   "metadata": {},
   "outputs": [
    {
     "name": "stdout",
     "output_type": "stream",
     "text": [
      "123456\n",
      "Acount No: 123456, Balance: 123456\n"
     ]
    }
   ],
   "source": [
    "# 4. Write a class named `BankAccount` with private attributes `account_number` and `balance`.\n",
    "#    Provide methods to deposit, withdraw, and check the balance.\n",
    "#    Demonstrate encapsulation by creating an instance and performing operations.\n",
    "\n",
    "\n",
    "class BankAccount:\n",
    "    def __init__(self, account_number, balance):\n",
    "        self.__account_number = account_number\n",
    "        self.__balance = balance\n",
    "        \n",
    "    def __str__(self):\n",
    "        return f\"{self.__account_number}\"\n",
    "        \n",
    "    def deposit(self, amount):\n",
    "        self.__balance = self.__balance + amount\n",
    "        \n",
    "    def withdraw(self, amount):\n",
    "        self.__balance = self.__balance - amount\n",
    "    \n",
    "    def get_balance(self):\n",
    "        return f\"Acount No: {self.__account_number}, Balance: {self.__balance}\"        \n",
    "        \n",
    "        \n",
    "account1 = BankAccount(123456, 123456)\n",
    "print(account1)\n",
    "print(account1.get_balance())\n",
    "\n",
    "    "
   ]
  },
  {
   "cell_type": "code",
   "execution_count": null,
   "metadata": {},
   "outputs": [],
   "source": [
    "\"\"\"\n",
    "\n",
    "### Easy Level\n",
    "1. **What is inheritance in Python?**\n",
    "2. **Explain the difference between a subclass and a superclass.**\n",
    "3. **Can a class inherit from multiple classes in Python? What is this called?**\n",
    "4. **What is the purpose of the `super()` function in Python?**\n",
    "5. **What is method overriding in inheritance? Give an example.**\n",
    "6. **What happens if a method is not overridden in the subclass?**\n",
    "7. **Can you create an instance of an abstract class in Python? Why or why not?**\n",
    "\n",
    "### Intermediate Level\n",
    "8. **What is the difference between single and multiple inheritance in Python?**\n",
    "9. **Explain how Python's Method Resolution Order (MRO) works.**\n",
    "10. **Can you call the constructor of a superclass in Python? If yes, how do you do it?**\n",
    "11. **What is the use of `super()` in multiple inheritance?**\n",
    "12. **Can a subclass override a method of a parent class without using `super()`? If so, how does this affect the method in the parent class?**\n",
    "13. **How does inheritance in Python differ from inheritance in other object-oriented programming languages (like Java or C++)?**\n",
    "14. **What is the role of the `object` class in Python inheritance?**\n",
    "15. **Can a child class modify the behavior of a parent class’s private variables or methods?**\n",
    "\n",
    "### Advanced Level\n",
    "16. **What is the `mro()` method and how can it be used to inspect method resolution order in Python?**\n",
    "17. **Explain the concept of diamond problem in multiple inheritance and how Python resolves it.**\n",
    "18. **How does Python’s multiple inheritance handle method resolution order (MRO) with respect to the C3 linearization algorithm?**\n",
    "19. **Explain how to use `@property` decorator in a subclass while overriding methods of a parent class.**\n",
    "20. **What are abstract base classes (ABC) and how does inheritance interact with them in Python? Can you create an abstract class with both abstract methods and concrete methods?**\n",
    "\n",
    "### Expert Level\n",
    "21. **How can you customize the `__new__()` method in a class that inherits from a parent class?**\n",
    "22. **What is the significance of `cls` in class methods and how does it relate to inheritance?**\n",
    "23. **How do you override `__init__()` and `__del__()` methods when dealing with inheritance chains?**\n",
    "24. **Explain how Python’s `__mro__` and `super()` interact when working with complex multiple inheritance.**\n",
    "25. **What happens when an exception is raised in a subclass method that overrides a parent class method? How does Python handle the exception in the inheritance chain?**\n",
    "26. **How can the `issubclass()` function be used in inheritance to dynamically check class hierarchies?**\n",
    "27. **What is the role of `@staticmethod` and `@classmethod` in inheritance, and how do they behave differently than instance methods?**\n",
    "28. **Explain the importance of method decorators in an inheritance hierarchy, especially when overriding methods.**\n",
    "29. **How can `super()` be used in a mixin class in a multiple inheritance scenario?**\n",
    "30. **How does Python’s inheritance model differ when dealing with metaclasses, and what is the relationship between metaclasses and inheritance?**\n",
    "\n",
    "These questions range from basic to complex, and they aim to test a deep understanding of inheritance concepts in Python, including its nuances with method resolution, multiple inheritance, and advanced features like metaclasses and abstract classes.\n",
    "\"\"\""
   ]
  },
  {
   "cell_type": "code",
   "execution_count": 6,
   "metadata": {},
   "outputs": [
    {
     "name": "stdout",
     "output_type": "stream",
     "text": [
      "Vehicle\n",
      "Toyota Car\n"
     ]
    }
   ],
   "source": [
    "# 1. **Define a base class named `Vehicle` with an instance attribute `make`. \n",
    "# Define a derived class `Car` that overrides a method to return the type of vehicle. \n",
    "# Create instances and demonstrate the overridden method.**\n",
    "\n",
    "\n",
    "class Vehicle:\n",
    "    def __init__(self, make):\n",
    "        self.make = make\n",
    "        \n",
    "    def type(self):\n",
    "        return \"Vehicle\" \n",
    "    \n",
    "class Car(Vehicle):\n",
    "    def __init__(self, make, model):\n",
    "        # super().__init__(self, make) # TypeError: Vehicle.__init__() takes 2 positional arguments but 3 were given\n",
    "        super().__init__(make)\n",
    "        self.model = model\n",
    "        \n",
    "    def type(self):\n",
    "        return f\"{self.make} Car\"\n",
    "    \n",
    "vehicle = Vehicle(\"Toyota\")\n",
    "print(vehicle.type())\n",
    "            \n",
    "car = Car(\"Toyota\", \"Grande\")\n",
    "print(car.type())\n",
    "    "
   ]
  },
  {
   "cell_type": "code",
   "execution_count": 15,
   "metadata": {},
   "outputs": [
    {
     "name": "stdout",
     "output_type": "stream",
     "text": [
      "Area of Square:  16\n",
      "Area of Circle:  28.274333882308138\n"
     ]
    }
   ],
   "source": [
    "# 2. **Define a base class named `Shape` with a method to calculate the area. \n",
    "# Define two derived classes, `Square` and `Circle`, that override the method to calculate the area for a square \n",
    "# and a circle respectively. Create instances and calculate the area for each shape.**\n",
    "\n",
    "\n",
    "class Shape:\n",
    "   # def __init__(self):\n",
    "      # pass \n",
    "   \n",
    "   def area():\n",
    "      pass\n",
    "   \n",
    "class Square(Shape):\n",
    "   def __init__(self, side):\n",
    "      # super().__init__()\n",
    "      self.side = side\n",
    "   \n",
    "   def area(self):\n",
    "      return self.side * self.side  \n",
    "   \n",
    "class Circle(Shape):\n",
    "   def __init__(self,radius):\n",
    "      # super().__init__()\n",
    "      self.radius = radius\n",
    "      \n",
    "   def area(self):\n",
    "      import math \n",
    "      return math.pi * self.radius **2\n",
    "   \n",
    "square = Square(4)\n",
    "print(\"Area of Square: \",square.area())\n",
    "\n",
    "circle = Circle(3)\n",
    "print(\"Area of Circle: \",circle.area())"
   ]
  },
  {
   "cell_type": "code",
   "execution_count": null,
   "metadata": {},
   "outputs": [],
   "source": [
    "# 6. **Define a base class `Animal` with a method `make_sound()`. \n",
    "# Create two derived classes, `Dog` and `Cat`, that override the method to print \"Woof\" and \"Meow\" respectively. \n",
    "# Create instances and call the `make_sound()` method.**\n",
    "\n",
    "\n",
    "class Animal:\n",
    "    def __init__(self):\n",
    "        pass\n",
    "    \n",
    "    def make_sound():\n",
    "        pass\n",
    "    \n",
    "class Dog(Animal):\n",
    "    def __init__(self,name):\n",
    "        super.__init__()\n",
    "        self.name = name \n",
    "        \n",
    "    def make_sound(self):\n",
    "        return f\"{self.name} says woof woof!\"\n",
    "    \n",
    "\n",
    "class Cat(Animal):\n",
    "    def __init__(self, name):\n",
    "        super().__init__()\n",
    "        self.name = name \n",
    "    \n",
    "    def make_sound(self):\n",
    "        return f\"{self.name} says Meow!\"\n",
    "    \n",
    "\n"
   ]
  },
  {
   "cell_type": "code",
   "execution_count": null,
   "metadata": {},
   "outputs": [],
   "source": [
    "# 9. **Create a base class `Person` with methods `greet()` and `farewell()`. \n",
    "# Define a derived class `Employee` that adds an `employee_id` attribute and overrides the `greet()` \n",
    "# method to print the employee’s name and ID.**\n",
    "\n",
    "\n",
    "class Person:\n",
    "    def __init__(self,name):\n",
    "        self.name = name \n",
    "    \n",
    "    def greet(self):\n",
    "        return f\"Greetings {self.name}\"\n",
    "    \n",
    "    def farewell(self):\n",
    "       return f\"Bye, {self.name}\"\n",
    "   \n",
    "class Employee(Person):\n",
    "    def __init__(self, name, employee_id):\n",
    "        super().__init__(name)\n",
    "        self.employee_id = employee_id\n",
    "        \n",
    "    def greet(self):\n",
    "        return f\"Greetings {self.name}, {self.employee_id}\"\n",
    "    "
   ]
  },
  {
   "cell_type": "code",
   "execution_count": 16,
   "metadata": {},
   "outputs": [
    {
     "name": "stdout",
     "output_type": "stream",
     "text": [
      "Book title: title: 1984\n",
      "Book author: author: George Orwell\n",
      "EBook title: title: The Great Gatsby, 3.5MBs\n",
      "EBook author: author: F. Scott Fitzgerald\n"
     ]
    }
   ],
   "source": [
    "# 10. **Define a base class `Book` with methods `get_title()` and `get_author()`. \n",
    "# Create a derived class `EBook` that adds an attribute `file_size` and overrides `get_title()` to include the file size. \n",
    "# Instantiate both classes and demonstrate the functionality.**\n",
    "\n",
    "\n",
    "class Book:\n",
    "    def __init__(self, title, author):\n",
    "        self.title = title \n",
    "        self.author = author\n",
    "        \n",
    "    def get_title(self):\n",
    "        return f\"title: {self.title}\"\n",
    "    \n",
    "    def get_author(self):\n",
    "        return f\"author: {self.author}\"\n",
    "    \n",
    "    \n",
    "class EBook(Book):\n",
    "    \n",
    "    def __init__(self, title, author, filesize):\n",
    "        super().__init__(title, author)\n",
    "        self.filesize = filesize\n",
    "        \n",
    "    def get_title(self):\n",
    "        return f\"title: {self.title}, {self.filesize}MBs\"\n",
    "    \n",
    "    \n",
    "# Instantiate the Book class\n",
    "book = Book(\"1984\", \"George Orwell\")\n",
    "print(f\"Book title: {book.get_title()}\")\n",
    "print(f\"Book author: {book.get_author()}\")\n",
    "\n",
    "# Instantiate the EBook class\n",
    "ebook = EBook(\"The Great Gatsby\", \"F. Scott Fitzgerald\", 3.5)\n",
    "print(f\"EBook title: {ebook.get_title()}\")\n",
    "print(f\"EBook author: {ebook.get_author()}\")\n",
    "    "
   ]
  },
  {
   "cell_type": "code",
   "execution_count": 18,
   "metadata": {},
   "outputs": [
    {
     "name": "stdout",
     "output_type": "stream",
     "text": [
      "Employee Alice from HR earns: 50000\n",
      "Developer Bob from Software Development (using Python) earns: 77000.0\n"
     ]
    }
   ],
   "source": [
    "# 12. **Define a base class `Employee` with attributes `name`, `department`, and `salary`. \n",
    "# Create a derived class `Developer` that adds a `programming_language` attribute. \n",
    "# Override the method `get_salary()` to include a bonus for developers.**\n",
    "\n",
    "class Employee:\n",
    "    def __init__(self, name, department, salary):\n",
    "        self.name = name\n",
    "        self.department = department\n",
    "        self.salary = salary \n",
    "        \n",
    "    def get_salary(self):\n",
    "        return self.salary\n",
    "        \n",
    "\n",
    "class Developer(Employee):\n",
    "    def __init__(self, name, department, salary, programming_language):\n",
    "        super().__init__(name, department, salary )\n",
    "        self.programming_language = programming_language\n",
    "    \n",
    "    def get_salary(self):\n",
    "        return self.salary + (self.salary * 0.1)\n",
    "    \n",
    "    \n",
    "\n",
    "# Create an instance of Employee\n",
    "employee = Employee(\"Alice\", \"HR\", 50000)\n",
    "print(f\"Employee {employee.name} from {employee.department} earns: {employee.get_salary()}\")\n",
    "\n",
    "# Create an instance of Developer\n",
    "developer = Developer(\"Bob\", \"Software Development\", 70000, \"Python\")\n",
    "print(f\"Developer {developer.name} from {developer.department} (using {developer.programming_language}) earns: {developer.get_salary()}\")"
   ]
  },
  {
   "cell_type": "code",
   "execution_count": 20,
   "metadata": {},
   "outputs": [
    {
     "name": "stdout",
     "output_type": "stream",
     "text": [
      "Student John having grade A.\n"
     ]
    }
   ],
   "source": [
    "# 13. **Create a base class `Person` with an attribute `name`. \n",
    "# Create a derived class `Student` that adds an attribute `grade` \n",
    "# and overrides the `__str__` method to print a formatted string including the name and grade.**\n",
    "\n",
    "class Person:\n",
    "    def __init__(self, name):\n",
    "        self.name = name \n",
    "        \n",
    "\n",
    "class Student(Person):\n",
    "    def __init__(self, name, grade):\n",
    "        super().__init__(name)\n",
    "        self.garde = grade \n",
    "    \n",
    "    def __str__(self):\n",
    "        return f\"Student {self.name} having grade {self.garde}.\"\n",
    "    \n",
    "\n",
    "student = Student(\"John\",\"A\")\n",
    "print(student)"
   ]
  },
  {
   "cell_type": "code",
   "execution_count": 23,
   "metadata": {},
   "outputs": [
    {
     "name": "stdout",
     "output_type": "stream",
     "text": [
      "Area of circle: 78.53981633974483\n",
      "Area of rectangle: 24\n"
     ]
    }
   ],
   "source": [
    "# 16. **Define a base class `Shape` with an abstract method `get_area()`. Use the `abc` module to make it abstract. \n",
    "# Create two derived classes `Circle` and `Rectangle` that implement `get_area()` and calculate the area accordingly. \n",
    "# Demonstrate the use of abstract methods.**\n",
    "\n",
    "from abc import ABC, abstractmethod\n",
    "# ABC is a class within the abc module, and it stands for Abstract Base Class   \n",
    "\n",
    "class Shape(ABC):\n",
    "    def __init__(self):\n",
    "        pass\n",
    "    \n",
    "    @abstractmethod\n",
    "    def get_area():\n",
    "        pass \n",
    "    \n",
    "class Circle(Shape):\n",
    "    def __init__(self, radius):\n",
    "        super().__init__()\n",
    "        self.radius = radius \n",
    "        \n",
    "    def get_area(self):\n",
    "        import math\n",
    "        return math.pi * (self.radius ** 2) \n",
    "    \n",
    "class Rectangle(Shape):\n",
    "    def __init__(self, len, width):\n",
    "        super().__init__()\n",
    "        self.len = len\n",
    "        self.width = width \n",
    "        \n",
    "    def get_area(self):\n",
    "        return self.len * self.width\n",
    "    \n",
    "    \n",
    "        \n",
    "    \n",
    "# Create instances of Circle and Rectangle\n",
    "circle = Circle(5)\n",
    "rectangle = Rectangle(4, 6)\n",
    "\n",
    "# Print areas of both shapes\n",
    "print(f\"Area of circle: {circle.get_area()}\")  # Circle with radius 5\n",
    "print(f\"Area of rectangle: {rectangle.get_area()}\")  # Rectangle with length 4 and width 6"
   ]
  },
  {
   "cell_type": "code",
   "execution_count": 25,
   "metadata": {},
   "outputs": [
    {
     "name": "stdout",
     "output_type": "stream",
     "text": [
      "Sam Altman writes code not the bakwas...\n",
      "John Nosh writes code not the bakwas...\n",
      "Elon bro minds his own work...\n"
     ]
    }
   ],
   "source": [
    "# 17. **Create a base class `Employee` with a method `work()`. \n",
    "# Create two derived classes, `Developer` and `Manager`, each overriding the `work()` method to perform different actions. \n",
    "# Write a function that takes a list of employees and calls `work()` on each one, demonstrating polymorphism.**\n",
    " \n",
    "\n",
    "class Employee:\n",
    "    def __init__(self, name):\n",
    "        self.name = name \n",
    "        \n",
    "    def work(self):\n",
    "        pass \n",
    "    \n",
    "class Developer(Employee):\n",
    "    def __init__(self, name):\n",
    "        super().__init__(name)\n",
    "    \n",
    "    def work(self):\n",
    "        return f\"{self.name} writes code not the bakwas...\"\n",
    "    \n",
    "class Manager(Employee):\n",
    "    def __init__(self, name):\n",
    "        super().__init__(name)\n",
    "    \n",
    "    def work(self):\n",
    "        return f\"{self.name} bro minds his own work...\"  \n",
    "    \n",
    "\n",
    "sam_altman = Developer(\"Sam Altman\")\n",
    "john_nosh = Developer(\"John Nosh\")\n",
    "\n",
    "elon = Manager(\"Elon\")\n",
    "\n",
    "employees = [sam_altman, john_nosh, elon]\n",
    "\n",
    "for employee in employees:\n",
    "    print(employee.work())\n",
    "    "
   ]
  },
  {
   "cell_type": "code",
   "execution_count": 26,
   "metadata": {},
   "outputs": [
    {
     "name": "stdout",
     "output_type": "stream",
     "text": [
      "Hello\n",
      "Teaching students\n"
     ]
    }
   ],
   "source": [
    "# 20. **Define a base class `Person` with a method `speak()` that prints \"Hello\".\n",
    "# Create a derived class `Teacher` that overrides `speak()` to print \"Teaching students\". \n",
    "# Demonstrate dynamic method resolution using the `super()` function to call the method from the parent class.**\n",
    "\n",
    "# Define the base class 'Person'\n",
    "class Person:\n",
    "    def speak(self):\n",
    "        print(\"Hello\")\n",
    "\n",
    "# Define the derived class 'Teacher' that overrides 'speak()'\n",
    "class Teacher(Person):\n",
    "    def speak(self):\n",
    "        # Use super() to call the 'speak' method from the base class 'Person'\n",
    "        super().speak()  # Calls Person's speak method\n",
    "        print(\"Teaching students\")  # Adds the specific functionality for Teacher\n",
    "\n",
    "# Create an instance of Teacher\n",
    "teacher = Teacher()\n",
    "\n",
    "# Call the speak method of the Teacher instance\n",
    "teacher.speak()\n"
   ]
  },
  {
   "cell_type": "code",
   "execution_count": 28,
   "metadata": {},
   "outputs": [
    {
     "name": "stdout",
     "output_type": "stream",
     "text": [
      "division by zero\n"
     ]
    }
   ],
   "source": [
    "# 1. Write a function that takes a list of numbers and returns their average.\n",
    "#    Handle the exception that occurs if the list is empty.\n",
    "\n",
    "\n",
    "ls = []\n",
    "\n",
    "def average(items):\n",
    "    # if items is None:\n",
    "    #     raise ZeroDivisionError(\"No items found in list\")\n",
    "    try:\n",
    "        return sum(items)/len(items)\n",
    "    except Exception as e:\n",
    "        print(e)\n",
    "        \n",
    "\n",
    "average(ls)\n",
    "\n",
    "\n",
    "         "
   ]
  },
  {
   "cell_type": "code",
   "execution_count": 29,
   "metadata": {},
   "outputs": [
    {
     "name": "stdout",
     "output_type": "stream",
     "text": [
      "invalid literal for int() with base 10: 'ten'\n"
     ]
    }
   ],
   "source": [
    "# 2. Define a function that takes a string as input and converts it to an integer.\n",
    "#    Handle the exception that occurs if the input cannot be converted to an integer.\n",
    "\n",
    "def convertor(num):\n",
    "    try:\n",
    "        return int(num)\n",
    "    except Exception as e:\n",
    "        print(e)\n",
    "        \n",
    "convertor(\"ten\")"
   ]
  },
  {
   "cell_type": "code",
   "execution_count": null,
   "metadata": {},
   "outputs": [],
   "source": [
    "# 3. Create a function that opens a file, reads its content, and prints it.\n",
    "#    Ensure that the file is properly closed even if an exception occurs during reading.\n",
    "\n",
    "def read_file(path):\n",
    "    try:\n",
    "        file = open(path,'r')\n",
    "    except Exception as e:\n",
    "        print(e)\n",
    "    finally:\n",
    "        file.close()"
   ]
  },
  {
   "cell_type": "code",
   "execution_count": null,
   "metadata": {},
   "outputs": [],
   "source": [
    "# 4. Write a function that takes two numbers as input and returns their division.\n",
    "#    Raise a custom exception if the second number is zero.\n",
    "\n"
   ]
  },
  {
   "cell_type": "code",
   "execution_count": 32,
   "metadata": {},
   "outputs": [
    {
     "name": "stdout",
     "output_type": "stream",
     "text": [
      "write successful!\n",
      "wtf\n"
     ]
    }
   ],
   "source": [
    "# 1. Write a function to append content to an existing file. Ensure that the file is created if it doesn't exist.\n",
    "\n",
    "# Write \n",
    "def append_text(text):\n",
    "    try:\n",
    "        with open(\"example.txt\",\"w\") as f:\n",
    "            f.write(text)\n",
    "            return \"write successful!\"\n",
    "    except Exception as e:\n",
    "        return f\"Error: {e}\"\n",
    "\n",
    "text = \"wtf\"\n",
    "print(append_text(text))\n",
    "\n",
    "# Read\n",
    "def read_data(filename):\n",
    "    try:\n",
    "        with open(filename, \"r\") as file:\n",
    "            return file.read()\n",
    "        \n",
    "    except Exception as e:\n",
    "        return f\"Error: {e}\"\n",
    "    \n",
    "print(read_data(\"example.txt\"))    "
   ]
  },
  {
   "cell_type": "code",
   "execution_count": 34,
   "metadata": {},
   "outputs": [
    {
     "name": "stdout",
     "output_type": "stream",
     "text": [
      "Write Successful!\n",
      "WTF\n"
     ]
    }
   ],
   "source": [
    "# 2. Define a function to read a JSON file and update a specific field in the JSON data. Write the updated data back to the file.\n",
    "\n",
    "import json \n",
    "\n",
    "# Write json\n",
    "def write_json(data):\n",
    "    try:\n",
    "        with open(\"example.json\",\"w\") as f:\n",
    "            json.dump(data,f)\n",
    "            return \"Write Successful!\"\n",
    "    except Exception as e:\n",
    "        return f\"Error: {e}\"\n",
    "    \n",
    "print(write_json(\"WTF\"))\n",
    "\n",
    "# Read json\n",
    "def read_json(filename):\n",
    "    try:\n",
    "        with open(filename,\"r\") as f:\n",
    "            return json.load(f)\n",
    "    except Exception as e:\n",
    "        return f\"Error: {e}\"\n",
    "    \n",
    "print(read_json(\"example.json\"))\n",
    "\n"
   ]
  },
  {
   "cell_type": "code",
   "execution_count": 39,
   "metadata": {},
   "outputs": [
    {
     "name": "stdout",
     "output_type": "stream",
     "text": [
      "Write Sucessful!\n",
      "[['Name', 'Age'], ['Alice', '30'], ['Aslam', '44']]\n"
     ]
    }
   ],
   "source": [
    "# 3. Create a function to read a CSV file and convert its contents into a list of dictionaries \n",
    "# where the keys are the column headers.\n",
    "\n",
    "import csv\n",
    "\n",
    "def write_csv(rows):\n",
    "    try:\n",
    "        with open(\"example.csv\",\"w\",newline='') as f:\n",
    "            # try without newline parameter\n",
    "            writer = csv.writer(f)\n",
    "            writer.writerows(rows)\n",
    "            return \"Write Sucessful!\"\n",
    "    except Exception as e:\n",
    "        return f\"Error: {e}\"\n",
    "    \n",
    "print(write_csv([[\"Name\",\"Age\"],[\"Alice\",30],[\"Aslam\",44]]))\n",
    "\n",
    "def read_csv(path):\n",
    "   try: \n",
    "        with open(path,\"r\") as f:\n",
    "            reader = csv.reader(f) \n",
    "            return [row for row in reader]\n",
    "   except Exception as e:\n",
    "       return f\"Error: {e}\"\n",
    "\n",
    "print(read_csv(\"example.csv\"))\n"
   ]
  },
  {
   "cell_type": "code",
   "execution_count": null,
   "metadata": {},
   "outputs": [],
   "source": []
  }
 ],
 "metadata": {
  "kernelspec": {
   "display_name": "Python 3.12.0 64-bit",
   "language": "python",
   "name": "python3"
  },
  "language_info": {
   "codemirror_mode": {
    "name": "ipython",
    "version": 3
   },
   "file_extension": ".py",
   "mimetype": "text/x-python",
   "name": "python",
   "nbconvert_exporter": "python",
   "pygments_lexer": "ipython3",
   "version": "3.12.0"
  },
  "vscode": {
   "interpreter": {
    "hash": "53d8eca44c0f2e0b87fb88d9c05acfddfe83b50bdd73069bed107cca5f5caedf"
   }
  }
 },
 "nbformat": 4,
 "nbformat_minor": 2
}
