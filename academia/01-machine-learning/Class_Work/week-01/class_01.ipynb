{
 "cells": [
  {
   "cell_type": "markdown",
   "metadata": {},
   "source": [
    "Datasets can be categorized in several ways based on their structure, usage, and the types of data they contain. Here's a breakdown of some common categorizations:\n",
    "\n",
    "### 1. **Based on Structure:**\n",
    "   - **Structured Data:**\n",
    "     - Data organized in rows and columns, such as spreadsheets or databases (e.g., CSV files, SQL tables).\n",
    "     - Examples: Sales records, employee information, financial transactions.\n",
    "   \n",
    "   - **Unstructured Data:**\n",
    "     - Data that doesn't have a pre-defined model or organization.\n",
    "     - Examples: Text (documents, social media posts), images, audio, and video.\n",
    "\n",
    "   - **Semi-Structured Data:**\n",
    "     - Data that doesn't strictly follow a tabular format but has some level of organization (e.g., XML, JSON).\n",
    "     - Examples: Log files, web data (HTML), NoSQL databases.\n",
    "\n",
    "### 2. **Based on Content Type:**\n",
    "   - **Numerical Data:**\n",
    "     - Data consisting of numbers or quantities.\n",
    "     - Examples: Stock prices, temperature readings, sales amounts.\n",
    "   \n",
    "   - **Categorical Data:**\n",
    "     - Data that represents categories or groups, often in text form.\n",
    "     - Examples: Gender (Male, Female), color (Red, Blue), or country names.\n",
    "   \n",
    "   - **Text Data:**\n",
    "     - Data in the form of written or spoken language.\n",
    "     - Examples: Tweets, reviews, articles, books, customer feedback.\n",
    "   \n",
    "   - **Time-Series Data:**\n",
    "     - Data that is collected or indexed in time order.\n",
    "     - Examples: Stock market data, sensor readings over time, weather data.\n",
    "\n",
    "   - **Image Data:**\n",
    "     - Data that consists of visual representations.\n",
    "     - Examples: Satellite images, medical imaging (X-rays), product images in e-commerce.\n",
    "\n",
    "   - **Audio Data:**\n",
    "     - Data in the form of sound.\n",
    "     - Examples: Speech recordings, music tracks, sound effects.\n",
    "\n",
    "   - **Video Data:**\n",
    "     - Data consisting of moving visuals and often accompanied by sound.\n",
    "     - Examples: Video clips, movie datasets, surveillance footage.\n",
    "\n",
    "### 3. **Based on Usage:**\n",
    "   - **Training Data:**\n",
    "     - Data used to train machine learning models.\n",
    "     - Example: Image datasets with labeled categories (like the MNIST dataset for digit recognition).\n",
    "   \n",
    "   - **Test Data:**\n",
    "     - Data used to evaluate the performance of machine learning models.\n",
    "     - Example: A dataset that tests how well a model classifies unseen images.\n",
    "   \n",
    "   - **Validation Data:**\n",
    "     - Data used to tune the parameters of a machine learning model.\n",
    "     - Example: A validation dataset to adjust hyperparameters during model training.\n",
    "\n",
    "### 4. **Based on Domain:**\n",
    "   - **Healthcare Data:**\n",
    "     - Data related to medical records, patient history, medical imaging, etc.\n",
    "     - Example: Patient medical history datasets, clinical trial data.\n",
    "   \n",
    "   - **Finance Data:**\n",
    "     - Data related to financial transactions, stock prices, market indices, etc.\n",
    "     - Example: Daily stock market prices, transaction records, credit score data.\n",
    "\n",
    "   - **E-commerce Data:**\n",
    "     - Data collected from online retail transactions, product reviews, customer preferences.\n",
    "     - Example: User behavior data, product listings, transaction history.\n",
    "\n",
    "   - **Social Media Data:**\n",
    "     - Data collected from social media platforms, including posts, likes, comments, etc.\n",
    "     - Example: Twitter sentiment analysis dataset, Facebook post interactions.\n",
    "\n",
    "   - **Geospatial Data:**\n",
    "     - Data representing geographic locations, distances, or features.\n",
    "     - Example: GPS coordinates, map data, satellite imagery.\n",
    "\n",
    "   - **Retail/Inventory Data:**\n",
    "     - Data related to products, sales, and stock.\n",
    "     - Example: Inventory management data, retail sales reports.\n",
    "\n",
    "### 5. **Based on Size:**\n",
    "   - **Small Datasets:**\n",
    "     - Datasets with a manageable number of samples.\n",
    "     - Example: Simple datasets with a few hundred rows like basic survey data.\n",
    "   \n",
    "   - **Big Data:**\n",
    "     - Datasets too large or complex for traditional data processing tools to handle.\n",
    "     - Example: Data collected from sensors in IoT devices, social media activity logs.\n",
    "\n",
    "### 6. **Based on Data Source:**\n",
    "   - **Open Datasets:**\n",
    "     - Datasets made publicly available for research and development.\n",
    "     - Example: Kaggle datasets, government data repositories, open-source datasets.\n",
    "   \n",
    "   - **Proprietary Datasets:**\n",
    "     - Datasets owned by organizations and typically not publicly available.\n",
    "     - Example: Customer purchase history, private company data.\n",
    "\n",
    "These categories often overlap, and a single dataset might fit into multiple categories based on its attributes. Would you like to dive deeper into any specific category or need help with a specific dataset?"
   ]
  },
  {
   "cell_type": "code",
   "execution_count": null,
   "metadata": {},
   "outputs": [],
   "source": [
    "x: int = 5\n",
    "x"
   ]
  },
  {
   "cell_type": "code",
   "execution_count": 6,
   "metadata": {},
   "outputs": [
    {
     "name": "stdout",
     "output_type": "stream",
     "text": [
      "1\n"
     ]
    }
   ],
   "source": [
    "for i in range(1,2):\n",
    "    i = 1\n",
    "    print(i)"
   ]
  },
  {
   "cell_type": "code",
   "execution_count": 8,
   "metadata": {},
   "outputs": [
    {
     "name": "stdout",
     "output_type": "stream",
     "text": [
      "Divisible by both 3 or 5\n"
     ]
    }
   ],
   "source": [
    "# Practice Problem\n",
    "\n",
    "# 1. Write a program that checks if a number entered by the user is divisible by 3 or 5 or both\n",
    "number =int(input(\"Enter a number: \"))\n",
    "if number % 3==0:\n",
    "    print(\"Divisible by 3\")\n",
    "elif number % 5 ==0:\n",
    "    print(\"Divisible by 5\")\n",
    "elif number%3==0  and number%5==0:\n",
    "    print(\"Divisible by both 3 or 5\")\n",
    "else:\n",
    "    print(\"Divisible by both 3 or 5\") \n",
    "     "
   ]
  },
  {
   "cell_type": "code",
   "execution_count": null,
   "metadata": {},
   "outputs": [],
   "source": [
    "# 2.Create a loop to print all even numbers between 1 and 20\n",
    "\n",
    "for i in range(2,21,2):\n",
    "    print(i, end=\", \")"
   ]
  },
  {
   "cell_type": "code",
   "execution_count": null,
   "metadata": {},
   "outputs": [],
   "source": [
    "for i in range(1,21):\n",
    "    if i%2==0:\n",
    "        print(i, end=\", \")"
   ]
  },
  {
   "cell_type": "code",
   "execution_count": null,
   "metadata": {},
   "outputs": [],
   "source": [
    "# 3. Modify the infinite loop example to count the number of times the user enters a number\n",
    "for i in range(1, 2):\n",
    "    print(i)    \n",
    "    continue\n",
    "    "
   ]
  },
  {
   "cell_type": "code",
   "execution_count": 9,
   "metadata": {},
   "outputs": [
    {
     "name": "stdout",
     "output_type": "stream",
     "text": [
      "Hello, welcom to the world of functions\n"
     ]
    }
   ],
   "source": [
    "# Simple Functions\n",
    "def greet():\n",
    "    print(\"Hello, welcom to the world of functions\")\n",
    "    \n",
    "greet()"
   ]
  },
  {
   "cell_type": "code",
   "execution_count": null,
   "metadata": {},
   "outputs": [],
   "source": [
    "def greet_with_message(name, message=\"Good Morning!\"):\n",
    "    print(f\"Hello, {name}! {message}\")\n",
    "    \n",
    "greet_with_message(\"Sagar\")"
   ]
  },
  {
   "cell_type": "code",
   "execution_count": null,
   "metadata": {},
   "outputs": [],
   "source": [
    "fruits = (\"apple\", \"banana\", \"orange\")\n",
    "\n",
    "fruits[0]"
   ]
  },
  {
   "cell_type": "code",
   "execution_count": null,
   "metadata": {},
   "outputs": [],
   "source": [
    "# Assignment 1: Building a Simple Calculator in Python\n",
    "\n",
    "# Stage 1: Using Variables\n",
    "# You are tasked with building a basic calculator that can perform simple arithmetic operations:\n",
    "# addition, subtraction, multiplication, and division. In the first version of the calculator, use seperate \n",
    "# variables for stroing the numbers and the results.\n",
    "\n",
    "\n",
    "# 1. Ask the user to input two numbers\n",
    "# x, y = int(input(\"Enter two numbers: \").split(\" \"))\n",
    "x = int(input(\"Enter first number: \"))\n",
    "y = int(input(\"Enter second number: \"))\n",
    "\n",
    "# 2. Ask the user to select an operation(add, subtract, multiply, divide)\n",
    "z = input(\"Select the operator for operation, +, -, /, *: \")\n",
    "\n",
    "# 3. Perform the calculation based on the operation selected\n",
    "match z:\n",
    "# 4. Display the result\n",
    "    case \"+\":\n",
    "        print(x +y)\n",
    "        \n",
    "    case \"-\":\n",
    "        print(x -y)\n",
    "    case \"*\":\n",
    "        print(x*y)\n",
    "    case \"/\":\n",
    "        print(x/y)\n",
    "    # search for default case\n",
    "    case \"_\":\n",
    "        print(f\"Operator {z} is not supported\")    \n",
    "        \n",
    "    \n",
    "\n",
    "\n"
   ]
  },
  {
   "cell_type": "code",
   "execution_count": null,
   "metadata": {},
   "outputs": [],
   "source": [
    "# Stage 2: Using a list\n",
    "# Ask the user to \n",
    "ls = input('Enter 5 numbers').split(\" \")\n",
    "for item in range(len(ls)):\n",
    "    ls[item] = int(ls[item])\n",
    "\n",
    "ls\n",
    "     "
   ]
  },
  {
   "cell_type": "code",
   "execution_count": null,
   "metadata": {},
   "outputs": [],
   "source": [
    "# Stage 3: Using a Tuple\n",
    "# Now implement the calculator using a tuple to store a pair of numbers. This will demonstrate the immutability of tuples.\n",
    "\n",
    "# 1. Ask the user to input exactly two numbers\n",
    "x,y = input(\"Enter two numbers: \").split(\" \")\n",
    "\n",
    "# 2. Store these numbers in a tuple\n",
    "# Why can't we assign values to tuple while running the code?\n",
    "z = tuple(x,y)\n",
    "\n",
    "# 3. Ask the user to select an operation (add, subtract, multiple, divide)\n",
    "\n",
    "operator = input(\"Select the operator for operation, +, -, /, *: \")\n",
    "# 4. Perform the calculation on the tuple's values\n",
    "match operator:\n",
    "# 5. Display the result\n",
    "\n",
    "    case \"+\":\n",
    "        print(x +y)\n",
    "        \n",
    "    case \"-\":\n",
    "        print(x -y)\n",
    "    case \"*\":\n",
    "        print(x*y)\n",
    "    case \"/\":\n",
    "        print(x/y)\n",
    "    # search for default case\n",
    "    case \"_\":\n",
    "        print(f\"Operator {z} is not supported\") \n",
    "\n"
   ]
  },
  {
   "cell_type": "code",
   "execution_count": null,
   "metadata": {},
   "outputs": [],
   "source": [
    "# Practice Problems\n",
    "\"\"\"\n",
    "1. Create a list of the first 10 even numbers. \n",
    "Use list comprehension to create a new list that contains the squares of these even numbers.\n",
    "\n",
    "2. Given a list of strings, use list comprehension to create a new list that contains only \n",
    "the strings that start with a vowel.\n",
    "\n",
    "3. Write a function that takes a list of numbers and returns a new list with only \n",
    "the prime numbers from the original list.\n",
    "\n",
    "4. Given a list of tuples where each tuple contains a name and age, sort the list by age in descending order.\n",
    "\"\"\""
   ]
  },
  {
   "cell_type": "code",
   "execution_count": null,
   "metadata": {},
   "outputs": [],
   "source": [
    "# Stage 3: Using a Tuple\n",
    "# Now implement the calculator using a tuple to store a pair of numbers. This will demonstrate the immutability of tuples.\n",
    "\n",
    "# 1. Ask the user to input exactly two numbers\n",
    "ls = input(\"Enter two numbers: \").split(\" \")\n",
    "\n",
    "for item in range(len(ls)):\n",
    "    ls[item]=int(ls[item])\n",
    "    \n",
    "# 2. Store these numbers in a tuple\n",
    "z = tuple(ls)\n",
    "\n",
    "# 3. Ask the user to select an operation (add, subtract, multiple, divide)\n",
    "\n",
    "operator = input(\"Select the operator for operation, +, -, /, *: \")\n",
    "# 4. Perform the calculation on the tuple's values\n",
    "match operator:\n",
    "# 5. Display the result\n",
    "\n",
    "    case \"+\":\n",
    "        print(z[0] + z[1] )\n",
    "    case \"-\":\n",
    "        print(z[0] - z[1])\n",
    "    case \"*\":\n",
    "        print(z[0] * z[1])\n",
    "    case \"/\":\n",
    "        print(z[0] / z[1])\n",
    "    # search for default case\n",
    "    case \"_\":\n",
    "        print(f\"Operator {z} is not supported\") \n",
    "\n"
   ]
  },
  {
   "cell_type": "code",
   "execution_count": null,
   "metadata": {},
   "outputs": [
    {
     "data": {
      "text/plain": [
       "[2, 4, 6, 8, 10, 12, 14, 16, 18, 20]"
      ]
     },
     "execution_count": 6,
     "metadata": {},
     "output_type": "execute_result"
    }
   ],
   "source": [
    "# 1. Create a list of the first 10 even numbers. \n",
    "# Use list comprehension to create a new list that contains the squares of these even numbers.\n",
    "\n",
    "even = [x for x in range(2,21,2)]\n",
    "even"
   ]
  },
  {
   "cell_type": "code",
   "execution_count": null,
   "metadata": {},
   "outputs": [
    {
     "data": {
      "text/plain": [
       "[4, 16, 36, 64, 100, 144, 196, 256, 324, 400]"
      ]
     },
     "execution_count": 7,
     "metadata": {},
     "output_type": "execute_result"
    }
   ],
   "source": [
    "# 2. Given a list of strings, use list comprehension to create a new list that contains only \n",
    "# the strings that start with a vowel.\n",
    "\n",
    "squares = [x**2 for x in even]\n",
    "squares"
   ]
  },
  {
   "cell_type": "code",
   "execution_count": null,
   "metadata": {},
   "outputs": [],
   "source": [
    "# 4. Using a dictionary\n",
    "# Modify the calculator to include a history of operations. Use a dictionary to store the operation\n",
    "# as key and the result as value.\n",
    "\n",
    "# 1. Ask the user to input two numbers.\n",
    "\n",
    "# 1. Ask the user to input exactly two numbers\n",
    "a = int(input(\"Enter first number: \"))\n",
    "b = int(input(\"Enter Second number: \"))\n",
    "operator = input(\"Select the operator for operation, +, -, /, *: \")\n",
    "    \n",
    "d ={}\n",
    "\n",
    "# 2. Ask the user to select an operation (add, subtract, multiply, divide)\n",
    "match operator:\n",
    "# 3. Perform the calculation and store the result in a dictionary, with the operation as the key\n",
    "    case \"+\":\n",
    "        d[\"+\"] = a + b\n",
    "    case \"-\":\n",
    "        d[\"-\"] = a - b\n",
    "    case \"*\":\n",
    "        d[\"*\"] = a * b\n",
    "    case \"/\":\n",
    "        d[\"/\"] = a / b\n",
    "    # search for default case\n",
    "    case \"_\":\n",
    "        print(f\"Operator {z} is not supported\") \n",
    "\n",
    "\n",
    "# 4. Display the result and the operation history\n",
    "d\n",
    "\n"
   ]
  },
  {
   "cell_type": "code",
   "execution_count": null,
   "metadata": {},
   "outputs": [
    {
     "data": {
      "text/plain": [
       "['apple', 'orange', 'umbrella', 'avocado']"
      ]
     },
     "execution_count": 8,
     "metadata": {},
     "output_type": "execute_result"
    }
   ],
   "source": [
    "\n",
    "# 3. Write a function that takes a list of numbers and returns a new list with only \n",
    "# the prime numbers from the original list.\n",
    "\n",
    "strings = [\"apple\", \"banana\", \"orange\", \"umbrella\", \"grape\", \"avocado\"]\n",
    "\n",
    "vowels = \"AEIOUaeiou\"\n",
    "start_vowel_list = [x for x in strings if x[0] in vowels]\n",
    "start_vowel_list"
   ]
  },
  {
   "cell_type": "code",
   "execution_count": 22,
   "metadata": {},
   "outputs": [
    {
     "name": "stdout",
     "output_type": "stream",
     "text": [
      "[('Bob', 25), ('Alice', 30), ('Charlie', 35)]\n"
     ]
    }
   ],
   "source": [
    "# 4. Given a list of tuples where each tuple contains a name and age, sort the list by age in descending order.\n",
    "people = [(\"Alice\", 30), (\"Bob\", 25), (\"Charlie\", 35)]\n",
    "\n",
    "# Sort by age in descending order\n",
    "# people.sort(key=lambda x: x[1], reverse=False)\n",
    "people.sort(key=lambda x: x[1])\n",
    "\n",
    "print(people)"
   ]
  },
  {
   "cell_type": "code",
   "execution_count": null,
   "metadata": {},
   "outputs": [],
   "source": [
    "# 4. Using a dictionary\n",
    "# Modify the calculator to include a history of operations. Use a dictionary to store the operation\n",
    "# as key and the result as value.\n",
    "\n",
    "\n",
    "# 1. Ask the user to input exactly two numbers\n",
    "a = int(input(\"Enter first number: \"))\n",
    "b = int(input(\"Enter Second number: \"))\n",
    "operator = input(\"Select the operator for operation, +, -, /, *: \")\n",
    "    \n",
    "d ={ 1:a, 2:b }\n",
    "history = {}\n",
    "\n",
    "# 2. Ask the user to select an operation (add, subtract, multiply, divide)\n",
    "match operator:\n",
    "# 3. Perform the calculation and store the result in a dictionary, with the operation as the key\n",
    "    case \"+\":\n",
    "        history[\"+\"] = d[1] + d[2]\n",
    "    case \"-\":\n",
    "        history[\"-\"] = d[1] - d[2]\n",
    "    case \"*\":\n",
    "        history[\"*\"] = d[1] * d[2]\n",
    "    case \"/\":\n",
    "        history[\"/\"] = d[1] / d[2]\n",
    "    # search for default case\n",
    "    case \"_\":\n",
    "        print(f\"Operator {z} is not supported\") \n",
    "\n",
    "\n",
    "# 4. Display the result and the operation history\n",
    "print(\"Dictionary Items: \",d)\n",
    "print(\"History: \",history)\n",
    "\n"
   ]
  },
  {
   "cell_type": "code",
   "execution_count": 5,
   "metadata": {},
   "outputs": [
    {
     "name": "stdout",
     "output_type": "stream",
     "text": [
      "running.\n"
     ]
    }
   ],
   "source": [
    "print(\"running.\")"
   ]
  },
  {
   "cell_type": "code",
   "execution_count": null,
   "metadata": {},
   "outputs": [],
   "source": [
    "# Example: Creating a numpy array\n",
    "import numpy as np\n",
    "array_data1 = np.array([1,2,3,4,5])\n",
    "array_data2 = np.array((1,2,3,4,5))\n",
    "data = np.array([[1,2,3],[4,5,6]])\n",
    "\n",
    "print(array_data1)\n",
    "print(array_data2)\n",
    "print(data.shape)\n",
    "print(data.size)\n",
    "print(data.dtype)\n",
    "print(data.ndim)"
   ]
  },
  {
   "cell_type": "code",
   "execution_count": 13,
   "metadata": {},
   "outputs": [
    {
     "name": "stdout",
     "output_type": "stream",
     "text": [
      "1\n"
     ]
    }
   ],
   "source": [
    "for i in range(1, 2):\n",
    "    print(i)\n",
    "    i -= 1  # Reset the loop variable"
   ]
  },
  {
   "cell_type": "markdown",
   "metadata": {},
   "source": [
    "- To make the loop infinite **without changing the first row** (`for i in range(1, 2):`), you need to ensure that the loop variable `i` is always reset to a value within the range `[1, 2)` (i.e., `1`). However, simply decrementing `i` inside the loop (`i -= 1`) won't work because the `for` loop in Python automatically reassigns `i` to the next value in the `range` at the start of each iteration. This means your modification of `i` inside the loop is overwritten.\n",
    "\n",
    "- To make the loop infinite without changing the first row, you can use a trick to **modify the `range` object itself** or **force the loop to reset**. Here's how you can do it:\n",
    "\n",
    "---\n",
    "\n",
    "### Solution: Modify the `range` object dynamically\n",
    "You can use a mutable object (like a list) to simulate the range and modify it inside the loop to reset the sequence.\n",
    "\n",
    "```python\n",
    "r = [1]  # Simulate range(1, 2) as a list\n",
    "for i in r:\n",
    "    print(i)\n",
    "    r.append(1)  # Add another 1 to the list, making it infinite\n",
    "```\n",
    "\n",
    "#### Explanation:\n",
    "- The `for` loop iterates over the list `r`, which initially contains `[1]`.\n",
    "- Inside the loop, `r.append(1)` adds another `1` to the list, making it `[1, 1]`.\n",
    "- On the next iteration, the loop picks the next `1` from the list, and the process repeats indefinitely.\n",
    "\n",
    "This creates an infinite loop without changing the first row.\n"
   ]
  },
  {
   "cell_type": "code",
   "execution_count": 18,
   "metadata": {},
   "outputs": [
    {
     "name": "stdout",
     "output_type": "stream",
     "text": [
      "(2, 3) <class 'tuple'>\n"
     ]
    }
   ],
   "source": [
    "x = int(input(\"Enter first number: \"))\n",
    "y = int(input(\"Enter second number: \"))\n",
    "\n",
    "tuple_data = (x,y)\n",
    "print(tuple_data, type(tuple_data))"
   ]
  },
  {
   "cell_type": "code",
   "execution_count": 25,
   "metadata": {},
   "outputs": [
    {
     "name": "stdout",
     "output_type": "stream",
     "text": [
      "New Dictionary:  {'Alice': 28, 'Bob': 33, 'John': 38}\n",
      "New record added:  {'Alice': 28, 'Bob': 33, 'John': 38, 'Ana': 27}\n",
      "Modify the Bob's age:  {'Alice': 28, 'Bob': 32, 'John': 38, 'Ana': 27}\n",
      "{'Bob': 32, 'John': 38, 'Ana': 27}\n"
     ]
    }
   ],
   "source": [
    "# 1. Create a dictionary with the names of three people and their ages. Add a new person to the dictionary,\n",
    "#    update the age of one person, and then remove another person from the dictionary.\n",
    "\n",
    "d = {\"Alice\":28, \"Bob\":33, \"John\":38}\n",
    "print(\"New Dictionary: \",d)\n",
    "\n",
    "d[\"Ana\"] = 27\n",
    "print(\"New record added: \",d)\n",
    "\n",
    "d[\"Bob\"] = 32\n",
    "print(\"Modify the Bob's age: \",d)\n",
    "\n",
    "del d[\"Alice\"]\n",
    "print(d)"
   ]
  },
  {
   "cell_type": "code",
   "execution_count": 32,
   "metadata": {},
   "outputs": [
    {
     "name": "stdout",
     "output_type": "stream",
     "text": [
      "Sets\n",
      "{1, 2, 3, 4, 5}\n",
      "{3, 4, 5, 6, 7}\n",
      "Set Union using union funciton and | operator\n",
      "{1, 2, 3, 4, 5, 6, 7}\n",
      "{1, 2, 3, 4, 5, 6, 7}\n",
      "Set intersection using intersection method and & operator\n",
      "{3, 4, 5}\n",
      "{3, 4, 5}\n",
      "Set difference using difference method and - operator\n",
      "{1, 2}\n",
      "{1, 2}\n",
      "Set symmetric diff method and ^ operator\n",
      "{1, 2, 6, 7}\n",
      "{1, 2, 6, 7}\n"
     ]
    }
   ],
   "source": [
    "# 2. Create two sets of your favorite fruits and a friend's favorite fruits.\n",
    "#    Find the union, intersection, difference, and symmetric difference of these sets.\n",
    "\n",
    "set1 = {1,2,3,4,5}\n",
    "set2 = {3,4,5,6,7}\n",
    "\n",
    "print(\"Sets\")\n",
    "print(set1)\n",
    "print(set2)\n",
    "\n",
    "print(\"Set Union using union funciton and | operator\")\n",
    "print(set1.union(set2))\n",
    "print(set1 | set2)\n",
    "\n",
    "print(\"Set intersection using intersection method and & operator\")\n",
    "print(set1.intersection(set2))\n",
    "print(set1 & set2)\n",
    "\n",
    "print(\"Set difference using difference method and - operator\")\n",
    "print(set1.difference(set2))\n",
    "print(set1 - set2)\n",
    "\n",
    "print(\"Set symmetric diff method and ^ operator\")\n",
    "print(set1.symmetric_difference(set2))\n",
    "print(set1 ^ set2)"
   ]
  },
  {
   "cell_type": "code",
   "execution_count": 60,
   "metadata": {},
   "outputs": [
    {
     "name": "stdout",
     "output_type": "stream",
     "text": [
      "['Alice', 'Bob', 'David']\n"
     ]
    }
   ],
   "source": [
    "# 3. Write a function that takes a dictionary of student names and their grades,\n",
    "#    and returns a list of students who scored above a certain threshold.\n",
    "\n",
    "def passed(d):\n",
    "    return [x[0] for x in d.items() if x[1] > 80]        \n",
    "\n",
    "student_grades = {\"Alice\": 85, \"Bob\": 92, \"Charlie\": 78, \"David\": 90}\n",
    "print(passed(student_grades))"
   ]
  },
  {
   "cell_type": "code",
   "execution_count": null,
   "metadata": {},
   "outputs": [
    {
     "data": {
      "text/plain": [
       "{2, 4, 6, 8, 10}"
      ]
     },
     "execution_count": 63,
     "metadata": {},
     "output_type": "execute_result"
    }
   ],
   "source": [
    "# 4. Given a set of integers, write a function that returns a new set with only the even numbers.\n",
    "\n",
    "set1 = {1,2,3,4,5,6,7,8,9,10}\n",
    "\n",
    "even_set = { x for x in set1 if x%2==0 }\n",
    "# Set comprehension\n",
    "even_set\n"
   ]
  },
  {
   "cell_type": "code",
   "execution_count": 7,
   "metadata": {},
   "outputs": [
    {
     "name": "stdout",
     "output_type": "stream",
     "text": [
      "Buddy, a Canis Familiaris, is 3 years old.\n"
     ]
    }
   ],
   "source": [
    "class Dog:\n",
    "    species = \"Canis Familiaris\"\n",
    "    \n",
    "    def __init__(self, name, age) -> None:\n",
    "        self.name = name\n",
    "        self.age = age\n",
    "        \n",
    "    def __str__(self) -> str:\n",
    "        # Return a human-readable string describing the dog\n",
    "        return f\"{self.name}, a {self.species}, is {self.age} years old.\"\n",
    "        \n",
    "    def description(self):\n",
    "        return f\"{self.name} is {self.age} years old.\"\n",
    "    \n",
    "    def speak(self, sound):\n",
    "        return f\"{self.name} says {sound}\"\n",
    "\n",
    "# Create a dog object\n",
    "dog1 = Dog(\"Buddy\", 3)\n",
    "\n",
    "# Print the dog object\n",
    "print(dog1)  # This will call the __str__ method\n"
   ]
  },
  {
   "cell_type": "code",
   "execution_count": 8,
   "metadata": {},
   "outputs": [],
   "source": [
    "class MyClass:\n",
    "    \n",
    "    # Instance variable: specific to an object\n",
    "    # static variable: declared in class outside the method, shared among all objects, single copy, access through class name or object ref\n",
    "    class_variable = \"class var\"\n",
    "    \n",
    "    def __init__(self, instance_variable) -> None:\n",
    "        self.instance_variable = instance_variable\n",
    "        \n",
    "    \n",
    "    # Instance Method\n",
    "    def instance_method(self):\n",
    "        return f\"This is an instance method. Insance Variable {self.instance_variable}\"\n",
    "    \n",
    "    \n",
    "    \n",
    "    "
   ]
  },
  {
   "cell_type": "markdown",
   "metadata": {},
   "source": [
    "In Python, methods can be categorized into three types: **instance methods**, **class methods**, and **static methods**. Each serves a different purpose, and the main difference between them lies in how they are accessed and the kind of data they can interact with.\n",
    "\n",
    "\n",
    "\n",
    "### 1. **Instance Method**\n",
    "- **Definition**: The most common type of method. It operates on an instance of the class (an object).\n",
    "- **Self Parameter**: Instance methods always take `self` as the first parameter, which refers to the specific instance of the object that is calling the method.\n",
    "- **Usage**: Instance methods can access and modify the instance's attributes.\n",
    "  \n",
    "#### Example:\n",
    "```python\n",
    "class Dog:\n",
    "    def __init__(self, name, age):\n",
    "        self.name = name\n",
    "        self.age = age\n",
    "\n",
    "    def description(self):\n",
    "        return f\"{self.name} is {self.age} years old.\"\n",
    "        \n",
    "dog = Dog(\"Buddy\", 3)\n",
    "print(dog.description())  # Instance method accessed via an object\n",
    "```\n",
    "\n",
    "**Key Points:**\n",
    "- `self` refers to the specific instance calling the method.\n",
    "- Instance methods operate on individual instances and can access both instance-level and class-level attributes.\n",
    "\n",
    "---\n",
    "\n",
    "### 2. **Class Method**\n",
    "- **Definition**: A method that is bound to the class rather than an instance of the class.\n",
    "- **Class Parameter**: A class method takes `cls` as the first parameter, which refers to the class itself, not an instance.\n",
    "- **Usage**: Class methods can modify class-level attributes, but they cannot access instance-level attributes directly.\n",
    "  \n",
    "#### Example:\n",
    "```python\n",
    "class Dog:\n",
    "    species = \"Canis Familiaris\"  # Class attribute\n",
    "    \n",
    "    @classmethod\n",
    "    def species_info(cls):\n",
    "        return f\"All dogs belong to the species {cls.species}.\"\n",
    "\n",
    "print(Dog.species_info())  # Class method called on the class\n",
    "```\n",
    "\n",
    "**Key Points:**\n",
    "- `cls` refers to the class, not an instance.\n",
    "- Class methods can access and modify class-level attributes (variables shared by all instances).\n",
    "- Can be called on both the class and the instance.\n",
    "\n",
    "---\n",
    "\n",
    "### 3. **Static Method**\n",
    "- **Definition**: A method that doesn't operate on an instance or the class itself. It's just a regular function inside a class that doesn't need to access any instance-specific or class-specific data.\n",
    "- **No `self` or `cls` Parameters**: Static methods don’t take `self` or `cls` as parameters because they don't need access to instance-specific or class-specific data.\n",
    "- **Usage**: Static methods are typically utility functions that are related to the class but don’t need to interact with any instance or class-level attributes.\n",
    "\n",
    "#### Example:\n",
    "```python\n",
    "class Dog:\n",
    "    @staticmethod\n",
    "    def bark():\n",
    "        return \"Woof!\"\n",
    "\n",
    "print(Dog.bark())  # Static method called on the class\n",
    "```\n",
    "\n",
    "**Key Points:**\n",
    "- A static method doesn't need access to the instance (`self`) or the class (`cls`).\n",
    "- Static methods can be called on both the class and the instance, but they do not rely on any class or instance data.\n",
    "\n",
    "---\n",
    "\n",
    "### Comparison\n",
    "\n",
    "| Method Type       | Accessed via             | First Parameter       | Can Access      | Use Case                                                         |\n",
    "|-------------------|--------------------------|-----------------------|-----------------|------------------------------------------------------------------|\n",
    "| **Instance Method**| Instance (object)        | `self` (instance)     | Instance and Class Attributes | Methods that need to operate on individual objects and their state |\n",
    "| **Class Method**   | Class or Instance        | `cls` (class)         | Only Class Attributes | Methods that operate on the class itself (shared behavior) |\n",
    "| **Static Method**  | Class or Instance        | None                  | Neither Instance nor Class Attributes | Utility functions related to the class but don’t depend on object state or class state |\n",
    "\n",
    "### Summary of Usage:\n",
    "- **Instance Method**: Use when you need to work with instance data (attributes that belong to individual objects).\n",
    "- **Class Method**: Use when you need to work with class data (shared by all instances) or modify the class itself.\n",
    "- **Static Method**: Use for utility functions that don’t need access to instance or class data.\n",
    "\n"
   ]
  },
  {
   "cell_type": "markdown",
   "metadata": {},
   "source": [
    "\n",
    "### **Types of Variables in Python**\n",
    "\n",
    "In Python, variables are classified into different types based on their scope and the context in which they are defined. These types include **instance variables**, **class variables**, **global variables**, **local variables**, **enclosing (nonlocal) variables**, and **built-in variables**. Below is an overview of each type of variable, their usage, and key characteristics.\n",
    "\n",
    "---\n",
    "\n",
    "### 1. **Instance Variables**\n",
    "- **Definition**: Instance variables are variables that are specific to an instance (an object) of a class. They are defined inside the `__init__` method or any other method that operates on an instance.\n",
    "- **Scope**: The scope of an instance variable is limited to the instance (object) of the class.\n",
    "- **Accessed via**: `self.<variable>`\n",
    "- **Usage**: Instance variables store data that is unique to each object created from a class.\n",
    "\n",
    "#### Example:\n",
    "```python\n",
    "class Dog:\n",
    "    def __init__(self, name, age):\n",
    "        self.name = name   # Instance variable\n",
    "        self.age = age     # Instance variable\n",
    "\n",
    "dog1 = Dog(\"Buddy\", 3)\n",
    "dog2 = Dog(\"Lucy\", 5)\n",
    "\n",
    "print(dog1.name)  # Outputs: Buddy\n",
    "print(dog2.name)  # Outputs: Lucy\n",
    "```\n",
    "\n",
    "**Key Points**:\n",
    "- Instance variables are specific to each object and are accessed via `self`.\n",
    "- They can be modified individually for each object.\n",
    "\n",
    "---\n",
    "\n",
    "### 2. **Class Variables**\n",
    "- **Definition**: Class variables are variables that are shared among all instances of a class. They are defined inside the class but outside any methods.\n",
    "- **Scope**: The scope of a class variable is at the class level and is shared by all instances of the class.\n",
    "- **Accessed via**: `ClassName.<variable>` or `self.<variable>`\n",
    "- **Usage**: Class variables store data that is common to all instances of the class.\n",
    "\n",
    "#### Example:\n",
    "```python\n",
    "class Dog:\n",
    "    species = \"Canis Familiaris\"  # Class variable (shared by all instances)\n",
    "    \n",
    "    def __init__(self, name, age):\n",
    "        self.name = name   # Instance variable\n",
    "        self.age = age     # Instance variable\n",
    "\n",
    "dog1 = Dog(\"Buddy\", 3)\n",
    "dog2 = Dog(\"Lucy\", 5)\n",
    "\n",
    "print(dog1.species)  # Outputs: Canis Familiaris\n",
    "print(dog2.species)  # Outputs: Canis Familiaris\n",
    "```\n",
    "\n",
    "**Key Points**:\n",
    "- Class variables are shared across all instances of the class.\n",
    "- They can be accessed or modified using either the class name or the instance.\n",
    "\n",
    "---\n",
    "\n",
    "### 3. **Global Variables**\n",
    "- **Definition**: Global variables are variables defined outside of any function or class and are accessible throughout the entire program.\n",
    "- **Scope**: The scope of a global variable is the entire program.\n",
    "- **Accessed via**: `<variable>`\n",
    "- **Usage**: Global variables can be accessed from anywhere in the program, but to modify them inside a function, you must use the `global` keyword.\n",
    "\n",
    "#### Example:\n",
    "```python\n",
    "global_var = \"I am a global variable\"  # Global variable\n",
    "\n",
    "def modify_global():\n",
    "    global global_var  # Declare that we are using the global variable\n",
    "    global_var += \" updated!\"\n",
    "    print(global_var)\n",
    "\n",
    "modify_global()  # Outputs: I am a global variable updated!\n",
    "print(global_var)  # Outputs: I am a global variable updated!\n",
    "```\n",
    "\n",
    "**Key Points**:\n",
    "- Global variables are accessible anywhere in the program.\n",
    "- The `global` keyword is required to modify a global variable inside a function.\n",
    "\n",
    "---\n",
    "\n",
    "### 4. **Local Variables**\n",
    "- **Definition**: Local variables are variables defined inside a function or method. They are only accessible within that function or method.\n",
    "- **Scope**: The scope of a local variable is limited to the function or method in which it is defined.\n",
    "- **Accessed via**: Inside the function or method.\n",
    "- **Usage**: Local variables store temporary data for use only within a specific function.\n",
    "\n",
    "#### Example:\n",
    "```python\n",
    "def greet(name):\n",
    "    message = f\"Hello, {name}!\"  # Local variable\n",
    "    print(message)\n",
    "\n",
    "greet(\"Alice\")  # Outputs: Hello, Alice!\n",
    "# print(message)  # This will raise an error because 'message' is a local variable.\n",
    "```\n",
    "\n",
    "**Key Points**:\n",
    "- Local variables are accessible only within the function or method they are defined in.\n",
    "- Once the function ends, local variables are destroyed.\n",
    "\n",
    "---\n",
    "\n",
    "### 5. **Enclosing (Nonlocal) Variables**\n",
    "- **Definition**: Enclosing variables (also known as nonlocal variables) are variables in the scope of an enclosing (outer) function. These variables are neither global nor local but are in a containing function.\n",
    "- **Scope**: The scope of enclosing variables is within the outer function but accessible to nested (inner) functions.\n",
    "- **Accessed via**: `nonlocal <variable>`\n",
    "- **Usage**: Enclosing variables allow nested functions to modify variables in the outer function using the `nonlocal` keyword.\n",
    "\n",
    "#### Example:\n",
    "```python\n",
    "def outer():\n",
    "    count = 0  # Enclosing variable\n",
    "    \n",
    "    def inner():\n",
    "        nonlocal count  # Accessing and modifying the enclosing variable\n",
    "        count += 1\n",
    "        print(count)\n",
    "    \n",
    "    inner()  # Outputs: 1\n",
    "    inner()  # Outputs: 2\n",
    "\n",
    "outer()\n",
    "```\n",
    "\n",
    "**Key Points**:\n",
    "- Enclosing variables are accessible within nested functions.\n",
    "- The `nonlocal` keyword is used to modify variables in the outer (enclosing) function.\n",
    "\n",
    "---\n",
    "\n",
    "### 6. **Built-in Variables**\n",
    "- **Definition**: Built-in variables are predefined variables and functions that Python provides by default. These are part of Python’s built-in namespace and are available globally in every Python program.\n",
    "- **Scope**: The scope of built-in variables is the entire program (globally accessible).\n",
    "- **Accessed via**: Directly, without needing to import them.\n",
    "- **Usage**: Built-in variables include functions, exceptions, and data types, like `len()`, `abs()`, `min()`, etc.\n",
    "\n",
    "#### Example:\n",
    "```python\n",
    "print(len)  # Outputs: <built-in function len>\n",
    "print(abs(-5))  # Outputs: 5 (abs is a built-in function)\n",
    "```\n",
    "\n",
    "**Key Points**:\n",
    "- Built-in variables and functions are available globally in Python.\n",
    "- You don’t need to define or import them—they are part of Python’s standard library.\n",
    "\n",
    "---\n",
    "\n",
    "### **Summary of All Variable Types**:\n",
    "\n",
    "| **Variable Type**        | **Scope**                              | **Accessed via**           | **Usage**                                          |\n",
    "|--------------------------|----------------------------------------|----------------------------|----------------------------------------------------|\n",
    "| **Instance Variables**    | Instance (object)                      | `self.<variable>`           | Store data unique to each object.                  |\n",
    "| **Class Variables**       | Class (shared across all instances)    | `ClassName.<variable>` or `self.<variable>` | Store data shared by all instances of the class. |\n",
    "| **Global Variables**      | Global (across entire program)         | `<variable>`                | Store data accessible globally across functions and classes. |\n",
    "| **Local Variables**       | Local (function/method)                | Inside the function         | Store temporary data for use only within a function or method. |\n",
    "| **Enclosing (Nonlocal) Variables** | Enclosing function (nested scope) | `nonlocal <variable>`       | Access and modify variables in enclosing functions from nested functions. |\n",
    "| **Built-in Variables**    | Global (default built-in namespace)    | Directly available          | Predefined variables and functions like `len()`, `abs()`, etc. |\n",
    "\n",
    "### **Conclusion**:\n",
    "- **Instance variables** are specific to each object and are accessed using `self`.\n",
    "- **Class variables** are shared across all instances and are accessed via `ClassName` or `self`.\n",
    "- **Global variables** are accessible across the entire program and can be modified using the `global` keyword inside functions.\n",
    "- **Local variables** are temporary variables within functions, accessible only within those functions.\n",
    "- **Enclosing (nonlocal)** variables allow nested functions to access and modify variables in their enclosing (outer) scope.\n",
    "- **Built-in variables** are available globally and are part of Python's standard library, such as `len()`, `abs()`, etc.\n",
    "\n"
   ]
  }
 ],
 "metadata": {
  "kernelspec": {
   "display_name": "Python 3.12.0 64-bit",
   "language": "python",
   "name": "python3"
  },
  "language_info": {
   "codemirror_mode": {
    "name": "ipython",
    "version": 3
   },
   "file_extension": ".py",
   "mimetype": "text/x-python",
   "name": "python",
   "nbconvert_exporter": "python",
   "pygments_lexer": "ipython3",
   "version": "3.12.0"
  },
  "vscode": {
   "interpreter": {
    "hash": "53d8eca44c0f2e0b87fb88d9c05acfddfe83b50bdd73069bed107cca5f5caedf"
   }
  }
 },
 "nbformat": 4,
 "nbformat_minor": 2
}
