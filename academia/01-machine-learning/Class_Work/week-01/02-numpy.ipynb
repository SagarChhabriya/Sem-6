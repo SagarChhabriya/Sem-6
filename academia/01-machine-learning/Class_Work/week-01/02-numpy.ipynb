{
 "cells": [
  {
   "cell_type": "code",
   "execution_count": 5,
   "metadata": {},
   "outputs": [
    {
     "name": "stdout",
     "output_type": "stream",
     "text": [
      "[1 2 3 4 5 6]\n",
      "[1 2 3 4 5 6]\n",
      "Array Shape:  (6,)\n",
      "Array Size:  6\n",
      "Array type:  int32\n",
      "Array dim:  1\n"
     ]
    }
   ],
   "source": [
    "import numpy as np \n",
    "\n",
    "# Example: Creating a NumPy array from a list\n",
    "list_arr = np.array([1,2,3,4,5,6])\n",
    "print(list_arr)\n",
    "\n",
    "# Example: Creating a NumPy array from a tuple\n",
    "tuple_arr = np.array((1,2,3,4,5,6))\n",
    "print(tuple_arr)\n",
    "\n",
    "# Array attributes\n",
    "print(\"Array Shape: \",list_arr.shape)\n",
    "print(\"Array Size: \",list_arr.size)\n",
    "print(\"Array type: \", list_arr.dtype)\n",
    "print(\"Array dim: \", list_arr.ndim)\n",
    "\n",
    "\n"
   ]
  },
  {
   "cell_type": "code",
   "execution_count": 3,
   "metadata": {},
   "outputs": [
    {
     "name": "stdout",
     "output_type": "stream",
     "text": [
      "[3 4 5]\n",
      "[-1  0  1]\n",
      "[2 4 6]\n",
      "[0.5 1.  1.5]\n",
      "[1 4 9]\n",
      "[5 7 9]\n",
      "[-3 -3 -3]\n",
      "[ 4 10 18]\n",
      "[0.25 0.4  0.5 ]\n",
      "[  1  32 729]\n"
     ]
    }
   ],
   "source": [
    "# Basic array operations\n",
    "# Example: Arithmetic operations\n",
    "\n",
    "array1 = np.array([1, 2, 3])\n",
    "array2 = np.array([4, 5, 6])\n",
    "\n",
    "print(array1 + 2)\n",
    "print(array1 - 2)\n",
    "print(array1 * 2)\n",
    "print(array1 / 2)\n",
    "print(array1 ** 2)\n",
    "\n",
    "print(array1 + array2)\n",
    "print(array1 - array2)\n",
    "print(array1 * array2)\n",
    "print(array1 / array2)\n",
    "print(array1 ** array2)\n"
   ]
  },
  {
   "cell_type": "code",
   "execution_count": 4,
   "metadata": {},
   "outputs": [
    {
     "name": "stdout",
     "output_type": "stream",
     "text": [
      "Maximum of arr:  6\n",
      "Minimum of arr:  1\n",
      "Mean of arr:  3.5\n",
      "std of arr:  1.707825127659933\n"
     ]
    }
   ],
   "source": [
    "# Example: Statistical operations\n",
    "print(\"Maximum of arr: \",list_arr.max())\n",
    "print(\"Minimum of arr: \",list_arr.min())\n",
    "print(\"Mean of arr: \",list_arr.mean())\n",
    "print(\"std of arr: \",list_arr.std())\n",
    "\n"
   ]
  },
  {
   "cell_type": "markdown",
   "metadata": {},
   "source": [
    "### Practice Tasks\n",
    "\n"
   ]
  },
  {
   "cell_type": "code",
   "execution_count": 6,
   "metadata": {},
   "outputs": [
    {
     "name": "stdout",
     "output_type": "stream",
     "text": [
      "[15 35 55 75 95]\n",
      "[5 5 5 5 5]\n",
      "[  50  300  750 1400 2250]\n",
      "[2.         1.33333333 1.2        1.14285714 1.11111111]\n"
     ]
    }
   ],
   "source": [
    "# 1. **Create a NumPy array from a list of integers and perform basic arithmetic operations.**\n",
    "#    - Create a NumPy array from the list `[10, 20, 30, 40, 50]`.\n",
    "#    - Create another NumPy array from the list `[5, 15, 25, 35, 45]`.\n",
    "#    - Perform addition, subtraction, multiplication, and division operations between these two arrays.\n",
    "\n",
    "import numpy as np\n",
    "arr1 = np.array([10, 20, 30, 40, 50])\n",
    "arr2 = np.array([5, 15, 25, 35, 45])\n",
    "\n",
    "print(arr1 + arr2)\n",
    "print(arr1 - arr2)\n",
    "print(arr1 * arr2)\n",
    "print(arr1 / arr2)\n",
    "\n"
   ]
  },
  {
   "cell_type": "code",
   "execution_count": 9,
   "metadata": {},
   "outputs": [
    {
     "name": "stdout",
     "output_type": "stream",
     "text": [
      "Array shape:  (3, 3)\n",
      "Array size:  9\n",
      "Array type:  int32\n",
      "Array dimensions:  2\n"
     ]
    }
   ],
   "source": [
    "# 2. **Explore the attributes of a 2D NumPy array.**\n",
    "#    - Create a 2D NumPy array from the list of lists `[[1, 2, 3], [4, 5, 6], [7, 8, 9]]`.\n",
    "#    - Print the shape, size, data type, and number of dimensions of the array.\n",
    "#    - Print the mean, sum, standard deviation, maximum, and minimum values of the array.\n",
    "\n",
    "arr2d = np.array([[1, 2, 3], [4, 5, 6], [7, 8, 9]])\n",
    "print(\"Array shape: \", arr2d.shape)\n",
    "print(\"Array size: \", arr2d.size)\n",
    "print(\"Array type: \", arr2d.dtype)\n",
    "print(\"Array dimensions: \",arr2d.ndim)\n"
   ]
  },
  {
   "cell_type": "code",
   "execution_count": 10,
   "metadata": {},
   "outputs": [
    {
     "name": "stdout",
     "output_type": "stream",
     "text": [
      "[1, 2, 3, 4, 5, 6, 7, 8, 9]\n"
     ]
    }
   ],
   "source": [
    "arr2d = np.array([[1, 2, 3], [4, 5, 6], [7, 8, 9]])\n",
    "array_flattened = []\n",
    "\n",
    "for row in arr2d:\n",
    "    for item in row:\n",
    "        array_flattened.append(item)\n",
    "        \n",
    "print(array_flattened)"
   ]
  },
  {
   "cell_type": "code",
   "execution_count": 20,
   "metadata": {},
   "outputs": [
    {
     "name": "stdout",
     "output_type": "stream",
     "text": [
      "[1.1 2.2 3.3 4.4 5.5] , type:  float64\n",
      "['apple' 'banana' 'cherry' 'date' '😊'] , type:  <U6\n",
      "U stands for Unicode\n"
     ]
    }
   ],
   "source": [
    "# 3. **Create and manipulate arrays with different data types.**\n",
    "#    - Create a NumPy array of float numbers from the list `[1.1, 2.2, 3.3, 4.4, 5.5]`.\n",
    "#    - Create a NumPy array of string values from the list `[\"apple\", \"banana\", \"cherry\", \"date\"]`.\n",
    "#    - Check and print the data type of both arrays.\n",
    "\n",
    "arr_num = np.array([1.1, 2.2, 3.3, 4.4, 5.5])\n",
    "arr_fruit = np.array([\"apple\", \"banana\", \"cherry\", \"date\", \"😊\"])\n",
    "\n",
    "\n",
    "\n",
    "print(arr_num,\", type: \",arr_num.dtype)\n",
    "print(arr_fruit,\", type: \",arr_fruit.dtype)\n",
    "print(\"U stands for Unicode\")\n",
    "# print(arr_fruit + arr_num) # UFuncTypeError: ufunc 'add' did not contain a loop with signature matching types (dtype('<U6'), dtype('float64')) -> None\n",
    "\n"
   ]
  },
  {
   "cell_type": "code",
   "execution_count": 24,
   "metadata": {},
   "outputs": [
    {
     "name": "stdout",
     "output_type": "stream",
     "text": [
      "[ 0  2  4  6  8 10 12 14 16 18]\n"
     ]
    }
   ],
   "source": [
    "# 4. **Use NumPy functions to generate arrays and perform operations.**\n",
    "#    - Create a NumPy array using `np.arange` from 0 to 20 with a step of 2.\n",
    "#    - Create a NumPy array using `np.linspace` from 0 to 1 with 10 evenly spaced values.\n",
    "#    - Generate a 3x3 identity matrix using `np.eye` or `np.identity`.\n",
    "#    - Generate a 4x4 array with random values using `np.random.random`.\n",
    "\n",
    "\n",
    "#    - Create a NumPy array using `np.arange` from 0 to 20 with a step of 2.\n",
    "arr_ranged = np.arange(0,20,2)\n",
    "print(arr_ranged)\n",
    "\n"
   ]
  },
  {
   "cell_type": "code",
   "execution_count": 25,
   "metadata": {},
   "outputs": [
    {
     "name": "stdout",
     "output_type": "stream",
     "text": [
      "[0.         0.11111111 0.22222222 0.33333333 0.44444444 0.55555556\n",
      " 0.66666667 0.77777778 0.88888889 1.        ]\n"
     ]
    }
   ],
   "source": [
    "#    - Create a NumPy array using `np.linspace` from 0 to 1 with 10 evenly spaced values.\n",
    "arr_linspace = np.linspace(0,1,10)\n",
    "print(arr_linspace)"
   ]
  },
  {
   "cell_type": "code",
   "execution_count": 26,
   "metadata": {},
   "outputs": [
    {
     "name": "stdout",
     "output_type": "stream",
     "text": [
      "[[1. 0. 0.]\n",
      " [0. 1. 0.]\n",
      " [0. 0. 1.]]\n"
     ]
    }
   ],
   "source": [
    "#    - Generate a 3x3 identity matrix using `np.eye` or `np.identity`.\n",
    "arr_eye = np.eye(3)\n",
    "print(arr_eye)"
   ]
  },
  {
   "cell_type": "code",
   "execution_count": 28,
   "metadata": {},
   "outputs": [
    {
     "data": {
      "text/plain": [
       "array([[1., 0., 0.],\n",
       "       [0., 1., 0.],\n",
       "       [0., 0., 1.]])"
      ]
     },
     "execution_count": 28,
     "metadata": {},
     "output_type": "execute_result"
    }
   ],
   "source": [
    "arr_identity = np.identity(3)\n",
    "arr_identity"
   ]
  },
  {
   "cell_type": "code",
   "execution_count": 29,
   "metadata": {},
   "outputs": [
    {
     "data": {
      "text/plain": [
       "array([[0.18899709, 0.03841089, 0.05653812, 0.14501605],\n",
       "       [0.74628471, 0.02397311, 0.83870012, 0.94706008],\n",
       "       [0.3094161 , 0.10822483, 0.6601275 , 0.97066251],\n",
       "       [0.62541819, 0.52715075, 0.49268381, 0.97927979]])"
      ]
     },
     "execution_count": 29,
     "metadata": {},
     "output_type": "execute_result"
    }
   ],
   "source": [
    "#    - Generate a 4x4 array with random values using `np.random.random`.\n",
    "arr_4d = np.random.random((4,4))\n",
    "arr_4d"
   ]
  },
  {
   "cell_type": "code",
   "execution_count": 5,
   "metadata": {},
   "outputs": [
    {
     "data": {
      "text/plain": [
       "array([2, 2])"
      ]
     },
     "execution_count": 5,
     "metadata": {},
     "output_type": "execute_result"
    }
   ],
   "source": [
    "import numpy as np\n",
    "arr_4d = np.random.randint((4,4))\n",
    "arr_4d\n"
   ]
  },
  {
   "cell_type": "code",
   "execution_count": 14,
   "metadata": {},
   "outputs": [
    {
     "name": "stdout",
     "output_type": "stream",
     "text": [
      "Array1: [1 2 3 4 5] \n",
      " Array2:  [ 6  7  8  9 10]\n",
      "Combined Array --> Array Addition:  [ 7  9 11 13 15]\n",
      "Concatenation:  [ 1  2  3  4  5  6  7  8  9 10]\n",
      "Comparision:  [ True  True  True  True  True]\n"
     ]
    }
   ],
   "source": [
    "\n",
    "# 5. **Combine and compare arrays.**\n",
    "import numpy as np \n",
    "\n",
    "#    - Create two 1D NumPy arrays: one with values from 1 to 5 and another with values from 6 to 10.\n",
    "arr1 = np.arange(1,6)\n",
    "arr2 = np.arange(6,11)\n",
    "\n",
    "print(\"Array1:\",arr1,\"\\n\",\"Array2: \",arr2)\n",
    "\n",
    "#    - Concatenate these arrays into a single array.\n",
    "combined_arr = arr1 + arr2\n",
    "print(\"Combined Array --> Array Addition: \",combined_arr)\n",
    "\n",
    "# Concatenation\n",
    "concatenated = np.concatenate((arr1, arr2))\n",
    "print(\"Concatenation: \",concatenated)\n",
    "\n",
    "#    - Compare the elements of the two arrays to check which elements are greater in the second array compared to the first.\n",
    "print(\"Comparision: \",arr2 > arr1)"
   ]
  },
  {
   "cell_type": "code",
   "execution_count": 2,
   "metadata": {},
   "outputs": [
    {
     "name": "stdout",
     "output_type": "stream",
     "text": [
      "[[1. 0. 0. 0.]\n",
      " [0. 1. 0. 0.]\n",
      " [0. 0. 1. 0.]\n",
      " [0. 0. 0. 1.]]\n",
      "[[1 0 0 0]\n",
      " [0 2 0 0]\n",
      " [0 0 3 0]\n",
      " [0 0 0 4]]\n"
     ]
    }
   ],
   "source": [
    "# Creating identity and diagonal matrix\n",
    "\n",
    "import numpy as np\n",
    "\n",
    "eye_arr = np.eye(4)\n",
    "print(eye_arr)\n",
    "\n",
    "diag_arr = np.diag([1,2,3,4])\n",
    "print(diag_arr)"
   ]
  }
 ],
 "metadata": {
  "kernelspec": {
   "display_name": "Python 3.12.0 64-bit",
   "language": "python",
   "name": "python3"
  },
  "language_info": {
   "codemirror_mode": {
    "name": "ipython",
    "version": 3
   },
   "file_extension": ".py",
   "mimetype": "text/x-python",
   "name": "python",
   "nbconvert_exporter": "python",
   "pygments_lexer": "ipython3",
   "version": "3.12.0"
  },
  "orig_nbformat": 4,
  "vscode": {
   "interpreter": {
    "hash": "53d8eca44c0f2e0b87fb88d9c05acfddfe83b50bdd73069bed107cca5f5caedf"
   }
  }
 },
 "nbformat": 4,
 "nbformat_minor": 2
}
