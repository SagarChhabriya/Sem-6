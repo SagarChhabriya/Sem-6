{
  "nbformat": 4,
  "nbformat_minor": 0,
  "metadata": {
    "colab": {
      "provenance": []
    },
    "kernelspec": {
      "name": "python3",
      "display_name": "Python 3"
    },
    "language_info": {
      "name": "python"
    }
  },
  "cells": [
    {
      "cell_type": "markdown",
      "source": [
        "### **Agents**\n",
        "\n",
        "An **agent** in artificial intelligence (AI) is an autonomous entity that perceives its environment through sensors and acts upon that environment through actuators to achieve specific goals. An agent operates by following a set of rules, decisions, or learned behaviors that guide its actions based on its perceptions.\n",
        "\n",
        "### **Types of Agents**\n",
        "\n",
        "- **Simple Reflex Agents:** Act on current percepts with predefined rules.\n",
        "- **Model-Based Reflex Agents:** Use internal state to handle partially observable environments.\n",
        "- **Goal-Based Agents:** Make decisions to achieve specific goals through planning.\n",
        "- **Utility-Based Agents:** Choose actions based on utility to maximize desirable outcomes.\n",
        "- **Learning Agents:** Adapt and improve through learning from past experiences.\n"
      ],
      "metadata": {
        "id": "jLYzuS3rGODm"
      }
    },
    {
      "cell_type": "code",
      "execution_count": null,
      "metadata": {
        "id": "o1dTww6A95Fq"
      },
      "outputs": [],
      "source": [
        "class Environment:\n",
        "  def __init__(self):\n",
        "    pass\n",
        "\n",
        "  def get_percept(self):\n",
        "    pass\n",
        "\n",
        "  def env_effect(self):\n",
        "    pass\n"
      ]
    },
    {
      "cell_type": "code",
      "source": [
        "class Agent:\n",
        "  def __init__(self):\n",
        "    pass\n",
        "\n",
        "  def program(self):\n",
        "    pass\n",
        "\n",
        "  def run_agent(env, agent, step):\n",
        "    pass\n",
        "\n"
      ],
      "metadata": {
        "id": "pPdVxVyNsv80"
      },
      "execution_count": null,
      "outputs": []
    },
    {
      "cell_type": "markdown",
      "source": [
        "#1. Simple Reflex Agents"
      ],
      "metadata": {
        "id": "yQw6Xo485jxy"
      }
    },
    {
      "cell_type": "code",
      "source": [
        "class SimpleReflexAgent:\n",
        "  def __init__(self):\n",
        "    pass\n",
        "\n",
        "  def act(self, percept):\n",
        "    if percept == 'Dirty':\n",
        "      return 'Clean the room'\n",
        "    else:\n",
        "      return 'Room is already clean'\n",
        "\n",
        "class Environment:\n",
        "  def __init__(self, state='Dirty'):\n",
        "    self.state = state\n",
        "\n",
        "  def get_percept(self):\n",
        "    return self.state\n",
        "\n",
        "  def clean_room(self):\n",
        "    self.state = 'Clean'\n",
        "\n",
        "\n",
        "def run_agent(agent, environment, steps):\n",
        "  for step in range(steps):\n",
        "    percept = environment.get_percept()\n",
        "    action = agent.act(percept)\n",
        "    print(f\"step {step + 1}: percept - {percept}, Action - {action}\")\n",
        "    if percept == 'Dirty':\n",
        "      environment.clean_room()\n",
        "\n",
        "\n",
        "agent = SimpleReflexAgent()\n",
        "environment = Environment()\n",
        "\n",
        "run_agent(agent, environment, 5)\n"
      ],
      "metadata": {
        "colab": {
          "base_uri": "https://localhost:8080/"
        },
        "id": "ciIUKT_u5q58",
        "outputId": "30c8b597-4f0c-4024-fffa-c928d031f493"
      },
      "execution_count": null,
      "outputs": [
        {
          "output_type": "stream",
          "name": "stdout",
          "text": [
            "step 1: percept - Dirty, Action - Clean the room\n",
            "step 2: percept - Clean, Action - Room is already clean\n",
            "step 3: percept - Clean, Action - Room is already clean\n",
            "step 4: percept - Clean, Action - Room is already clean\n",
            "step 5: percept - Clean, Action - Room is already clean\n"
          ]
        }
      ]
    },
    {
      "cell_type": "code",
      "source": [
        "import random\n",
        "\n",
        "class SimpleReflexAgent:\n",
        "    def __init__(self):\n",
        "       pass\n",
        "\n",
        "    def act(self, percept):\n",
        "        if percept == 'Dirty':\n",
        "            return 'Clean'\n",
        "        else:\n",
        "            return self.choose_direction()\n",
        "\n",
        "    def choose_direction(self):\n",
        "        directions = ['Up', 'Down', 'Left', 'Right']\n",
        "        return random.choice(directions)\n",
        "\n",
        "class Environment:\n",
        "    def __init__(self, grid_size=3):\n",
        "        self.grid_size = grid_size\n",
        "        self.grid = [['Dirty' for _ in range(grid_size)] for _ in range(grid_size)]\n",
        "        self.agent_location = (0, 0)\n",
        "\n",
        "    def get_percept(self):\n",
        "        x, y = self.agent_location\n",
        "        return self.grid[x][y]\n",
        "\n",
        "    def clean_room(self):\n",
        "        x, y = self.agent_location\n",
        "        self.grid[x][y] = 'Clean'\n",
        "\n",
        "    def move_agent(self, direction):\n",
        "        x, y = self.agent_location\n",
        "        if direction == 'Up' and x > 0:\n",
        "            self.agent_location = (x - 1, y)\n",
        "        elif direction == 'Down' and x < self.grid_size - 1:\n",
        "            self.agent_location = (x + 1, y)\n",
        "        elif direction == 'Left' and y > 0:\n",
        "            self.agent_location = (x, y - 1)\n",
        "        elif direction == 'Right' and y < self.grid_size - 1:\n",
        "            self.agent_location = (x, y + 1)\n",
        "\n",
        "    def display(self):\n",
        "        for row in self.grid:\n",
        "            print(row)\n",
        "        print(f\"Agent location: {self.agent_location}\\n\")\n",
        "\n",
        "def run_agent(agent, environment, steps):\n",
        "    for step in range(steps):\n",
        "        percept = environment.get_percept()\n",
        "        action = agent.act(percept)\n",
        "        print(f\"Step {step + 1}: Percept - {percept}, Action - {action}\")\n",
        "        if action == 'Clean':\n",
        "            environment.clean_room()\n",
        "        else:\n",
        "            environment.move_agent(action)\n",
        "        environment.display()\n",
        "\n",
        "# Initialize the agent and environment\n",
        "agent = SimpleReflexAgent()\n",
        "environment = Environment(grid_size=3)\n",
        "\n",
        "environment.display()\n",
        "\n",
        "# Run the agent for a fixed number of steps\n",
        "run_agent(agent, environment, 10)\n"
      ],
      "metadata": {
        "colab": {
          "base_uri": "https://localhost:8080/"
        },
        "id": "gd3cnNiG6Jhu",
        "outputId": "594c0270-c25b-4d07-ebf6-24ddd1e07c06"
      },
      "execution_count": 2,
      "outputs": [
        {
          "output_type": "stream",
          "name": "stdout",
          "text": [
            "['Dirty', 'Dirty', 'Dirty']\n",
            "['Dirty', 'Dirty', 'Dirty']\n",
            "['Dirty', 'Dirty', 'Dirty']\n",
            "Agent location: (0, 0)\n",
            "\n",
            "Step 1: Percept - Dirty, Action - Clean\n",
            "['Clean', 'Dirty', 'Dirty']\n",
            "['Dirty', 'Dirty', 'Dirty']\n",
            "['Dirty', 'Dirty', 'Dirty']\n",
            "Agent location: (0, 0)\n",
            "\n",
            "Step 2: Percept - Clean, Action - Right\n",
            "['Clean', 'Dirty', 'Dirty']\n",
            "['Dirty', 'Dirty', 'Dirty']\n",
            "['Dirty', 'Dirty', 'Dirty']\n",
            "Agent location: (0, 1)\n",
            "\n",
            "Step 3: Percept - Dirty, Action - Clean\n",
            "['Clean', 'Clean', 'Dirty']\n",
            "['Dirty', 'Dirty', 'Dirty']\n",
            "['Dirty', 'Dirty', 'Dirty']\n",
            "Agent location: (0, 1)\n",
            "\n",
            "Step 4: Percept - Clean, Action - Left\n",
            "['Clean', 'Clean', 'Dirty']\n",
            "['Dirty', 'Dirty', 'Dirty']\n",
            "['Dirty', 'Dirty', 'Dirty']\n",
            "Agent location: (0, 0)\n",
            "\n",
            "Step 5: Percept - Clean, Action - Right\n",
            "['Clean', 'Clean', 'Dirty']\n",
            "['Dirty', 'Dirty', 'Dirty']\n",
            "['Dirty', 'Dirty', 'Dirty']\n",
            "Agent location: (0, 1)\n",
            "\n",
            "Step 6: Percept - Clean, Action - Left\n",
            "['Clean', 'Clean', 'Dirty']\n",
            "['Dirty', 'Dirty', 'Dirty']\n",
            "['Dirty', 'Dirty', 'Dirty']\n",
            "Agent location: (0, 0)\n",
            "\n",
            "Step 7: Percept - Clean, Action - Up\n",
            "['Clean', 'Clean', 'Dirty']\n",
            "['Dirty', 'Dirty', 'Dirty']\n",
            "['Dirty', 'Dirty', 'Dirty']\n",
            "Agent location: (0, 0)\n",
            "\n",
            "Step 8: Percept - Clean, Action - Left\n",
            "['Clean', 'Clean', 'Dirty']\n",
            "['Dirty', 'Dirty', 'Dirty']\n",
            "['Dirty', 'Dirty', 'Dirty']\n",
            "Agent location: (0, 0)\n",
            "\n",
            "Step 9: Percept - Clean, Action - Up\n",
            "['Clean', 'Clean', 'Dirty']\n",
            "['Dirty', 'Dirty', 'Dirty']\n",
            "['Dirty', 'Dirty', 'Dirty']\n",
            "Agent location: (0, 0)\n",
            "\n",
            "Step 10: Percept - Clean, Action - Down\n",
            "['Clean', 'Clean', 'Dirty']\n",
            "['Dirty', 'Dirty', 'Dirty']\n",
            "['Dirty', 'Dirty', 'Dirty']\n",
            "Agent location: (1, 0)\n",
            "\n"
          ]
        }
      ]
    },
    {
      "cell_type": "markdown",
      "source": [
        "\n",
        "\n",
        "---\n",
        "\n",
        "\n",
        "\n",
        "---\n",
        "\n",
        "\n",
        "\n",
        "---\n",
        "\n"
      ],
      "metadata": {
        "id": "OKZ-MmaoBB-n"
      }
    },
    {
      "cell_type": "markdown",
      "source": [
        "#2. Model-Based Reflex Agent"
      ],
      "metadata": {
        "id": "yDpddESpBEbU"
      }
    },
    {
      "cell_type": "code",
      "source": [
        "class ModelBasedReflexAgent:\n",
        "    def __init__(self):\n",
        "        self.state = 'Unknown'\n",
        "\n",
        "    def update_state(self, percept):\n",
        "        self.state = percept\n",
        "\n",
        "    def act(self, percept):\n",
        "        self.update_state(percept)\n",
        "        if self.state == 'Dirty':\n",
        "            return 'Clean the room'\n",
        "        else:\n",
        "            return 'Room is already clean'\n",
        "\n",
        "class Environment:\n",
        "    def __init__(self, state='Dirty'):\n",
        "        self.state = state\n",
        "\n",
        "    def get_percept(self):\n",
        "        return self.state\n",
        "\n",
        "    def clean_room(self):\n",
        "        self.state = 'Clean'\n",
        "\n",
        "def run_agent(agent, environment, steps):\n",
        "    for step in range(steps):\n",
        "        percept = environment.get_percept()\n",
        "        action = agent.act(percept)\n",
        "        print(f\"Step {step + 1}: Percept - {percept}, Action - {action}\")\n",
        "        if percept == 'Dirty':\n",
        "            environment.clean_room()\n",
        "\n",
        "model_based_agent = ModelBasedReflexAgent()\n",
        "environment = Environment()\n",
        "\n",
        "run_agent(model_based_agent, environment, 5)\n"
      ],
      "metadata": {
        "id": "V2Pb-GC3BLRk"
      },
      "execution_count": null,
      "outputs": []
    },
    {
      "cell_type": "markdown",
      "source": [
        "\n",
        "\n",
        "\n",
        "---\n",
        "\n",
        "\n",
        "---\n",
        "\n",
        "\n",
        "\n",
        "---\n",
        "\n"
      ],
      "metadata": {
        "id": "PS6R1veNBJOk"
      }
    },
    {
      "cell_type": "markdown",
      "source": [
        "#3. Goal-Based Agent"
      ],
      "metadata": {
        "id": "XNRs2Ye6BNJr"
      }
    },
    {
      "cell_type": "code",
      "source": [
        "class GoalBasedAgent:\n",
        "    def __init__(self, goal='Clean'):\n",
        "        self.goal = goal\n",
        "\n",
        "    def act(self, percept):\n",
        "        if percept == 'Dirty' and self.goal == 'Clean':\n",
        "            return 'Clean the room'\n",
        "        else:\n",
        "            return 'Room is already clean'\n",
        "\n",
        "class Environment:\n",
        "    def __init__(self, state='Dirty'):\n",
        "        self.state = state\n",
        "\n",
        "    def get_percept(self):\n",
        "        return self.state\n",
        "\n",
        "    def clean_room(self):\n",
        "        self.state = 'Clean'\n",
        "\n",
        "def run_agent(agent, environment, steps):\n",
        "    for step in range(steps):\n",
        "        percept = environment.get_percept()\n",
        "        action = agent.act(percept)\n",
        "        print(f\"Step {step + 1}: Percept - {percept}, Action - {action}\")\n",
        "        if percept == 'Dirty':\n",
        "            environment.clean_room()\n",
        "\n",
        "goal_based_agent = GoalBasedAgent(goal='Clean')\n",
        "environment = Environment()\n",
        "\n",
        "run_agent(goal_based_agent, environment, 5)\n"
      ],
      "metadata": {
        "id": "NO3lGLJ0A_qB"
      },
      "execution_count": null,
      "outputs": []
    },
    {
      "cell_type": "markdown",
      "source": [
        "\n",
        "\n",
        "---\n",
        "\n",
        "\n",
        "\n",
        "---\n",
        "\n",
        "\n",
        "\n",
        "---\n",
        "\n"
      ],
      "metadata": {
        "id": "MjLWpaXABPwz"
      }
    },
    {
      "cell_type": "markdown",
      "source": [
        "#4. Utility-Based Agent"
      ],
      "metadata": {
        "id": "CpDbNhEqBRSr"
      }
    },
    {
      "cell_type": "code",
      "source": [
        "class UtilityBasedAgent:\n",
        "    def __init__(self, utility_function=None):\n",
        "        self.utility_function = utility_function or self.default_utility_function\n",
        "\n",
        "    def default_utility_function(self, state):\n",
        "        if state == 'Dirty':\n",
        "            return 10  # Higher utility value for cleaning\n",
        "        return 0  # Lower utility value when the room is clean\n",
        "\n",
        "    def act(self, percept):\n",
        "        utility = self.utility_function(percept)\n",
        "        if utility > 0:\n",
        "            return 'Clean the room'\n",
        "        else:\n",
        "            return 'Room is already clean'\n",
        "\n",
        "class Environment:\n",
        "    def __init__(self, state='Dirty'):\n",
        "        self.state = state\n",
        "\n",
        "    def get_percept(self):\n",
        "        return self.state\n",
        "\n",
        "    def clean_room(self):\n",
        "        self.state = 'Clean'\n",
        "\n",
        "def run_agent(agent, environment, steps):\n",
        "    for step in range(steps):\n",
        "        percept = environment.get_percept()\n",
        "        action = agent.act(percept)\n",
        "        print(f\"Step {step + 1}: Percept - {percept}, Action - {action}\")\n",
        "        if percept == 'Dirty':\n",
        "            environment.clean_room()\n",
        "\n",
        "utility_based_agent = UtilityBasedAgent()\n",
        "environment = Environment()\n",
        "\n",
        "run_agent(utility_based_agent, environment, 5)\n"
      ],
      "metadata": {
        "id": "XGyCWRPuBQpQ"
      },
      "execution_count": null,
      "outputs": []
    },
    {
      "cell_type": "markdown",
      "source": [
        "\n",
        "\n",
        "---\n",
        "\n",
        "\n",
        "\n",
        "---\n",
        "\n",
        "\n",
        "\n",
        "---\n",
        "\n"
      ],
      "metadata": {
        "id": "ytfB_sUtBZL7"
      }
    },
    {
      "cell_type": "markdown",
      "source": [
        "#5. Learning Agent"
      ],
      "metadata": {
        "id": "utlNfi7eBahj"
      }
    },
    {
      "cell_type": "code",
      "source": [
        "class LearningAgent:\n",
        "    def __init__(self):\n",
        "        self.knowledge_base = {}\n",
        "\n",
        "    def learn(self, percept, action):\n",
        "        self.knowledge_base[percept] = action\n",
        "\n",
        "    def act(self, percept):\n",
        "        if percept not in self.knowledge_base:\n",
        "            if percept == 'Dirty':\n",
        "                action = 'Clean the room'\n",
        "            else:\n",
        "                action = 'Room is already clean'\n",
        "            self.learn(percept, action)\n",
        "        return self.knowledge_base[percept]\n",
        "\n",
        "class Environment:\n",
        "    def __init__(self, state='Dirty'):\n",
        "        self.state = state\n",
        "\n",
        "    def get_percept(self):\n",
        "        return self.state\n",
        "\n",
        "    def clean_room(self):\n",
        "        self.state = 'Clean'\n",
        "\n",
        "def run_agent(agent, environment, steps):\n",
        "    for step in range(steps):\n",
        "        percept = environment.get_percept()\n",
        "        action = agent.act(percept)\n",
        "        print(f\"Step {step + 1}: Percept - {percept}, Action - {action}\")\n",
        "        if percept == 'Dirty':\n",
        "            environment.clean_room()\n",
        "\n",
        "learning_agent = LearningAgent()\n",
        "environment = Environment()\n",
        "\n",
        "run_agent(learning_agent, environment, 5)\n"
      ],
      "metadata": {
        "colab": {
          "base_uri": "https://localhost:8080/"
        },
        "id": "t4r5BHVDBaFg",
        "outputId": "3d5302f9-bcce-4477-b275-d9838d3e08fe"
      },
      "execution_count": null,
      "outputs": [
        {
          "output_type": "stream",
          "name": "stdout",
          "text": [
            "Step 1: Percept - Dirty, Action - Clean the room\n",
            "Step 2: Percept - Clean, Action - Room is already clean\n",
            "Step 3: Percept - Clean, Action - Room is already clean\n",
            "Step 4: Percept - Clean, Action - Room is already clean\n",
            "Step 5: Percept - Clean, Action - Room is already clean\n"
          ]
        }
      ]
    },
    {
      "cell_type": "code",
      "source": [],
      "metadata": {
        "id": "E5Xh_3L3CYRh"
      },
      "execution_count": 2,
      "outputs": []
    },
    {
      "cell_type": "code",
      "source": [],
      "metadata": {
        "id": "3NwJO4D60iBM"
      },
      "execution_count": null,
      "outputs": []
    }
  ]
}