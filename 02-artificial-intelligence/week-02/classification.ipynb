{
 "cells": [
  {
   "cell_type": "code",
   "execution_count": 80,
   "metadata": {},
   "outputs": [],
   "source": [
    "import numpy as np \n",
    "import pandas as pd "
   ]
  },
  {
   "cell_type": "code",
   "execution_count": 81,
   "metadata": {},
   "outputs": [],
   "source": [
    "# Set random seed\n",
    "np.random.seed(42)\n",
    "\n",
    "# Generating sample student data\n",
    "num_students = 1000\n",
    "study_hours = np.random.randint(1,10, num_students) \n",
    "attendance = np.random.randint(60,100, num_students)\n",
    "assignments_completed = np.random.randint(5,30, num_students)\n",
    "extracurricular = np.random.randint(0,2, num_students)\n",
    "\n",
    "# Generating final scores(Regression Target)\n",
    "final_scores = (study_hours * 8)  + (attendance * 0.5) + (assignments_completed * 2 ) + (extracurricular * 3 ) + np.random.randint(-10, 10, num_students)\n",
    "\n",
    "# Generating pass/fail labels (Classification Target: 1 = Pass, 0 = Fail)\n",
    "pass_fail = np.where(final_scores >= 114, 1, 0) \n",
    "\n",
    "# Creating DataFrame\n",
    "students_df = pd.DataFrame({\n",
    "    \"Study Hourse\": study_hours, \n",
    "    \"Attendance (%) \":attendance, \n",
    "    \"Assignments Completed\": assignments_completed,\n",
    "    \"Extracurricular (0=No, 1=Yes)\": extracurricular,\n",
    "    \"Final Score\": final_scores,\n",
    "    \"Pass (1=Yes, 0=No)\": pass_fail\n",
    "})\n"
   ]
  },
  {
   "cell_type": "code",
   "execution_count": 82,
   "metadata": {},
   "outputs": [
    {
     "data": {
      "text/html": [
       "<div>\n",
       "<style scoped>\n",
       "    .dataframe tbody tr th:only-of-type {\n",
       "        vertical-align: middle;\n",
       "    }\n",
       "\n",
       "    .dataframe tbody tr th {\n",
       "        vertical-align: top;\n",
       "    }\n",
       "\n",
       "    .dataframe thead th {\n",
       "        text-align: right;\n",
       "    }\n",
       "</style>\n",
       "<table border=\"1\" class=\"dataframe\">\n",
       "  <thead>\n",
       "    <tr style=\"text-align: right;\">\n",
       "      <th></th>\n",
       "      <th>Study Hourse</th>\n",
       "      <th>Attendance (%)</th>\n",
       "      <th>Assignments Completed</th>\n",
       "      <th>Extracurricular (0=No, 1=Yes)</th>\n",
       "      <th>Final Score</th>\n",
       "      <th>Pass (1=Yes, 0=No)</th>\n",
       "    </tr>\n",
       "  </thead>\n",
       "  <tbody>\n",
       "    <tr>\n",
       "      <th>0</th>\n",
       "      <td>7</td>\n",
       "      <td>83</td>\n",
       "      <td>19</td>\n",
       "      <td>0</td>\n",
       "      <td>128.5</td>\n",
       "      <td>1</td>\n",
       "    </tr>\n",
       "    <tr>\n",
       "      <th>1</th>\n",
       "      <td>4</td>\n",
       "      <td>82</td>\n",
       "      <td>21</td>\n",
       "      <td>0</td>\n",
       "      <td>119.0</td>\n",
       "      <td>1</td>\n",
       "    </tr>\n",
       "    <tr>\n",
       "      <th>2</th>\n",
       "      <td>8</td>\n",
       "      <td>67</td>\n",
       "      <td>14</td>\n",
       "      <td>0</td>\n",
       "      <td>115.5</td>\n",
       "      <td>1</td>\n",
       "    </tr>\n",
       "    <tr>\n",
       "      <th>3</th>\n",
       "      <td>5</td>\n",
       "      <td>96</td>\n",
       "      <td>10</td>\n",
       "      <td>0</td>\n",
       "      <td>108.0</td>\n",
       "      <td>0</td>\n",
       "    </tr>\n",
       "    <tr>\n",
       "      <th>4</th>\n",
       "      <td>7</td>\n",
       "      <td>62</td>\n",
       "      <td>22</td>\n",
       "      <td>0</td>\n",
       "      <td>127.0</td>\n",
       "      <td>1</td>\n",
       "    </tr>\n",
       "  </tbody>\n",
       "</table>\n",
       "</div>"
      ],
      "text/plain": [
       "   Study Hourse  Attendance (%)   Assignments Completed  \\\n",
       "0             7               83                     19   \n",
       "1             4               82                     21   \n",
       "2             8               67                     14   \n",
       "3             5               96                     10   \n",
       "4             7               62                     22   \n",
       "\n",
       "   Extracurricular (0=No, 1=Yes)  Final Score  Pass (1=Yes, 0=No)  \n",
       "0                              0        128.5                   1  \n",
       "1                              0        119.0                   1  \n",
       "2                              0        115.5                   1  \n",
       "3                              0        108.0                   0  \n",
       "4                              0        127.0                   1  "
      ]
     },
     "execution_count": 82,
     "metadata": {},
     "output_type": "execute_result"
    }
   ],
   "source": [
    "students_df.head()"
   ]
  },
  {
   "cell_type": "code",
   "execution_count": 83,
   "metadata": {},
   "outputs": [
    {
     "name": "stdout",
     "output_type": "stream",
     "text": [
      "<class 'pandas.core.frame.DataFrame'>\n",
      "RangeIndex: 1000 entries, 0 to 999\n",
      "Data columns (total 6 columns):\n",
      " #   Column                         Non-Null Count  Dtype  \n",
      "---  ------                         --------------  -----  \n",
      " 0   Study Hourse                   1000 non-null   int32  \n",
      " 1   Attendance (%)                 1000 non-null   int32  \n",
      " 2   Assignments Completed          1000 non-null   int32  \n",
      " 3   Extracurricular (0=No, 1=Yes)  1000 non-null   int32  \n",
      " 4   Final Score                    1000 non-null   float64\n",
      " 5   Pass (1=Yes, 0=No)             1000 non-null   int64  \n",
      "dtypes: float64(1), int32(4), int64(1)\n",
      "memory usage: 31.4 KB\n"
     ]
    }
   ],
   "source": [
    "students_df.info()"
   ]
  },
  {
   "cell_type": "code",
   "execution_count": 84,
   "metadata": {},
   "outputs": [
    {
     "data": {
      "text/html": [
       "<div>\n",
       "<style scoped>\n",
       "    .dataframe tbody tr th:only-of-type {\n",
       "        vertical-align: middle;\n",
       "    }\n",
       "\n",
       "    .dataframe tbody tr th {\n",
       "        vertical-align: top;\n",
       "    }\n",
       "\n",
       "    .dataframe thead th {\n",
       "        text-align: right;\n",
       "    }\n",
       "</style>\n",
       "<table border=\"1\" class=\"dataframe\">\n",
       "  <thead>\n",
       "    <tr style=\"text-align: right;\">\n",
       "      <th></th>\n",
       "      <th>Study Hourse</th>\n",
       "      <th>Attendance (%)</th>\n",
       "      <th>Assignments Completed</th>\n",
       "      <th>Extracurricular (0=No, 1=Yes)</th>\n",
       "      <th>Final Score</th>\n",
       "      <th>Pass (1=Yes, 0=No)</th>\n",
       "    </tr>\n",
       "  </thead>\n",
       "  <tbody>\n",
       "    <tr>\n",
       "      <th>count</th>\n",
       "      <td>1000.000000</td>\n",
       "      <td>1000.000000</td>\n",
       "      <td>1000.000000</td>\n",
       "      <td>1000.000000</td>\n",
       "      <td>1000.000000</td>\n",
       "      <td>1000.000000</td>\n",
       "    </tr>\n",
       "    <tr>\n",
       "      <th>mean</th>\n",
       "      <td>4.898000</td>\n",
       "      <td>79.638000</td>\n",
       "      <td>17.322000</td>\n",
       "      <td>0.484000</td>\n",
       "      <td>114.851000</td>\n",
       "      <td>0.511000</td>\n",
       "    </tr>\n",
       "    <tr>\n",
       "      <th>std</th>\n",
       "      <td>2.603916</td>\n",
       "      <td>11.496048</td>\n",
       "      <td>7.314904</td>\n",
       "      <td>0.499994</td>\n",
       "      <td>26.417555</td>\n",
       "      <td>0.500129</td>\n",
       "    </tr>\n",
       "    <tr>\n",
       "      <th>min</th>\n",
       "      <td>1.000000</td>\n",
       "      <td>60.000000</td>\n",
       "      <td>5.000000</td>\n",
       "      <td>0.000000</td>\n",
       "      <td>42.500000</td>\n",
       "      <td>0.000000</td>\n",
       "    </tr>\n",
       "    <tr>\n",
       "      <th>25%</th>\n",
       "      <td>3.000000</td>\n",
       "      <td>70.000000</td>\n",
       "      <td>11.000000</td>\n",
       "      <td>0.000000</td>\n",
       "      <td>95.500000</td>\n",
       "      <td>0.000000</td>\n",
       "    </tr>\n",
       "    <tr>\n",
       "      <th>50%</th>\n",
       "      <td>5.000000</td>\n",
       "      <td>80.000000</td>\n",
       "      <td>18.000000</td>\n",
       "      <td>0.000000</td>\n",
       "      <td>114.500000</td>\n",
       "      <td>1.000000</td>\n",
       "    </tr>\n",
       "    <tr>\n",
       "      <th>75%</th>\n",
       "      <td>7.000000</td>\n",
       "      <td>90.000000</td>\n",
       "      <td>24.000000</td>\n",
       "      <td>1.000000</td>\n",
       "      <td>134.625000</td>\n",
       "      <td>1.000000</td>\n",
       "    </tr>\n",
       "    <tr>\n",
       "      <th>max</th>\n",
       "      <td>9.000000</td>\n",
       "      <td>99.000000</td>\n",
       "      <td>29.000000</td>\n",
       "      <td>1.000000</td>\n",
       "      <td>181.500000</td>\n",
       "      <td>1.000000</td>\n",
       "    </tr>\n",
       "  </tbody>\n",
       "</table>\n",
       "</div>"
      ],
      "text/plain": [
       "       Study Hourse  Attendance (%)   Assignments Completed  \\\n",
       "count   1000.000000      1000.000000            1000.000000   \n",
       "mean       4.898000        79.638000              17.322000   \n",
       "std        2.603916        11.496048               7.314904   \n",
       "min        1.000000        60.000000               5.000000   \n",
       "25%        3.000000        70.000000              11.000000   \n",
       "50%        5.000000        80.000000              18.000000   \n",
       "75%        7.000000        90.000000              24.000000   \n",
       "max        9.000000        99.000000              29.000000   \n",
       "\n",
       "       Extracurricular (0=No, 1=Yes)  Final Score  Pass (1=Yes, 0=No)  \n",
       "count                    1000.000000  1000.000000         1000.000000  \n",
       "mean                        0.484000   114.851000            0.511000  \n",
       "std                         0.499994    26.417555            0.500129  \n",
       "min                         0.000000    42.500000            0.000000  \n",
       "25%                         0.000000    95.500000            0.000000  \n",
       "50%                         0.000000   114.500000            1.000000  \n",
       "75%                         1.000000   134.625000            1.000000  \n",
       "max                         1.000000   181.500000            1.000000  "
      ]
     },
     "execution_count": 84,
     "metadata": {},
     "output_type": "execute_result"
    }
   ],
   "source": [
    "students_df.describe()"
   ]
  },
  {
   "cell_type": "code",
   "execution_count": 85,
   "metadata": {},
   "outputs": [
    {
     "data": {
      "text/plain": [
       "Pass (1=Yes, 0=No)\n",
       "1    511\n",
       "0    489\n",
       "Name: count, dtype: int64"
      ]
     },
     "execution_count": 85,
     "metadata": {},
     "output_type": "execute_result"
    }
   ],
   "source": [
    "students_df[\"Pass (1=Yes, 0=No)\"].value_counts()"
   ]
  },
  {
   "cell_type": "code",
   "execution_count": 86,
   "metadata": {},
   "outputs": [
    {
     "data": {
      "text/plain": [
       "np.float64(114.851)"
      ]
     },
     "execution_count": 86,
     "metadata": {},
     "output_type": "execute_result"
    }
   ],
   "source": [
    "students_df[\"Final Score\"].mean()"
   ]
  },
  {
   "cell_type": "code",
   "execution_count": 87,
   "metadata": {},
   "outputs": [
    {
     "data": {
      "text/plain": [
       "(int, numpy.ndarray, numpy.ndarray, numpy.ndarray, numpy.ndarray)"
      ]
     },
     "execution_count": 87,
     "metadata": {},
     "output_type": "execute_result"
    }
   ],
   "source": [
    "type(num_students), type(study_hours), type(assignments_completed), type(extracurricular), type(attendance)"
   ]
  },
  {
   "cell_type": "code",
   "execution_count": 88,
   "metadata": {},
   "outputs": [
    {
     "data": {
      "text/plain": [
       "pandas.core.series.Series"
      ]
     },
     "execution_count": 88,
     "metadata": {},
     "output_type": "execute_result"
    }
   ],
   "source": [
    "type(students_df[\"Final Score\"])"
   ]
  },
  {
   "cell_type": "code",
   "execution_count": 89,
   "metadata": {},
   "outputs": [
    {
     "data": {
      "text/plain": [
       "numpy.ndarray"
      ]
     },
     "execution_count": 89,
     "metadata": {},
     "output_type": "execute_result"
    }
   ],
   "source": [
    "type(final_scores)"
   ]
  },
  {
   "cell_type": "code",
   "execution_count": null,
   "metadata": {},
   "outputs": [],
   "source": [
    "students_df.to_excel(\"students.xlsx\")"
   ]
  }
 ],
 "metadata": {
  "kernelspec": {
   "display_name": "Python 3.12.0 64-bit",
   "language": "python",
   "name": "python3"
  },
  "language_info": {
   "codemirror_mode": {
    "name": "ipython",
    "version": 3
   },
   "file_extension": ".py",
   "mimetype": "text/x-python",
   "name": "python",
   "nbconvert_exporter": "python",
   "pygments_lexer": "ipython3",
   "version": "3.12.0"
  },
  "orig_nbformat": 4,
  "vscode": {
   "interpreter": {
    "hash": "53d8eca44c0f2e0b87fb88d9c05acfddfe83b50bdd73069bed107cca5f5caedf"
   }
  }
 },
 "nbformat": 4,
 "nbformat_minor": 2
}
