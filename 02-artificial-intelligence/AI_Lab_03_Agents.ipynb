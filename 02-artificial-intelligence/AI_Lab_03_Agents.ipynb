{
  "cells": [
    {
      "cell_type": "markdown",
      "metadata": {
        "id": "jLYzuS3rGODm"
      },
      "source": [
        "### **Agents**\n",
        "\n",
        "An **agent** in artificial intelligence (AI) is an autonomous entity that perceives its environment through sensors and acts upon that environment through actuators to achieve specific goals. An agent operates by following a set of rules, decisions, or learned behaviors that guide its actions based on its perceptions.\n",
        "\n",
        "### **Types of Agents**\n",
        "\n",
        "- **Simple Reflex Agents:** Act on current percepts with predefined rules.\n",
        "- **Model-Based Reflex Agents:** Use internal state to handle partially observable environments.\n",
        "- **Goal-Based Agents:** Make decisions to achieve specific goals through planning.\n",
        "- **Utility-Based Agents:** Choose actions based on utility to maximize desirable outcomes.\n",
        "- **Learning Agents:** Adapt and improve through learning from past experiences.\n"
      ]
    },
    {
      "cell_type": "markdown",
      "metadata": {},
      "source": [
        "\n",
        "### 1. **Simple Reflex Agents**: **Rule-based, Heuristic**  \n",
        "### 2. **Model-Based Reflex Agents**: **State-aware, Predictive**  \n",
        "### 3. **Goal-Based Agents**: **Goal-oriented, Planning**  \n",
        "### 4. **Utility-Based Agents**: **Optimization, Maximization**  \n",
        "### 5. **Learning Agents**: **Adaptive, Reinforcement**"
      ]
    },
    {
      "cell_type": "code",
      "execution_count": null,
      "metadata": {
        "id": "o1dTww6A95Fq"
      },
      "outputs": [],
      "source": [
        "class Environment:\n",
        "  def __init__(self):\n",
        "    pass\n",
        " \n",
        "  def get_percept(self):\n",
        "    pass\n",
        "\n",
        "  def env_effect(self):\n",
        "    pass\n"
      ]
    },
    {
      "cell_type": "code",
      "execution_count": null,
      "metadata": {
        "id": "pPdVxVyNsv80"
      },
      "outputs": [],
      "source": [
        "class Agent:\n",
        "  def __init__(self):\n",
        "    pass\n",
        "\n",
        "  def program(self):\n",
        "    pass\n",
        "\n",
        "  def run_agent(env, agent, step):\n",
        "    pass\n",
        "\n"
      ]
    },
    {
      "cell_type": "markdown",
      "metadata": {
        "id": "yQw6Xo485jxy"
      },
      "source": [
        "#1. Simple Reflex Agents"
      ]
    },
    {
      "cell_type": "code",
      "execution_count": null,
      "metadata": {
        "colab": {
          "base_uri": "https://localhost:8080/"
        },
        "id": "ciIUKT_u5q58",
        "outputId": "30c8b597-4f0c-4024-fffa-c928d031f493"
      },
      "outputs": [
        {
          "name": "stdout",
          "output_type": "stream",
          "text": [
            "step 1: percept - Dirty, Action - Clean the room\n",
            "step 2: percept - Clean, Action - Room is already clean\n",
            "step 3: percept - Clean, Action - Room is already clean\n",
            "step 4: percept - Clean, Action - Room is already clean\n",
            "step 5: percept - Clean, Action - Room is already clean\n"
          ]
        }
      ],
      "source": [
        "class SimpleReflexAgent:\n",
        "  def __init__(self):\n",
        "    pass\n",
        "\n",
        "  def act(self, percept):\n",
        "    if percept == 'Dirty':\n",
        "      return 'Clean the room'\n",
        "    else:\n",
        "      return 'Room is already clean'\n",
        "\n",
        "class Environment:\n",
        "  def __init__(self, state='Dirty'):\n",
        "    self.state = state\n",
        "\n",
        "  def get_percept(self):\n",
        "    return self.state\n",
        "\n",
        "  def clean_room(self):\n",
        "    self.state = 'Clean'\n",
        "\n",
        "\n",
        "def run_agent(agent, environment, steps):\n",
        "  for step in range(steps):\n",
        "    percept = environment.get_percept()\n",
        "    action = agent.act(percept)\n",
        "    print(f\"step {step + 1}: percept - {percept}, Action - {action}\")\n",
        "    if percept == 'Dirty':\n",
        "      environment.clean_room()\n",
        "\n",
        "\n",
        "agent = SimpleReflexAgent()\n",
        "environment = Environment()\n",
        "\n",
        "run_agent(agent, environment, 5)\n"
      ]
    },
    {
      "cell_type": "code",
      "execution_count": 2,
      "metadata": {
        "colab": {
          "base_uri": "https://localhost:8080/"
        },
        "id": "gd3cnNiG6Jhu",
        "outputId": "594c0270-c25b-4d07-ebf6-24ddd1e07c06"
      },
      "outputs": [
        {
          "name": "stdout",
          "output_type": "stream",
          "text": [
            "['Dirty', 'Dirty', 'Dirty']\n",
            "['Dirty', 'Dirty', 'Dirty']\n",
            "['Dirty', 'Dirty', 'Dirty']\n",
            "Agent location: (0, 0)\n",
            "\n",
            "Step 1: Percept - Dirty, Action - Clean\n",
            "['Clean', 'Dirty', 'Dirty']\n",
            "['Dirty', 'Dirty', 'Dirty']\n",
            "['Dirty', 'Dirty', 'Dirty']\n",
            "Agent location: (0, 0)\n",
            "\n",
            "Step 2: Percept - Clean, Action - Right\n",
            "['Clean', 'Dirty', 'Dirty']\n",
            "['Dirty', 'Dirty', 'Dirty']\n",
            "['Dirty', 'Dirty', 'Dirty']\n",
            "Agent location: (0, 1)\n",
            "\n",
            "Step 3: Percept - Dirty, Action - Clean\n",
            "['Clean', 'Clean', 'Dirty']\n",
            "['Dirty', 'Dirty', 'Dirty']\n",
            "['Dirty', 'Dirty', 'Dirty']\n",
            "Agent location: (0, 1)\n",
            "\n",
            "Step 4: Percept - Clean, Action - Left\n",
            "['Clean', 'Clean', 'Dirty']\n",
            "['Dirty', 'Dirty', 'Dirty']\n",
            "['Dirty', 'Dirty', 'Dirty']\n",
            "Agent location: (0, 0)\n",
            "\n",
            "Step 5: Percept - Clean, Action - Right\n",
            "['Clean', 'Clean', 'Dirty']\n",
            "['Dirty', 'Dirty', 'Dirty']\n",
            "['Dirty', 'Dirty', 'Dirty']\n",
            "Agent location: (0, 1)\n",
            "\n",
            "Step 6: Percept - Clean, Action - Left\n",
            "['Clean', 'Clean', 'Dirty']\n",
            "['Dirty', 'Dirty', 'Dirty']\n",
            "['Dirty', 'Dirty', 'Dirty']\n",
            "Agent location: (0, 0)\n",
            "\n",
            "Step 7: Percept - Clean, Action - Up\n",
            "['Clean', 'Clean', 'Dirty']\n",
            "['Dirty', 'Dirty', 'Dirty']\n",
            "['Dirty', 'Dirty', 'Dirty']\n",
            "Agent location: (0, 0)\n",
            "\n",
            "Step 8: Percept - Clean, Action - Left\n",
            "['Clean', 'Clean', 'Dirty']\n",
            "['Dirty', 'Dirty', 'Dirty']\n",
            "['Dirty', 'Dirty', 'Dirty']\n",
            "Agent location: (0, 0)\n",
            "\n",
            "Step 9: Percept - Clean, Action - Up\n",
            "['Clean', 'Clean', 'Dirty']\n",
            "['Dirty', 'Dirty', 'Dirty']\n",
            "['Dirty', 'Dirty', 'Dirty']\n",
            "Agent location: (0, 0)\n",
            "\n",
            "Step 10: Percept - Clean, Action - Down\n",
            "['Clean', 'Clean', 'Dirty']\n",
            "['Dirty', 'Dirty', 'Dirty']\n",
            "['Dirty', 'Dirty', 'Dirty']\n",
            "Agent location: (1, 0)\n",
            "\n"
          ]
        }
      ],
      "source": [
        "import random\n",
        "\n",
        "class SimpleReflexAgent:\n",
        "    def __init__(self):\n",
        "       pass\n",
        "\n",
        "    def act(self, percept):\n",
        "        if percept == 'Dirty':\n",
        "            return 'Clean'\n",
        "        else:\n",
        "            return self.choose_direction()\n",
        "\n",
        "    def choose_direction(self):\n",
        "        directions = ['Up', 'Down', 'Left', 'Right']\n",
        "        return random.choice(directions)\n",
        "\n",
        "class Environment:\n",
        "    def __init__(self, grid_size=3):\n",
        "        self.grid_size = grid_size\n",
        "        self.grid = [['Dirty' for _ in range(grid_size)] for _ in range(grid_size)]\n",
        "        self.agent_location = (0, 0)\n",
        "\n",
        "    def get_percept(self):\n",
        "        x, y = self.agent_location\n",
        "        return self.grid[x][y]\n",
        "\n",
        "    def clean_room(self):\n",
        "        x, y = self.agent_location\n",
        "        self.grid[x][y] = 'Clean'\n",
        "\n",
        "    def move_agent(self, direction):\n",
        "        x, y = self.agent_location\n",
        "        if direction == 'Up' and x > 0:\n",
        "            self.agent_location = (x - 1, y)\n",
        "        elif direction == 'Down' and x < self.grid_size - 1:\n",
        "            self.agent_location = (x + 1, y)\n",
        "        elif direction == 'Left' and y > 0:\n",
        "            self.agent_location = (x, y - 1)\n",
        "        elif direction == 'Right' and y < self.grid_size - 1:\n",
        "            self.agent_location = (x, y + 1)\n",
        "\n",
        "    def display(self):\n",
        "        for row in self.grid:\n",
        "            print(row)\n",
        "        print(f\"Agent location: {self.agent_location}\\n\")\n",
        "\n",
        "def run_agent(agent, environment, steps):\n",
        "    for step in range(steps):\n",
        "        percept = environment.get_percept()\n",
        "        action = agent.act(percept)\n",
        "        print(f\"Step {step + 1}: Percept - {percept}, Action - {action}\")\n",
        "        if action == 'Clean':\n",
        "            environment.clean_room()\n",
        "        else:\n",
        "            environment.move_agent(action)\n",
        "        environment.display()\n",
        "\n",
        "# Initialize the agent and environment\n",
        "agent = SimpleReflexAgent()\n",
        "environment = Environment(grid_size=3)\n",
        "\n",
        "environment.display()\n",
        "\n",
        "# Run the agent for a fixed number of steps\n",
        "run_agent(agent, environment, 10)\n"
      ]
    },
    {
      "cell_type": "markdown",
      "metadata": {
        "id": "OKZ-MmaoBB-n"
      },
      "source": [
        "\n",
        "\n",
        "---\n",
        "\n",
        "\n",
        "\n",
        "---\n",
        "\n",
        "\n",
        "\n",
        "---\n",
        "\n"
      ]
    },
    {
      "cell_type": "markdown",
      "metadata": {
        "id": "yDpddESpBEbU"
      },
      "source": [
        "#2. Model-Based Reflex Agent"
      ]
    },
    {
      "cell_type": "code",
      "execution_count": null,
      "metadata": {
        "id": "V2Pb-GC3BLRk"
      },
      "outputs": [],
      "source": [
        "class ModelBasedReflexAgent:\n",
        "    def __init__(self):\n",
        "        self.state = 'Unknown'\n",
        "\n",
        "    def update_state(self, percept):\n",
        "        self.state = percept\n",
        "\n",
        "    def act(self, percept):\n",
        "        self.update_state(percept)\n",
        "        if self.state == 'Dirty':\n",
        "            return 'Clean the room'\n",
        "        else:\n",
        "            return 'Room is already clean'\n",
        "\n",
        "class Environment:\n",
        "    def __init__(self, state='Dirty'):\n",
        "        self.state = state\n",
        "\n",
        "    def get_percept(self):\n",
        "        return self.state\n",
        "\n",
        "    def clean_room(self):\n",
        "        self.state = 'Clean'\n",
        "\n",
        "def run_agent(agent, environment, steps):\n",
        "    for step in range(steps):\n",
        "        percept = environment.get_percept()\n",
        "        action = agent.act(percept)\n",
        "        print(f\"Step {step + 1}: Percept - {percept}, Action - {action}\")\n",
        "        if percept == 'Dirty':\n",
        "            environment.clean_room()\n",
        "\n",
        "model_based_agent = ModelBasedReflexAgent()\n",
        "environment = Environment()\n",
        "\n",
        "run_agent(model_based_agent, environment, 5)\n"
      ]
    },
    {
      "cell_type": "markdown",
      "metadata": {
        "id": "PS6R1veNBJOk"
      },
      "source": [
        "\n",
        "\n",
        "\n",
        "---\n",
        "\n",
        "\n",
        "---\n",
        "\n",
        "\n",
        "\n",
        "---\n",
        "\n"
      ]
    },
    {
      "cell_type": "markdown",
      "metadata": {
        "id": "XNRs2Ye6BNJr"
      },
      "source": [
        "#3. Goal-Based Agent"
      ]
    },
    {
      "cell_type": "code",
      "execution_count": null,
      "metadata": {
        "id": "NO3lGLJ0A_qB"
      },
      "outputs": [],
      "source": [
        "class GoalBasedAgent:\n",
        "    def __init__(self, goal='Clean'):\n",
        "        self.goal = goal\n",
        "\n",
        "    def act(self, percept):\n",
        "        if percept == 'Dirty' and self.goal == 'Clean':\n",
        "            return 'Clean the room'\n",
        "        else:\n",
        "            return 'Room is already clean'\n",
        "\n",
        "class Environment:\n",
        "    def __init__(self, state='Dirty'):\n",
        "        self.state = state\n",
        "\n",
        "    def get_percept(self):\n",
        "        return self.state\n",
        "\n",
        "    def clean_room(self):\n",
        "        self.state = 'Clean'\n",
        "\n",
        "def run_agent(agent, environment, steps):\n",
        "    for step in range(steps):\n",
        "        percept = environment.get_percept()\n",
        "        action = agent.act(percept)\n",
        "        print(f\"Step {step + 1}: Percept - {percept}, Action - {action}\")\n",
        "        if percept == 'Dirty':\n",
        "            environment.clean_room()\n",
        "\n",
        "goal_based_agent = GoalBasedAgent(goal='Clean')\n",
        "environment = Environment()\n",
        "\n",
        "run_agent(goal_based_agent, environment, 5)\n"
      ]
    },
    {
      "cell_type": "markdown",
      "metadata": {
        "id": "MjLWpaXABPwz"
      },
      "source": [
        "\n",
        "\n",
        "---\n",
        "\n",
        "\n",
        "\n",
        "---\n",
        "\n",
        "\n",
        "\n",
        "---\n",
        "\n"
      ]
    },
    {
      "cell_type": "markdown",
      "metadata": {
        "id": "CpDbNhEqBRSr"
      },
      "source": [
        "#4. Utility-Based Agent"
      ]
    },
    {
      "cell_type": "code",
      "execution_count": null,
      "metadata": {
        "id": "XGyCWRPuBQpQ"
      },
      "outputs": [],
      "source": [
        "class UtilityBasedAgent:\n",
        "    def __init__(self, utility_function=None):\n",
        "        self.utility_function = utility_function or self.default_utility_function\n",
        "\n",
        "    def default_utility_function(self, state):\n",
        "        if state == 'Dirty':\n",
        "            return 10  # Higher utility value for cleaning\n",
        "        return 0  # Lower utility value when the room is clean\n",
        "\n",
        "    def act(self, percept):\n",
        "        utility = self.utility_function(percept)\n",
        "        if utility > 0:\n",
        "            return 'Clean the room'\n",
        "        else:\n",
        "            return 'Room is already clean'\n",
        "\n",
        "class Environment:\n",
        "    def __init__(self, state='Dirty'):\n",
        "        self.state = state\n",
        "\n",
        "    def get_percept(self):\n",
        "        return self.state\n",
        "\n",
        "    def clean_room(self):\n",
        "        self.state = 'Clean'\n",
        "\n",
        "def run_agent(agent, environment, steps):\n",
        "    for step in range(steps):\n",
        "        percept = environment.get_percept()\n",
        "        action = agent.act(percept)\n",
        "        print(f\"Step {step + 1}: Percept - {percept}, Action - {action}\")\n",
        "        if percept == 'Dirty':\n",
        "            environment.clean_room()\n",
        "\n",
        "utility_based_agent = UtilityBasedAgent()\n",
        "environment = Environment()\n",
        "\n",
        "run_agent(utility_based_agent, environment, 5)\n"
      ]
    },
    {
      "cell_type": "markdown",
      "metadata": {
        "id": "ytfB_sUtBZL7"
      },
      "source": [
        "\n",
        "\n",
        "---\n",
        "\n",
        "\n",
        "\n",
        "---\n",
        "\n",
        "\n",
        "\n",
        "---\n",
        "\n"
      ]
    },
    {
      "cell_type": "markdown",
      "metadata": {
        "id": "utlNfi7eBahj"
      },
      "source": [
        "#5. Learning Agent"
      ]
    },
    {
      "cell_type": "code",
      "execution_count": null,
      "metadata": {
        "colab": {
          "base_uri": "https://localhost:8080/"
        },
        "id": "t4r5BHVDBaFg",
        "outputId": "3d5302f9-bcce-4477-b275-d9838d3e08fe"
      },
      "outputs": [
        {
          "name": "stdout",
          "output_type": "stream",
          "text": [
            "Step 1: Percept - Dirty, Action - Clean the room\n",
            "Step 2: Percept - Clean, Action - Room is already clean\n",
            "Step 3: Percept - Clean, Action - Room is already clean\n",
            "Step 4: Percept - Clean, Action - Room is already clean\n",
            "Step 5: Percept - Clean, Action - Room is already clean\n"
          ]
        }
      ],
      "source": [
        "class LearningAgent:\n",
        "    def __init__(self):\n",
        "        self.knowledge_base = {}\n",
        "\n",
        "    def learn(self, percept, action):\n",
        "        self.knowledge_base[percept] = action\n",
        "\n",
        "    def act(self, percept):\n",
        "        if percept not in self.knowledge_base:\n",
        "            if percept == 'Dirty':\n",
        "                action = 'Clean the room'\n",
        "            else:\n",
        "                action = 'Room is already clean'\n",
        "            self.learn(percept, action)\n",
        "        return self.knowledge_base[percept]\n",
        "\n",
        "class Environment:\n",
        "    def __init__(self, state='Dirty'):\n",
        "        self.state = state\n",
        "\n",
        "    def get_percept(self):\n",
        "        return self.state\n",
        "\n",
        "    def clean_room(self):\n",
        "        self.state = 'Clean'\n",
        "\n",
        "def run_agent(agent, environment, steps):\n",
        "    for step in range(steps):\n",
        "        percept = environment.get_percept()\n",
        "        action = agent.act(percept)\n",
        "        print(f\"Step {step + 1}: Percept - {percept}, Action - {action}\")\n",
        "        if percept == 'Dirty':\n",
        "            environment.clean_room()\n",
        "\n",
        "learning_agent = LearningAgent()\n",
        "environment = Environment()\n",
        "\n",
        "run_agent(learning_agent, environment, 5)\n"
      ]
    },
    {
      "cell_type": "code",
      "execution_count": 2,
      "metadata": {
        "id": "E5Xh_3L3CYRh"
      },
      "outputs": [],
      "source": []
    },
    {
      "cell_type": "code",
      "execution_count": null,
      "metadata": {
        "id": "3NwJO4D60iBM"
      },
      "outputs": [],
      "source": []
    }
  ],
  "metadata": {
    "colab": {
      "provenance": []
    },
    "kernelspec": {
      "display_name": "Python 3.12.0 64-bit",
      "language": "python",
      "name": "python3"
    },
    "language_info": {
      "codemirror_mode": {
        "name": "ipython",
        "version": 3
      },
      "file_extension": ".py",
      "mimetype": "text/x-python",
      "name": "python",
      "nbconvert_exporter": "python",
      "pygments_lexer": "ipython3",
      "version": "3.12.0"
    },
    "vscode": {
      "interpreter": {
        "hash": "53d8eca44c0f2e0b87fb88d9c05acfddfe83b50bdd73069bed107cca5f5caedf"
      }
    }
  },
  "nbformat": 4,
  "nbformat_minor": 0
}
