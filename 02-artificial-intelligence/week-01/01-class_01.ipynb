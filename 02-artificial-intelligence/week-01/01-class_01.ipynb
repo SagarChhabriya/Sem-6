{
 "cells": [
  {
   "cell_type": "code",
   "execution_count": 1,
   "metadata": {},
   "outputs": [
    {
     "name": "stdout",
     "output_type": "stream",
     "text": [
      "steps 1: percent - Dirty, Action - Clean the room\n",
      "steps 2: percent - Clean, Action - Room is already clean\n",
      "steps 3: percent - Clean, Action - Room is already clean\n",
      "steps 4: percent - Clean, Action - Room is already clean\n",
      "steps 5: percent - Clean, Action - Room is already clean\n"
     ]
    }
   ],
   "source": [
    "class simpleReflexAgent:\n",
    "    def __init__(self):\n",
    "        pass\n",
    " \n",
    "    def act(self, percept):\n",
    "        if percept == \"Dirty\":\n",
    "            return \"Clean the room\"\n",
    "        else:\n",
    "            return 'Room is already clean'\n",
    "\n",
    "class Environment:\n",
    "    def __init__(self, state ='Dirty'):\n",
    "        self.state = state\n",
    "\n",
    "    def get_percept(self):\n",
    "        return self.state\n",
    "\n",
    "    def clean_room(self):\n",
    "        self.state = \"Clean\"\n",
    "\n",
    "\n",
    "def run_agent(agent, environment, steps):\n",
    "    for step in range(steps):\n",
    "        percept = environment.get_percept()\n",
    "        action = agent.act(percept)\n",
    "        print(f\"steps {step + 1}: percent - {percept}, Action - {action}\")\n",
    "        if percept == \"Dirty\":\n",
    "            environment.clean_room()\n",
    "\n",
    "agent = simpleReflexAgent()\n",
    "environment = Environment()\n",
    "\n",
    "run_agent(agent, environment, 5)"
   ]
  },
  {
   "cell_type": "code",
   "execution_count": 2,
   "metadata": {},
   "outputs": [],
   "source": [
    "x = 5\n",
    "\n",
    "def greet():\n",
    "    return \"Okela...\"\n",
    "\n",
    "\n"
   ]
  }
 ],
 "metadata": {
  "kernelspec": {
   "display_name": "Python 3.12.0 64-bit",
   "language": "python",
   "name": "python3"
  },
  "language_info": {
   "codemirror_mode": {
    "name": "ipython",
    "version": 3
   },
   "file_extension": ".py",
   "mimetype": "text/x-python",
   "name": "python",
   "nbconvert_exporter": "python",
   "pygments_lexer": "ipython3",
   "version": "3.12.0"
  },
  "orig_nbformat": 4,
  "vscode": {
   "interpreter": {
    "hash": "53d8eca44c0f2e0b87fb88d9c05acfddfe83b50bdd73069bed107cca5f5caedf"
   }
  }
 },
 "nbformat": 4,
 "nbformat_minor": 2
}
