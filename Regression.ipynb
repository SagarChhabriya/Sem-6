{
  "nbformat": 4,
  "nbformat_minor": 0,
  "metadata": {
    "colab": {
      "provenance": [],
      "authorship_tag": "ABX9TyNlQCxVHPDcPpbP6mOB4ilE",
      "include_colab_link": true
    },
    "kernelspec": {
      "name": "python3",
      "display_name": "Python 3"
    },
    "language_info": {
      "name": "python"
    }
  },
  "cells": [
    {
      "cell_type": "markdown",
      "metadata": {
        "id": "view-in-github",
        "colab_type": "text"
      },
      "source": [
        "<a href=\"https://colab.research.google.com/github/SagarChhabriya/Sem-6/blob/main/Regression.ipynb\" target=\"_parent\"><img src=\"https://colab.research.google.com/assets/colab-badge.svg\" alt=\"Open In Colab\"/></a>"
      ]
    },
    {
      "cell_type": "markdown",
      "source": [
        "\n",
        "- **1. Introduction to Regression**  \n",
        "  - **1.1 Regression Theory**  \n",
        "  - **1.2 How Regression Works?**  \n",
        "\n",
        "- **2. Key Components of Regression**  \n",
        "  - **2.1 Regression - Features and Labels**  \n",
        "  - **2.2 Regression Training and Testing**  \n",
        "\n",
        "- **3. Linear Regression**  \n",
        "  - **3.1 The Best Fit Slope**  \n",
        "  - **3.2 The Best Fit Line**  \n",
        "  - **3.3 Linear Regression - Cost Function**  \n",
        "  - **3.4 Linear Regression – Gradient Descent**  \n",
        "\n",
        "- **4. Applications of Regression**  \n",
        "  - **4.1 Regression - Forecasting and Prediction**  \n"
      ],
      "metadata": {
        "id": "ay2uKOOylsbu"
      }
    },
    {
      "cell_type": "code",
      "source": [],
      "metadata": {
        "id": "GcIPt5DBmNPc"
      },
      "execution_count": null,
      "outputs": []
    }
  ]
}